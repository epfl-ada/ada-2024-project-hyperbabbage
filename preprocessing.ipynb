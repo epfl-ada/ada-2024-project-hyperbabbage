{
 "cells": [
  {
   "cell_type": "markdown",
   "metadata": {},
   "source": [
    "# Preprocessing Pipeline"
   ]
  },
  {
   "cell_type": "markdown",
   "metadata": {},
   "source": [
    "#### To create the dataframes and files needed for our analysis, make sure that:\n",
    "\n",
    "Make sure you have the following files in `data/raw`:\n",
    "  1. [full_database.xml](https://drive.google.com/file/d/1149kYVkazq67e0vuv-_4APyqVX6yyh2p), which will represent the XML version of the DrugBank\n",
    "  2. [BindingDB_All.tsv](https://www.bindingdb.org/bind/downloads/BindingDB_All_202411_tsv.zip), which will represent the tsv version of the BindingDB\n",
    "\n",
    "Make sure you have the following directory created: `data/clean`:"
   ]
  },
  {
   "cell_type": "markdown",
   "metadata": {},
   "source": [
    "### Imports"
   ]
  },
  {
   "cell_type": "code",
   "execution_count": 55,
   "metadata": {},
   "outputs": [
    {
     "name": "stdout",
     "output_type": "stream",
     "text": [
      "The autoreload extension is already loaded. To reload it, use:\n",
      "  %reload_ext autoreload\n"
     ]
    }
   ],
   "source": [
    "import os\n",
    "import gc\n",
    "import re\n",
    "import requests\n",
    "import time\n",
    "import random\n",
    "\n",
    "import numpy as np\n",
    "import pandas as pd\n",
    "\n",
    "import matplotlib.pyplot as plt\n",
    "import xml.etree.ElementTree as ET\n",
    "from tqdm import tqdm\n",
    "import pandas as pd\n",
    "from concurrent.futures import ThreadPoolExecutor\n",
    "\n",
    "from src.drugbank_XML_drugparser import DrugParser\n",
    "from src.drugbank_bindingdb_merger import DrugBank_BindingDB_Merger\n",
    "from src.preprocessing import Preprocessing, ColumnClean\n",
    "\n",
    "from src.data_paths import *\n",
    "\n",
    "%matplotlib inline\n",
    "\n",
    "%load_ext autoreload\n",
    "%autoreload 2"
   ]
  },
  {
   "cell_type": "markdown",
   "metadata": {},
   "source": [
    "## Parsing and cleaning BindingDB"
   ]
  },
  {
   "cell_type": "code",
   "execution_count": 56,
   "metadata": {},
   "outputs": [
    {
     "name": "stdout",
     "output_type": "stream",
     "text": [
      "BindingDB clean exists...\n"
     ]
    }
   ],
   "source": [
    "if os.path.exists(BINDINGDB_CLEAN):\n",
    "    print(\"BindingDB clean exists...\")\n",
    "    clean_binding_df = pd.read_pickle(BINDINGDB_CLEAN)\n",
    "else:\n",
    "    print(\"Creating clean BindingDB...\")\n",
    "    def load_BindingDB(file_path, cols):\n",
    "        return pd.read_csv(file_path, sep='\\t', header=0, usecols=cols)\n",
    "\n",
    "    \"\"\"\n",
    "    This method srips all non-numeric characters from the value.\n",
    "\n",
    "    For example, the temperature is always given as 12C or 14.2C, so we remove the C.\n",
    "\n",
    "    In come cases, mesured values are given as >10000 or <.01. In these cases, we just take the bound, as it is still better then loosing all the information by replacing it with NA.\n",
    "    \"\"\"\n",
    "    def keep_just_numeric(value):\n",
    "        if type(value) != str:\n",
    "            if type(value) == float or type(value) == int:\n",
    "                return value\n",
    "            else:\n",
    "                return pd.NA\n",
    "\n",
    "        ## All non-numeric characters (except the decimal .) should be replaced\n",
    "        cleaned_val = re.sub(r'[^\\d.]+','', str(value)) \n",
    "        if(cleaned_val == ''): # It didn't contain any number?\n",
    "            return pd.NA\n",
    "        return float(cleaned_val)\n",
    "\n",
    "    def parse_int(value):\n",
    "        try:\n",
    "            return int(value)\n",
    "        except:\n",
    "            return pd.NA\n",
    "    # First, we specify which \n",
    "    bdb_preprocessor = Preprocessing(\n",
    "        [\n",
    "            ColumnClean('Ki (nM)', 'ki', clean=keep_just_numeric),\n",
    "            ColumnClean('pH', 'ph', clean=keep_just_numeric),\n",
    "            ColumnClean('Temp (C)', 'temp', clean=keep_just_numeric),\n",
    "            ColumnClean('IC50 (nM)', 'ic50', clean=keep_just_numeric),\n",
    "            ColumnClean('EC50 (nM)', 'ec50', clean=keep_just_numeric),\n",
    "            ColumnClean('Kd (nM)', 'kd', clean=keep_just_numeric),\n",
    "            ColumnClean('kon (M-1-s-1)', 'kon', clean=keep_just_numeric),\n",
    "            ColumnClean('koff (s-1)', 'koff', clean=keep_just_numeric),\n",
    "\n",
    "            # These columns are supposed to contain strings.\n",
    "            ColumnClean('Article DOI', 'doi'),\n",
    "            ColumnClean('Target Name', 'target_name'),\n",
    "\n",
    "            # We use these IDs to join bindingDB and drugbank\n",
    "            ColumnClean('PubChem CID', 'pubchem_cid'),\n",
    "            ColumnClean('ChEBI ID of Ligand', 'chebi_id'),\n",
    "            ColumnClean('ChEMBL ID of Ligand', 'chembl_id'),\n",
    "            ColumnClean('DrugBank ID of Ligand', 'drugbank_id'),\n",
    "            ColumnClean('KEGG ID of Ligand', 'kegg_id'),\n",
    "            ColumnClean('ZINC ID of Ligand', 'zinc_id'),\n",
    "            ColumnClean('Ligand SMILES', 'smiles'),\n",
    "            ColumnClean('Ligand InChI Key', 'inchi_key'),\n",
    "            ColumnClean('BindingDB MonomerID', 'bindingdb_id', clean=parse_int),\n",
    "            ColumnClean('PubChem CID','pubchem_cid'),\n",
    "            ColumnClean('UniProt (SwissProt) Recommended Name of Target Chain', 'swissprot_target_chain_name'),\n",
    "            ColumnClean('UniProt (SwissProt) Entry Name of Target Chain', 'swissprot_target_chain_entry_name'),\n",
    "            ColumnClean('UniProt (SwissProt) Primary ID of Target Chain.1', 'swissprot_protein_id'),\n",
    "        ]\n",
    "    )\n",
    "\n",
    "    print(\"Loading Binding DB...\")\n",
    "    raw_binding_df = load_BindingDB(BINDINGDB_RAW, bdb_preprocessor.get_all_old_columns())\n",
    "\n",
    "    print(\"Cleaning Binding DB...\")\n",
    "    clean_binding_df = bdb_preprocessor.transform(raw_binding_df)\n",
    "    clean_binding_df.to_pickle(BINDINGDB_CLEAN)\n",
    "\n",
    "    assert len(clean_binding_df) == len(raw_binding_df)\n",
    "\n",
    "    # Print header\n",
    "    print(f\"{'Column Name':<30} {'Raw NaN%':<10} {'Clean NaN%':<10}\")\n",
    "    print(\"-\" * 50)\n",
    "\n",
    "    # Print each column's NaN percentages\n",
    "    for col_old, col_new in zip(bdb_preprocessor.get_all_old_columns(), bdb_preprocessor.get_all_new_columns()):\n",
    "        raw = raw_binding_df[col_old].isna().mean() * 100\n",
    "        clean = clean_binding_df[col_new].isna().mean() * 100\n",
    "        print(f\"{col_new:<40} {raw:<10.2f} {clean:<10.2f}\")\n",
    "\n",
    "    del raw_binding_df\n",
    "    gc.collect()\n"
   ]
  },
  {
   "cell_type": "code",
   "execution_count": 57,
   "metadata": {},
   "outputs": [
    {
     "data": {
      "text/html": [
       "<div>\n",
       "<style scoped>\n",
       "    .dataframe tbody tr th:only-of-type {\n",
       "        vertical-align: middle;\n",
       "    }\n",
       "\n",
       "    .dataframe tbody tr th {\n",
       "        vertical-align: top;\n",
       "    }\n",
       "\n",
       "    .dataframe thead th {\n",
       "        text-align: right;\n",
       "    }\n",
       "</style>\n",
       "<table border=\"1\" class=\"dataframe\">\n",
       "  <thead>\n",
       "    <tr style=\"text-align: right;\">\n",
       "      <th></th>\n",
       "      <th>ki</th>\n",
       "      <th>ph</th>\n",
       "      <th>temp</th>\n",
       "      <th>ic50</th>\n",
       "      <th>ec50</th>\n",
       "      <th>kd</th>\n",
       "      <th>kon</th>\n",
       "      <th>koff</th>\n",
       "      <th>doi</th>\n",
       "      <th>target_name</th>\n",
       "      <th>...</th>\n",
       "      <th>chembl_id</th>\n",
       "      <th>drugbank_id</th>\n",
       "      <th>kegg_id</th>\n",
       "      <th>zinc_id</th>\n",
       "      <th>smiles</th>\n",
       "      <th>inchi_key</th>\n",
       "      <th>bindingdb_id</th>\n",
       "      <th>swissprot_target_chain_name</th>\n",
       "      <th>swissprot_target_chain_entry_name</th>\n",
       "      <th>swissprot_protein_id</th>\n",
       "    </tr>\n",
       "  </thead>\n",
       "  <tbody>\n",
       "    <tr>\n",
       "      <th>1100233</th>\n",
       "      <td>&lt;NA&gt;</td>\n",
       "      <td>&lt;NA&gt;</td>\n",
       "      <td>&lt;NA&gt;</td>\n",
       "      <td>0.6</td>\n",
       "      <td>&lt;NA&gt;</td>\n",
       "      <td>&lt;NA&gt;</td>\n",
       "      <td>&lt;NA&gt;</td>\n",
       "      <td>&lt;NA&gt;</td>\n",
       "      <td>&lt;NA&gt;</td>\n",
       "      <td>Dual specificity protein kinase TTK</td>\n",
       "      <td>...</td>\n",
       "      <td>&lt;NA&gt;</td>\n",
       "      <td>&lt;NA&gt;</td>\n",
       "      <td>&lt;NA&gt;</td>\n",
       "      <td>&lt;NA&gt;</td>\n",
       "      <td>COc1cc(ccc1Nc1ncc2CCc3c(ccn3-c2n1)C(=O)Nc1c(C)...</td>\n",
       "      <td>WRYZBCKSXQMHKO-UHFFFAOYSA-N</td>\n",
       "      <td>532289</td>\n",
       "      <td>Dual specificity protein kinase TTK</td>\n",
       "      <td>TTK_HUMAN</td>\n",
       "      <td>&lt;NA&gt;</td>\n",
       "    </tr>\n",
       "    <tr>\n",
       "      <th>1229185</th>\n",
       "      <td>0.025</td>\n",
       "      <td>&lt;NA&gt;</td>\n",
       "      <td>&lt;NA&gt;</td>\n",
       "      <td>&lt;NA&gt;</td>\n",
       "      <td>&lt;NA&gt;</td>\n",
       "      <td>&lt;NA&gt;</td>\n",
       "      <td>&lt;NA&gt;</td>\n",
       "      <td>&lt;NA&gt;</td>\n",
       "      <td>&lt;NA&gt;</td>\n",
       "      <td>D(3) dopamine receptor</td>\n",
       "      <td>...</td>\n",
       "      <td>&lt;NA&gt;</td>\n",
       "      <td>&lt;NA&gt;</td>\n",
       "      <td>&lt;NA&gt;</td>\n",
       "      <td>&lt;NA&gt;</td>\n",
       "      <td>Cn1cc(\\C=C\\C(=O)N[C@H]2CC[C@](F)(CCN3CCc4nc(OC...</td>\n",
       "      <td>JUDKAYYFYVHANR-GUROOMJWSA-N</td>\n",
       "      <td>593791</td>\n",
       "      <td>D(3) dopamine receptor</td>\n",
       "      <td>DRD3_HUMAN</td>\n",
       "      <td>&lt;NA&gt;</td>\n",
       "    </tr>\n",
       "    <tr>\n",
       "      <th>481096</th>\n",
       "      <td>&lt;NA&gt;</td>\n",
       "      <td>&lt;NA&gt;</td>\n",
       "      <td>&lt;NA&gt;</td>\n",
       "      <td>&lt;NA&gt;</td>\n",
       "      <td>100.0</td>\n",
       "      <td>&lt;NA&gt;</td>\n",
       "      <td>&lt;NA&gt;</td>\n",
       "      <td>&lt;NA&gt;</td>\n",
       "      <td>&lt;NA&gt;</td>\n",
       "      <td>Envelope glycoprotein gp160</td>\n",
       "      <td>...</td>\n",
       "      <td>&lt;NA&gt;</td>\n",
       "      <td>&lt;NA&gt;</td>\n",
       "      <td>&lt;NA&gt;</td>\n",
       "      <td>&lt;NA&gt;</td>\n",
       "      <td>CC(=C)[C@@H]1CC[C@@]2(CC[C@]3(C)[C@H](CC[C@@H]...</td>\n",
       "      <td>FHKLDHZODJSYCJ-TVJWCRJGSA-N</td>\n",
       "      <td>235036</td>\n",
       "      <td>Envelope glycoprotein gp160</td>\n",
       "      <td>ENV_HV1H2</td>\n",
       "      <td>&lt;NA&gt;</td>\n",
       "    </tr>\n",
       "    <tr>\n",
       "      <th>1440246</th>\n",
       "      <td>&lt;NA&gt;</td>\n",
       "      <td>&lt;NA&gt;</td>\n",
       "      <td>&lt;NA&gt;</td>\n",
       "      <td>&lt;NA&gt;</td>\n",
       "      <td>6.3</td>\n",
       "      <td>&lt;NA&gt;</td>\n",
       "      <td>&lt;NA&gt;</td>\n",
       "      <td>&lt;NA&gt;</td>\n",
       "      <td>10.1021/jm970018t</td>\n",
       "      <td>Melanocyte-stimulating hormone receptor</td>\n",
       "      <td>...</td>\n",
       "      <td>CHEMBL2115246</td>\n",
       "      <td>&lt;NA&gt;</td>\n",
       "      <td>&lt;NA&gt;</td>\n",
       "      <td>&lt;NA&gt;</td>\n",
       "      <td>CCCC[C@H](NC(C)=O)C(=O)N[C@H]1CC(=O)NCCCC[C@H]...</td>\n",
       "      <td>FQFBNLDALWFUQC-ZPJCUPGXSA-N</td>\n",
       "      <td>50454620</td>\n",
       "      <td>Melanocyte-stimulating hormone receptor</td>\n",
       "      <td>MSHR_HUMAN</td>\n",
       "      <td>&lt;NA&gt;</td>\n",
       "    </tr>\n",
       "    <tr>\n",
       "      <th>468887</th>\n",
       "      <td>&lt;NA&gt;</td>\n",
       "      <td>&lt;NA&gt;</td>\n",
       "      <td>&lt;NA&gt;</td>\n",
       "      <td>500.0</td>\n",
       "      <td>&lt;NA&gt;</td>\n",
       "      <td>&lt;NA&gt;</td>\n",
       "      <td>&lt;NA&gt;</td>\n",
       "      <td>&lt;NA&gt;</td>\n",
       "      <td>&lt;NA&gt;</td>\n",
       "      <td>Leucine-rich repeat serine/threonine-protein k...</td>\n",
       "      <td>...</td>\n",
       "      <td>&lt;NA&gt;</td>\n",
       "      <td>&lt;NA&gt;</td>\n",
       "      <td>&lt;NA&gt;</td>\n",
       "      <td>&lt;NA&gt;</td>\n",
       "      <td>C1CCN(C1)c1nccnc1-c1cnc2[nH]ccc2c1</td>\n",
       "      <td>CFLBDBMAGIEHLW-UHFFFAOYSA-N</td>\n",
       "      <td>162349</td>\n",
       "      <td>Leucine-rich repeat serine/threonine-protein k...</td>\n",
       "      <td>LRRK2_HUMAN</td>\n",
       "      <td>&lt;NA&gt;</td>\n",
       "    </tr>\n",
       "    <tr>\n",
       "      <th>2869250</th>\n",
       "      <td>&lt;NA&gt;</td>\n",
       "      <td>&lt;NA&gt;</td>\n",
       "      <td>&lt;NA&gt;</td>\n",
       "      <td>578.0</td>\n",
       "      <td>&lt;NA&gt;</td>\n",
       "      <td>&lt;NA&gt;</td>\n",
       "      <td>&lt;NA&gt;</td>\n",
       "      <td>&lt;NA&gt;</td>\n",
       "      <td>&lt;NA&gt;</td>\n",
       "      <td>C-X-C chemokine receptor type 3</td>\n",
       "      <td>...</td>\n",
       "      <td>&lt;NA&gt;</td>\n",
       "      <td>&lt;NA&gt;</td>\n",
       "      <td>&lt;NA&gt;</td>\n",
       "      <td>&lt;NA&gt;</td>\n",
       "      <td>C[C@@H]1CN(CCN1C(=O)Cn1nc(C)nc1C)c1sc(nc1-c1cn...</td>\n",
       "      <td>MAXPGZIREDSCQL-LLVKDONJSA-N</td>\n",
       "      <td>50595475</td>\n",
       "      <td>C-X-C chemokine receptor type 3</td>\n",
       "      <td>CXCR3_HUMAN</td>\n",
       "      <td>&lt;NA&gt;</td>\n",
       "    </tr>\n",
       "    <tr>\n",
       "      <th>2352763</th>\n",
       "      <td>&lt;NA&gt;</td>\n",
       "      <td>&lt;NA&gt;</td>\n",
       "      <td>&lt;NA&gt;</td>\n",
       "      <td>140.0</td>\n",
       "      <td>&lt;NA&gt;</td>\n",
       "      <td>&lt;NA&gt;</td>\n",
       "      <td>&lt;NA&gt;</td>\n",
       "      <td>&lt;NA&gt;</td>\n",
       "      <td>10.1016/j.bmcl.2012.08.101</td>\n",
       "      <td>Phosphatidylinositol 4,5-bisphosphate 3-kinase...</td>\n",
       "      <td>...</td>\n",
       "      <td>CHEMBL2158436</td>\n",
       "      <td>&lt;NA&gt;</td>\n",
       "      <td>&lt;NA&gt;</td>\n",
       "      <td>ZINC95577371</td>\n",
       "      <td>O=c1cc(nc(NCc2cccc3ccccc23)[nH]1)N1CCOCC1</td>\n",
       "      <td>VNMOCXVCBXMWMT-UHFFFAOYSA-N</td>\n",
       "      <td>50393984</td>\n",
       "      <td>Phosphatidylinositol 4,5-bisphosphate 3-kinase...</td>\n",
       "      <td>PK3CD_HUMAN</td>\n",
       "      <td>&lt;NA&gt;</td>\n",
       "    </tr>\n",
       "    <tr>\n",
       "      <th>1825945</th>\n",
       "      <td>&lt;NA&gt;</td>\n",
       "      <td>&lt;NA&gt;</td>\n",
       "      <td>&lt;NA&gt;</td>\n",
       "      <td>460.0</td>\n",
       "      <td>&lt;NA&gt;</td>\n",
       "      <td>&lt;NA&gt;</td>\n",
       "      <td>&lt;NA&gt;</td>\n",
       "      <td>&lt;NA&gt;</td>\n",
       "      <td>10.1021/jm800718k</td>\n",
       "      <td>Hormone-sensitive lipase</td>\n",
       "      <td>...</td>\n",
       "      <td>CHEMBL322536</td>\n",
       "      <td>&lt;NA&gt;</td>\n",
       "      <td>&lt;NA&gt;</td>\n",
       "      <td>ZINC26939327</td>\n",
       "      <td>CC(C)c1c(C)n(oc1=O)C(=O)N1CC(C)CCC1C</td>\n",
       "      <td>CKDIFLMYTPDDCV-UHFFFAOYSA-N</td>\n",
       "      <td>50147236</td>\n",
       "      <td>Hormone-sensitive lipase</td>\n",
       "      <td>LIPS_RAT</td>\n",
       "      <td>&lt;NA&gt;</td>\n",
       "    </tr>\n",
       "    <tr>\n",
       "      <th>315891</th>\n",
       "      <td>&lt;NA&gt;</td>\n",
       "      <td>3.5</td>\n",
       "      <td>&lt;NA&gt;</td>\n",
       "      <td>645650.0</td>\n",
       "      <td>&lt;NA&gt;</td>\n",
       "      <td>&lt;NA&gt;</td>\n",
       "      <td>&lt;NA&gt;</td>\n",
       "      <td>&lt;NA&gt;</td>\n",
       "      <td>&lt;NA&gt;</td>\n",
       "      <td>Cathepsin D</td>\n",
       "      <td>...</td>\n",
       "      <td>&lt;NA&gt;</td>\n",
       "      <td>&lt;NA&gt;</td>\n",
       "      <td>&lt;NA&gt;</td>\n",
       "      <td>&lt;NA&gt;</td>\n",
       "      <td>Cc1cc(cnc1C(=O)Nc1cc(F)c(Cl)c(c1)[C@]1(CF)N=C(...</td>\n",
       "      <td>UUGSFTBWCHIUCH-UFAGZECESA-N</td>\n",
       "      <td>171503</td>\n",
       "      <td>Cathepsin D</td>\n",
       "      <td>CATD_HUMAN</td>\n",
       "      <td>&lt;NA&gt;</td>\n",
       "    </tr>\n",
       "    <tr>\n",
       "      <th>2046256</th>\n",
       "      <td>&lt;NA&gt;</td>\n",
       "      <td>&lt;NA&gt;</td>\n",
       "      <td>&lt;NA&gt;</td>\n",
       "      <td>1400.0</td>\n",
       "      <td>&lt;NA&gt;</td>\n",
       "      <td>&lt;NA&gt;</td>\n",
       "      <td>&lt;NA&gt;</td>\n",
       "      <td>&lt;NA&gt;</td>\n",
       "      <td>10.1016/j.bmcl.2011.06.023</td>\n",
       "      <td>Smoothened homolog</td>\n",
       "      <td>...</td>\n",
       "      <td>CHEMBL1813112</td>\n",
       "      <td>&lt;NA&gt;</td>\n",
       "      <td>&lt;NA&gt;</td>\n",
       "      <td>ZINC72107422</td>\n",
       "      <td>C[C@]12CN(CCN1C(=O)N([C@H]1C[C@@H]1c1ccccc1)C2...</td>\n",
       "      <td>KKLDDEYDXMGNQG-OBZNHSRCSA-N</td>\n",
       "      <td>50350340</td>\n",
       "      <td>Protein smoothened</td>\n",
       "      <td>SMO_HUMAN</td>\n",
       "      <td>&lt;NA&gt;</td>\n",
       "    </tr>\n",
       "    <tr>\n",
       "      <th>2480569</th>\n",
       "      <td>&lt;NA&gt;</td>\n",
       "      <td>&lt;NA&gt;</td>\n",
       "      <td>&lt;NA&gt;</td>\n",
       "      <td>38.0</td>\n",
       "      <td>&lt;NA&gt;</td>\n",
       "      <td>&lt;NA&gt;</td>\n",
       "      <td>&lt;NA&gt;</td>\n",
       "      <td>&lt;NA&gt;</td>\n",
       "      <td>10.1016/j.bmcl.2013.11.081</td>\n",
       "      <td>15-hydroxyprostaglandin dehydrogenase [NAD(+)]</td>\n",
       "      <td>...</td>\n",
       "      <td>CHEMBL3102996</td>\n",
       "      <td>&lt;NA&gt;</td>\n",
       "      <td>&lt;NA&gt;</td>\n",
       "      <td>&lt;NA&gt;</td>\n",
       "      <td>Cc1cc(c(C)n1-c1ccc(Cl)cc1)-c1nnc2CCCCCn12</td>\n",
       "      <td>ABOHKJIFAQARLX-UHFFFAOYSA-N</td>\n",
       "      <td>50445560</td>\n",
       "      <td>15-hydroxyprostaglandin dehydrogenase [NAD(+)]</td>\n",
       "      <td>PGDH_HUMAN</td>\n",
       "      <td>&lt;NA&gt;</td>\n",
       "    </tr>\n",
       "    <tr>\n",
       "      <th>571299</th>\n",
       "      <td>&lt;NA&gt;</td>\n",
       "      <td>&lt;NA&gt;</td>\n",
       "      <td>&lt;NA&gt;</td>\n",
       "      <td>21.3</td>\n",
       "      <td>&lt;NA&gt;</td>\n",
       "      <td>&lt;NA&gt;</td>\n",
       "      <td>&lt;NA&gt;</td>\n",
       "      <td>&lt;NA&gt;</td>\n",
       "      <td>&lt;NA&gt;</td>\n",
       "      <td>Plasma kallikrein</td>\n",
       "      <td>...</td>\n",
       "      <td>&lt;NA&gt;</td>\n",
       "      <td>&lt;NA&gt;</td>\n",
       "      <td>&lt;NA&gt;</td>\n",
       "      <td>&lt;NA&gt;</td>\n",
       "      <td>CC1(C)CC1CC(C(=O)Nc1ccc(cc1)C(O)=O)c1ccc(c[n+]...</td>\n",
       "      <td>RKEDHLUVEHVMLP-UHFFFAOYSA-N</td>\n",
       "      <td>304220</td>\n",
       "      <td>Plasma kallikrein</td>\n",
       "      <td>KLKB1_HUMAN</td>\n",
       "      <td>&lt;NA&gt;</td>\n",
       "    </tr>\n",
       "    <tr>\n",
       "      <th>1105472</th>\n",
       "      <td>&lt;NA&gt;</td>\n",
       "      <td>&lt;NA&gt;</td>\n",
       "      <td>&lt;NA&gt;</td>\n",
       "      <td>4.8</td>\n",
       "      <td>&lt;NA&gt;</td>\n",
       "      <td>&lt;NA&gt;</td>\n",
       "      <td>&lt;NA&gt;</td>\n",
       "      <td>&lt;NA&gt;</td>\n",
       "      <td>&lt;NA&gt;</td>\n",
       "      <td>Receptor-interacting serine/threonine-protein ...</td>\n",
       "      <td>...</td>\n",
       "      <td>&lt;NA&gt;</td>\n",
       "      <td>&lt;NA&gt;</td>\n",
       "      <td>&lt;NA&gt;</td>\n",
       "      <td>&lt;NA&gt;</td>\n",
       "      <td>Cc1cc(F)c(cc1C(=O)NCC(F)(F)[C@H](O)c1ccc(F)cc1...</td>\n",
       "      <td>DNWHHGJZSGNIPU-HXUWFJFHSA-N</td>\n",
       "      <td>534371</td>\n",
       "      <td>Receptor-interacting serine/threonine-protein ...</td>\n",
       "      <td>RIPK1_HUMAN</td>\n",
       "      <td>&lt;NA&gt;</td>\n",
       "    </tr>\n",
       "    <tr>\n",
       "      <th>2104273</th>\n",
       "      <td>&lt;NA&gt;</td>\n",
       "      <td>&lt;NA&gt;</td>\n",
       "      <td>&lt;NA&gt;</td>\n",
       "      <td>160.0</td>\n",
       "      <td>&lt;NA&gt;</td>\n",
       "      <td>&lt;NA&gt;</td>\n",
       "      <td>&lt;NA&gt;</td>\n",
       "      <td>&lt;NA&gt;</td>\n",
       "      <td>10.1021/jm201155e</td>\n",
       "      <td>Heat shock protein HSP 90-beta</td>\n",
       "      <td>...</td>\n",
       "      <td>CHEMBL1940922</td>\n",
       "      <td>&lt;NA&gt;</td>\n",
       "      <td>&lt;NA&gt;</td>\n",
       "      <td>ZINC73223614</td>\n",
       "      <td>COc1ccc(cc1)C(=O)Nc1c(noc1-c1cc(Cl)c(O)cc1O)C(...</td>\n",
       "      <td>HRPBHBHGGWTKSC-UHFFFAOYSA-N</td>\n",
       "      <td>50361679</td>\n",
       "      <td>Heat shock protein HSP 90-beta</td>\n",
       "      <td>HS90B_HUMAN</td>\n",
       "      <td>&lt;NA&gt;</td>\n",
       "    </tr>\n",
       "    <tr>\n",
       "      <th>427327</th>\n",
       "      <td>&lt;NA&gt;</td>\n",
       "      <td>&lt;NA&gt;</td>\n",
       "      <td>37.0</td>\n",
       "      <td>12.0</td>\n",
       "      <td>&lt;NA&gt;</td>\n",
       "      <td>&lt;NA&gt;</td>\n",
       "      <td>&lt;NA&gt;</td>\n",
       "      <td>&lt;NA&gt;</td>\n",
       "      <td>&lt;NA&gt;</td>\n",
       "      <td>Transient receptor potential M8 protein</td>\n",
       "      <td>...</td>\n",
       "      <td>&lt;NA&gt;</td>\n",
       "      <td>&lt;NA&gt;</td>\n",
       "      <td>&lt;NA&gt;</td>\n",
       "      <td>&lt;NA&gt;</td>\n",
       "      <td>CCCCN(c1sc2ccccc2c1C)S(=O)(=O)c1cccnc1N(C)C</td>\n",
       "      <td>MDRMIBJGEQIPLR-UHFFFAOYSA-N</td>\n",
       "      <td>248544</td>\n",
       "      <td>&lt;NA&gt;</td>\n",
       "      <td>&lt;NA&gt;</td>\n",
       "      <td>&lt;NA&gt;</td>\n",
       "    </tr>\n",
       "    <tr>\n",
       "      <th>1604000</th>\n",
       "      <td>141.0</td>\n",
       "      <td>&lt;NA&gt;</td>\n",
       "      <td>&lt;NA&gt;</td>\n",
       "      <td>&lt;NA&gt;</td>\n",
       "      <td>&lt;NA&gt;</td>\n",
       "      <td>&lt;NA&gt;</td>\n",
       "      <td>&lt;NA&gt;</td>\n",
       "      <td>&lt;NA&gt;</td>\n",
       "      <td>10.1021/jm011077g</td>\n",
       "      <td>5-hydroxytryptamine receptor 1A</td>\n",
       "      <td>...</td>\n",
       "      <td>CHEMBL331692</td>\n",
       "      <td>&lt;NA&gt;</td>\n",
       "      <td>&lt;NA&gt;</td>\n",
       "      <td>ZINC13475452</td>\n",
       "      <td>COc1ccccc1N1CCN(CCCCCn2nc(ccc2=O)-n2ccc3ccccc2...</td>\n",
       "      <td>NANUCLLOMVGATP-UHFFFAOYSA-N</td>\n",
       "      <td>50117129</td>\n",
       "      <td>5-hydroxytryptamine receptor 1A</td>\n",
       "      <td>5HT1A_RAT</td>\n",
       "      <td>&lt;NA&gt;</td>\n",
       "    </tr>\n",
       "    <tr>\n",
       "      <th>722586</th>\n",
       "      <td>&lt;NA&gt;</td>\n",
       "      <td>&lt;NA&gt;</td>\n",
       "      <td>&lt;NA&gt;</td>\n",
       "      <td>&lt;NA&gt;</td>\n",
       "      <td>1.21</td>\n",
       "      <td>&lt;NA&gt;</td>\n",
       "      <td>&lt;NA&gt;</td>\n",
       "      <td>&lt;NA&gt;</td>\n",
       "      <td>&lt;NA&gt;</td>\n",
       "      <td>Gag-Pol polyprotein</td>\n",
       "      <td>...</td>\n",
       "      <td>&lt;NA&gt;</td>\n",
       "      <td>&lt;NA&gt;</td>\n",
       "      <td>&lt;NA&gt;</td>\n",
       "      <td>&lt;NA&gt;</td>\n",
       "      <td>CC(=C)[C@@H]1CC[C@@]2(CC[C@]3(C)[C@H](CC[C@@H]...</td>\n",
       "      <td>LUSBGXPUAJHGDU-CYNBPRKUSA-N</td>\n",
       "      <td>372411</td>\n",
       "      <td>Gag-Pol polyprotein</td>\n",
       "      <td>POL_HV1N5</td>\n",
       "      <td>&lt;NA&gt;</td>\n",
       "    </tr>\n",
       "    <tr>\n",
       "      <th>1306595</th>\n",
       "      <td>&lt;NA&gt;</td>\n",
       "      <td>&lt;NA&gt;</td>\n",
       "      <td>&lt;NA&gt;</td>\n",
       "      <td>340.0</td>\n",
       "      <td>&lt;NA&gt;</td>\n",
       "      <td>&lt;NA&gt;</td>\n",
       "      <td>&lt;NA&gt;</td>\n",
       "      <td>&lt;NA&gt;</td>\n",
       "      <td>&lt;NA&gt;</td>\n",
       "      <td>Monoglyceride lipase</td>\n",
       "      <td>...</td>\n",
       "      <td>&lt;NA&gt;</td>\n",
       "      <td>&lt;NA&gt;</td>\n",
       "      <td>&lt;NA&gt;</td>\n",
       "      <td>&lt;NA&gt;</td>\n",
       "      <td>FC1(CCN(CC1)C(=O)[C@H]1C[C@@]2(C1)COC(=O)N2)c1...</td>\n",
       "      <td>RQVMHLJOSOFRDU-XFHMXUHZSA-N</td>\n",
       "      <td>626962</td>\n",
       "      <td>Monoglyceride lipase</td>\n",
       "      <td>MGLL_HUMAN</td>\n",
       "      <td>&lt;NA&gt;</td>\n",
       "    </tr>\n",
       "    <tr>\n",
       "      <th>1070159</th>\n",
       "      <td>505.0</td>\n",
       "      <td>&lt;NA&gt;</td>\n",
       "      <td>&lt;NA&gt;</td>\n",
       "      <td>&lt;NA&gt;</td>\n",
       "      <td>&lt;NA&gt;</td>\n",
       "      <td>&lt;NA&gt;</td>\n",
       "      <td>&lt;NA&gt;</td>\n",
       "      <td>&lt;NA&gt;</td>\n",
       "      <td>&lt;NA&gt;</td>\n",
       "      <td>Serine/threonine-protein kinase ATR</td>\n",
       "      <td>...</td>\n",
       "      <td>&lt;NA&gt;</td>\n",
       "      <td>&lt;NA&gt;</td>\n",
       "      <td>&lt;NA&gt;</td>\n",
       "      <td>&lt;NA&gt;</td>\n",
       "      <td>CN1CCOC(C1)C(=O)N1CCN(CC1)c1c(F)cncc1NC(=O)c1c...</td>\n",
       "      <td>ZXXFRPPGJHSNPM-UHFFFAOYSA-N</td>\n",
       "      <td>411741</td>\n",
       "      <td>Serine/threonine-protein kinase ATR</td>\n",
       "      <td>ATR_HUMAN</td>\n",
       "      <td>&lt;NA&gt;</td>\n",
       "    </tr>\n",
       "    <tr>\n",
       "      <th>461829</th>\n",
       "      <td>&lt;NA&gt;</td>\n",
       "      <td>&lt;NA&gt;</td>\n",
       "      <td>25.0</td>\n",
       "      <td>13.0</td>\n",
       "      <td>&lt;NA&gt;</td>\n",
       "      <td>&lt;NA&gt;</td>\n",
       "      <td>&lt;NA&gt;</td>\n",
       "      <td>&lt;NA&gt;</td>\n",
       "      <td>&lt;NA&gt;</td>\n",
       "      <td>Muscarinic acetylcholine receptor M3</td>\n",
       "      <td>...</td>\n",
       "      <td>CHEMBL551063</td>\n",
       "      <td>&lt;NA&gt;</td>\n",
       "      <td>&lt;NA&gt;</td>\n",
       "      <td>ZINC43061126</td>\n",
       "      <td>O=C(O[C@H]1C[N+]2(CCCOc3ccccc3)CCC1CC2)C(c1ccc...</td>\n",
       "      <td>YIMZVETVJULTMF-VITNCHFBSA-N</td>\n",
       "      <td>50296340</td>\n",
       "      <td>Muscarinic acetylcholine receptor M3</td>\n",
       "      <td>ACM3_HUMAN</td>\n",
       "      <td>&lt;NA&gt;</td>\n",
       "    </tr>\n",
       "  </tbody>\n",
       "</table>\n",
       "<p>20 rows × 22 columns</p>\n",
       "</div>"
      ],
      "text/plain": [
       "            ki    ph  temp      ic50   ec50    kd   kon  koff  \\\n",
       "1100233   <NA>  <NA>  <NA>       0.6   <NA>  <NA>  <NA>  <NA>   \n",
       "1229185  0.025  <NA>  <NA>      <NA>   <NA>  <NA>  <NA>  <NA>   \n",
       "481096    <NA>  <NA>  <NA>      <NA>  100.0  <NA>  <NA>  <NA>   \n",
       "1440246   <NA>  <NA>  <NA>      <NA>    6.3  <NA>  <NA>  <NA>   \n",
       "468887    <NA>  <NA>  <NA>     500.0   <NA>  <NA>  <NA>  <NA>   \n",
       "2869250   <NA>  <NA>  <NA>     578.0   <NA>  <NA>  <NA>  <NA>   \n",
       "2352763   <NA>  <NA>  <NA>     140.0   <NA>  <NA>  <NA>  <NA>   \n",
       "1825945   <NA>  <NA>  <NA>     460.0   <NA>  <NA>  <NA>  <NA>   \n",
       "315891    <NA>   3.5  <NA>  645650.0   <NA>  <NA>  <NA>  <NA>   \n",
       "2046256   <NA>  <NA>  <NA>    1400.0   <NA>  <NA>  <NA>  <NA>   \n",
       "2480569   <NA>  <NA>  <NA>      38.0   <NA>  <NA>  <NA>  <NA>   \n",
       "571299    <NA>  <NA>  <NA>      21.3   <NA>  <NA>  <NA>  <NA>   \n",
       "1105472   <NA>  <NA>  <NA>       4.8   <NA>  <NA>  <NA>  <NA>   \n",
       "2104273   <NA>  <NA>  <NA>     160.0   <NA>  <NA>  <NA>  <NA>   \n",
       "427327    <NA>  <NA>  37.0      12.0   <NA>  <NA>  <NA>  <NA>   \n",
       "1604000  141.0  <NA>  <NA>      <NA>   <NA>  <NA>  <NA>  <NA>   \n",
       "722586    <NA>  <NA>  <NA>      <NA>   1.21  <NA>  <NA>  <NA>   \n",
       "1306595   <NA>  <NA>  <NA>     340.0   <NA>  <NA>  <NA>  <NA>   \n",
       "1070159  505.0  <NA>  <NA>      <NA>   <NA>  <NA>  <NA>  <NA>   \n",
       "461829    <NA>  <NA>  25.0      13.0   <NA>  <NA>  <NA>  <NA>   \n",
       "\n",
       "                                doi  \\\n",
       "1100233                        <NA>   \n",
       "1229185                        <NA>   \n",
       "481096                         <NA>   \n",
       "1440246           10.1021/jm970018t   \n",
       "468887                         <NA>   \n",
       "2869250                        <NA>   \n",
       "2352763  10.1016/j.bmcl.2012.08.101   \n",
       "1825945           10.1021/jm800718k   \n",
       "315891                         <NA>   \n",
       "2046256  10.1016/j.bmcl.2011.06.023   \n",
       "2480569  10.1016/j.bmcl.2013.11.081   \n",
       "571299                         <NA>   \n",
       "1105472                        <NA>   \n",
       "2104273           10.1021/jm201155e   \n",
       "427327                         <NA>   \n",
       "1604000           10.1021/jm011077g   \n",
       "722586                         <NA>   \n",
       "1306595                        <NA>   \n",
       "1070159                        <NA>   \n",
       "461829                         <NA>   \n",
       "\n",
       "                                               target_name  ...  \\\n",
       "1100233                Dual specificity protein kinase TTK  ...   \n",
       "1229185                             D(3) dopamine receptor  ...   \n",
       "481096                         Envelope glycoprotein gp160  ...   \n",
       "1440246            Melanocyte-stimulating hormone receptor  ...   \n",
       "468887   Leucine-rich repeat serine/threonine-protein k...  ...   \n",
       "2869250                    C-X-C chemokine receptor type 3  ...   \n",
       "2352763  Phosphatidylinositol 4,5-bisphosphate 3-kinase...  ...   \n",
       "1825945                           Hormone-sensitive lipase  ...   \n",
       "315891                                         Cathepsin D  ...   \n",
       "2046256                                 Smoothened homolog  ...   \n",
       "2480569     15-hydroxyprostaglandin dehydrogenase [NAD(+)]  ...   \n",
       "571299                                   Plasma kallikrein  ...   \n",
       "1105472  Receptor-interacting serine/threonine-protein ...  ...   \n",
       "2104273                     Heat shock protein HSP 90-beta  ...   \n",
       "427327             Transient receptor potential M8 protein  ...   \n",
       "1604000                    5-hydroxytryptamine receptor 1A  ...   \n",
       "722586                                 Gag-Pol polyprotein  ...   \n",
       "1306595                               Monoglyceride lipase  ...   \n",
       "1070159                Serine/threonine-protein kinase ATR  ...   \n",
       "461829                Muscarinic acetylcholine receptor M3  ...   \n",
       "\n",
       "             chembl_id  drugbank_id kegg_id       zinc_id  \\\n",
       "1100233           <NA>         <NA>    <NA>          <NA>   \n",
       "1229185           <NA>         <NA>    <NA>          <NA>   \n",
       "481096            <NA>         <NA>    <NA>          <NA>   \n",
       "1440246  CHEMBL2115246         <NA>    <NA>          <NA>   \n",
       "468887            <NA>         <NA>    <NA>          <NA>   \n",
       "2869250           <NA>         <NA>    <NA>          <NA>   \n",
       "2352763  CHEMBL2158436         <NA>    <NA>  ZINC95577371   \n",
       "1825945   CHEMBL322536         <NA>    <NA>  ZINC26939327   \n",
       "315891            <NA>         <NA>    <NA>          <NA>   \n",
       "2046256  CHEMBL1813112         <NA>    <NA>  ZINC72107422   \n",
       "2480569  CHEMBL3102996         <NA>    <NA>          <NA>   \n",
       "571299            <NA>         <NA>    <NA>          <NA>   \n",
       "1105472           <NA>         <NA>    <NA>          <NA>   \n",
       "2104273  CHEMBL1940922         <NA>    <NA>  ZINC73223614   \n",
       "427327            <NA>         <NA>    <NA>          <NA>   \n",
       "1604000   CHEMBL331692         <NA>    <NA>  ZINC13475452   \n",
       "722586            <NA>         <NA>    <NA>          <NA>   \n",
       "1306595           <NA>         <NA>    <NA>          <NA>   \n",
       "1070159           <NA>         <NA>    <NA>          <NA>   \n",
       "461829    CHEMBL551063         <NA>    <NA>  ZINC43061126   \n",
       "\n",
       "                                                    smiles  \\\n",
       "1100233  COc1cc(ccc1Nc1ncc2CCc3c(ccn3-c2n1)C(=O)Nc1c(C)...   \n",
       "1229185  Cn1cc(\\C=C\\C(=O)N[C@H]2CC[C@](F)(CCN3CCc4nc(OC...   \n",
       "481096   CC(=C)[C@@H]1CC[C@@]2(CC[C@]3(C)[C@H](CC[C@@H]...   \n",
       "1440246  CCCC[C@H](NC(C)=O)C(=O)N[C@H]1CC(=O)NCCCC[C@H]...   \n",
       "468887                  C1CCN(C1)c1nccnc1-c1cnc2[nH]ccc2c1   \n",
       "2869250  C[C@@H]1CN(CCN1C(=O)Cn1nc(C)nc1C)c1sc(nc1-c1cn...   \n",
       "2352763          O=c1cc(nc(NCc2cccc3ccccc23)[nH]1)N1CCOCC1   \n",
       "1825945               CC(C)c1c(C)n(oc1=O)C(=O)N1CC(C)CCC1C   \n",
       "315891   Cc1cc(cnc1C(=O)Nc1cc(F)c(Cl)c(c1)[C@]1(CF)N=C(...   \n",
       "2046256  C[C@]12CN(CCN1C(=O)N([C@H]1C[C@@H]1c1ccccc1)C2...   \n",
       "2480569          Cc1cc(c(C)n1-c1ccc(Cl)cc1)-c1nnc2CCCCCn12   \n",
       "571299   CC1(C)CC1CC(C(=O)Nc1ccc(cc1)C(O)=O)c1ccc(c[n+]...   \n",
       "1105472  Cc1cc(F)c(cc1C(=O)NCC(F)(F)[C@H](O)c1ccc(F)cc1...   \n",
       "2104273  COc1ccc(cc1)C(=O)Nc1c(noc1-c1cc(Cl)c(O)cc1O)C(...   \n",
       "427327         CCCCN(c1sc2ccccc2c1C)S(=O)(=O)c1cccnc1N(C)C   \n",
       "1604000  COc1ccccc1N1CCN(CCCCCn2nc(ccc2=O)-n2ccc3ccccc2...   \n",
       "722586   CC(=C)[C@@H]1CC[C@@]2(CC[C@]3(C)[C@H](CC[C@@H]...   \n",
       "1306595  FC1(CCN(CC1)C(=O)[C@H]1C[C@@]2(C1)COC(=O)N2)c1...   \n",
       "1070159  CN1CCOC(C1)C(=O)N1CCN(CC1)c1c(F)cncc1NC(=O)c1c...   \n",
       "461829   O=C(O[C@H]1C[N+]2(CCCOc3ccccc3)CCC1CC2)C(c1ccc...   \n",
       "\n",
       "                           inchi_key bindingdb_id  \\\n",
       "1100233  WRYZBCKSXQMHKO-UHFFFAOYSA-N       532289   \n",
       "1229185  JUDKAYYFYVHANR-GUROOMJWSA-N       593791   \n",
       "481096   FHKLDHZODJSYCJ-TVJWCRJGSA-N       235036   \n",
       "1440246  FQFBNLDALWFUQC-ZPJCUPGXSA-N     50454620   \n",
       "468887   CFLBDBMAGIEHLW-UHFFFAOYSA-N       162349   \n",
       "2869250  MAXPGZIREDSCQL-LLVKDONJSA-N     50595475   \n",
       "2352763  VNMOCXVCBXMWMT-UHFFFAOYSA-N     50393984   \n",
       "1825945  CKDIFLMYTPDDCV-UHFFFAOYSA-N     50147236   \n",
       "315891   UUGSFTBWCHIUCH-UFAGZECESA-N       171503   \n",
       "2046256  KKLDDEYDXMGNQG-OBZNHSRCSA-N     50350340   \n",
       "2480569  ABOHKJIFAQARLX-UHFFFAOYSA-N     50445560   \n",
       "571299   RKEDHLUVEHVMLP-UHFFFAOYSA-N       304220   \n",
       "1105472  DNWHHGJZSGNIPU-HXUWFJFHSA-N       534371   \n",
       "2104273  HRPBHBHGGWTKSC-UHFFFAOYSA-N     50361679   \n",
       "427327   MDRMIBJGEQIPLR-UHFFFAOYSA-N       248544   \n",
       "1604000  NANUCLLOMVGATP-UHFFFAOYSA-N     50117129   \n",
       "722586   LUSBGXPUAJHGDU-CYNBPRKUSA-N       372411   \n",
       "1306595  RQVMHLJOSOFRDU-XFHMXUHZSA-N       626962   \n",
       "1070159  ZXXFRPPGJHSNPM-UHFFFAOYSA-N       411741   \n",
       "461829   YIMZVETVJULTMF-VITNCHFBSA-N     50296340   \n",
       "\n",
       "                               swissprot_target_chain_name  \\\n",
       "1100233                Dual specificity protein kinase TTK   \n",
       "1229185                             D(3) dopamine receptor   \n",
       "481096                         Envelope glycoprotein gp160   \n",
       "1440246            Melanocyte-stimulating hormone receptor   \n",
       "468887   Leucine-rich repeat serine/threonine-protein k...   \n",
       "2869250                    C-X-C chemokine receptor type 3   \n",
       "2352763  Phosphatidylinositol 4,5-bisphosphate 3-kinase...   \n",
       "1825945                           Hormone-sensitive lipase   \n",
       "315891                                         Cathepsin D   \n",
       "2046256                                 Protein smoothened   \n",
       "2480569     15-hydroxyprostaglandin dehydrogenase [NAD(+)]   \n",
       "571299                                   Plasma kallikrein   \n",
       "1105472  Receptor-interacting serine/threonine-protein ...   \n",
       "2104273                     Heat shock protein HSP 90-beta   \n",
       "427327                                                <NA>   \n",
       "1604000                    5-hydroxytryptamine receptor 1A   \n",
       "722586                                 Gag-Pol polyprotein   \n",
       "1306595                               Monoglyceride lipase   \n",
       "1070159                Serine/threonine-protein kinase ATR   \n",
       "461829                Muscarinic acetylcholine receptor M3   \n",
       "\n",
       "         swissprot_target_chain_entry_name swissprot_protein_id  \n",
       "1100233                          TTK_HUMAN                 <NA>  \n",
       "1229185                         DRD3_HUMAN                 <NA>  \n",
       "481096                           ENV_HV1H2                 <NA>  \n",
       "1440246                         MSHR_HUMAN                 <NA>  \n",
       "468887                         LRRK2_HUMAN                 <NA>  \n",
       "2869250                        CXCR3_HUMAN                 <NA>  \n",
       "2352763                        PK3CD_HUMAN                 <NA>  \n",
       "1825945                           LIPS_RAT                 <NA>  \n",
       "315891                          CATD_HUMAN                 <NA>  \n",
       "2046256                          SMO_HUMAN                 <NA>  \n",
       "2480569                         PGDH_HUMAN                 <NA>  \n",
       "571299                         KLKB1_HUMAN                 <NA>  \n",
       "1105472                        RIPK1_HUMAN                 <NA>  \n",
       "2104273                        HS90B_HUMAN                 <NA>  \n",
       "427327                                <NA>                 <NA>  \n",
       "1604000                          5HT1A_RAT                 <NA>  \n",
       "722586                           POL_HV1N5                 <NA>  \n",
       "1306595                         MGLL_HUMAN                 <NA>  \n",
       "1070159                          ATR_HUMAN                 <NA>  \n",
       "461829                          ACM3_HUMAN                 <NA>  \n",
       "\n",
       "[20 rows x 22 columns]"
      ]
     },
     "execution_count": 57,
     "metadata": {},
     "output_type": "execute_result"
    }
   ],
   "source": [
    "clean_binding_df.sample(20)"
   ]
  },
  {
   "cell_type": "code",
   "execution_count": 58,
   "metadata": {},
   "outputs": [
    {
     "data": {
      "text/plain": [
       "ki                                          Float64\n",
       "ph                                          Float64\n",
       "temp                                        Float64\n",
       "ic50                                        Float64\n",
       "ec50                                        Float64\n",
       "kd                                          Float64\n",
       "kon                                         Float64\n",
       "koff                                        Float64\n",
       "doi                                  string[python]\n",
       "target_name                          string[python]\n",
       "pubchem_cid                                   Int64\n",
       "chebi_id                                      Int64\n",
       "chembl_id                            string[python]\n",
       "drugbank_id                          string[python]\n",
       "kegg_id                              string[python]\n",
       "zinc_id                              string[python]\n",
       "smiles                               string[python]\n",
       "inchi_key                            string[python]\n",
       "bindingdb_id                                  Int64\n",
       "swissprot_target_chain_name          string[python]\n",
       "swissprot_target_chain_entry_name    string[python]\n",
       "swissprot_protein_id                 string[python]\n",
       "dtype: object"
      ]
     },
     "execution_count": 58,
     "metadata": {},
     "output_type": "execute_result"
    }
   ],
   "source": [
    "# Did we sucessfully convert all the columns to the right types?\n",
    "clean_binding_df.dtypes"
   ]
  },
  {
   "cell_type": "markdown",
   "metadata": {},
   "source": [
    "## Parse and clean the Drugbank data"
   ]
  },
  {
   "cell_type": "code",
   "execution_count": null,
   "metadata": {},
   "outputs": [
    {
     "name": "stdout",
     "output_type": "stream",
     "text": [
      "parsed_Drugbank doesn't exists...\n",
      "Parsing DrugBank XML...\n"
     ]
    }
   ],
   "source": [
    "\n",
    "if os.path.exists(DRUGBANK_LIGAND_PARSED) and os.path.exists(DRUGBANK_PROTEIN_PARSED):\n",
    "    print(\"parsed_Drugbank exists...\")\n",
    "    print(\"Loading...\")\n",
    "\n",
    "    drugbank_ligand = pd.read_pickle(DRUGBANK_LIGAND_PARSED)\n",
    "    drugbank_proteins = pd.read_pickle(DRUGBANK_PROTEIN_PARSED)\n",
    "else:\n",
    "    print(\"parsed_Drugbank doesn't exists...\")\n",
    "    print(\"Parsing DrugBank XML...\")\n",
    "\n",
    "    drugparser = DrugParser(DRUGBANK_XML)\n",
    "    drugparser.parse_drugs()\n",
    "    drugparser.parse_proteins()\n",
    "    drugbank_ligand, drugbank_proteins = drugparser.save_parsed_drugs(DRUGBANK_LIGAND_PARSED, DRUGBANK_PROTEIN_PARSED, return_df = True)\n",
    "\n",
    "    print(\"DrugBank XML is parsed. \\n Loading Bind ...\")"
   ]
  },
  {
   "cell_type": "markdown",
   "metadata": {},
   "source": [
    "## Merge BindingDB and DrugBank"
   ]
  },
  {
   "cell_type": "code",
   "execution_count": null,
   "metadata": {},
   "outputs": [
    {
     "name": "stdout",
     "output_type": "stream",
     "text": [
      "Merged dataset exists.\n",
      " Loading...\n",
      "Merged dataset loaded\n"
     ]
    }
   ],
   "source": [
    "# Let's merge bindingDB and DrugBank (unless already saved)\n",
    "if os.path.exists(MERGED):\n",
    "    print(\"Merged dataset exists.\\n Loading...\")\n",
    "\n",
    "    merged_df = pd.read_pickle(MERGED)\n",
    "\n",
    "    print(\"Merged dataset loaded\")\n",
    "else:\n",
    "    print(\"Merged dataset doesn't exists.\\n Creating it...\")\n",
    "    drugbank_binding_merger = DrugBank_BindingDB_Merger()\n",
    "    incomplete_merged_df = drugbank_binding_merger.merge(drugbank_ligand, clean_binding_df)\n",
    "\n",
    "    merged_df = pd.merge(incomplete_merged_df, drugbank_proteins, how='left', on='swissprot_protein_id')\n",
    "    merged_df.to_pickle(MERGED)\n",
    "\n",
    "    print(\"Merged dataset is loaded and saved.\")\n"
   ]
  },
  {
   "cell_type": "code",
   "execution_count": null,
   "metadata": {},
   "outputs": [
    {
     "data": {
      "text/plain": [
       "(2923143, 16581, 4906, 2923143)"
      ]
     },
     "execution_count": 34,
     "metadata": {},
     "output_type": "execute_result"
    }
   ],
   "source": [
    "len(merged_df), len(drugbank_ligand), len(drugbank_proteins), len(clean_binding_df)"
   ]
  },
  {
   "cell_type": "code",
   "execution_count": null,
   "metadata": {},
   "outputs": [
    {
     "data": {
      "text/plain": [
       "Matched_On\n",
       "chebi_id       74903\n",
       "chembl_id      40543\n",
       "inchi_key      20056\n",
       "drugbank_id    15134\n",
       "smiles           792\n",
       "pubchem_cid        9\n",
       "Name: count, dtype: int64"
      ]
     },
     "execution_count": 35,
     "metadata": {},
     "output_type": "execute_result"
    }
   ],
   "source": [
    "merged_df['Matched_On'].value_counts()"
   ]
  },
  {
   "cell_type": "markdown",
   "metadata": {},
   "source": [
    "## DOIs\n",
    "In order to discover temporal trends, we need to fetch data about articles, from which BindingDB measurements were taken (i.e. the time when the measurement was published)."
   ]
  },
  {
   "cell_type": "code",
   "execution_count": null,
   "metadata": {},
   "outputs": [
    {
     "name": "stdout",
     "output_type": "stream",
     "text": [
      "Number of unique dois: 40737\n"
     ]
    }
   ],
   "source": [
    "unique_dois = clean_binding_df['doi'].dropna().unique()\n",
    "print('Number of unique dois:', len(unique_dois))"
   ]
  },
  {
   "cell_type": "code",
   "execution_count": null,
   "metadata": {},
   "outputs": [
    {
     "name": "stdout",
     "output_type": "stream",
     "text": [
      "Title: Easily Accessible Polycyclic Amines that Inhibit the Wild-Type and Amantadine-Resistant Mutants of the M2 Channel of Influenza A Virus\n",
      "Abstract: <NA>\n"
     ]
    }
   ],
   "source": [
    "\n",
    "def fetch_article_metadata(doi):\n",
    "    url = f\"https://api.crossref.org/works/{doi}\"\n",
    "    response = requests.get(url)\n",
    "    \n",
    "    if response.status_code == 200:\n",
    "        data = response.json()[\"message\"]\n",
    "        \n",
    "        title_list = data.get(\"title\", [])\n",
    "        title = title_list[0] if len(title_list) > 0 else pd.NA\n",
    "        abstract = data.get(\"abstract\", pd.NA)\n",
    "        # Get published year, month and day\n",
    "        published_date = data.get(\"published-print\", None)\n",
    "        if published_date:\n",
    "            published_date = published_date[\"date-parts\"][0]\n",
    "        else:\n",
    "            published_date = []\n",
    "        year = published_date[0] if len(published_date) > 0 else pd.NA\n",
    "        month = published_date[1] if len(published_date) > 1 else pd.NA\n",
    "        day = published_date[2] if len(published_date) > 2 else pd.NA\n",
    "\n",
    "        \n",
    "        \n",
    "        return {\n",
    "            \"title\": title,\n",
    "            \"abstract\": abstract,\n",
    "            \"year\": year,\n",
    "            \"month\": month,\n",
    "            \"day\": day\n",
    "        }\n",
    "    else:\n",
    "        print(f\"Failed to fetch data for DOI {doi}. Status code: {response.status_code}\")\n",
    "        return None\n",
    "\n",
    "# Example usage\n",
    "doi = np.random.choice(unique_dois)\n",
    "metadata = fetch_article_metadata(doi)\n",
    "\n",
    "if metadata:\n",
    "    print(\"Title:\", metadata[\"title\"])\n",
    "    print(\"Abstract:\", metadata[\"abstract\"])\n"
   ]
  },
  {
   "cell_type": "code",
   "execution_count": null,
   "metadata": {},
   "outputs": [
    {
     "name": "stdout",
     "output_type": "stream",
     "text": [
      "Loaded doi_df from data/clean/df_doi.pkl\n"
     ]
    }
   ],
   "source": [
    "if os.path.exists(DOI_DF_PATH):\n",
    "    df_dois = pd.read_pickle(DOI_DF_PATH)\n",
    "    print('Loaded doi_df from', DOI_DF_PATH)\n",
    "else:\n",
    "    print(f'No DOI dataframe found at {DOI_DF_PATH}. Creating a new one...')\n",
    "    cols = ['fetched', 'title', 'abstract', 'year', 'month', 'day']\n",
    "\n",
    "    # Create an empty dataframe with doi as index and cols with nans\n",
    "    df_dois = pd.DataFrame(index=unique_dois, columns=cols)\n",
    "    df_dois['fetched'] = False\n",
    "\n",
    "    df_dois.index.name = 'doi'\n",
    "    df_dois.head()\n",
    "    "
   ]
  },
  {
   "cell_type": "code",
   "execution_count": null,
   "metadata": {},
   "outputs": [
    {
     "name": "stdout",
     "output_type": "stream",
     "text": [
      "All articles were fetched. Saving df_dois\n"
     ]
    }
   ],
   "source": [
    "def fetch_and_update(doi):\n",
    "    if df_dois.loc[doi, 'fetched']:\n",
    "        return None\n",
    "\n",
    "    # Fetch article metadata with a random delay\n",
    "    article_info = fetch_article_metadata(doi)\n",
    "    if article_info is None:\n",
    "        df_dois.loc[doi, 'fetched'] = True\n",
    "        return None\n",
    "    for key, value in article_info.items():\n",
    "        df_dois.loc[doi, key] = value\n",
    "    df_dois.loc[doi, 'fetched'] = True\n",
    "    \n",
    "    # Sleep for a short, random time to avoid triggering rate limits\n",
    "    time.sleep(random.uniform(0.05, .5))\n",
    "\n",
    "if df_dois.fetched.all():\n",
    "    print('All articles were fetched. Saving df_dois')\n",
    "    df_dois.to_pickle(DOI_DF_PATH)\n",
    "else:\n",
    "    print('Not all articles were fetched. Fetching DOIS')\n",
    "    try:\n",
    "        with ThreadPoolExecutor(max_workers=5) as executor:\n",
    "            list(tqdm(executor.map(fetch_and_update, df_dois.index), total=len(df_dois.index)))\n",
    "    except: \n",
    "        print('Error, saving WIP.')\n",
    "        df_dois.to_pickle(DOI_DF_PATH)\n",
    "    \n"
   ]
  },
  {
   "cell_type": "code",
   "execution_count": null,
   "metadata": {},
   "outputs": [],
   "source": [
    "# Now all the DOIs should be fetched using the API and the result saved in the dataframe\n",
    "assert df_dois['fetched'].all()"
   ]
  },
  {
   "cell_type": "code",
   "execution_count": null,
   "metadata": {},
   "outputs": [
    {
     "data": {
      "text/plain": [
       "fetched     0.000000\n",
       "title       0.000687\n",
       "abstract    0.000295\n",
       "year        0.002848\n",
       "month       0.004198\n",
       "day         0.627292\n",
       "dtype: float64"
      ]
     },
     "execution_count": 41,
     "metadata": {},
     "output_type": "execute_result"
    }
   ],
   "source": [
    "# Show percentage of missing values per column?\n",
    "# We see abstract and day (of month) are not going to be very useful, but for the rest we almost always have data\n",
    "df_dois.isnull().mean()"
   ]
  },
  {
   "cell_type": "code",
   "execution_count": null,
   "metadata": {},
   "outputs": [
    {
     "data": {
      "text/plain": [
       "<Axes: >"
      ]
     },
     "execution_count": 42,
     "metadata": {},
     "output_type": "execute_result"
    },
    {
     "data": {
      "image/png": "[encoded data removed]",
      "text/plain": [
       "<Figure size 640x480 with 1 Axes>"
      ]
     },
     "metadata": {},
     "output_type": "display_data"
    }
   ],
   "source": [
    "# Note, that most articles have more measuremetns in them\n",
    "df_dois['year'].hist()"
   ]
  },
  {
   "cell_type": "markdown",
   "metadata": {},
   "source": [
    "### Initial analysis on the affect of ligands to cancer related proteins "
   ]
  },
  {
   "cell_type": "markdown",
   "metadata": {},
   "source": []
  },
  {
   "cell_type": "code",
   "execution_count": null,
   "metadata": {},
   "outputs": [],
   "source": [
    "cancer_keywords= [\n",
    "    # General Cancer Terms\n",
    "    \"Cancer\", \"Tumor\", \"Carcinoma\", \"Sarcoma\", \"Malignancy\", \"Neoplasm\", \n",
    "    \"Metastasis\", \"Oncogene\", \"Antineoplastic\", \"Chemotherapy\", \n",
    "    \"Radiotherapy\", \"Immunotherapy\", \"Targeted therapy\", \"Cytotoxic\", \"Cancerous\"\n",
    "    \n",
    "    # Types of Cancer - Common Solid Tumors\n",
    "    \"Breast cancer\", \"Lung cancer\", \"Colorectal cancer\", \"Pancreatic cancer\", \n",
    "    \"Prostate cancer\", \"Melanoma\", \"Ovarian cancer\", \"Brain tumor\", \n",
    "    \"Liver cancer\", \"Gastric cancer\", \"Esophageal cancer\", \"Kidney cancer\",\n",
    "    \n",
    "    # Types of Cancer - Hematological Malignancies\n",
    "    \"Leukemia\", \"Lymphoma\", \"Myeloma\", \"Hodgkin's lymphoma\", \n",
    "    \"Non-Hodgkin's lymphoma\", \"Chronic lymphocytic leukemia (CLL)\", \n",
    "    \"Acute myeloid leukemia (AML)\",\n",
    "    \n",
    "    # Molecular Targets and Mechanisms - Proteins\n",
    "    \"Tyrosine kinase\", \"EGFR\", \"HER2\", \"VEGF\", \"PD-1\", \"PD-L1\", \n",
    "    \"CTLA-4\", \"BCL-2\",\n",
    "    \n",
    "    # Molecular Targets and Mechanisms - Genes and Pathways\n",
    "    \"KRAS\", \"TP53\", \"BRCA1\", \"BRCA2\", \"MYC\", \"PI3K\", \"RAS/RAF/MEK/ERK pathway\", \n",
    "    \"JAK/STAT pathway\", \"Wnt signaling\", \"Hedgehog pathway\",\n",
    "    \n",
    "    # Molecular Targets and Mechanisms - Drug Mechanisms\n",
    "    \"Apoptosis inducer\", \"Angiogenesis inhibitor\", \"DNA alkylation\", \n",
    "    \"DNA intercalation\", \"Topoisomerase inhibitor\", \"Microtubule stabilizer\", \n",
    "    \"Immune checkpoint inhibitor\",\n",
    "    \n",
    "    # Specific Drug Classes\n",
    "    \"Alkylating agents\", \"Antimetabolites\", \"Anthracyclines\", \"Taxanes\", \n",
    "    \"Platinum compounds\", \"Monoclonal antibodies\", \"PARP inhibitors\", \n",
    "    \"CDK inhibitors\", \"HDAC inhibitors\", \"Proteasome inhibitors\", \n",
    "    \"mTOR inhibitors\",\n",
    "    \n",
    "    # Treatment-Related Terms\n",
    "    \"Cytotoxicity\", \"Resistance\", \"Hormone therapy\", \"Anti-angiogenic\", \n",
    "    \"Cell cycle arrest\", \"Radiosensitizer\", \"Synergistic therapy\",\n",
    "    \n",
    "    # Emerging Terms\n",
    "    \"Precision oncology\", \"Epigenetic modulation\", \n",
    "    \"Adoptive cell therapy\", \"CAR-T cell therapy\", \"Tumor microenvironment\", \n",
    "    \"Cancer stem cells\"\n",
    "]"
   ]
  },
  {
   "cell_type": "markdown",
   "metadata": {},
   "source": [
    "**We will rely on other columns (like Target Name) and further metadata to get the cancers and mutants more accurately**"
   ]
  },
  {
   "cell_type": "code",
   "execution_count": null,
   "metadata": {},
   "outputs": [],
   "source": [
    "import re\n",
    "\n",
    "# Create a single regex pattern from the list of terms (case-insensitive)\n",
    "pattern = '|'.join(rf\"\\b{re.escape(term)}\\b\" for term in cancer_keywords)\n",
    "\n",
    "# Filter rows where \"specific-description\" contains any of the cancer terms\n",
    "filtered_df = merged_df[merged_df['specific-function'].str.contains(pattern, case=False, na=False)]"
   ]
  },
  {
   "cell_type": "code",
   "execution_count": null,
   "metadata": {},
   "outputs": [],
   "source": [
    "\n",
    "mutant_keywords = [\n",
    "    \"mutation\",\n",
    "    \"oncogenesis\", \"tumorigenesis\", \"apoptosis\", \"angiogenesis\", \"HER2\", \"BRAF\", \"KRAS\", \"EGFR\",\n",
    "    \"BRCA1\", \"BRCA2\", \"P53\", \"MDM2\", \"CDK4\", \"CDK6\", \"V600\", \"G12\"\n",
    "]\n"
   ]
  },
  {
   "cell_type": "code",
   "execution_count": null,
   "metadata": {},
   "outputs": [],
   "source": [
    "pattern_mutant = '|'.join(rf\"\\b{re.escape(term)}\\b\" for term in mutant_keywords)\n",
    "\n",
    "# Filter rows where \"specific-description\" contains any of the mutant terms\n",
    "mutant_df = filtered_df[filtered_df['specific-function'].str.contains(pattern_mutant, case=False, na=False)]"
   ]
  },
  {
   "cell_type": "code",
   "execution_count": null,
   "metadata": {},
   "outputs": [
    {
     "name": "stdout",
     "output_type": "stream",
     "text": [
      "We have 26774 cancer related proteins and out of them possibly 17816 are mutant related\n"
     ]
    }
   ],
   "source": [
    "print(f\"We have {len(filtered_df)} cancer related proteins and out of them possibly {len(mutant_df)} are mutant related\")"
   ]
  },
  {
   "cell_type": "code",
   "execution_count": null,
   "metadata": {},
   "outputs": [],
   "source": [
    "affinity_cols = [\"ki\", \"kd\"] ## Measures of binding affinity\n",
    "ec_ic = [\"ic50\"] #### Measures of inhibitory (IC50) and effective concentrations (EC50)\n",
    "bind_unbind = [\"kon\"] ## Rates of binding / unbinding of ligands\n",
    "\n",
    "binding_ligand_efficency_cols = affinity_cols + ec_ic + bind_unbind"
   ]
  },
  {
   "cell_type": "markdown",
   "metadata": {},
   "source": [
    "#### Visualizing basic numerical data about the ligand-protein binding efficency and the environment in which they were tested"
   ]
  },
  {
   "cell_type": "code",
   "execution_count": null,
   "metadata": {},
   "outputs": [
    {
     "data": {
      "image/png": "[encoded data removed]",
      "text/plain": [
       "<Figure size 640x480 with 1 Axes>"
      ]
     },
     "metadata": {},
     "output_type": "display_data"
    }
   ],
   "source": [
    "for i in range(len(affinity_cols)):\n",
    "    plt.boxplot(filtered_df[affinity_cols[i]].dropna(), positions = [i], widths=0.5)\n",
    "plt.title(\"Measures of binding affinitiy\")\n",
    "plt.xticks(range(len(affinity_cols)), affinity_cols)\n",
    "plt.yscale('log')\n",
    "plt.show()"
   ]
  },
  {
   "cell_type": "code",
   "execution_count": null,
   "metadata": {},
   "outputs": [
    {
     "data": {
      "image/png": "[encoded data removed]",
      "text/plain": [
       "<Figure size 640x480 with 1 Axes>"
      ]
     },
     "metadata": {},
     "output_type": "display_data"
    }
   ],
   "source": [
    "plt.boxplot(filtered_df[\"ic50\"].dropna(), positions = [i], widths=0.5)\n",
    "plt.title(\"Measures of inhibitory (IC50)\")\n",
    "plt.xticks(range(len(ec_ic)), ec_ic)\n",
    "#plt.ylim([-0.3, 1000])\n",
    "plt.yscale('log')\n",
    "plt.show()"
   ]
  },
  {
   "cell_type": "code",
   "execution_count": null,
   "metadata": {},
   "outputs": [
    {
     "data": {
      "text/plain": [
       "Text(0.5, 1.0, 'Histogram of NaN percentages for columns')"
      ]
     },
     "execution_count": 51,
     "metadata": {},
     "output_type": "execute_result"
    },
    {
     "data": {
      "image/png": "[encoded data removed]",
      "text/plain": [
       "<Figure size 640x480 with 1 Axes>"
      ]
     },
     "metadata": {},
     "output_type": "display_data"
    }
   ],
   "source": [
    "nan_counts_per_col = merged_df.isna().mean(axis=0)*100\n",
    "nan_counts_per_col.plot(kind='bar', color='skyblue', edgecolor='black')\n",
    "plt.title(\"Histogram of NaN percentages for columns\")"
   ]
  },
  {
   "cell_type": "code",
   "execution_count": null,
   "metadata": {},
   "outputs": [
    {
     "data": {
      "text/plain": [
       "Text(0.5, 0, 'ph')"
      ]
     },
     "execution_count": 52,
     "metadata": {},
     "output_type": "execute_result"
    },
    {
     "data": {
      "image/png": "[encoded data removed]",
      "text/plain": [
       "<Figure size 1200x600 with 1 Axes>"
      ]
     },
     "metadata": {},
     "output_type": "display_data"
    }
   ],
   "source": [
    "plt.figure(figsize=(12, 6)) \n",
    "merged_df['ph'].hist(bins = 50)\n",
    "plt.xticks(np.arange(15))\n",
    "plt.title(\"ph values\")\n",
    "plt.xlabel(\"ph\")\n"
   ]
  },
  {
   "cell_type": "code",
   "execution_count": null,
   "metadata": {},
   "outputs": [
    {
     "data": {
      "text/plain": [
       "Text(0.5, 0, 'Celsius degrees')"
      ]
     },
     "execution_count": 53,
     "metadata": {},
     "output_type": "execute_result"
    },
    {
     "data": {
      "image/png": "[encoded data removed]",
      "text/plain": [
       "<Figure size 1200x600 with 1 Axes>"
      ]
     },
     "metadata": {},
     "output_type": "display_data"
    }
   ],
   "source": [
    "plt.figure(figsize=(12, 6)) \n",
    "merged_df['temp'].hist(bins = 500)\n",
    "plt.title(\"Temperature values in Celsius\")\n",
    "plt.xlim([0, 100])\n",
    "plt.xlabel(\"Celsius degrees\")"
   ]
  },
  {
   "cell_type": "markdown",
   "metadata": {},
   "source": [
    "### Mutations\n",
    "- Correlation between metrics of biding affinity, dosage, etc\n",
    "- Possibly trying to see some groupings of data points (similarity in structure, metrics, types of disease being fought, ...)"
   ]
  },
  {
   "cell_type": "code",
   "execution_count": null,
   "metadata": {},
   "outputs": [
    {
     "ename": "ModuleNotFoundError",
     "evalue": "No module named 'networkx'",
     "output_type": "error",
     "traceback": [
      "\u001b[0;31m---------------------------------------------------------------------------\u001b[0m",
      "\u001b[0;31mModuleNotFoundError\u001b[0m                       Traceback (most recent call last)",
      "Cell \u001b[0;32mIn[54], line 2\u001b[0m\n\u001b[1;32m      1\u001b[0m \u001b[38;5;28;01mimport\u001b[39;00m \u001b[38;5;21;01mseaborn\u001b[39;00m \u001b[38;5;28;01mas\u001b[39;00m \u001b[38;5;21;01msns\u001b[39;00m\n\u001b[0;32m----> 2\u001b[0m \u001b[38;5;28;01mimport\u001b[39;00m \u001b[38;5;21;01mnetworkx\u001b[39;00m \u001b[38;5;28;01mas\u001b[39;00m \u001b[38;5;21;01mnx\u001b[39;00m\n\u001b[1;32m      3\u001b[0m \u001b[38;5;28;01mimport\u001b[39;00m \u001b[38;5;21;01mstatsmodels\u001b[39;00m\u001b[38;5;21;01m.\u001b[39;00m\u001b[38;5;21;01mapi\u001b[39;00m \u001b[38;5;28;01mas\u001b[39;00m \u001b[38;5;21;01msm\u001b[39;00m\n\u001b[1;32m      4\u001b[0m \u001b[38;5;28;01mimport\u001b[39;00m \u001b[38;5;21;01mstatsmodels\u001b[39;00m\u001b[38;5;21;01m.\u001b[39;00m\u001b[38;5;21;01mformula\u001b[39;00m\u001b[38;5;21;01m.\u001b[39;00m\u001b[38;5;21;01mapi\u001b[39;00m \u001b[38;5;28;01mas\u001b[39;00m \u001b[38;5;21;01msmf\u001b[39;00m\n",
      "\u001b[0;31mModuleNotFoundError\u001b[0m: No module named 'networkx'"
     ]
    }
   ],
   "source": [
    "import seaborn as sns\n",
    "import networkx as nx\n",
    "import statsmodels.api as sm\n",
    "import statsmodels.formula.api as smf\n",
    "\n",
    "from statsmodels.stats import diagnostic\n",
    "from scipy import stats\n"
   ]
  },
  {
   "cell_type": "code",
   "execution_count": null,
   "metadata": {},
   "outputs": [],
   "source": [
    "merged_df_2 = merged_df[[\"ki\", \"ic50\", \"kd\", \"ph\", \"temp\"]].dropna()"
   ]
  },
  {
   "cell_type": "code",
   "execution_count": null,
   "metadata": {},
   "outputs": [
    {
     "data": {
      "text/html": [
       "<div>\n",
       "<style scoped>\n",
       "    .dataframe tbody tr th:only-of-type {\n",
       "        vertical-align: middle;\n",
       "    }\n",
       "\n",
       "    .dataframe tbody tr th {\n",
       "        vertical-align: top;\n",
       "    }\n",
       "\n",
       "    .dataframe thead th {\n",
       "        text-align: right;\n",
       "    }\n",
       "</style>\n",
       "<table border=\"1\" class=\"dataframe\">\n",
       "  <thead>\n",
       "    <tr style=\"text-align: right;\">\n",
       "      <th></th>\n",
       "      <th>ki</th>\n",
       "      <th>ic50</th>\n",
       "      <th>kd</th>\n",
       "      <th>ph</th>\n",
       "      <th>temp</th>\n",
       "    </tr>\n",
       "  </thead>\n",
       "  <tbody>\n",
       "    <tr>\n",
       "      <th>32414</th>\n",
       "      <td>50.0</td>\n",
       "      <td>2000.0</td>\n",
       "      <td>270.0</td>\n",
       "      <td>7.5</td>\n",
       "      <td>25.0</td>\n",
       "    </tr>\n",
       "    <tr>\n",
       "      <th>403630</th>\n",
       "      <td>5500.0</td>\n",
       "      <td>19600.0</td>\n",
       "      <td>496.0</td>\n",
       "      <td>7.3</td>\n",
       "      <td>25.0</td>\n",
       "    </tr>\n",
       "    <tr>\n",
       "      <th>403631</th>\n",
       "      <td>91100.0</td>\n",
       "      <td>335000.0</td>\n",
       "      <td>954.0</td>\n",
       "      <td>7.3</td>\n",
       "      <td>25.0</td>\n",
       "    </tr>\n",
       "    <tr>\n",
       "      <th>403633</th>\n",
       "      <td>2800.0</td>\n",
       "      <td>9900.0</td>\n",
       "      <td>256.0</td>\n",
       "      <td>7.3</td>\n",
       "      <td>25.0</td>\n",
       "    </tr>\n",
       "    <tr>\n",
       "      <th>403635</th>\n",
       "      <td>2000.0</td>\n",
       "      <td>7200.0</td>\n",
       "      <td>264.0</td>\n",
       "      <td>7.3</td>\n",
       "      <td>25.0</td>\n",
       "    </tr>\n",
       "    <tr>\n",
       "      <th>403637</th>\n",
       "      <td>9600.0</td>\n",
       "      <td>34100.0</td>\n",
       "      <td>380.0</td>\n",
       "      <td>7.3</td>\n",
       "      <td>25.0</td>\n",
       "    </tr>\n",
       "    <tr>\n",
       "      <th>403638</th>\n",
       "      <td>96600.0</td>\n",
       "      <td>341000.0</td>\n",
       "      <td>496.0</td>\n",
       "      <td>7.4</td>\n",
       "      <td>25.0</td>\n",
       "    </tr>\n",
       "    <tr>\n",
       "      <th>403639</th>\n",
       "      <td>14900.0</td>\n",
       "      <td>52700.0</td>\n",
       "      <td>291.0</td>\n",
       "      <td>7.4</td>\n",
       "      <td>25.0</td>\n",
       "    </tr>\n",
       "    <tr>\n",
       "      <th>403640</th>\n",
       "      <td>355500.0</td>\n",
       "      <td>1258500.0</td>\n",
       "      <td>264.0</td>\n",
       "      <td>7.4</td>\n",
       "      <td>25.0</td>\n",
       "    </tr>\n",
       "  </tbody>\n",
       "</table>\n",
       "</div>"
      ],
      "text/plain": [
       "              ki       ic50     kd   ph  temp\n",
       "32414       50.0     2000.0  270.0  7.5  25.0\n",
       "403630    5500.0    19600.0  496.0  7.3  25.0\n",
       "403631   91100.0   335000.0  954.0  7.3  25.0\n",
       "403633    2800.0     9900.0  256.0  7.3  25.0\n",
       "403635    2000.0     7200.0  264.0  7.3  25.0\n",
       "403637    9600.0    34100.0  380.0  7.3  25.0\n",
       "403638   96600.0   341000.0  496.0  7.4  25.0\n",
       "403639   14900.0    52700.0  291.0  7.4  25.0\n",
       "403640  355500.0  1258500.0  264.0  7.4  25.0"
      ]
     },
     "execution_count": 135,
     "metadata": {},
     "output_type": "execute_result"
    }
   ],
   "source": [
    "merged_df_2"
   ]
  },
  {
   "cell_type": "code",
   "execution_count": null,
   "metadata": {},
   "outputs": [
    {
     "name": "stdout",
     "output_type": "stream",
     "text": [
      "(0.3316297918004256, 0.005464736952897225)\n",
      "(0.45962321542124196, 0.0015567131690047327)\n",
      "(0.3329414971146777, 0.005055785987452595)\n",
      "(0.4610074446102134, 0.0014676254914479862)\n",
      "(0.25237112659389244, 0.09962614601795748)\n",
      "(0.4661401359792068, 0.001137290343683231)\n"
     ]
    }
   ],
   "source": [
    "print(diagnostic.kstest_normal(merged_df_2[\"ki\"].values, dist = 'norm'))\n",
    "print(diagnostic.kstest_normal(merged_df_2[\"ki\"].values, dist = 'exp'))\n",
    "print(diagnostic.kstest_normal(merged_df_2[\"ic50\"].values, dist = 'norm'))\n",
    "print(diagnostic.kstest_normal(merged_df_2[\"ic50\"].values, dist = 'exp'))\n",
    "print(diagnostic.kstest_normal(merged_df_2[\"kd\"].values, dist = 'norm'))\n",
    "print(diagnostic.kstest_normal(merged_df_2[\"kd\"].values, dist = 'exp'))"
   ]
  }
 ],
 "metadata": {
  "kernelspec": {
   "display_name": "Python 3",
   "language": "python",
   "name": "python3"
  },
  "language_info": {
   "codemirror_mode": {
    "name": "ipython",
    "version": 3
   },
   "file_extension": ".py",
   "mimetype": "text/x-python",
   "name": "python",
   "nbconvert_exporter": "python",
   "pygments_lexer": "ipython3",
   "version": "3.12.7"
  }
 },
 "nbformat": 4,
 "nbformat_minor": 4
}
