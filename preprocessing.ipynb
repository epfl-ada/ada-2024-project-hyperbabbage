{
 "cells": [
  {
   "cell_type": "markdown",
   "metadata": {},
   "source": [
    "# Preprocessing Pipeline"
   ]
  },
  {
   "cell_type": "markdown",
   "metadata": {},
   "source": [
    "#### To create the dataframes and files needed for our analysis, make sure that:\n",
    "\n",
    "Make sure you have the following files in `data/raw`:\n",
    "  1. [full_database.xml](https://drive.google.com/file/d/1149kYVkazq67e0vuv-_4APyqVX6yyh2p), which will represent the XML version of the DrugBank\n",
    "  2. [BindingDB_All.tsv](https://www.bindingdb.org/bind/downloads/BindingDB_All_202411_tsv.zip), which will represent the tsv version of the BindingDB\n",
    "\n",
    "Make sure you have the following directory created: `data/clean`:"
   ]
  },
  {
   "cell_type": "markdown",
   "metadata": {},
   "source": [
    "### Imports"
   ]
  },
  {
   "cell_type": "code",
   "execution_count": 37,
   "metadata": {},
   "outputs": [
    {
     "name": "stdout",
     "output_type": "stream",
     "text": [
      "The autoreload extension is already loaded. To reload it, use:\n",
      "  %reload_ext autoreload\n"
     ]
    }
   ],
   "source": [
    "import os\n",
    "import gc\n",
    "import re\n",
    "import requests\n",
    "import time\n",
    "import random\n",
    "\n",
    "import numpy as np\n",
    "import pandas as pd\n",
    "\n",
    "import matplotlib.pyplot as plt\n",
    "import xml.etree.ElementTree as ET\n",
    "from tqdm import tqdm\n",
    "import pandas as pd\n",
    "from concurrent.futures import ThreadPoolExecutor\n",
    "\n",
    "from src.drugbank_XML_drugparser import DrugParser\n",
    "from src.drugbank_bindingdb_merger import DrugBank_BindingDB_Merger\n",
    "from src.preprocessing import Preprocessing, ColumnClean\n",
    "\n",
    "from src.data_paths import *\n",
    "\n",
    "import seaborn as sns\n",
    "import networkx as nx\n",
    "import statsmodels.api as sm\n",
    "import statsmodels.formula.api as smf\n",
    "\n",
    "from statsmodels.stats import diagnostic\n",
    "from scipy import stats\n",
    "\n",
    "%matplotlib inline\n",
    "\n",
    "%load_ext autoreload\n",
    "%autoreload 2"
   ]
  },
  {
   "cell_type": "markdown",
   "metadata": {},
   "source": [
    "## Parsing and cleaning BindingDB"
   ]
  },
  {
   "cell_type": "code",
   "execution_count": 2,
   "metadata": {},
   "outputs": [
    {
     "name": "stdout",
     "output_type": "stream",
     "text": [
      "BindingDB clean exists...\n"
     ]
    }
   ],
   "source": [
    "if os.path.exists(BINDINGDB_CLEAN):\n",
    "    print(\"BindingDB clean exists...\")\n",
    "    clean_binding_df = pd.read_pickle(BINDINGDB_CLEAN)\n",
    "else:\n",
    "    print(\"Creating clean BindingDB...\")\n",
    "    def load_BindingDB(file_path, cols):\n",
    "        return pd.read_csv(file_path, sep='\\t', header=0, usecols=cols)\n",
    "\n",
    "    \"\"\"\n",
    "    This method srips all non-numeric characters from the value.\n",
    "\n",
    "    For example, the temperature is always given as 12C or 14.2C, so we remove the C.\n",
    "\n",
    "    In come cases, mesured values are given as >10000 or <.01. In these cases, we just take the bound, as it is still better then loosing all the information by replacing it with NA.\n",
    "    \"\"\"\n",
    "    def keep_just_numeric(value):\n",
    "        if type(value) != str:\n",
    "            if type(value) == float or type(value) == int:\n",
    "                return value\n",
    "            else:\n",
    "                return pd.NA\n",
    "\n",
    "        ## All non-numeric characters (except the decimal .) should be replaced\n",
    "        cleaned_val = re.sub(r'[^\\d.]+','', str(value)) \n",
    "        if(cleaned_val == ''): # It didn't contain any number?\n",
    "            return pd.NA\n",
    "        return float(cleaned_val)\n",
    "\n",
    "    def parse_int(value):\n",
    "        try:\n",
    "            return int(value)\n",
    "        except:\n",
    "            return pd.NA\n",
    "    # First, we specify which \n",
    "    bdb_preprocessor = Preprocessing(\n",
    "        [\n",
    "            ColumnClean('Ki (nM)', 'ki', clean=keep_just_numeric),\n",
    "            ColumnClean('pH', 'ph', clean=keep_just_numeric),\n",
    "            ColumnClean('Temp (C)', 'temp', clean=keep_just_numeric),\n",
    "            ColumnClean('IC50 (nM)', 'ic50', clean=keep_just_numeric),\n",
    "            ColumnClean('EC50 (nM)', 'ec50', clean=keep_just_numeric),\n",
    "            ColumnClean('Kd (nM)', 'kd', clean=keep_just_numeric),\n",
    "            ColumnClean('kon (M-1-s-1)', 'kon', clean=keep_just_numeric),\n",
    "            ColumnClean('koff (s-1)', 'koff', clean=keep_just_numeric),\n",
    "\n",
    "            # These columns are supposed to contain strings.\n",
    "            ColumnClean('Article DOI', 'doi'),\n",
    "            ColumnClean('Target Name', 'target_name'),\n",
    "            ColumnClean('BindingDB Ligand Name', 'ligand_name'),\n",
    "\n",
    "            # We use these IDs to join bindingDB and drugbank\n",
    "            ColumnClean('PubChem CID', 'pubchem_cid'),\n",
    "            ColumnClean('ChEBI ID of Ligand', 'chebi_id'),\n",
    "            ColumnClean('ChEMBL ID of Ligand', 'chembl_id'),\n",
    "            ColumnClean('DrugBank ID of Ligand', 'drugbank_id'),\n",
    "            ColumnClean('KEGG ID of Ligand', 'kegg_id'),\n",
    "            ColumnClean('ZINC ID of Ligand', 'zinc_id'),\n",
    "            ColumnClean('Ligand SMILES', 'smiles'),\n",
    "            ColumnClean('Ligand InChI Key', 'inchi_key'),\n",
    "            ColumnClean('BindingDB MonomerID', 'bindingdb_id', clean=parse_int),\n",
    "            ColumnClean('PubChem CID','pubchem_cid'),\n",
    "            ColumnClean('UniProt (SwissProt) Recommended Name of Target Chain', 'swissprot_target_chain_name'),\n",
    "            ColumnClean('UniProt (SwissProt) Entry Name of Target Chain', 'swissprot_target_chain_entry_name'),\n",
    "            ColumnClean('UniProt (SwissProt) Primary ID of Target Chain.1', 'swissprot_protein_id'),\n",
    "        ]\n",
    "    )\n",
    "\n",
    "    print(\"Loading Binding DB...\")\n",
    "    raw_binding_df = load_BindingDB(BINDINGDB_RAW, bdb_preprocessor.get_all_old_columns())\n",
    "\n",
    "    print(\"Cleaning Binding DB...\")\n",
    "    clean_binding_df = bdb_preprocessor.transform(raw_binding_df)\n",
    "    clean_binding_df.to_pickle(BINDINGDB_CLEAN)\n",
    "\n",
    "    assert len(clean_binding_df) == len(raw_binding_df)\n",
    "\n",
    "    # Print header\n",
    "    print(f\"{'Column Name':<30} {'Raw NaN%':<10} {'Clean NaN%':<10}\")\n",
    "    print(\"-\" * 50)\n",
    "\n",
    "    # Print each column's NaN percentages\n",
    "    for col_old, col_new in zip(bdb_preprocessor.get_all_old_columns(), bdb_preprocessor.get_all_new_columns()):\n",
    "        raw = raw_binding_df[col_old].isna().mean() * 100\n",
    "        clean = clean_binding_df[col_new].isna().mean() * 100\n",
    "        print(f\"{col_new:<40} {raw:<10.2f} {clean:<10.2f}\")\n",
    "\n",
    "    del raw_binding_df\n",
    "    gc.collect()\n"
   ]
  },
  {
   "cell_type": "code",
   "execution_count": 3,
   "metadata": {},
   "outputs": [
    {
     "name": "stdout",
     "output_type": "stream",
     "text": [
      "ki\n",
      "ph\n",
      "temp\n",
      "ic50\n",
      "ec50\n",
      "kd\n",
      "kon\n",
      "koff\n",
      "doi\n",
      "target_name\n",
      "ligand_name\n",
      "pubchem_cid\n",
      "chebi_id\n",
      "chembl_id\n",
      "drugbank_id\n",
      "kegg_id\n",
      "zinc_id\n",
      "smiles\n",
      "inchi_key\n",
      "bindingdb_id\n",
      "swissprot_target_chain_name\n",
      "swissprot_target_chain_entry_name\n",
      "swissprot_protein_id\n"
     ]
    }
   ],
   "source": [
    "for x in clean_binding_df.columns:\n",
    "    print(x)"
   ]
  },
  {
   "cell_type": "code",
   "execution_count": 4,
   "metadata": {},
   "outputs": [
    {
     "data": {
      "text/plain": [
       "ki                                          Float64\n",
       "ph                                          Float64\n",
       "temp                                        Float64\n",
       "ic50                                        Float64\n",
       "ec50                                        Float64\n",
       "kd                                          Float64\n",
       "kon                                         Float64\n",
       "koff                                        Float64\n",
       "doi                                  string[python]\n",
       "target_name                          string[python]\n",
       "ligand_name                          string[python]\n",
       "pubchem_cid                                   Int64\n",
       "chebi_id                                      Int64\n",
       "chembl_id                            string[python]\n",
       "drugbank_id                          string[python]\n",
       "kegg_id                              string[python]\n",
       "zinc_id                              string[python]\n",
       "smiles                               string[python]\n",
       "inchi_key                            string[python]\n",
       "bindingdb_id                                  Int64\n",
       "swissprot_target_chain_name          string[python]\n",
       "swissprot_target_chain_entry_name    string[python]\n",
       "swissprot_protein_id                 string[python]\n",
       "dtype: object"
      ]
     },
     "execution_count": 4,
     "metadata": {},
     "output_type": "execute_result"
    }
   ],
   "source": [
    "# Did we sucessfully convert all the columns to the right types?\n",
    "clean_binding_df.dtypes"
   ]
  },
  {
   "cell_type": "markdown",
   "metadata": {},
   "source": [
    "## Parse and clean the Drugbank data"
   ]
  },
  {
   "cell_type": "code",
   "execution_count": 5,
   "metadata": {},
   "outputs": [
    {
     "name": "stdout",
     "output_type": "stream",
     "text": [
      "parsed_Drugbank exists...\n",
      "Loading...\n"
     ]
    }
   ],
   "source": [
    "\n",
    "if os.path.exists(DRUGBANK_LIGAND_PARSED) and os.path.exists(DRUGBANK_PROTEIN_PARSED):\n",
    "    print(\"parsed_Drugbank exists...\")\n",
    "    print(\"Loading...\")\n",
    "\n",
    "    drugbank_ligand = pd.read_pickle(DRUGBANK_LIGAND_PARSED)\n",
    "    drugbank_proteins = pd.read_pickle(DRUGBANK_PROTEIN_PARSED)\n",
    "else:\n",
    "    print(\"parsed_Drugbank doesn't exists...\")\n",
    "    print(\"Parsing DrugBank XML...\")\n",
    "\n",
    "    drugparser = DrugParser(DRUGBANK_XML)\n",
    "    drugparser.parse_drugs()\n",
    "    drugparser.parse_proteins()\n",
    "    drugbank_ligand, drugbank_proteins = drugparser.save_parsed_drugs(DRUGBANK_LIGAND_PARSED, DRUGBANK_PROTEIN_PARSED, return_df = True)\n",
    "\n",
    "    print(\"DrugBank XML is parsed. \\n Loading Bind ...\")"
   ]
  },
  {
   "cell_type": "code",
   "execution_count": 6,
   "metadata": {},
   "outputs": [
    {
     "data": {
      "text/plain": [
       "5        59173\n",
       "6         6427\n",
       "13        5523\n",
       "28        5931\n",
       "33        4450\n",
       "         ...  \n",
       "16381    34969\n",
       "16436    60568\n",
       "16451    95255\n",
       "16528    27616\n",
       "16552    13332\n",
       "Name: chebi, Length: 5422, dtype: object"
      ]
     },
     "execution_count": 6,
     "metadata": {},
     "output_type": "execute_result"
    }
   ],
   "source": [
    "drugbank_ligand['chebi'].dropna()"
   ]
  },
  {
   "cell_type": "code",
   "execution_count": 7,
   "metadata": {},
   "outputs": [
    {
     "data": {
      "text/plain": [
       "129         42082\n",
       "235        367163\n",
       "246        367163\n",
       "303         59385\n",
       "304         59385\n",
       "            ...  \n",
       "2923048     73726\n",
       "2923068     73726\n",
       "2923090     73726\n",
       "2923112     73726\n",
       "2923132     73726\n",
       "Name: chebi_id, Length: 96917, dtype: Int64"
      ]
     },
     "execution_count": 7,
     "metadata": {},
     "output_type": "execute_result"
    }
   ],
   "source": [
    "clean_binding_df['chebi_id'].dropna()"
   ]
  },
  {
   "cell_type": "markdown",
   "metadata": {},
   "source": [
    "## Merge BindingDB and DrugBank"
   ]
  },
  {
   "cell_type": "code",
   "execution_count": 41,
   "metadata": {},
   "outputs": [
    {
     "name": "stdout",
     "output_type": "stream",
     "text": [
      "Merged dataset exists.\n",
      " Loading...\n",
      "Index(['ki', 'ph', 'temp', 'ic50', 'ec50', 'kd', 'kon', 'koff', 'doi',\n",
      "       'target_name', 'ligand_name', 'pubchem_cid', 'chebi_id', 'chembl_id',\n",
      "       'drugbank_id', 'kegg_id', 'zinc_id', 'smiles', 'inchi_key',\n",
      "       'bindingdb_id', 'swissprot_target_chain_name',\n",
      "       'swissprot_target_chain_entry_name', 'swissprot_protein_id',\n",
      "       'Unique_ID', 'name_x', 'unii', 'toxicity', 'class_kingdom',\n",
      "       'class_superclass', 'synonyms', 'categories', 'patent_approved',\n",
      "       'interaction', 'Matched_On', 'name_y', 'general-function',\n",
      "       'specific-function', 'organism'],\n",
      "      dtype='object')\n",
      "Merged dataset loaded\n"
     ]
    }
   ],
   "source": [
    "# Let's merge bindingDB and DrugBank (unless already saved)\n",
    "if os.path.exists(MERGED):\n",
    "    print(\"Merged dataset exists.\\n Loading...\")\n",
    "\n",
    "    merged_df = pd.read_pickle(MERGED)\n",
    "    print(merged_df.columns)\n",
    "\n",
    "    print(\"Merged dataset loaded\")\n",
    "else:\n",
    "    print(\"Merged dataset doesn't exists.\\n Creating it...\")\n",
    "    drugbank_binding_merger = DrugBank_BindingDB_Merger()\n",
    "    incomplete_merged_df = drugbank_binding_merger.merge(drugbank_ligand, clean_binding_df)\n",
    "\n",
    "    merged_df = pd.merge(incomplete_merged_df, drugbank_proteins, how='left', on='swissprot_protein_id')\n",
    "\n",
    "    # Remove duplicate columns (they finish with .1)\n",
    "    merged_df = merged_df.loc[:, ~merged_df.columns.str.endswith('.1')]\n",
    "\n",
    "    merged_df.to_pickle(MERGED)\n",
    "\n",
    "    print(\"Merged dataset is loaded and saved.\")\n"
   ]
  },
  {
   "cell_type": "code",
   "execution_count": 9,
   "metadata": {},
   "outputs": [
    {
     "name": "stdout",
     "output_type": "stream",
     "text": [
      "ki\n",
      "ph\n",
      "temp\n",
      "ic50\n",
      "ec50\n",
      "kd\n",
      "kon\n",
      "koff\n",
      "doi\n",
      "target_name\n",
      "ligand_name\n",
      "pubchem_cid\n",
      "chebi_id\n",
      "chembl_id\n",
      "drugbank_id\n",
      "kegg_id\n",
      "zinc_id\n",
      "smiles\n",
      "inchi_key\n",
      "bindingdb_id\n",
      "swissprot_target_chain_name\n",
      "swissprot_target_chain_entry_name\n",
      "swissprot_protein_id\n",
      "Unique_ID\n",
      "name_x\n",
      "unii\n",
      "toxicity\n",
      "class_kingdom\n",
      "class_superclass\n",
      "synonyms\n",
      "categories\n",
      "patent_approved\n",
      "interaction\n",
      "Matched_On\n",
      "name_y\n",
      "general-function\n",
      "specific-function\n",
      "organism\n"
     ]
    }
   ],
   "source": [
    "for x in merged_df.columns:\n",
    "    print(x)"
   ]
  },
  {
   "cell_type": "code",
   "execution_count": 10,
   "metadata": {},
   "outputs": [
    {
     "name": "stdout",
     "output_type": "stream",
     "text": [
      "drugbank_id\n",
      "name\n",
      "unii\n",
      "toxicity\n",
      "class_kingdom\n",
      "class_superclass\n",
      "synonyms\n",
      "categories\n",
      "patent_approved\n",
      "interaction\n",
      "pubchem_cid\n",
      "chembl_id\n",
      "smiles\n",
      "inchi_key\n",
      "chebi_id\n",
      "bindingdb_id\n"
     ]
    }
   ],
   "source": [
    "for x in drugbank_ligand.columns:\n",
    "    print(x)"
   ]
  },
  {
   "cell_type": "code",
   "execution_count": 11,
   "metadata": {},
   "outputs": [
    {
     "data": {
      "text/html": [
       "<div>\n",
       "<style scoped>\n",
       "    .dataframe tbody tr th:only-of-type {\n",
       "        vertical-align: middle;\n",
       "    }\n",
       "\n",
       "    .dataframe tbody tr th {\n",
       "        vertical-align: top;\n",
       "    }\n",
       "\n",
       "    .dataframe thead th {\n",
       "        text-align: right;\n",
       "    }\n",
       "</style>\n",
       "<table border=\"1\" class=\"dataframe\">\n",
       "  <thead>\n",
       "    <tr style=\"text-align: right;\">\n",
       "      <th></th>\n",
       "      <th>ki</th>\n",
       "      <th>ph</th>\n",
       "      <th>temp</th>\n",
       "      <th>ic50</th>\n",
       "      <th>ec50</th>\n",
       "      <th>kd</th>\n",
       "      <th>kon</th>\n",
       "      <th>koff</th>\n",
       "      <th>doi</th>\n",
       "      <th>target_name</th>\n",
       "      <th>...</th>\n",
       "      <th>categories</th>\n",
       "      <th>patent_approved</th>\n",
       "      <th>interaction</th>\n",
       "      <th>pubchem_cid.1</th>\n",
       "      <th>chembl_id.1</th>\n",
       "      <th>smiles.1</th>\n",
       "      <th>inchi_key.1</th>\n",
       "      <th>chebi_id.1</th>\n",
       "      <th>bindingdb_id.1</th>\n",
       "      <th>Matched_On</th>\n",
       "    </tr>\n",
       "  </thead>\n",
       "  <tbody>\n",
       "    <tr>\n",
       "      <th>2335876</th>\n",
       "      <td>2.42</td>\n",
       "      <td>&lt;NA&gt;</td>\n",
       "      <td>&lt;NA&gt;</td>\n",
       "      <td>&lt;NA&gt;</td>\n",
       "      <td>&lt;NA&gt;</td>\n",
       "      <td>&lt;NA&gt;</td>\n",
       "      <td>&lt;NA&gt;</td>\n",
       "      <td>&lt;NA&gt;</td>\n",
       "      <td>10.1016/j.bmcl.2012.05.030</td>\n",
       "      <td>Sodium-dependent dopamine transporter</td>\n",
       "      <td>...</td>\n",
       "      <td>Antiarrhythmic agents|Cytochrome P-450 CYP3A S...</td>\n",
       "      <td>NaN</td>\n",
       "      <td>DB11642|DB09046|DB14754|DB06119|DB00503|DB0050...</td>\n",
       "      <td>3455.0</td>\n",
       "      <td>CHEMBL153260CHEMBL281594CHEMBL543876CHEMBL542933</td>\n",
       "      <td>Fc1ccc(cc1)C(OCCN1CCN(CCCc2ccccc2)CC1)c1ccc(F)cc1</td>\n",
       "      <td>NAUWTFJOPJWYOT-UHFFFAOYSA-N</td>\n",
       "      <td>64089.0</td>\n",
       "      <td>22165.0</td>\n",
       "      <td>chebi_id</td>\n",
       "    </tr>\n",
       "    <tr>\n",
       "      <th>1762169</th>\n",
       "      <td>&lt;NA&gt;</td>\n",
       "      <td>&lt;NA&gt;</td>\n",
       "      <td>&lt;NA&gt;</td>\n",
       "      <td>17.0</td>\n",
       "      <td>&lt;NA&gt;</td>\n",
       "      <td>&lt;NA&gt;</td>\n",
       "      <td>&lt;NA&gt;</td>\n",
       "      <td>&lt;NA&gt;</td>\n",
       "      <td>10.1016/j.bmc.2014.07.033</td>\n",
       "      <td>Delta-type opioid receptor</td>\n",
       "      <td>...</td>\n",
       "      <td>Analgesics|Carbon Radioisotopes|Central Nervou...</td>\n",
       "      <td>NaN</td>\n",
       "      <td>DB00921|DB00366|DB00470|DB00450|DB00956|DB0055...</td>\n",
       "      <td>62156.0</td>\n",
       "      <td>CHEMBL290429</td>\n",
       "      <td>CCC(=O)N(c1ccccc1)C1(CCN(CCc2ccccc2)CC1)C(=O)OC</td>\n",
       "      <td>YDSDEBIZUNNPOB-UHFFFAOYSA-N</td>\n",
       "      <td>61084.0</td>\n",
       "      <td>50012477.0</td>\n",
       "      <td>chebi_id</td>\n",
       "    </tr>\n",
       "    <tr>\n",
       "      <th>2568553</th>\n",
       "      <td>&lt;NA&gt;</td>\n",
       "      <td>&lt;NA&gt;</td>\n",
       "      <td>&lt;NA&gt;</td>\n",
       "      <td>33.0</td>\n",
       "      <td>&lt;NA&gt;</td>\n",
       "      <td>&lt;NA&gt;</td>\n",
       "      <td>&lt;NA&gt;</td>\n",
       "      <td>&lt;NA&gt;</td>\n",
       "      <td>10.1128/AAC.01566-08</td>\n",
       "      <td>Penicillin-binding protein 2x</td>\n",
       "      <td>...</td>\n",
       "      <td>Amides|Anti-Bacterial Agents|Anti-Infective Ag...</td>\n",
       "      <td>2004-03-09|1994-04-12</td>\n",
       "      <td>DB01032|DB00529|DB00742|DB00300|DB09299|DB1412...</td>\n",
       "      <td>5479529.0</td>\n",
       "      <td>CHEMBL1436</td>\n",
       "      <td>CO\\N=C(/C(=O)N[C@H]1[C@H]2SCC(COC(N)=O)=C(N2C1...</td>\n",
       "      <td>JFPVXVDWJQMJEE-IZRZKJBUSA-N</td>\n",
       "      <td>3515.0</td>\n",
       "      <td>50422689.0</td>\n",
       "      <td>chebi_id</td>\n",
       "    </tr>\n",
       "    <tr>\n",
       "      <th>2822061</th>\n",
       "      <td>&lt;NA&gt;</td>\n",
       "      <td>&lt;NA&gt;</td>\n",
       "      <td>&lt;NA&gt;</td>\n",
       "      <td>6.3</td>\n",
       "      <td>&lt;NA&gt;</td>\n",
       "      <td>&lt;NA&gt;</td>\n",
       "      <td>&lt;NA&gt;</td>\n",
       "      <td>&lt;NA&gt;</td>\n",
       "      <td>10.1021/acsmedchemlett.1c00379</td>\n",
       "      <td>Glucocorticoid receptor</td>\n",
       "      <td>...</td>\n",
       "      <td>Adrenal Cortex Hormones|Adrenals|Agents Causin...</td>\n",
       "      <td>2014-09-30|2015-10-06|2002-03-19|2001-09-04|20...</td>\n",
       "      <td>DB06643|DB00008|DB00011|DB00018|DB00022|DB0003...</td>\n",
       "      <td>5743.0</td>\n",
       "      <td>CHEMBL384467</td>\n",
       "      <td>C[C@@H]1C[C@H]2[C@@H]3CCC4=CC(=O)C=C[C@]4(C)[C...</td>\n",
       "      <td>UREBDLICKHMUKA-CXSFZGCWSA-N</td>\n",
       "      <td>41879.0</td>\n",
       "      <td>18207.0</td>\n",
       "      <td>chebi_id</td>\n",
       "    </tr>\n",
       "    <tr>\n",
       "      <th>163294</th>\n",
       "      <td>83.0</td>\n",
       "      <td>&lt;NA&gt;</td>\n",
       "      <td>&lt;NA&gt;</td>\n",
       "      <td>&lt;NA&gt;</td>\n",
       "      <td>&lt;NA&gt;</td>\n",
       "      <td>&lt;NA&gt;</td>\n",
       "      <td>&lt;NA&gt;</td>\n",
       "      <td>&lt;NA&gt;</td>\n",
       "      <td>&lt;NA&gt;</td>\n",
       "      <td>5-hydroxytryptamine receptor 7</td>\n",
       "      <td>...</td>\n",
       "      <td>Agents that produce hypertension|Alkaloids|Ana...</td>\n",
       "      <td>NaN</td>\n",
       "      <td>DB00252|DB01320|DB00177|DB00178|DB00212|DB0021...</td>\n",
       "      <td>9681.0</td>\n",
       "      <td>CHEMBL1065</td>\n",
       "      <td>CC[C@@H](CO)NC(=O)[C@H]1CN(C)[C@@H]2Cc3cn(C)c4...</td>\n",
       "      <td>KPJZHOPZRAFDTN-ZRGWGRIASA-N</td>\n",
       "      <td>584020.0</td>\n",
       "      <td>50031942.0</td>\n",
       "      <td>chebi_id</td>\n",
       "    </tr>\n",
       "  </tbody>\n",
       "</table>\n",
       "<p>5 rows × 41 columns</p>\n",
       "</div>"
      ],
      "text/plain": [
       "           ki    ph  temp  ic50  ec50    kd   kon  koff  \\\n",
       "2335876  2.42  <NA>  <NA>  <NA>  <NA>  <NA>  <NA>  <NA>   \n",
       "1762169  <NA>  <NA>  <NA>  17.0  <NA>  <NA>  <NA>  <NA>   \n",
       "2568553  <NA>  <NA>  <NA>  33.0  <NA>  <NA>  <NA>  <NA>   \n",
       "2822061  <NA>  <NA>  <NA>   6.3  <NA>  <NA>  <NA>  <NA>   \n",
       "163294   83.0  <NA>  <NA>  <NA>  <NA>  <NA>  <NA>  <NA>   \n",
       "\n",
       "                                    doi  \\\n",
       "2335876      10.1016/j.bmcl.2012.05.030   \n",
       "1762169       10.1016/j.bmc.2014.07.033   \n",
       "2568553            10.1128/AAC.01566-08   \n",
       "2822061  10.1021/acsmedchemlett.1c00379   \n",
       "163294                             <NA>   \n",
       "\n",
       "                                   target_name  ...  \\\n",
       "2335876  Sodium-dependent dopamine transporter  ...   \n",
       "1762169             Delta-type opioid receptor  ...   \n",
       "2568553          Penicillin-binding protein 2x  ...   \n",
       "2822061                Glucocorticoid receptor  ...   \n",
       "163294          5-hydroxytryptamine receptor 7  ...   \n",
       "\n",
       "                                                categories  \\\n",
       "2335876  Antiarrhythmic agents|Cytochrome P-450 CYP3A S...   \n",
       "1762169  Analgesics|Carbon Radioisotopes|Central Nervou...   \n",
       "2568553  Amides|Anti-Bacterial Agents|Anti-Infective Ag...   \n",
       "2822061  Adrenal Cortex Hormones|Adrenals|Agents Causin...   \n",
       "163294   Agents that produce hypertension|Alkaloids|Ana...   \n",
       "\n",
       "                                           patent_approved  \\\n",
       "2335876                                                NaN   \n",
       "1762169                                                NaN   \n",
       "2568553                              2004-03-09|1994-04-12   \n",
       "2822061  2014-09-30|2015-10-06|2002-03-19|2001-09-04|20...   \n",
       "163294                                                 NaN   \n",
       "\n",
       "                                               interaction pubchem_cid.1  \\\n",
       "2335876  DB11642|DB09046|DB14754|DB06119|DB00503|DB0050...        3455.0   \n",
       "1762169  DB00921|DB00366|DB00470|DB00450|DB00956|DB0055...       62156.0   \n",
       "2568553  DB01032|DB00529|DB00742|DB00300|DB09299|DB1412...     5479529.0   \n",
       "2822061  DB06643|DB00008|DB00011|DB00018|DB00022|DB0003...        5743.0   \n",
       "163294   DB00252|DB01320|DB00177|DB00178|DB00212|DB0021...        9681.0   \n",
       "\n",
       "                                              chembl_id.1  \\\n",
       "2335876  CHEMBL153260CHEMBL281594CHEMBL543876CHEMBL542933   \n",
       "1762169                                      CHEMBL290429   \n",
       "2568553                                        CHEMBL1436   \n",
       "2822061                                      CHEMBL384467   \n",
       "163294                                         CHEMBL1065   \n",
       "\n",
       "                                                  smiles.1  \\\n",
       "2335876  Fc1ccc(cc1)C(OCCN1CCN(CCCc2ccccc2)CC1)c1ccc(F)cc1   \n",
       "1762169    CCC(=O)N(c1ccccc1)C1(CCN(CCc2ccccc2)CC1)C(=O)OC   \n",
       "2568553  CO\\N=C(/C(=O)N[C@H]1[C@H]2SCC(COC(N)=O)=C(N2C1...   \n",
       "2822061  C[C@@H]1C[C@H]2[C@@H]3CCC4=CC(=O)C=C[C@]4(C)[C...   \n",
       "163294   CC[C@@H](CO)NC(=O)[C@H]1CN(C)[C@@H]2Cc3cn(C)c4...   \n",
       "\n",
       "                         inchi_key.1 chebi_id.1 bindingdb_id.1  Matched_On  \n",
       "2335876  NAUWTFJOPJWYOT-UHFFFAOYSA-N    64089.0        22165.0    chebi_id  \n",
       "1762169  YDSDEBIZUNNPOB-UHFFFAOYSA-N    61084.0     50012477.0    chebi_id  \n",
       "2568553  JFPVXVDWJQMJEE-IZRZKJBUSA-N     3515.0     50422689.0    chebi_id  \n",
       "2822061  UREBDLICKHMUKA-CXSFZGCWSA-N    41879.0        18207.0    chebi_id  \n",
       "163294   KPJZHOPZRAFDTN-ZRGWGRIASA-N   584020.0     50031942.0    chebi_id  \n",
       "\n",
       "[5 rows x 41 columns]"
      ]
     },
     "execution_count": 11,
     "metadata": {},
     "output_type": "execute_result"
    }
   ],
   "source": [
    "incomplete_merged_df[incomplete_merged_df['Matched_On'] == 'chebi_id'].sample(5)"
   ]
  },
  {
   "cell_type": "code",
   "execution_count": 12,
   "metadata": {},
   "outputs": [
    {
     "data": {
      "text/plain": [
       "(2923143, 16581, 4906, 2923143)"
      ]
     },
     "execution_count": 12,
     "metadata": {},
     "output_type": "execute_result"
    }
   ],
   "source": [
    "len(merged_df), len(drugbank_ligand), len(drugbank_proteins), len(clean_binding_df)"
   ]
  },
  {
   "cell_type": "code",
   "execution_count": 13,
   "metadata": {},
   "outputs": [
    {
     "data": {
      "text/plain": [
       "Matched_On\n",
       "chebi_id       74903\n",
       "chembl_id      40543\n",
       "inchi_key      20056\n",
       "drugbank_id    15134\n",
       "smiles           792\n",
       "pubchem_cid        9\n",
       "Name: count, dtype: int64"
      ]
     },
     "execution_count": 13,
     "metadata": {},
     "output_type": "execute_result"
    }
   ],
   "source": [
    "merged_df['Matched_On'].value_counts()"
   ]
  },
  {
   "cell_type": "markdown",
   "metadata": {},
   "source": [
    "## DOIs\n",
    "In order to discover temporal trends, we need to fetch data about articles, from which BindingDB measurements were taken (i.e. the time when the measurement was published)."
   ]
  },
  {
   "cell_type": "code",
   "execution_count": 14,
   "metadata": {},
   "outputs": [
    {
     "name": "stdout",
     "output_type": "stream",
     "text": [
      "Number of unique dois: 40737\n"
     ]
    }
   ],
   "source": [
    "unique_dois = clean_binding_df['doi'].dropna().unique()\n",
    "print('Number of unique dois:', len(unique_dois))"
   ]
  },
  {
   "cell_type": "code",
   "execution_count": 19,
   "metadata": {},
   "outputs": [
    {
     "name": "stdout",
     "output_type": "stream",
     "text": [
      "Title: New Selective Inhibitors of ERG Positive Prostate Cancer: ERGi-USU-6 Salt Derivatives\n",
      "Abstract: <NA>\n"
     ]
    }
   ],
   "source": [
    "\n",
    "def fetch_article_metadata(doi):\n",
    "    url = f\"https://api.crossref.org/works/{doi}\"\n",
    "    response = requests.get(url)\n",
    "    \n",
    "    if response.status_code == 200:\n",
    "        data = response.json()[\"message\"]\n",
    "        \n",
    "        title_list = data.get(\"title\", [])\n",
    "        title = title_list[0] if len(title_list) > 0 else pd.NA\n",
    "        abstract = data.get(\"abstract\", pd.NA)\n",
    "        # Get published year, month and day\n",
    "        published_date = data.get(\"published-print\", None)\n",
    "        if published_date:\n",
    "            published_date = published_date[\"date-parts\"][0]\n",
    "        else:\n",
    "            published_date = []\n",
    "        year = published_date[0] if len(published_date) > 0 else pd.NA\n",
    "        month = published_date[1] if len(published_date) > 1 else pd.NA\n",
    "        day = published_date[2] if len(published_date) > 2 else pd.NA\n",
    "\n",
    "        \n",
    "        \n",
    "        return {\n",
    "            \"title\": title,\n",
    "            \"abstract\": abstract,\n",
    "            \"year\": year,\n",
    "            \"month\": month,\n",
    "            \"day\": day\n",
    "        }\n",
    "    else:\n",
    "        print(f\"Failed to fetch data for DOI {doi}. Status code: {response.status_code}\")\n",
    "        return None\n",
    "\n",
    "# Example usage\n",
    "doi = np.random.choice(unique_dois)\n",
    "metadata = fetch_article_metadata(doi)\n",
    "\n",
    "if metadata:\n",
    "    print(\"Title:\", metadata[\"title\"])\n",
    "    print(\"Abstract:\", metadata[\"abstract\"])\n"
   ]
  },
  {
   "cell_type": "code",
   "execution_count": 20,
   "metadata": {},
   "outputs": [
    {
     "name": "stdout",
     "output_type": "stream",
     "text": [
      "Loaded doi_df from data/clean/df_doi.pkl\n"
     ]
    }
   ],
   "source": [
    "if os.path.exists(DOI_DF_PATH):\n",
    "    df_dois = pd.read_pickle(DOI_DF_PATH)\n",
    "    print('Loaded doi_df from', DOI_DF_PATH)\n",
    "else:\n",
    "    print(f'No DOI dataframe found at {DOI_DF_PATH}. Creating a new one...')\n",
    "    cols = ['fetched', 'title', 'abstract', 'year', 'month', 'day']\n",
    "\n",
    "    # Create an empty dataframe with doi as index and cols with nans\n",
    "    df_dois = pd.DataFrame(index=unique_dois, columns=cols)\n",
    "    df_dois['fetched'] = False\n",
    "\n",
    "    df_dois.index.name = 'doi'\n",
    "    df_dois.head()\n",
    "    "
   ]
  },
  {
   "cell_type": "code",
   "execution_count": 21,
   "metadata": {},
   "outputs": [
    {
     "name": "stdout",
     "output_type": "stream",
     "text": [
      "All articles were fetched. Saving df_dois\n"
     ]
    }
   ],
   "source": [
    "def fetch_and_update(doi):\n",
    "    if df_dois.loc[doi, 'fetched']:\n",
    "        return None\n",
    "\n",
    "    # Fetch article metadata with a random delay\n",
    "    article_info = fetch_article_metadata(doi)\n",
    "    if article_info is None:\n",
    "        df_dois.loc[doi, 'fetched'] = True\n",
    "        return None\n",
    "    for key, value in article_info.items():\n",
    "        df_dois.loc[doi, key] = value\n",
    "    df_dois.loc[doi, 'fetched'] = True\n",
    "    \n",
    "    # Sleep for a short, random time to avoid triggering rate limits\n",
    "    time.sleep(random.uniform(0.05, .5))\n",
    "\n",
    "if df_dois.fetched.all():\n",
    "    print('All articles were fetched. Saving df_dois')\n",
    "    df_dois.to_pickle(DOI_DF_PATH)\n",
    "else:\n",
    "    print('Not all articles were fetched. Fetching DOIS')\n",
    "    try:\n",
    "        with ThreadPoolExecutor(max_workers=5) as executor:\n",
    "            list(tqdm(executor.map(fetch_and_update, df_dois.index), total=len(df_dois.index)))\n",
    "    except: \n",
    "        print('Error, saving WIP.')\n",
    "        df_dois.to_pickle(DOI_DF_PATH)\n",
    "    \n"
   ]
  },
  {
   "cell_type": "code",
   "execution_count": 22,
   "metadata": {},
   "outputs": [],
   "source": [
    "# Now all the DOIs should be fetched using the API and the result saved in the dataframe\n",
    "assert df_dois['fetched'].all()"
   ]
  },
  {
   "cell_type": "code",
   "execution_count": 23,
   "metadata": {},
   "outputs": [
    {
     "data": {
      "text/plain": [
       "fetched     0.000000\n",
       "title       0.000687\n",
       "abstract    0.000295\n",
       "year        0.002848\n",
       "month       0.004198\n",
       "day         0.627292\n",
       "dtype: float64"
      ]
     },
     "execution_count": 23,
     "metadata": {},
     "output_type": "execute_result"
    }
   ],
   "source": [
    "# Show percentage of missing values per column?\n",
    "# We see abstract and day (of month) are not going to be very useful, but for the rest we almost always have data\n",
    "df_dois.isnull().mean()"
   ]
  },
  {
   "cell_type": "code",
   "execution_count": 24,
   "metadata": {},
   "outputs": [
    {
     "data": {
      "text/plain": [
       "<Axes: >"
      ]
     },
     "execution_count": 24,
     "metadata": {},
     "output_type": "execute_result"
    },
    {
     "data": {
      "image/png": "[encoded data removed]",
      "text/plain": [
       "<Figure size 640x480 with 1 Axes>"
      ]
     },
     "metadata": {},
     "output_type": "display_data"
    }
   ],
   "source": [
    "# Note, that most articles have more measuremetns in them\n",
    "df_dois['year'].hist()"
   ]
  },
  {
   "cell_type": "markdown",
   "metadata": {},
   "source": [
    "### Initial analysis on the affect of ligands to cancer related proteins "
   ]
  },
  {
   "cell_type": "markdown",
   "metadata": {},
   "source": []
  },
  {
   "cell_type": "code",
   "execution_count": 25,
   "metadata": {},
   "outputs": [],
   "source": [
    "cancer_keywords= [\n",
    "    # General Cancer Terms\n",
    "    \"Cancer\", \"Tumor\", \"Carcinoma\", \"Sarcoma\", \"Malignancy\", \"Neoplasm\", \n",
    "    \"Metastasis\", \"Oncogene\", \"Antineoplastic\", \"Chemotherapy\", \n",
    "    \"Radiotherapy\", \"Immunotherapy\", \"Targeted therapy\", \"Cytotoxic\", \"Cancerous\"\n",
    "    \n",
    "    # Types of Cancer - Common Solid Tumors\n",
    "    \"Breast cancer\", \"Lung cancer\", \"Colorectal cancer\", \"Pancreatic cancer\", \n",
    "    \"Prostate cancer\", \"Melanoma\", \"Ovarian cancer\", \"Brain tumor\", \n",
    "    \"Liver cancer\", \"Gastric cancer\", \"Esophageal cancer\", \"Kidney cancer\",\n",
    "    \n",
    "    # Types of Cancer - Hematological Malignancies\n",
    "    \"Leukemia\", \"Lymphoma\", \"Myeloma\", \"Hodgkin's lymphoma\", \n",
    "    \"Non-Hodgkin's lymphoma\", \"Chronic lymphocytic leukemia (CLL)\", \n",
    "    \"Acute myeloid leukemia (AML)\",\n",
    "    \n",
    "    # Molecular Targets and Mechanisms - Proteins\n",
    "    \"Tyrosine kinase\", \"EGFR\", \"HER2\", \"VEGF\", \"PD-1\", \"PD-L1\", \n",
    "    \"CTLA-4\", \"BCL-2\",\n",
    "    \n",
    "    # Molecular Targets and Mechanisms - Genes and Pathways\n",
    "    \"KRAS\", \"TP53\", \"BRCA1\", \"BRCA2\", \"MYC\", \"PI3K\", \"RAS/RAF/MEK/ERK pathway\", \n",
    "    \"JAK/STAT pathway\", \"Wnt signaling\", \"Hedgehog pathway\",\n",
    "    \n",
    "    # Molecular Targets and Mechanisms - Drug Mechanisms\n",
    "    \"Apoptosis inducer\", \"Angiogenesis inhibitor\", \"DNA alkylation\", \n",
    "    \"DNA intercalation\", \"Topoisomerase inhibitor\", \"Microtubule stabilizer\", \n",
    "    \"Immune checkpoint inhibitor\",\n",
    "    \n",
    "    # Specific Drug Classes\n",
    "    \"Alkylating agents\", \"Antimetabolites\", \"Anthracyclines\", \"Taxanes\", \n",
    "    \"Platinum compounds\", \"Monoclonal antibodies\", \"PARP inhibitors\", \n",
    "    \"CDK inhibitors\", \"HDAC inhibitors\", \"Proteasome inhibitors\", \n",
    "    \"mTOR inhibitors\",\n",
    "    \n",
    "    # Treatment-Related Terms\n",
    "    \"Cytotoxicity\", \"Resistance\", \"Hormone therapy\", \"Anti-angiogenic\", \n",
    "    \"Cell cycle arrest\", \"Radiosensitizer\", \"Synergistic therapy\",\n",
    "    \n",
    "    # Emerging Terms\n",
    "    \"Precision oncology\", \"Epigenetic modulation\", \n",
    "    \"Adoptive cell therapy\", \"CAR-T cell therapy\", \"Tumor microenvironment\", \n",
    "    \"Cancer stem cells\"\n",
    "]"
   ]
  },
  {
   "cell_type": "markdown",
   "metadata": {},
   "source": [
    "**We will rely on other columns (like Target Name) and further metadata to get the cancers and mutants more accurately**"
   ]
  },
  {
   "cell_type": "code",
   "execution_count": 26,
   "metadata": {},
   "outputs": [],
   "source": [
    "import re\n",
    "\n",
    "# Create a single regex pattern from the list of terms (case-insensitive)\n",
    "pattern = '|'.join(rf\"\\b{re.escape(term)}\\b\" for term in cancer_keywords)\n",
    "\n",
    "# Filter rows where \"specific-description\" contains any of the cancer terms\n",
    "filtered_df = merged_df[merged_df['specific-function'].str.contains(pattern, case=False, na=False)]"
   ]
  },
  {
   "cell_type": "code",
   "execution_count": 27,
   "metadata": {},
   "outputs": [],
   "source": [
    "\n",
    "mutant_keywords = [\n",
    "    \"mutation\",\n",
    "    \"oncogenesis\", \"tumorigenesis\", \"apoptosis\", \"angiogenesis\", \"HER2\", \"BRAF\", \"KRAS\", \"EGFR\",\n",
    "    \"BRCA1\", \"BRCA2\", \"P53\", \"MDM2\", \"CDK4\", \"CDK6\", \"V600\", \"G12\"\n",
    "]\n"
   ]
  },
  {
   "cell_type": "code",
   "execution_count": 28,
   "metadata": {},
   "outputs": [],
   "source": [
    "pattern_mutant = '|'.join(rf\"\\b{re.escape(term)}\\b\" for term in mutant_keywords)\n",
    "\n",
    "# Filter rows where \"specific-description\" contains any of the mutant terms\n",
    "mutant_df = filtered_df[filtered_df['specific-function'].str.contains(pattern_mutant, case=False, na=False)]"
   ]
  },
  {
   "cell_type": "code",
   "execution_count": 29,
   "metadata": {},
   "outputs": [
    {
     "name": "stdout",
     "output_type": "stream",
     "text": [
      "We have 26774 cancer related proteins and out of them possibly 17816 are mutant related\n"
     ]
    }
   ],
   "source": [
    "print(f\"We have {len(filtered_df)} cancer related proteins and out of them possibly {len(mutant_df)} are mutant related\")"
   ]
  },
  {
   "cell_type": "code",
   "execution_count": 30,
   "metadata": {},
   "outputs": [],
   "source": [
    "affinity_cols = [\"ki\", \"kd\"] ## Measures of binding affinity\n",
    "ec_ic = [\"ic50\"] #### Measures of inhibitory (IC50) and effective concentrations (EC50)\n",
    "bind_unbind = [\"kon\"] ## Rates of binding / unbinding of ligands\n",
    "\n",
    "binding_ligand_efficency_cols = affinity_cols + ec_ic + bind_unbind"
   ]
  },
  {
   "cell_type": "markdown",
   "metadata": {},
   "source": [
    "#### Visualizing basic numerical data about the ligand-protein binding efficency and the environment in which they were tested"
   ]
  },
  {
   "cell_type": "code",
   "execution_count": 31,
   "metadata": {},
   "outputs": [
    {
     "data": {
      "image/png": "[encoded data removed]",
      "text/plain": [
       "<Figure size 640x480 with 1 Axes>"
      ]
     },
     "metadata": {},
     "output_type": "display_data"
    }
   ],
   "source": [
    "for i in range(len(affinity_cols)):\n",
    "    plt.boxplot(filtered_df[affinity_cols[i]].dropna(), positions = [i], widths=0.5)\n",
    "plt.title(\"Measures of binding affinitiy\")\n",
    "plt.xticks(range(len(affinity_cols)), affinity_cols)\n",
    "plt.yscale('log')\n",
    "plt.show()"
   ]
  },
  {
   "cell_type": "code",
   "execution_count": 32,
   "metadata": {},
   "outputs": [
    {
     "data": {
      "image/png": "[encoded data removed]",
      "text/plain": [
       "<Figure size 640x480 with 1 Axes>"
      ]
     },
     "metadata": {},
     "output_type": "display_data"
    }
   ],
   "source": [
    "plt.boxplot(filtered_df[\"ic50\"].dropna(), positions = [i], widths=0.5)\n",
    "plt.title(\"Measures of inhibitory (IC50)\")\n",
    "plt.xticks(range(len(ec_ic)), ec_ic)\n",
    "#plt.ylim([-0.3, 1000])\n",
    "plt.yscale('log')\n",
    "plt.show()"
   ]
  },
  {
   "cell_type": "code",
   "execution_count": 33,
   "metadata": {},
   "outputs": [
    {
     "data": {
      "text/plain": [
       "Text(0.5, 1.0, 'Histogram of NaN percentages for columns')"
      ]
     },
     "execution_count": 33,
     "metadata": {},
     "output_type": "execute_result"
    },
    {
     "data": {
      "image/png": "[encoded data removed]",
      "text/plain": [
       "<Figure size 640x480 with 1 Axes>"
      ]
     },
     "metadata": {},
     "output_type": "display_data"
    }
   ],
   "source": [
    "nan_counts_per_col = merged_df.isna().mean(axis=0)*100\n",
    "nan_counts_per_col.plot(kind='bar', color='skyblue', edgecolor='black')\n",
    "plt.title(\"Histogram of NaN percentages for columns\")"
   ]
  },
  {
   "cell_type": "code",
   "execution_count": 34,
   "metadata": {},
   "outputs": [
    {
     "data": {
      "text/plain": [
       "Text(0.5, 0, 'ph')"
      ]
     },
     "execution_count": 34,
     "metadata": {},
     "output_type": "execute_result"
    },
    {
     "data": {
      "image/png": "[encoded data removed]",
      "text/plain": [
       "<Figure size 1200x600 with 1 Axes>"
      ]
     },
     "metadata": {},
     "output_type": "display_data"
    }
   ],
   "source": [
    "plt.figure(figsize=(12, 6)) \n",
    "merged_df['ph'].hist(bins = 50)\n",
    "plt.xticks(np.arange(15))\n",
    "plt.title(\"ph values\")\n",
    "plt.xlabel(\"ph\")\n"
   ]
  },
  {
   "cell_type": "code",
   "execution_count": 35,
   "metadata": {},
   "outputs": [
    {
     "data": {
      "text/plain": [
       "Text(0.5, 0, 'Celsius degrees')"
      ]
     },
     "execution_count": 35,
     "metadata": {},
     "output_type": "execute_result"
    },
    {
     "data": {
      "image/png": "[encoded data removed]",
      "text/plain": [
       "<Figure size 1200x600 with 1 Axes>"
      ]
     },
     "metadata": {},
     "output_type": "display_data"
    }
   ],
   "source": [
    "plt.figure(figsize=(12, 6)) \n",
    "merged_df['temp'].hist(bins = 500)\n",
    "plt.title(\"Temperature values in Celsius\")\n",
    "plt.xlim([0, 100])\n",
    "plt.xlabel(\"Celsius degrees\")"
   ]
  },
  {
   "cell_type": "markdown",
   "metadata": {},
   "source": [
    "### Mutations\n",
    "- Correlation between metrics of biding affinity, dosage, etc\n",
    "- Possibly trying to see some groupings of data points (similarity in structure, metrics, types of disease being fought, ...)"
   ]
  },
  {
   "cell_type": "code",
   "execution_count": 38,
   "metadata": {},
   "outputs": [],
   "source": [
    "merged_df_2 = merged_df[[\"ki\", \"ic50\", \"kd\", \"ph\", \"temp\"]].dropna()"
   ]
  },
  {
   "cell_type": "code",
   "execution_count": 39,
   "metadata": {},
   "outputs": [
    {
     "data": {
      "text/html": [
       "<div>\n",
       "<style scoped>\n",
       "    .dataframe tbody tr th:only-of-type {\n",
       "        vertical-align: middle;\n",
       "    }\n",
       "\n",
       "    .dataframe tbody tr th {\n",
       "        vertical-align: top;\n",
       "    }\n",
       "\n",
       "    .dataframe thead th {\n",
       "        text-align: right;\n",
       "    }\n",
       "</style>\n",
       "<table border=\"1\" class=\"dataframe\">\n",
       "  <thead>\n",
       "    <tr style=\"text-align: right;\">\n",
       "      <th></th>\n",
       "      <th>ki</th>\n",
       "      <th>ic50</th>\n",
       "      <th>kd</th>\n",
       "      <th>ph</th>\n",
       "      <th>temp</th>\n",
       "    </tr>\n",
       "  </thead>\n",
       "  <tbody>\n",
       "    <tr>\n",
       "      <th>32414</th>\n",
       "      <td>50.0</td>\n",
       "      <td>2000.0</td>\n",
       "      <td>270.0</td>\n",
       "      <td>7.5</td>\n",
       "      <td>25.0</td>\n",
       "    </tr>\n",
       "    <tr>\n",
       "      <th>403630</th>\n",
       "      <td>5500.0</td>\n",
       "      <td>19600.0</td>\n",
       "      <td>496.0</td>\n",
       "      <td>7.3</td>\n",
       "      <td>25.0</td>\n",
       "    </tr>\n",
       "    <tr>\n",
       "      <th>403631</th>\n",
       "      <td>91100.0</td>\n",
       "      <td>335000.0</td>\n",
       "      <td>954.0</td>\n",
       "      <td>7.3</td>\n",
       "      <td>25.0</td>\n",
       "    </tr>\n",
       "    <tr>\n",
       "      <th>403633</th>\n",
       "      <td>2800.0</td>\n",
       "      <td>9900.0</td>\n",
       "      <td>256.0</td>\n",
       "      <td>7.3</td>\n",
       "      <td>25.0</td>\n",
       "    </tr>\n",
       "    <tr>\n",
       "      <th>403635</th>\n",
       "      <td>2000.0</td>\n",
       "      <td>7200.0</td>\n",
       "      <td>264.0</td>\n",
       "      <td>7.3</td>\n",
       "      <td>25.0</td>\n",
       "    </tr>\n",
       "    <tr>\n",
       "      <th>403637</th>\n",
       "      <td>9600.0</td>\n",
       "      <td>34100.0</td>\n",
       "      <td>380.0</td>\n",
       "      <td>7.3</td>\n",
       "      <td>25.0</td>\n",
       "    </tr>\n",
       "    <tr>\n",
       "      <th>403638</th>\n",
       "      <td>96600.0</td>\n",
       "      <td>341000.0</td>\n",
       "      <td>496.0</td>\n",
       "      <td>7.4</td>\n",
       "      <td>25.0</td>\n",
       "    </tr>\n",
       "    <tr>\n",
       "      <th>403639</th>\n",
       "      <td>14900.0</td>\n",
       "      <td>52700.0</td>\n",
       "      <td>291.0</td>\n",
       "      <td>7.4</td>\n",
       "      <td>25.0</td>\n",
       "    </tr>\n",
       "    <tr>\n",
       "      <th>403640</th>\n",
       "      <td>355500.0</td>\n",
       "      <td>1258500.0</td>\n",
       "      <td>264.0</td>\n",
       "      <td>7.4</td>\n",
       "      <td>25.0</td>\n",
       "    </tr>\n",
       "  </tbody>\n",
       "</table>\n",
       "</div>"
      ],
      "text/plain": [
       "              ki       ic50     kd   ph  temp\n",
       "32414       50.0     2000.0  270.0  7.5  25.0\n",
       "403630    5500.0    19600.0  496.0  7.3  25.0\n",
       "403631   91100.0   335000.0  954.0  7.3  25.0\n",
       "403633    2800.0     9900.0  256.0  7.3  25.0\n",
       "403635    2000.0     7200.0  264.0  7.3  25.0\n",
       "403637    9600.0    34100.0  380.0  7.3  25.0\n",
       "403638   96600.0   341000.0  496.0  7.4  25.0\n",
       "403639   14900.0    52700.0  291.0  7.4  25.0\n",
       "403640  355500.0  1258500.0  264.0  7.4  25.0"
      ]
     },
     "execution_count": 39,
     "metadata": {},
     "output_type": "execute_result"
    }
   ],
   "source": [
    "merged_df_2"
   ]
  },
  {
   "cell_type": "code",
   "execution_count": 40,
   "metadata": {},
   "outputs": [
    {
     "name": "stdout",
     "output_type": "stream",
     "text": [
      "(np.float64(0.3316297918004256), np.float64(0.005464736952897225))\n",
      "(np.float64(0.45962321542124196), np.float64(0.0015567131690047327))\n",
      "(np.float64(0.3329414971146777), np.float64(0.005055785987452595))\n",
      "(np.float64(0.4610074446102134), np.float64(0.0014676254914479862))\n",
      "(np.float64(0.25237112659389244), np.float64(0.09962614601795748))\n",
      "(np.float64(0.4661401359792068), np.float64(0.001137290343683231))\n"
     ]
    }
   ],
   "source": [
    "print(diagnostic.kstest_normal(merged_df_2[\"ki\"].values, dist = 'norm'))\n",
    "print(diagnostic.kstest_normal(merged_df_2[\"ki\"].values, dist = 'exp'))\n",
    "print(diagnostic.kstest_normal(merged_df_2[\"ic50\"].values, dist = 'norm'))\n",
    "print(diagnostic.kstest_normal(merged_df_2[\"ic50\"].values, dist = 'exp'))\n",
    "print(diagnostic.kstest_normal(merged_df_2[\"kd\"].values, dist = 'norm'))\n",
    "print(diagnostic.kstest_normal(merged_df_2[\"kd\"].values, dist = 'exp'))"
   ]
  }
 ],
 "metadata": {
  "kernelspec": {
   "display_name": "Python 3",
   "language": "python",
   "name": "python3"
  },
  "language_info": {
   "codemirror_mode": {
    "name": "ipython",
    "version": 3
   },
   "file_extension": ".py",
   "mimetype": "text/x-python",
   "name": "python",
   "nbconvert_exporter": "python",
   "pygments_lexer": "ipython3",
   "version": "3.9.21"
  }
 },
 "nbformat": 4,
 "nbformat_minor": 4
}
