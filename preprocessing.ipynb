{
 "cells": [
  {
   "cell_type": "markdown",
   "metadata": {},
   "source": [
    "## Insight for the medical dataset"
   ]
  },
  {
   "cell_type": "markdown",
   "metadata": {},
   "source": [
    "#### To create the dataframes and files needed for our analysis, make sure that:\n",
    "\n",
    "You have [full_database.xml](https://drive.google.com/file/d/1149kYVkazq67e0vuv-_4APyqVX6yyh2p) in `data/clean` folder, which will represent the XML version of the DrugBank\n",
    "    You have [BindingDB_All.tsv](https://www.bindingdb.org/bind/downloads/BindingDB_All_202411_tsv.zip) in `data/raw` folder, which will represent the tsv version of the BindingDB"
   ]
  },
  {
   "cell_type": "markdown",
   "metadata": {},
   "source": [
    "### Imports"
   ]
  },
  {
   "cell_type": "code",
   "execution_count": null,
   "metadata": {},
   "outputs": [],
   "source": [
    "import os\n",
    "import gc\n",
    "import re\n",
    "\n",
    "import numpy as np\n",
    "import pandas as pd\n",
    "import matplotlib.pyplot as plt\n",
    "import xml.etree.ElementTree as ET\n",
    "from tqdm import tqdm\n",
    "import pandas as pd\n",
    "\n",
    "from drugbank_XML_drugparser import DrugParser\n",
    "from drugbank_bindingdb_merger import DrugBank_BindingDB_Merger\n",
    "from preprocessing import Preprocessing, CleanNumericAtrributesStrategy, ColumnClean\n",
    "from imports import *\n",
    "\n",
    "%matplotlib inline\n",
    "\n",
    "%load_ext autoreload\n",
    "%autoreload 2"
   ]
  },
  {
   "cell_type": "markdown",
   "metadata": {},
   "source": [
    "\n",
    "def keep_just_numeric(value):\n",
    "    if type(value) != str:\n",
    "        return pd.NA\n",
    "\n",
    "    ## One or more non-digit charachters should be replaced\n",
    "    cleaned_val = re.sub(r'[^\\d.]+','', str(value)) ## There are random float / str in the dataset?? -> convert to str\n",
    "    if(cleaned_val == ''): # It didn't contain any number?\n",
    "        return new_class\n",
    "    return float(cleaned_val)\n",
    "    \n",
    "bdb_preprocessor = Preprocessing(\n",
    "    [\n",
    "        ColumnClean('Ki (nM)', 'ki', clean=keep_just_numeric),\n",
    "        # ColumnClean('pH', 'ph'),\n",
    "        ColumnClean('Temp (C)', 'temp'),\n",
    "        ColumnClean('IC50 (nM)', 'ic50'),\n",
    "        ColumnClean('Kd (nM)', 'kd'),\n",
    "        ColumnClean('kon (M-1-s-1)', 'kon'),\n",
    "        ColumnClean('Article DOI', 'doi'),\n",
    "\n",
    "        # For the merge\n",
    "\n",
    "        ColumnClean('PubChem CID', 'pubchem_cid'),\n",
    "        ColumnClean('ChEBI ID of Ligand', 'chebi_id'),\n",
    "        ColumnClean('ChEMBL ID of Ligand', 'chembl_id'),\n",
    "        ColumnClean('DrugBank ID of Ligand', 'drugbank_id'),\n",
    "        ColumnClean('KEGG ID of Ligand', 'kegg_id'),\n",
    "        ColumnClean('ZINC ID of Ligand', 'zinc_id'),\n",
    "        columnclean('ligand smiles', 'smiles'),\n",
    "        columnclean('ligand inchi key', 'inchi_key'),\n",
    "        ColumnClean('BindingDB MonomerID', 'bindingdb_id'),\n",
    "        ColumnClean('PubChem SID','pubchem_sid'),\n",
    "        ColumnClean('UniProt (SwissProt) Primary ID of Target Chain.1', 'swissprot_protein_id'),\n",
    "    ]\n",
    ")\n",
    "\n",
    "\n",
    "\n",
    "\n",
    "print(\"Lodaing Binding DB...\")\n",
    "raw_binding_df = load_BindingDB(BINDINGDB_RAW, preprocessor.get_used_old_columns())\n",
    "\n",
    "print(\"Cleaning Binding DB...\")\n",
    "clean_binding_df = preprocessor.transform(raw_binding_df)\n",
    "clean_binding_df.to_pickle(BINDINGDB_CLEAN)"
   ]
  },
  {
   "cell_type": "markdown",
   "metadata": {},
   "source": [
    "### Loading the data"
   ]
  },
  {
   "cell_type": "code",
   "execution_count": null,
   "metadata": {},
   "outputs": [],
   "source": [
    "\n",
    "if os.path.exists(MERGED):\n",
    "    print(\"Merged dataset exists.\\n Loading...\")\n",
    "\n",
    "    merged_df = pd.read_pickle(MERGED)\n",
    "\n",
    "    print(\"Merged dataset loaded\")\n",
    "\n",
    "else:\n",
    "    print(\"Merged dataset doesn't exists.\\n Creating it...\")\n",
    "\n",
    "    if os.path.exists(DRUGBANK_LIGAND_PARSED) and os.path.exists(DRUGBANK_PROTEIN_PARSED):\n",
    "        print(\"parsed_Drugbank exists...\")\n",
    "        print(\"Loading...\")\n",
    "\n",
    "        drugbank_ligand = pd.read_pickle(DRUGBANK_LIGAND_PARSED)\n",
    "        drugbank_proteins = pd.read_pickle(DRUGBANK_PROTEIN_PARSED)\n",
    "    else:\n",
    "        print(\"parsed_Drugbank doesn't exists...\")\n",
    "        print(\"Parsing DrugBank XML...\")\n",
    "\n",
    "        drugparser = DrugParser(DRUGBANK_XML)\n",
    "        drugparser.parse_drugs()\n",
    "        drugparser.parse_proteins()\n",
    "        drugbank_ligand, drugbank_proteins = drugparser.save_parsed_drugs(DRUGBANK_LIGAND_PARSED, DRUGBANK_PROTEIN_PARSED, return_df = True)\n",
    "\n",
    "        print(\"DrugBank XML is parsed. \\n Loading Bind ...\")\n",
    "    if os.path.exists(BINDINGDB_CLEAN):\n",
    "        print(\"BindingDB clean exists...\")\n",
    "        clean_binding_df = pd.read_pickle(BINDINGDB_CLEAN)\n",
    "    else:\n",
    "        def load_BindingDB(file_path, cols):\n",
    "            return pd.read_csv(file_path, sep='\\t', header=0, usecols=cols)\n",
    "\n",
    "        def keep_just_numeric(value):\n",
    "            if type(value) != str:\n",
    "                return pd.NA\n",
    "\n",
    "            ## One or more non-digit charachters should be replaced\n",
    "            cleaned_val = re.sub(r'[^\\d.]+','', str(value)) ## There are random float / str in the dataset?? -> convert to str\n",
    "            if(cleaned_val == ''): # It didn't contain any number?\n",
    "                return pd.NA\n",
    "            \n",
    "            return float(cleaned_val)\n",
    "\n",
    "        def parse_int(value):\n",
    "            try:\n",
    "                return int(value)\n",
    "            except:\n",
    "                return pd.NA\n",
    "\n",
    "        bdb_preprocessor = Preprocessing(\n",
    "            [\n",
    "                ColumnClean('Ki (nM)', 'ki', clean=keep_just_numeric),\n",
    "                # ColumnClean('pH', 'ph'),\n",
    "                ColumnClean('Temp (C)', 'temp'),\n",
    "                ColumnClean('IC50 (nM)', 'ic50'),\n",
    "                ColumnClean('Kd (nM)', 'kd'),\n",
    "                ColumnClean('kon (M-1-s-1)', 'kon'),\n",
    "                ColumnClean('Article DOI', 'doi'),\n",
    "\n",
    "                # For the merge\n",
    "\n",
    "                ColumnClean('PubChem CID', 'pubchem_cid'),\n",
    "                ColumnClean('ChEBI ID of Ligand', 'chebi_id'),\n",
    "                ColumnClean('ChEMBL ID of Ligand', 'chembl_id'),\n",
    "                ColumnClean('DrugBank ID of Ligand', 'drugbank_id'),\n",
    "                ColumnClean('KEGG ID of Ligand', 'kegg_id'),\n",
    "                ColumnClean('ZINC ID of Ligand', 'zinc_id'),\n",
    "                ColumnClean('Ligand SMILES', 'smiles'),\n",
    "                ColumnClean('Ligand InChI Key', 'inchi_key'),\n",
    "                ColumnClean('BindingDB MonomerID', 'bindingdb_id', clean=parse_int),\n",
    "                ColumnClean('PubChem CID','pubchem_cid'),\n",
    "                ColumnClean('UniProt (SwissProt) Primary ID of Target Chain.1', 'swissprot_protein_id'),\n",
    "            ]\n",
    "        )\n",
    "\n",
    "        print(\"Loading Binding DB...\")\n",
    "        raw_binding_df = load_BindingDB(BINDINGDB_RAW, bdb_preprocessor.get_used_old_columns())\n",
    "\n",
    "        print(\"Cleaning Binding DB...\")\n",
    "        clean_binding_df = bdb_preprocessor.transform(raw_binding_df)\n",
    "        clean_binding_df.to_pickle(BINDINGDB_CLEAN)\n",
    "\n",
    "        assert len(clean_binding_df) == len(raw_binding_df)\n",
    "        del raw_binding_df\n",
    "        gc.collect()\n"
   ]
  },
  {
   "cell_type": "code",
   "execution_count": null,
   "metadata": {},
   "outputs": [],
   "source": [
    "clean_binding_df['bindingdb_id'].isna().sum()"
   ]
  },
  {
   "cell_type": "code",
   "execution_count": null,
   "metadata": {},
   "outputs": [],
   "source": [
    "\n",
    "clean_binding_df.sample(20)"
   ]
  },
  {
   "cell_type": "code",
   "execution_count": null,
   "metadata": {},
   "outputs": [],
   "source": [
    "for col in clean_binding_df.columns:\n",
    "    i = clean_binding_df[col].isna().mean()\n",
    "    print(f\"NA ratio in {col}: {i:.2f}\")"
   ]
  },
  {
   "cell_type": "code",
   "execution_count": null,
   "metadata": {},
   "outputs": [],
   "source": [
    "print(\"Creating merged dataset\")\n",
    "drugbank_binding_merger = DrugBank_BindingDB_Merger()\n",
    "merged_df = drugbank_binding_merger.merge(drugbank_ligand, clean_binding_df)\n",
    "complete_merged_df = pd.merge(merged_df, drugbank_proteins, how='left', on='swissprot_protein_id')\n",
    "complete_merged_df.to_pickle(MERGED)\n",
    "\n",
    "print(\"Merged dataset is loaded and saved.\")"
   ]
  },
  {
   "cell_type": "code",
   "execution_count": null,
   "metadata": {},
   "outputs": [],
   "source": [
    "merged_df['Matched_On'].value_counts()"
   ]
  },
  {
   "cell_type": "code",
   "execution_count": null,
   "metadata": {},
   "outputs": [],
   "source": [
    "complete_merged_df['Matched_On'].value_counts()"
   ]
  },
  {
   "cell_type": "code",
   "execution_count": null,
   "metadata": {},
   "outputs": [],
   "source": [
    "len(complete_merged_df), len(merged_df), len(drugbank_ligand), len(drugbank_proteins), len(clean_binding_df)"
   ]
  }
 ],
 "metadata": {
  "kernelspec": {
   "display_name": "epfl-master",
   "language": "python",
   "name": "python3"
  },
  "language_info": {
   "codemirror_mode": {
    "name": "ipython",
    "version": 3
   },
   "file_extension": ".py",
   "mimetype": "text/x-python",
   "name": "python",
   "nbconvert_exporter": "python",
   "pygments_lexer": "ipython3",
   "version": "3.11.9"
  }
 },
 "nbformat": 4,
 "nbformat_minor": 2
}
