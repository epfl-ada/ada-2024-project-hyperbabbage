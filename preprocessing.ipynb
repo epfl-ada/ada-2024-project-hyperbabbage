{
 "cells": [
  {
   "cell_type": "markdown",
   "metadata": {},
   "source": [
    "# Preprocessing Pipeline"
   ]
  },
  {
   "cell_type": "markdown",
   "metadata": {},
   "source": [
    "#### To create the dataframes and files needed for our analysis, make sure that:\n",
    "\n",
    "Make sure you have the following files in `data/raw`:\n",
    "  1. [full_database.xml](https://drive.google.com/file/d/1149kYVkazq67e0vuv-_4APyqVX6yyh2p), which will represent the XML version of the DrugBank\n",
    "  2. [BindingDB_All.tsv](https://www.bindingdb.org/bind/downloads/BindingDB_All_202411_tsv.zip), which will represent the tsv version of the BindingDB\n",
    "\n",
    "Make sure you have the following directory created: `data/clean`:"
   ]
  },
  {
   "cell_type": "markdown",
   "metadata": {},
   "source": [
    "### Imports"
   ]
  },
  {
   "cell_type": "code",
   "execution_count": 1,
   "metadata": {},
   "outputs": [],
   "source": [
    "import os\n",
    "import gc\n",
    "import re\n",
    "import requests\n",
    "import time\n",
    "import random\n",
    "\n",
    "import numpy as np\n",
    "import pandas as pd\n",
    "\n",
    "import matplotlib.pyplot as plt\n",
    "import xml.etree.ElementTree as ET\n",
    "from tqdm import tqdm\n",
    "import pandas as pd\n",
    "from concurrent.futures import ThreadPoolExecutor\n",
    "\n",
    "from src.drugbank_XML_drugparser import DrugParser\n",
    "from src.drugbank_bindingdb_merger import DrugBank_BindingDB_Merger\n",
    "from src.preprocessing import Preprocessing, ColumnClean\n",
    "\n",
    "from src.data_paths import *\n",
    "\n",
    "%matplotlib inline\n",
    "\n",
    "%load_ext autoreload\n",
    "%autoreload 2"
   ]
  },
  {
   "cell_type": "markdown",
   "metadata": {},
   "source": [
    "## Parsing and cleaning BindingDB"
   ]
  },
  {
   "cell_type": "code",
   "execution_count": 2,
   "metadata": {},
   "outputs": [
    {
     "name": "stdout",
     "output_type": "stream",
     "text": [
      "BindingDB clean exists...\n"
     ]
    }
   ],
   "source": [
    "if os.path.exists(BINDINGDB_CLEAN):\n",
    "    print(\"BindingDB clean exists...\")\n",
    "    clean_binding_df = pd.read_pickle(BINDINGDB_CLEAN)\n",
    "else:\n",
    "    print(\"Creating clean BindingDB...\")\n",
    "    def load_BindingDB(file_path, cols):\n",
    "        return pd.read_csv(file_path, sep='\\t', header=0, usecols=cols)\n",
    "\n",
    "    \"\"\"\n",
    "    This method srips all non-numeric characters from the value.\n",
    "\n",
    "    For example, the temperature is always given as 12C or 14.2C, so we remove the C.\n",
    "\n",
    "    In come cases, mesured values are given as >10000 or <.01. In these cases, we just take the bound, as it is still better then loosing all the information by replacing it with NA.\n",
    "    \"\"\"\n",
    "    def keep_just_numeric(value):\n",
    "        if type(value) != str:\n",
    "            if type(value) == float or type(value) == int:\n",
    "                return value\n",
    "            else:\n",
    "                return pd.NA\n",
    "\n",
    "        ## All non-numeric characters (except the decimal .) should be replaced\n",
    "        cleaned_val = re.sub(r'[^\\d.]+','', str(value)) \n",
    "        if(cleaned_val == ''): # It didn't contain any number?\n",
    "            return pd.NA\n",
    "        return float(cleaned_val)\n",
    "\n",
    "    def parse_int(value):\n",
    "        try:\n",
    "            return int(value)\n",
    "        except:\n",
    "            return pd.NA\n",
    "    # First, we specify which \n",
    "    bdb_preprocessor = Preprocessing(\n",
    "        [\n",
    "            ColumnClean('Ki (nM)', 'ki', clean=keep_just_numeric),\n",
    "            ColumnClean('pH', 'ph', clean=keep_just_numeric),\n",
    "            ColumnClean('Temp (C)', 'temp', clean=keep_just_numeric),\n",
    "            ColumnClean('IC50 (nM)', 'ic50', clean=keep_just_numeric),\n",
    "            ColumnClean('EC50 (nM)', 'ec50', clean=keep_just_numeric),\n",
    "            ColumnClean('Kd (nM)', 'kd', clean=keep_just_numeric),\n",
    "            ColumnClean('kon (M-1-s-1)', 'kon', clean=keep_just_numeric),\n",
    "            ColumnClean('koff (s-1)', 'koff', clean=keep_just_numeric),\n",
    "\n",
    "            # These columns are supposed to contain strings.\n",
    "            ColumnClean('Article DOI', 'doi'),\n",
    "            ColumnClean('Target Name', 'target_name'),\n",
    "\n",
    "            # We use these IDs to join bindingDB and drugbank\n",
    "            ColumnClean('PubChem CID', 'pubchem_cid'),\n",
    "            ColumnClean('ChEBI ID of Ligand', 'chebi_id'),\n",
    "            ColumnClean('ChEMBL ID of Ligand', 'chembl_id'),\n",
    "            ColumnClean('DrugBank ID of Ligand', 'drugbank_id'),\n",
    "            ColumnClean('KEGG ID of Ligand', 'kegg_id'),\n",
    "            ColumnClean('ZINC ID of Ligand', 'zinc_id'),\n",
    "            ColumnClean('Ligand SMILES', 'smiles'),\n",
    "            ColumnClean('Ligand InChI Key', 'inchi_key'),\n",
    "            ColumnClean('BindingDB MonomerID', 'bindingdb_id', clean=parse_int),\n",
    "            ColumnClean('PubChem CID','pubchem_cid'),\n",
    "            ColumnClean('UniProt (SwissProt) Recommended Name of Target Chain', 'swissprot_target_chain_name'),\n",
    "            ColumnClean('UniProt (SwissProt) Entry Name of Target Chain', 'swissprot_target_chain_entry_name'),\n",
    "            ColumnClean('UniProt (SwissProt) Primary ID of Target Chain.1', 'swissprot_protein_id'),\n",
    "        ]\n",
    "    )\n",
    "\n",
    "    print(\"Loading Binding DB...\")\n",
    "    raw_binding_df = load_BindingDB(BINDINGDB_RAW, bdb_preprocessor.get_all_old_columns())\n",
    "\n",
    "    print(\"Cleaning Binding DB...\")\n",
    "    clean_binding_df = bdb_preprocessor.transform(raw_binding_df)\n",
    "    clean_binding_df.to_pickle(BINDINGDB_CLEAN)\n",
    "\n",
    "    assert len(clean_binding_df) == len(raw_binding_df)\n",
    "\n",
    "    # Print header\n",
    "    print(f\"{'Column Name':<30} {'Raw NaN%':<10} {'Clean NaN%':<10}\")\n",
    "    print(\"-\" * 50)\n",
    "\n",
    "    # Print each column's NaN percentages\n",
    "    for col_old, col_new in zip(bdb_preprocessor.get_all_old_columns(), bdb_preprocessor.get_all_new_columns()):\n",
    "        raw = raw_binding_df[col_old].isna().mean() * 100\n",
    "        clean = clean_binding_df[col_new].isna().mean() * 100\n",
    "        print(f\"{col_new:<40} {raw:<10.2f} {clean:<10.2f}\")\n",
    "\n",
    "    del raw_binding_df\n",
    "    gc.collect()\n"
   ]
  },
  {
   "cell_type": "code",
   "execution_count": 3,
   "metadata": {},
   "outputs": [
    {
     "data": {
      "text/html": [
       "<div>\n",
       "<style scoped>\n",
       "    .dataframe tbody tr th:only-of-type {\n",
       "        vertical-align: middle;\n",
       "    }\n",
       "\n",
       "    .dataframe tbody tr th {\n",
       "        vertical-align: top;\n",
       "    }\n",
       "\n",
       "    .dataframe thead th {\n",
       "        text-align: right;\n",
       "    }\n",
       "</style>\n",
       "<table border=\"1\" class=\"dataframe\">\n",
       "  <thead>\n",
       "    <tr style=\"text-align: right;\">\n",
       "      <th></th>\n",
       "      <th>ki</th>\n",
       "      <th>ph</th>\n",
       "      <th>temp</th>\n",
       "      <th>ic50</th>\n",
       "      <th>ec50</th>\n",
       "      <th>kd</th>\n",
       "      <th>kon</th>\n",
       "      <th>koff</th>\n",
       "      <th>doi</th>\n",
       "      <th>target_name</th>\n",
       "      <th>...</th>\n",
       "      <th>chembl_id</th>\n",
       "      <th>drugbank_id</th>\n",
       "      <th>kegg_id</th>\n",
       "      <th>zinc_id</th>\n",
       "      <th>smiles</th>\n",
       "      <th>inchi_key</th>\n",
       "      <th>bindingdb_id</th>\n",
       "      <th>swissprot_target_chain_name</th>\n",
       "      <th>swissprot_target_chain_entry_name</th>\n",
       "      <th>swissprot_protein_id</th>\n",
       "    </tr>\n",
       "  </thead>\n",
       "  <tbody>\n",
       "    <tr>\n",
       "      <th>2231368</th>\n",
       "      <td>10000.0</td>\n",
       "      <td>&lt;NA&gt;</td>\n",
       "      <td>&lt;NA&gt;</td>\n",
       "      <td>&lt;NA&gt;</td>\n",
       "      <td>&lt;NA&gt;</td>\n",
       "      <td>&lt;NA&gt;</td>\n",
       "      <td>&lt;NA&gt;</td>\n",
       "      <td>&lt;NA&gt;</td>\n",
       "      <td>10.1021/jm050645f</td>\n",
       "      <td>Vasopressin V1a receptor</td>\n",
       "      <td>...</td>\n",
       "      <td>CHEMBL200922</td>\n",
       "      <td>&lt;NA&gt;</td>\n",
       "      <td>&lt;NA&gt;</td>\n",
       "      <td>ZINC28562813</td>\n",
       "      <td>CCOc1ccc(cc1)S(=O)(=O)N(CC(=O)N=Nc1c(O)[nH]c2c...</td>\n",
       "      <td>YWQLZELWTCRLQP-UHFFFAOYSA-N</td>\n",
       "      <td>50178159</td>\n",
       "      <td>Vasopressin V1a receptor</td>\n",
       "      <td>V1AR_HUMAN</td>\n",
       "      <td>&lt;NA&gt;</td>\n",
       "    </tr>\n",
       "    <tr>\n",
       "      <th>48289</th>\n",
       "      <td>&lt;NA&gt;</td>\n",
       "      <td>8.6</td>\n",
       "      <td>37.0</td>\n",
       "      <td>105000.0</td>\n",
       "      <td>&lt;NA&gt;</td>\n",
       "      <td>&lt;NA&gt;</td>\n",
       "      <td>&lt;NA&gt;</td>\n",
       "      <td>&lt;NA&gt;</td>\n",
       "      <td>10.1021/jm800762u</td>\n",
       "      <td>UDP-N-acetylmuramoylalanine--D-glutamate ligase</td>\n",
       "      <td>...</td>\n",
       "      <td>&lt;NA&gt;</td>\n",
       "      <td>DB08108</td>\n",
       "      <td>&lt;NA&gt;</td>\n",
       "      <td>ZINC16052548</td>\n",
       "      <td>OC(=O)CC[C@@H](NS(=O)(=O)c1ccc2cc(OCc3ccc(cc3)...</td>\n",
       "      <td>PUHRQSFXADUGJW-OAQYLSRUSA-N</td>\n",
       "      <td>26453</td>\n",
       "      <td>UDP-N-acetylmuramoylalanine--D-glutamate ligase</td>\n",
       "      <td>MURD_ECOLI</td>\n",
       "      <td>&lt;NA&gt;</td>\n",
       "    </tr>\n",
       "    <tr>\n",
       "      <th>1238096</th>\n",
       "      <td>0.015</td>\n",
       "      <td>&lt;NA&gt;</td>\n",
       "      <td>&lt;NA&gt;</td>\n",
       "      <td>&lt;NA&gt;</td>\n",
       "      <td>&lt;NA&gt;</td>\n",
       "      <td>&lt;NA&gt;</td>\n",
       "      <td>&lt;NA&gt;</td>\n",
       "      <td>&lt;NA&gt;</td>\n",
       "      <td>&lt;NA&gt;</td>\n",
       "      <td>Mitogen-activated protein kinase kinase kinase...</td>\n",
       "      <td>...</td>\n",
       "      <td>&lt;NA&gt;</td>\n",
       "      <td>&lt;NA&gt;</td>\n",
       "      <td>&lt;NA&gt;</td>\n",
       "      <td>&lt;NA&gt;</td>\n",
       "      <td>C[C@@H]1[C@H](C[C@]1(C)O)OC(=O)Nc1cc2cc(c(F)c(...</td>\n",
       "      <td>AHWWNFZVELBJCP-QFPYQJIVSA-N</td>\n",
       "      <td>598173</td>\n",
       "      <td>Mitogen-activated protein kinase kinase kinase...</td>\n",
       "      <td>M4K1_HUMAN</td>\n",
       "      <td>&lt;NA&gt;</td>\n",
       "    </tr>\n",
       "    <tr>\n",
       "      <th>1890037</th>\n",
       "      <td>&lt;NA&gt;</td>\n",
       "      <td>&lt;NA&gt;</td>\n",
       "      <td>&lt;NA&gt;</td>\n",
       "      <td>&lt;NA&gt;</td>\n",
       "      <td>202.0</td>\n",
       "      <td>&lt;NA&gt;</td>\n",
       "      <td>&lt;NA&gt;</td>\n",
       "      <td>&lt;NA&gt;</td>\n",
       "      <td>10.1016/j.bmc.2016.03.055</td>\n",
       "      <td>Serine/threonine-protein kinase B-raf</td>\n",
       "      <td>...</td>\n",
       "      <td>CHEMBL3799342</td>\n",
       "      <td>&lt;NA&gt;</td>\n",
       "      <td>&lt;NA&gt;</td>\n",
       "      <td>ZINC28524535</td>\n",
       "      <td>CC(C)(C)CS(=O)(=O)Nc1ccc(F)c(Nc2ncccc2-c2ncnc3...</td>\n",
       "      <td>SMQPPWBGDWYCFJ-UHFFFAOYSA-N</td>\n",
       "      <td>50165856</td>\n",
       "      <td>Serine/threonine-protein kinase B-raf</td>\n",
       "      <td>BRAF_HUMAN</td>\n",
       "      <td>&lt;NA&gt;</td>\n",
       "    </tr>\n",
       "    <tr>\n",
       "      <th>1260175</th>\n",
       "      <td>&lt;NA&gt;</td>\n",
       "      <td>&lt;NA&gt;</td>\n",
       "      <td>&lt;NA&gt;</td>\n",
       "      <td>55.0</td>\n",
       "      <td>&lt;NA&gt;</td>\n",
       "      <td>&lt;NA&gt;</td>\n",
       "      <td>&lt;NA&gt;</td>\n",
       "      <td>&lt;NA&gt;</td>\n",
       "      <td>&lt;NA&gt;</td>\n",
       "      <td>cAMP-specific 3',5'-cyclic phosphodiesterase 7B</td>\n",
       "      <td>...</td>\n",
       "      <td>&lt;NA&gt;</td>\n",
       "      <td>&lt;NA&gt;</td>\n",
       "      <td>&lt;NA&gt;</td>\n",
       "      <td>&lt;NA&gt;</td>\n",
       "      <td>Cc1nc(CCNC(=O)c2cc3cc(Cl)c4NC(=O)NC5(CCCCC5)c4...</td>\n",
       "      <td>MDZDOKDTKZKYIE-UHFFFAOYSA-N</td>\n",
       "      <td>607446</td>\n",
       "      <td>cAMP-specific 3',5'-cyclic phosphodiesterase 7B</td>\n",
       "      <td>PDE7B_HUMAN</td>\n",
       "      <td>&lt;NA&gt;</td>\n",
       "    </tr>\n",
       "    <tr>\n",
       "      <th>1100818</th>\n",
       "      <td>&lt;NA&gt;</td>\n",
       "      <td>&lt;NA&gt;</td>\n",
       "      <td>&lt;NA&gt;</td>\n",
       "      <td>81.0</td>\n",
       "      <td>&lt;NA&gt;</td>\n",
       "      <td>&lt;NA&gt;</td>\n",
       "      <td>&lt;NA&gt;</td>\n",
       "      <td>&lt;NA&gt;</td>\n",
       "      <td>&lt;NA&gt;</td>\n",
       "      <td>Glutamate receptor ionotropic, NMDA 2B</td>\n",
       "      <td>...</td>\n",
       "      <td>&lt;NA&gt;</td>\n",
       "      <td>&lt;NA&gt;</td>\n",
       "      <td>&lt;NA&gt;</td>\n",
       "      <td>&lt;NA&gt;</td>\n",
       "      <td>FC(F)Oc1cc(ccc1Cl)-c1cnc2cnn(CC(=O)C3CC3)c2n1</td>\n",
       "      <td>HEBCYPCRSNKTAF-UHFFFAOYSA-N</td>\n",
       "      <td>532541</td>\n",
       "      <td>Glutamate receptor ionotropic, NMDA 2B</td>\n",
       "      <td>NMDE2_HUMAN</td>\n",
       "      <td>&lt;NA&gt;</td>\n",
       "    </tr>\n",
       "    <tr>\n",
       "      <th>161391</th>\n",
       "      <td>245.47</td>\n",
       "      <td>&lt;NA&gt;</td>\n",
       "      <td>&lt;NA&gt;</td>\n",
       "      <td>&lt;NA&gt;</td>\n",
       "      <td>&lt;NA&gt;</td>\n",
       "      <td>&lt;NA&gt;</td>\n",
       "      <td>&lt;NA&gt;</td>\n",
       "      <td>&lt;NA&gt;</td>\n",
       "      <td>10.1007/BF00173012</td>\n",
       "      <td>Somatostatin receptor type 3</td>\n",
       "      <td>...</td>\n",
       "      <td>&lt;NA&gt;</td>\n",
       "      <td>&lt;NA&gt;</td>\n",
       "      <td>&lt;NA&gt;</td>\n",
       "      <td>&lt;NA&gt;</td>\n",
       "      <td>CC(C)[C@@H]1NC(=O)[C@H](CCCCN)NC(=O)[C@@H](Cc2...</td>\n",
       "      <td>XFRLQUSWDUGLDK-DJWPHTHZSA-N</td>\n",
       "      <td>82456</td>\n",
       "      <td>Somatostatin receptor type 3</td>\n",
       "      <td>SSR3_MOUSE</td>\n",
       "      <td>&lt;NA&gt;</td>\n",
       "    </tr>\n",
       "    <tr>\n",
       "      <th>1238230</th>\n",
       "      <td>0.015</td>\n",
       "      <td>&lt;NA&gt;</td>\n",
       "      <td>&lt;NA&gt;</td>\n",
       "      <td>&lt;NA&gt;</td>\n",
       "      <td>&lt;NA&gt;</td>\n",
       "      <td>&lt;NA&gt;</td>\n",
       "      <td>&lt;NA&gt;</td>\n",
       "      <td>&lt;NA&gt;</td>\n",
       "      <td>&lt;NA&gt;</td>\n",
       "      <td>Mitogen-activated protein kinase kinase kinase...</td>\n",
       "      <td>...</td>\n",
       "      <td>&lt;NA&gt;</td>\n",
       "      <td>&lt;NA&gt;</td>\n",
       "      <td>&lt;NA&gt;</td>\n",
       "      <td>&lt;NA&gt;</td>\n",
       "      <td>CO[C@@H]1CCC[C@@H]1NC(=O)Nc1cc2cc(c(F)c(N)c2cn...</td>\n",
       "      <td>GGCGKNUDAMBMKT-ZWKOTPCHSA-N</td>\n",
       "      <td>598307</td>\n",
       "      <td>Mitogen-activated protein kinase kinase kinase...</td>\n",
       "      <td>M4K1_HUMAN</td>\n",
       "      <td>&lt;NA&gt;</td>\n",
       "    </tr>\n",
       "    <tr>\n",
       "      <th>616155</th>\n",
       "      <td>&lt;NA&gt;</td>\n",
       "      <td>&lt;NA&gt;</td>\n",
       "      <td>&lt;NA&gt;</td>\n",
       "      <td>5500.0</td>\n",
       "      <td>&lt;NA&gt;</td>\n",
       "      <td>&lt;NA&gt;</td>\n",
       "      <td>&lt;NA&gt;</td>\n",
       "      <td>&lt;NA&gt;</td>\n",
       "      <td>&lt;NA&gt;</td>\n",
       "      <td>Lysine-specific demethylase 5B</td>\n",
       "      <td>...</td>\n",
       "      <td>&lt;NA&gt;</td>\n",
       "      <td>&lt;NA&gt;</td>\n",
       "      <td>&lt;NA&gt;</td>\n",
       "      <td>&lt;NA&gt;</td>\n",
       "      <td>OC(=O)c1ccncc1NCC1CCCc2c(Oc3ccccc3)cccc12</td>\n",
       "      <td>XAQNVKDAXRNRGV-UHFFFAOYSA-N</td>\n",
       "      <td>314170</td>\n",
       "      <td>Lysine-specific demethylase 5B</td>\n",
       "      <td>KDM5B_HUMAN</td>\n",
       "      <td>&lt;NA&gt;</td>\n",
       "    </tr>\n",
       "    <tr>\n",
       "      <th>1216120</th>\n",
       "      <td>&lt;NA&gt;</td>\n",
       "      <td>&lt;NA&gt;</td>\n",
       "      <td>&lt;NA&gt;</td>\n",
       "      <td>186.0</td>\n",
       "      <td>&lt;NA&gt;</td>\n",
       "      <td>&lt;NA&gt;</td>\n",
       "      <td>&lt;NA&gt;</td>\n",
       "      <td>&lt;NA&gt;</td>\n",
       "      <td>&lt;NA&gt;</td>\n",
       "      <td>Interleukin-4</td>\n",
       "      <td>...</td>\n",
       "      <td>&lt;NA&gt;</td>\n",
       "      <td>&lt;NA&gt;</td>\n",
       "      <td>&lt;NA&gt;</td>\n",
       "      <td>&lt;NA&gt;</td>\n",
       "      <td>COc1ccc(cc1OC1CCCC1)-c1cccc(n1)C1COB(O)C1</td>\n",
       "      <td>QHEKZUAHSBRTKE-UHFFFAOYSA-N</td>\n",
       "      <td>589808</td>\n",
       "      <td>&lt;NA&gt;</td>\n",
       "      <td>&lt;NA&gt;</td>\n",
       "      <td>&lt;NA&gt;</td>\n",
       "    </tr>\n",
       "    <tr>\n",
       "      <th>575572</th>\n",
       "      <td>&lt;NA&gt;</td>\n",
       "      <td>&lt;NA&gt;</td>\n",
       "      <td>&lt;NA&gt;</td>\n",
       "      <td>300.0</td>\n",
       "      <td>&lt;NA&gt;</td>\n",
       "      <td>&lt;NA&gt;</td>\n",
       "      <td>&lt;NA&gt;</td>\n",
       "      <td>&lt;NA&gt;</td>\n",
       "      <td>&lt;NA&gt;</td>\n",
       "      <td>Nicotinamide phosphoribosyltransferase</td>\n",
       "      <td>...</td>\n",
       "      <td>&lt;NA&gt;</td>\n",
       "      <td>&lt;NA&gt;</td>\n",
       "      <td>&lt;NA&gt;</td>\n",
       "      <td>&lt;NA&gt;</td>\n",
       "      <td>CCOc1cccc(c1)-c1nc2ccc(cc2nc1-c1ccccc1)C(=O)NC...</td>\n",
       "      <td>WYRXNEXWFOWMQP-UHFFFAOYSA-N</td>\n",
       "      <td>306066</td>\n",
       "      <td>Nicotinamide phosphoribosyltransferase</td>\n",
       "      <td>NAMPT_HUMAN</td>\n",
       "      <td>&lt;NA&gt;</td>\n",
       "    </tr>\n",
       "    <tr>\n",
       "      <th>1136180</th>\n",
       "      <td>&lt;NA&gt;</td>\n",
       "      <td>&lt;NA&gt;</td>\n",
       "      <td>&lt;NA&gt;</td>\n",
       "      <td>10.6</td>\n",
       "      <td>&lt;NA&gt;</td>\n",
       "      <td>&lt;NA&gt;</td>\n",
       "      <td>&lt;NA&gt;</td>\n",
       "      <td>&lt;NA&gt;</td>\n",
       "      <td>&lt;NA&gt;</td>\n",
       "      <td>Adenosine receptor A2a</td>\n",
       "      <td>...</td>\n",
       "      <td>&lt;NA&gt;</td>\n",
       "      <td>&lt;NA&gt;</td>\n",
       "      <td>&lt;NA&gt;</td>\n",
       "      <td>&lt;NA&gt;</td>\n",
       "      <td>COc1cc2nc(N)n3nc(nc3c2cc1F)C1CC(F)CN(C1)c1cnn(...</td>\n",
       "      <td>AVPIEPXTGDCYMJ-UHFFFAOYSA-N</td>\n",
       "      <td>551510</td>\n",
       "      <td>Adenosine receptor A2a</td>\n",
       "      <td>AA2AR_HUMAN</td>\n",
       "      <td>&lt;NA&gt;</td>\n",
       "    </tr>\n",
       "    <tr>\n",
       "      <th>2725172</th>\n",
       "      <td>&lt;NA&gt;</td>\n",
       "      <td>&lt;NA&gt;</td>\n",
       "      <td>&lt;NA&gt;</td>\n",
       "      <td>160.0</td>\n",
       "      <td>&lt;NA&gt;</td>\n",
       "      <td>&lt;NA&gt;</td>\n",
       "      <td>&lt;NA&gt;</td>\n",
       "      <td>&lt;NA&gt;</td>\n",
       "      <td>10.1016/j.bmc.2019.03.008</td>\n",
       "      <td>Histone deacetylase</td>\n",
       "      <td>...</td>\n",
       "      <td>CHEMBL98</td>\n",
       "      <td>DB02546</td>\n",
       "      <td>&lt;NA&gt;</td>\n",
       "      <td>ZINC01543873</td>\n",
       "      <td>ONC(=O)CCCCCCC(=O)Nc1ccccc1</td>\n",
       "      <td>WAEXFXRVDQXREF-UHFFFAOYSA-N</td>\n",
       "      <td>19149</td>\n",
       "      <td>Histone deacetylase 1</td>\n",
       "      <td>HDAC1_HUMAN</td>\n",
       "      <td>O15379</td>\n",
       "    </tr>\n",
       "    <tr>\n",
       "      <th>755845</th>\n",
       "      <td>&lt;NA&gt;</td>\n",
       "      <td>&lt;NA&gt;</td>\n",
       "      <td>&lt;NA&gt;</td>\n",
       "      <td>7.0</td>\n",
       "      <td>&lt;NA&gt;</td>\n",
       "      <td>&lt;NA&gt;</td>\n",
       "      <td>&lt;NA&gt;</td>\n",
       "      <td>&lt;NA&gt;</td>\n",
       "      <td>&lt;NA&gt;</td>\n",
       "      <td>Glutaminase kidney isoform, mitochondrial</td>\n",
       "      <td>...</td>\n",
       "      <td>&lt;NA&gt;</td>\n",
       "      <td>&lt;NA&gt;</td>\n",
       "      <td>&lt;NA&gt;</td>\n",
       "      <td>&lt;NA&gt;</td>\n",
       "      <td>OCCOc1cc(CC(=O)Nc2nnc(CCCCc3ccc(NC(=O)Cc4ccccc...</td>\n",
       "      <td>BDDHQEJVEAQMBV-UHFFFAOYSA-N</td>\n",
       "      <td>108958</td>\n",
       "      <td>Glutaminase kidney isoform, mitochondrial</td>\n",
       "      <td>GLSK_HUMAN</td>\n",
       "      <td>&lt;NA&gt;</td>\n",
       "    </tr>\n",
       "    <tr>\n",
       "      <th>1664260</th>\n",
       "      <td>1.6</td>\n",
       "      <td>&lt;NA&gt;</td>\n",
       "      <td>&lt;NA&gt;</td>\n",
       "      <td>&lt;NA&gt;</td>\n",
       "      <td>&lt;NA&gt;</td>\n",
       "      <td>&lt;NA&gt;</td>\n",
       "      <td>&lt;NA&gt;</td>\n",
       "      <td>&lt;NA&gt;</td>\n",
       "      <td>10.1021/jm0304515</td>\n",
       "      <td>C-C chemokine receptor type 5</td>\n",
       "      <td>...</td>\n",
       "      <td>CHEMBL312344</td>\n",
       "      <td>&lt;NA&gt;</td>\n",
       "      <td>&lt;NA&gt;</td>\n",
       "      <td>ZINC26466845</td>\n",
       "      <td>C[C@H]1CN(CCN1[C@@H](CC1CC1)c1ccc(cc1)C(F)(F)F...</td>\n",
       "      <td>JBVORPHTFJNKFO-FNZWTVRRSA-N</td>\n",
       "      <td>50145686</td>\n",
       "      <td>C-C chemokine receptor type 5</td>\n",
       "      <td>CCR5_HUMAN</td>\n",
       "      <td>&lt;NA&gt;</td>\n",
       "    </tr>\n",
       "    <tr>\n",
       "      <th>1877889</th>\n",
       "      <td>&lt;NA&gt;</td>\n",
       "      <td>&lt;NA&gt;</td>\n",
       "      <td>&lt;NA&gt;</td>\n",
       "      <td>1600.0</td>\n",
       "      <td>&lt;NA&gt;</td>\n",
       "      <td>&lt;NA&gt;</td>\n",
       "      <td>&lt;NA&gt;</td>\n",
       "      <td>&lt;NA&gt;</td>\n",
       "      <td>10.1016/j.bmcl.2016.02.050</td>\n",
       "      <td>Solute carrier family 2, facilitated glucose t...</td>\n",
       "      <td>...</td>\n",
       "      <td>CHEMBL3780845</td>\n",
       "      <td>&lt;NA&gt;</td>\n",
       "      <td>&lt;NA&gt;</td>\n",
       "      <td>&lt;NA&gt;</td>\n",
       "      <td>COc1ccccc1N1CCN(CC1)c1ncnc2n(ncc12)-c1ccncc1</td>\n",
       "      <td>ZNYRBISOQWRKBE-UHFFFAOYSA-N</td>\n",
       "      <td>50155757</td>\n",
       "      <td>Solute carrier family 2, facilitated glucose t...</td>\n",
       "      <td>GTR3_HUMAN</td>\n",
       "      <td>&lt;NA&gt;</td>\n",
       "    </tr>\n",
       "    <tr>\n",
       "      <th>2092136</th>\n",
       "      <td>&lt;NA&gt;</td>\n",
       "      <td>&lt;NA&gt;</td>\n",
       "      <td>&lt;NA&gt;</td>\n",
       "      <td>&lt;NA&gt;</td>\n",
       "      <td>&lt;NA&gt;</td>\n",
       "      <td>10000.0</td>\n",
       "      <td>&lt;NA&gt;</td>\n",
       "      <td>&lt;NA&gt;</td>\n",
       "      <td>10.1038/nbt.1990</td>\n",
       "      <td>Serine/threonine-protein kinase NLK</td>\n",
       "      <td>...</td>\n",
       "      <td>&lt;NA&gt;</td>\n",
       "      <td>&lt;NA&gt;</td>\n",
       "      <td>&lt;NA&gt;</td>\n",
       "      <td>ZINC13985942</td>\n",
       "      <td>COc1ccc(COc2ccc(Cc3cnc(N)nc3N)cc2OC)cc1</td>\n",
       "      <td>MYQAUKPBNJWPIE-UHFFFAOYSA-N</td>\n",
       "      <td>32362</td>\n",
       "      <td>Serine/threonine-protein kinase NLK</td>\n",
       "      <td>NLK_HUMAN</td>\n",
       "      <td>&lt;NA&gt;</td>\n",
       "    </tr>\n",
       "    <tr>\n",
       "      <th>1298385</th>\n",
       "      <td>&lt;NA&gt;</td>\n",
       "      <td>&lt;NA&gt;</td>\n",
       "      <td>&lt;NA&gt;</td>\n",
       "      <td>10500.0</td>\n",
       "      <td>&lt;NA&gt;</td>\n",
       "      <td>&lt;NA&gt;</td>\n",
       "      <td>&lt;NA&gt;</td>\n",
       "      <td>&lt;NA&gt;</td>\n",
       "      <td>&lt;NA&gt;</td>\n",
       "      <td>Fibroblast growth factor receptor 2</td>\n",
       "      <td>...</td>\n",
       "      <td>&lt;NA&gt;</td>\n",
       "      <td>&lt;NA&gt;</td>\n",
       "      <td>&lt;NA&gt;</td>\n",
       "      <td>&lt;NA&gt;</td>\n",
       "      <td>CC(=C)C(=O)Nc1ccc(cc1)-c1c(-c2ccc(nc2)-c2ccccc...</td>\n",
       "      <td>JXEAPQFYBFILAF-UHFFFAOYSA-N</td>\n",
       "      <td>624351</td>\n",
       "      <td>Fibroblast growth factor receptor 2</td>\n",
       "      <td>FGFR2_HUMAN</td>\n",
       "      <td>&lt;NA&gt;</td>\n",
       "    </tr>\n",
       "    <tr>\n",
       "      <th>1110973</th>\n",
       "      <td>&lt;NA&gt;</td>\n",
       "      <td>&lt;NA&gt;</td>\n",
       "      <td>&lt;NA&gt;</td>\n",
       "      <td>89.9</td>\n",
       "      <td>&lt;NA&gt;</td>\n",
       "      <td>&lt;NA&gt;</td>\n",
       "      <td>&lt;NA&gt;</td>\n",
       "      <td>&lt;NA&gt;</td>\n",
       "      <td>&lt;NA&gt;</td>\n",
       "      <td>CREB-binding protein</td>\n",
       "      <td>...</td>\n",
       "      <td>&lt;NA&gt;</td>\n",
       "      <td>&lt;NA&gt;</td>\n",
       "      <td>&lt;NA&gt;</td>\n",
       "      <td>&lt;NA&gt;</td>\n",
       "      <td>CC(=O)N1CCc2c(C1)c(nn2C1CCOCC1)-c1cncc2ccccc12</td>\n",
       "      <td>NAEZVAXBVFHAKF-UHFFFAOYSA-N</td>\n",
       "      <td>50453962</td>\n",
       "      <td>CREB-binding protein</td>\n",
       "      <td>CBP_HUMAN</td>\n",
       "      <td>&lt;NA&gt;</td>\n",
       "    </tr>\n",
       "    <tr>\n",
       "      <th>1037408</th>\n",
       "      <td>&lt;NA&gt;</td>\n",
       "      <td>&lt;NA&gt;</td>\n",
       "      <td>&lt;NA&gt;</td>\n",
       "      <td>0.7</td>\n",
       "      <td>&lt;NA&gt;</td>\n",
       "      <td>&lt;NA&gt;</td>\n",
       "      <td>&lt;NA&gt;</td>\n",
       "      <td>&lt;NA&gt;</td>\n",
       "      <td>&lt;NA&gt;</td>\n",
       "      <td>Proto-oncogene tyrosine-protein kinase recepto...</td>\n",
       "      <td>...</td>\n",
       "      <td>&lt;NA&gt;</td>\n",
       "      <td>&lt;NA&gt;</td>\n",
       "      <td>&lt;NA&gt;</td>\n",
       "      <td>&lt;NA&gt;</td>\n",
       "      <td>COCc1ccc(NC(=O)c2c(SC)n(c3ncnc(N)c23)C2(C)CC2)cc1</td>\n",
       "      <td>HWUSTVQEAVXQBY-UHFFFAOYSA-N</td>\n",
       "      <td>311681</td>\n",
       "      <td>Proto-oncogene tyrosine-protein kinase recepto...</td>\n",
       "      <td>RET_HUMAN</td>\n",
       "      <td>&lt;NA&gt;</td>\n",
       "    </tr>\n",
       "  </tbody>\n",
       "</table>\n",
       "<p>20 rows × 22 columns</p>\n",
       "</div>"
      ],
      "text/plain": [
       "              ki    ph  temp      ic50   ec50       kd   kon  koff  \\\n",
       "2231368  10000.0  <NA>  <NA>      <NA>   <NA>     <NA>  <NA>  <NA>   \n",
       "48289       <NA>   8.6  37.0  105000.0   <NA>     <NA>  <NA>  <NA>   \n",
       "1238096    0.015  <NA>  <NA>      <NA>   <NA>     <NA>  <NA>  <NA>   \n",
       "1890037     <NA>  <NA>  <NA>      <NA>  202.0     <NA>  <NA>  <NA>   \n",
       "1260175     <NA>  <NA>  <NA>      55.0   <NA>     <NA>  <NA>  <NA>   \n",
       "1100818     <NA>  <NA>  <NA>      81.0   <NA>     <NA>  <NA>  <NA>   \n",
       "161391    245.47  <NA>  <NA>      <NA>   <NA>     <NA>  <NA>  <NA>   \n",
       "1238230    0.015  <NA>  <NA>      <NA>   <NA>     <NA>  <NA>  <NA>   \n",
       "616155      <NA>  <NA>  <NA>    5500.0   <NA>     <NA>  <NA>  <NA>   \n",
       "1216120     <NA>  <NA>  <NA>     186.0   <NA>     <NA>  <NA>  <NA>   \n",
       "575572      <NA>  <NA>  <NA>     300.0   <NA>     <NA>  <NA>  <NA>   \n",
       "1136180     <NA>  <NA>  <NA>      10.6   <NA>     <NA>  <NA>  <NA>   \n",
       "2725172     <NA>  <NA>  <NA>     160.0   <NA>     <NA>  <NA>  <NA>   \n",
       "755845      <NA>  <NA>  <NA>       7.0   <NA>     <NA>  <NA>  <NA>   \n",
       "1664260      1.6  <NA>  <NA>      <NA>   <NA>     <NA>  <NA>  <NA>   \n",
       "1877889     <NA>  <NA>  <NA>    1600.0   <NA>     <NA>  <NA>  <NA>   \n",
       "2092136     <NA>  <NA>  <NA>      <NA>   <NA>  10000.0  <NA>  <NA>   \n",
       "1298385     <NA>  <NA>  <NA>   10500.0   <NA>     <NA>  <NA>  <NA>   \n",
       "1110973     <NA>  <NA>  <NA>      89.9   <NA>     <NA>  <NA>  <NA>   \n",
       "1037408     <NA>  <NA>  <NA>       0.7   <NA>     <NA>  <NA>  <NA>   \n",
       "\n",
       "                                doi  \\\n",
       "2231368           10.1021/jm050645f   \n",
       "48289             10.1021/jm800762u   \n",
       "1238096                        <NA>   \n",
       "1890037   10.1016/j.bmc.2016.03.055   \n",
       "1260175                        <NA>   \n",
       "1100818                        <NA>   \n",
       "161391           10.1007/BF00173012   \n",
       "1238230                        <NA>   \n",
       "616155                         <NA>   \n",
       "1216120                        <NA>   \n",
       "575572                         <NA>   \n",
       "1136180                        <NA>   \n",
       "2725172   10.1016/j.bmc.2019.03.008   \n",
       "755845                         <NA>   \n",
       "1664260           10.1021/jm0304515   \n",
       "1877889  10.1016/j.bmcl.2016.02.050   \n",
       "2092136            10.1038/nbt.1990   \n",
       "1298385                        <NA>   \n",
       "1110973                        <NA>   \n",
       "1037408                        <NA>   \n",
       "\n",
       "                                               target_name  ...  \\\n",
       "2231368                           Vasopressin V1a receptor  ...   \n",
       "48289      UDP-N-acetylmuramoylalanine--D-glutamate ligase  ...   \n",
       "1238096  Mitogen-activated protein kinase kinase kinase...  ...   \n",
       "1890037              Serine/threonine-protein kinase B-raf  ...   \n",
       "1260175    cAMP-specific 3',5'-cyclic phosphodiesterase 7B  ...   \n",
       "1100818             Glutamate receptor ionotropic, NMDA 2B  ...   \n",
       "161391                        Somatostatin receptor type 3  ...   \n",
       "1238230  Mitogen-activated protein kinase kinase kinase...  ...   \n",
       "616155                      Lysine-specific demethylase 5B  ...   \n",
       "1216120                                      Interleukin-4  ...   \n",
       "575572              Nicotinamide phosphoribosyltransferase  ...   \n",
       "1136180                             Adenosine receptor A2a  ...   \n",
       "2725172                                Histone deacetylase  ...   \n",
       "755845           Glutaminase kidney isoform, mitochondrial  ...   \n",
       "1664260                      C-C chemokine receptor type 5  ...   \n",
       "1877889  Solute carrier family 2, facilitated glucose t...  ...   \n",
       "2092136                Serine/threonine-protein kinase NLK  ...   \n",
       "1298385                Fibroblast growth factor receptor 2  ...   \n",
       "1110973                               CREB-binding protein  ...   \n",
       "1037408  Proto-oncogene tyrosine-protein kinase recepto...  ...   \n",
       "\n",
       "             chembl_id  drugbank_id kegg_id       zinc_id  \\\n",
       "2231368   CHEMBL200922         <NA>    <NA>  ZINC28562813   \n",
       "48289             <NA>      DB08108    <NA>  ZINC16052548   \n",
       "1238096           <NA>         <NA>    <NA>          <NA>   \n",
       "1890037  CHEMBL3799342         <NA>    <NA>  ZINC28524535   \n",
       "1260175           <NA>         <NA>    <NA>          <NA>   \n",
       "1100818           <NA>         <NA>    <NA>          <NA>   \n",
       "161391            <NA>         <NA>    <NA>          <NA>   \n",
       "1238230           <NA>         <NA>    <NA>          <NA>   \n",
       "616155            <NA>         <NA>    <NA>          <NA>   \n",
       "1216120           <NA>         <NA>    <NA>          <NA>   \n",
       "575572            <NA>         <NA>    <NA>          <NA>   \n",
       "1136180           <NA>         <NA>    <NA>          <NA>   \n",
       "2725172       CHEMBL98      DB02546    <NA>  ZINC01543873   \n",
       "755845            <NA>         <NA>    <NA>          <NA>   \n",
       "1664260   CHEMBL312344         <NA>    <NA>  ZINC26466845   \n",
       "1877889  CHEMBL3780845         <NA>    <NA>          <NA>   \n",
       "2092136           <NA>         <NA>    <NA>  ZINC13985942   \n",
       "1298385           <NA>         <NA>    <NA>          <NA>   \n",
       "1110973           <NA>         <NA>    <NA>          <NA>   \n",
       "1037408           <NA>         <NA>    <NA>          <NA>   \n",
       "\n",
       "                                                    smiles  \\\n",
       "2231368  CCOc1ccc(cc1)S(=O)(=O)N(CC(=O)N=Nc1c(O)[nH]c2c...   \n",
       "48289    OC(=O)CC[C@@H](NS(=O)(=O)c1ccc2cc(OCc3ccc(cc3)...   \n",
       "1238096  C[C@@H]1[C@H](C[C@]1(C)O)OC(=O)Nc1cc2cc(c(F)c(...   \n",
       "1890037  CC(C)(C)CS(=O)(=O)Nc1ccc(F)c(Nc2ncccc2-c2ncnc3...   \n",
       "1260175  Cc1nc(CCNC(=O)c2cc3cc(Cl)c4NC(=O)NC5(CCCCC5)c4...   \n",
       "1100818      FC(F)Oc1cc(ccc1Cl)-c1cnc2cnn(CC(=O)C3CC3)c2n1   \n",
       "161391   CC(C)[C@@H]1NC(=O)[C@H](CCCCN)NC(=O)[C@@H](Cc2...   \n",
       "1238230  CO[C@@H]1CCC[C@@H]1NC(=O)Nc1cc2cc(c(F)c(N)c2cn...   \n",
       "616155           OC(=O)c1ccncc1NCC1CCCc2c(Oc3ccccc3)cccc12   \n",
       "1216120          COc1ccc(cc1OC1CCCC1)-c1cccc(n1)C1COB(O)C1   \n",
       "575572   CCOc1cccc(c1)-c1nc2ccc(cc2nc1-c1ccccc1)C(=O)NC...   \n",
       "1136180  COc1cc2nc(N)n3nc(nc3c2cc1F)C1CC(F)CN(C1)c1cnn(...   \n",
       "2725172                        ONC(=O)CCCCCCC(=O)Nc1ccccc1   \n",
       "755845   OCCOc1cc(CC(=O)Nc2nnc(CCCCc3ccc(NC(=O)Cc4ccccc...   \n",
       "1664260  C[C@H]1CN(CCN1[C@@H](CC1CC1)c1ccc(cc1)C(F)(F)F...   \n",
       "1877889       COc1ccccc1N1CCN(CC1)c1ncnc2n(ncc12)-c1ccncc1   \n",
       "2092136            COc1ccc(COc2ccc(Cc3cnc(N)nc3N)cc2OC)cc1   \n",
       "1298385  CC(=C)C(=O)Nc1ccc(cc1)-c1c(-c2ccc(nc2)-c2ccccc...   \n",
       "1110973     CC(=O)N1CCc2c(C1)c(nn2C1CCOCC1)-c1cncc2ccccc12   \n",
       "1037408  COCc1ccc(NC(=O)c2c(SC)n(c3ncnc(N)c23)C2(C)CC2)cc1   \n",
       "\n",
       "                           inchi_key bindingdb_id  \\\n",
       "2231368  YWQLZELWTCRLQP-UHFFFAOYSA-N     50178159   \n",
       "48289    PUHRQSFXADUGJW-OAQYLSRUSA-N        26453   \n",
       "1238096  AHWWNFZVELBJCP-QFPYQJIVSA-N       598173   \n",
       "1890037  SMQPPWBGDWYCFJ-UHFFFAOYSA-N     50165856   \n",
       "1260175  MDZDOKDTKZKYIE-UHFFFAOYSA-N       607446   \n",
       "1100818  HEBCYPCRSNKTAF-UHFFFAOYSA-N       532541   \n",
       "161391   XFRLQUSWDUGLDK-DJWPHTHZSA-N        82456   \n",
       "1238230  GGCGKNUDAMBMKT-ZWKOTPCHSA-N       598307   \n",
       "616155   XAQNVKDAXRNRGV-UHFFFAOYSA-N       314170   \n",
       "1216120  QHEKZUAHSBRTKE-UHFFFAOYSA-N       589808   \n",
       "575572   WYRXNEXWFOWMQP-UHFFFAOYSA-N       306066   \n",
       "1136180  AVPIEPXTGDCYMJ-UHFFFAOYSA-N       551510   \n",
       "2725172  WAEXFXRVDQXREF-UHFFFAOYSA-N        19149   \n",
       "755845   BDDHQEJVEAQMBV-UHFFFAOYSA-N       108958   \n",
       "1664260  JBVORPHTFJNKFO-FNZWTVRRSA-N     50145686   \n",
       "1877889  ZNYRBISOQWRKBE-UHFFFAOYSA-N     50155757   \n",
       "2092136  MYQAUKPBNJWPIE-UHFFFAOYSA-N        32362   \n",
       "1298385  JXEAPQFYBFILAF-UHFFFAOYSA-N       624351   \n",
       "1110973  NAEZVAXBVFHAKF-UHFFFAOYSA-N     50453962   \n",
       "1037408  HWUSTVQEAVXQBY-UHFFFAOYSA-N       311681   \n",
       "\n",
       "                               swissprot_target_chain_name  \\\n",
       "2231368                           Vasopressin V1a receptor   \n",
       "48289      UDP-N-acetylmuramoylalanine--D-glutamate ligase   \n",
       "1238096  Mitogen-activated protein kinase kinase kinase...   \n",
       "1890037              Serine/threonine-protein kinase B-raf   \n",
       "1260175    cAMP-specific 3',5'-cyclic phosphodiesterase 7B   \n",
       "1100818             Glutamate receptor ionotropic, NMDA 2B   \n",
       "161391                        Somatostatin receptor type 3   \n",
       "1238230  Mitogen-activated protein kinase kinase kinase...   \n",
       "616155                      Lysine-specific demethylase 5B   \n",
       "1216120                                               <NA>   \n",
       "575572              Nicotinamide phosphoribosyltransferase   \n",
       "1136180                             Adenosine receptor A2a   \n",
       "2725172                              Histone deacetylase 1   \n",
       "755845           Glutaminase kidney isoform, mitochondrial   \n",
       "1664260                      C-C chemokine receptor type 5   \n",
       "1877889  Solute carrier family 2, facilitated glucose t...   \n",
       "2092136                Serine/threonine-protein kinase NLK   \n",
       "1298385                Fibroblast growth factor receptor 2   \n",
       "1110973                               CREB-binding protein   \n",
       "1037408  Proto-oncogene tyrosine-protein kinase recepto...   \n",
       "\n",
       "         swissprot_target_chain_entry_name swissprot_protein_id  \n",
       "2231368                         V1AR_HUMAN                 <NA>  \n",
       "48289                           MURD_ECOLI                 <NA>  \n",
       "1238096                         M4K1_HUMAN                 <NA>  \n",
       "1890037                         BRAF_HUMAN                 <NA>  \n",
       "1260175                        PDE7B_HUMAN                 <NA>  \n",
       "1100818                        NMDE2_HUMAN                 <NA>  \n",
       "161391                          SSR3_MOUSE                 <NA>  \n",
       "1238230                         M4K1_HUMAN                 <NA>  \n",
       "616155                         KDM5B_HUMAN                 <NA>  \n",
       "1216120                               <NA>                 <NA>  \n",
       "575572                         NAMPT_HUMAN                 <NA>  \n",
       "1136180                        AA2AR_HUMAN                 <NA>  \n",
       "2725172                        HDAC1_HUMAN               O15379  \n",
       "755845                          GLSK_HUMAN                 <NA>  \n",
       "1664260                         CCR5_HUMAN                 <NA>  \n",
       "1877889                         GTR3_HUMAN                 <NA>  \n",
       "2092136                          NLK_HUMAN                 <NA>  \n",
       "1298385                        FGFR2_HUMAN                 <NA>  \n",
       "1110973                          CBP_HUMAN                 <NA>  \n",
       "1037408                          RET_HUMAN                 <NA>  \n",
       "\n",
       "[20 rows x 22 columns]"
      ]
     },
     "execution_count": 3,
     "metadata": {},
     "output_type": "execute_result"
    }
   ],
   "source": [
    "clean_binding_df.sample(20)"
   ]
  },
  {
   "cell_type": "code",
   "execution_count": 4,
   "metadata": {},
   "outputs": [
    {
     "data": {
      "text/plain": [
       "ki                                          Float64\n",
       "ph                                          Float64\n",
       "temp                                        Float64\n",
       "ic50                                        Float64\n",
       "ec50                                        Float64\n",
       "kd                                          Float64\n",
       "kon                                         Float64\n",
       "koff                                        Float64\n",
       "doi                                  string[python]\n",
       "target_name                          string[python]\n",
       "pubchem_cid                                   Int64\n",
       "chebi_id                                      Int64\n",
       "chembl_id                            string[python]\n",
       "drugbank_id                          string[python]\n",
       "kegg_id                              string[python]\n",
       "zinc_id                              string[python]\n",
       "smiles                               string[python]\n",
       "inchi_key                            string[python]\n",
       "bindingdb_id                                  Int64\n",
       "swissprot_target_chain_name          string[python]\n",
       "swissprot_target_chain_entry_name    string[python]\n",
       "swissprot_protein_id                 string[python]\n",
       "dtype: object"
      ]
     },
     "execution_count": 4,
     "metadata": {},
     "output_type": "execute_result"
    }
   ],
   "source": [
    "# Did we sucessfully convert all the columns to the right types?\n",
    "clean_binding_df.dtypes"
   ]
  },
  {
   "cell_type": "markdown",
   "metadata": {},
   "source": [
    "## Parse and clean the Drugbank data"
   ]
  },
  {
   "cell_type": "code",
   "execution_count": 5,
   "metadata": {},
   "outputs": [
    {
     "name": "stdout",
     "output_type": "stream",
     "text": [
      "parsed_Drugbank exists...\n",
      "Loading...\n"
     ]
    }
   ],
   "source": [
    "\n",
    "if os.path.exists(DRUGBANK_LIGAND_PARSED) and os.path.exists(DRUGBANK_PROTEIN_PARSED):\n",
    "    print(\"parsed_Drugbank exists...\")\n",
    "    print(\"Loading...\")\n",
    "\n",
    "    drugbank_ligand = pd.read_pickle(DRUGBANK_LIGAND_PARSED)\n",
    "    drugbank_proteins = pd.read_pickle(DRUGBANK_PROTEIN_PARSED)\n",
    "else:\n",
    "    print(\"parsed_Drugbank doesn't exists...\")\n",
    "    print(\"Parsing DrugBank XML...\")\n",
    "\n",
    "    drugparser = DrugParser(DRUGBANK_XML)\n",
    "    drugparser.parse_drugs()\n",
    "    drugparser.parse_proteins()\n",
    "    drugbank_ligand, drugbank_proteins = drugparser.save_parsed_drugs(DRUGBANK_LIGAND_PARSED, DRUGBANK_PROTEIN_PARSED, return_df = True)\n",
    "\n",
    "    print(\"DrugBank XML is parsed. \\n Loading Bind ...\")"
   ]
  },
  {
   "cell_type": "code",
   "execution_count": 8,
   "metadata": {},
   "outputs": [
    {
     "data": {
      "text/plain": [
       "5        59173\n",
       "6         6427\n",
       "13        5523\n",
       "28        5931\n",
       "33        4450\n",
       "         ...  \n",
       "16381    34969\n",
       "16436    60568\n",
       "16451    95255\n",
       "16528    27616\n",
       "16552    13332\n",
       "Name: chebi, Length: 5422, dtype: object"
      ]
     },
     "execution_count": 8,
     "metadata": {},
     "output_type": "execute_result"
    }
   ],
   "source": [
    "drugbank_ligand['chebi'].dropna()"
   ]
  },
  {
   "cell_type": "code",
   "execution_count": 9,
   "metadata": {},
   "outputs": [
    {
     "data": {
      "text/plain": [
       "129         42082\n",
       "235        367163\n",
       "246        367163\n",
       "303         59385\n",
       "304         59385\n",
       "            ...  \n",
       "2927514     73726\n",
       "2927534     73726\n",
       "2927556     73726\n",
       "2927578     73726\n",
       "2927598     73726\n",
       "Name: chebi_id, Length: 96920, dtype: Int64"
      ]
     },
     "execution_count": 9,
     "metadata": {},
     "output_type": "execute_result"
    }
   ],
   "source": [
    "clean_binding_df['chebi_id'].dropna()"
   ]
  },
  {
   "cell_type": "markdown",
   "metadata": {},
   "source": [
    "## Merge BindingDB and DrugBank"
   ]
  },
  {
   "cell_type": "code",
   "execution_count": 10,
   "metadata": {},
   "outputs": [
    {
     "name": "stdout",
     "output_type": "stream",
     "text": [
      "Merged dataset exists.\n",
      " Loading...\n",
      "Merged dataset loaded\n"
     ]
    }
   ],
   "source": [
    "# Let's merge bindingDB and DrugBank (unless already saved)\n",
    "if os.path.exists(MERGED):\n",
    "    print(\"Merged dataset exists.\\n Loading...\")\n",
    "\n",
    "    merged_df = pd.read_pickle(MERGED)\n",
    "\n",
    "    print(\"Merged dataset loaded\")\n",
    "else:\n",
    "    print(\"Merged dataset doesn't exists.\\n Creating it...\")\n",
    "    drugbank_binding_merger = DrugBank_BindingDB_Merger()\n",
    "    incomplete_merged_df = drugbank_binding_merger.merge(drugbank_ligand, clean_binding_df)\n",
    "\n",
    "    merged_df = pd.merge(incomplete_merged_df, drugbank_proteins, how='left', on='swissprot_protein_id')\n",
    "    merged_df.to_pickle(MERGED)\n",
    "\n",
    "    print(\"Merged dataset is loaded and saved.\")\n"
   ]
  },
  {
   "cell_type": "code",
   "execution_count": 11,
   "metadata": {},
   "outputs": [
    {
     "data": {
      "application/vnd.jupyter.widget-view+json": {
       "model_id": "547455fc0b8f486aa3e26b672b2bcce4",
       "version_major": 2,
       "version_minor": 0
      },
      "text/plain": [
       "  0%|          | 0/7 [00:00<?, ?it/s]"
      ]
     },
     "metadata": {},
     "output_type": "display_data"
    },
    {
     "name": "stderr",
     "output_type": "stream",
     "text": [
      "c:\\Users\\sebge\\source\\test2\\ada-2024-project-hyperbabbage\\src\\drugbank_bindingdb_merger.py:106: SettingWithCopyWarning: \n",
      "A value is trying to be set on a copy of a slice from a DataFrame.\n",
      "Try using .loc[row_indexer,col_indexer] = value instead\n",
      "\n",
      "See the caveats in the documentation: https://pandas.pydata.org/pandas-docs/stable/user_guide/indexing.html#returning-a-view-versus-a-copy\n",
      "  binding_df_id[identifier] = binding_df_id[identifier].astype(str)\n",
      "c:\\Users\\sebge\\source\\test2\\ada-2024-project-hyperbabbage\\src\\drugbank_bindingdb_merger.py:107: SettingWithCopyWarning: \n",
      "A value is trying to be set on a copy of a slice from a DataFrame.\n",
      "Try using .loc[row_indexer,col_indexer] = value instead\n",
      "\n",
      "See the caveats in the documentation: https://pandas.pydata.org/pandas-docs/stable/user_guide/indexing.html#returning-a-view-versus-a-copy\n",
      "  drugbank_df_id[identifier] = drugbank_df_id[identifier].astype(str)\n"
     ]
    },
    {
     "name": "stdout",
     "output_type": "stream",
     "text": [
      "run\n"
     ]
    },
    {
     "name": "stderr",
     "output_type": "stream",
     "text": [
      "c:\\Users\\sebge\\source\\test2\\ada-2024-project-hyperbabbage\\src\\drugbank_bindingdb_merger.py:106: SettingWithCopyWarning: \n",
      "A value is trying to be set on a copy of a slice from a DataFrame.\n",
      "Try using .loc[row_indexer,col_indexer] = value instead\n",
      "\n",
      "See the caveats in the documentation: https://pandas.pydata.org/pandas-docs/stable/user_guide/indexing.html#returning-a-view-versus-a-copy\n",
      "  binding_df_id[identifier] = binding_df_id[identifier].astype(str)\n",
      "c:\\Users\\sebge\\source\\test2\\ada-2024-project-hyperbabbage\\src\\drugbank_bindingdb_merger.py:107: SettingWithCopyWarning: \n",
      "A value is trying to be set on a copy of a slice from a DataFrame.\n",
      "Try using .loc[row_indexer,col_indexer] = value instead\n",
      "\n",
      "See the caveats in the documentation: https://pandas.pydata.org/pandas-docs/stable/user_guide/indexing.html#returning-a-view-versus-a-copy\n",
      "  drugbank_df_id[identifier] = drugbank_df_id[identifier].astype(str)\n"
     ]
    },
    {
     "name": "stdout",
     "output_type": "stream",
     "text": [
      "run\n"
     ]
    },
    {
     "name": "stderr",
     "output_type": "stream",
     "text": [
      "c:\\Users\\sebge\\source\\test2\\ada-2024-project-hyperbabbage\\src\\drugbank_bindingdb_merger.py:106: SettingWithCopyWarning: \n",
      "A value is trying to be set on a copy of a slice from a DataFrame.\n",
      "Try using .loc[row_indexer,col_indexer] = value instead\n",
      "\n",
      "See the caveats in the documentation: https://pandas.pydata.org/pandas-docs/stable/user_guide/indexing.html#returning-a-view-versus-a-copy\n",
      "  binding_df_id[identifier] = binding_df_id[identifier].astype(str)\n",
      "c:\\Users\\sebge\\source\\test2\\ada-2024-project-hyperbabbage\\src\\drugbank_bindingdb_merger.py:107: SettingWithCopyWarning: \n",
      "A value is trying to be set on a copy of a slice from a DataFrame.\n",
      "Try using .loc[row_indexer,col_indexer] = value instead\n",
      "\n",
      "See the caveats in the documentation: https://pandas.pydata.org/pandas-docs/stable/user_guide/indexing.html#returning-a-view-versus-a-copy\n",
      "  drugbank_df_id[identifier] = drugbank_df_id[identifier].astype(str)\n"
     ]
    },
    {
     "name": "stdout",
     "output_type": "stream",
     "text": [
      "run\n"
     ]
    },
    {
     "name": "stderr",
     "output_type": "stream",
     "text": [
      "c:\\Users\\sebge\\source\\test2\\ada-2024-project-hyperbabbage\\src\\drugbank_bindingdb_merger.py:106: SettingWithCopyWarning: \n",
      "A value is trying to be set on a copy of a slice from a DataFrame.\n",
      "Try using .loc[row_indexer,col_indexer] = value instead\n",
      "\n",
      "See the caveats in the documentation: https://pandas.pydata.org/pandas-docs/stable/user_guide/indexing.html#returning-a-view-versus-a-copy\n",
      "  binding_df_id[identifier] = binding_df_id[identifier].astype(str)\n"
     ]
    },
    {
     "name": "stdout",
     "output_type": "stream",
     "text": [
      "run\n"
     ]
    },
    {
     "name": "stderr",
     "output_type": "stream",
     "text": [
      "c:\\Users\\sebge\\source\\test2\\ada-2024-project-hyperbabbage\\src\\drugbank_bindingdb_merger.py:107: SettingWithCopyWarning: \n",
      "A value is trying to be set on a copy of a slice from a DataFrame.\n",
      "Try using .loc[row_indexer,col_indexer] = value instead\n",
      "\n",
      "See the caveats in the documentation: https://pandas.pydata.org/pandas-docs/stable/user_guide/indexing.html#returning-a-view-versus-a-copy\n",
      "  drugbank_df_id[identifier] = drugbank_df_id[identifier].astype(str)\n",
      "c:\\Users\\sebge\\source\\test2\\ada-2024-project-hyperbabbage\\src\\drugbank_bindingdb_merger.py:107: SettingWithCopyWarning: \n",
      "A value is trying to be set on a copy of a slice from a DataFrame.\n",
      "Try using .loc[row_indexer,col_indexer] = value instead\n",
      "\n",
      "See the caveats in the documentation: https://pandas.pydata.org/pandas-docs/stable/user_guide/indexing.html#returning-a-view-versus-a-copy\n",
      "  drugbank_df_id[identifier] = drugbank_df_id[identifier].astype(str)\n"
     ]
    },
    {
     "name": "stdout",
     "output_type": "stream",
     "text": [
      "run\n"
     ]
    },
    {
     "name": "stderr",
     "output_type": "stream",
     "text": [
      "c:\\Users\\sebge\\source\\test2\\ada-2024-project-hyperbabbage\\src\\drugbank_bindingdb_merger.py:106: SettingWithCopyWarning: \n",
      "A value is trying to be set on a copy of a slice from a DataFrame.\n",
      "Try using .loc[row_indexer,col_indexer] = value instead\n",
      "\n",
      "See the caveats in the documentation: https://pandas.pydata.org/pandas-docs/stable/user_guide/indexing.html#returning-a-view-versus-a-copy\n",
      "  binding_df_id[identifier] = binding_df_id[identifier].astype(str)\n",
      "c:\\Users\\sebge\\source\\test2\\ada-2024-project-hyperbabbage\\src\\drugbank_bindingdb_merger.py:107: SettingWithCopyWarning: \n",
      "A value is trying to be set on a copy of a slice from a DataFrame.\n",
      "Try using .loc[row_indexer,col_indexer] = value instead\n",
      "\n",
      "See the caveats in the documentation: https://pandas.pydata.org/pandas-docs/stable/user_guide/indexing.html#returning-a-view-versus-a-copy\n",
      "  drugbank_df_id[identifier] = drugbank_df_id[identifier].astype(str)\n"
     ]
    },
    {
     "name": "stdout",
     "output_type": "stream",
     "text": [
      "run\n"
     ]
    },
    {
     "name": "stderr",
     "output_type": "stream",
     "text": [
      "c:\\Users\\sebge\\source\\test2\\ada-2024-project-hyperbabbage\\src\\drugbank_bindingdb_merger.py:129: DtypeWarning: Columns (32,33,36) have mixed types. Specify dtype option on import or set low_memory=False.\n",
      "  return_df =  pd.read_csv(output_file)\n"
     ]
    }
   ],
   "source": [
    "drugbank_binding_merger = DrugBank_BindingDB_Merger()\n",
    "incomplete_merged_df = drugbank_binding_merger.merge(drugbank_ligand, clean_binding_df)"
   ]
  },
  {
   "cell_type": "code",
   "execution_count": null,
   "metadata": {},
   "outputs": [],
   "source": [
    "# chebi_id from "
   ]
  },
  {
   "cell_type": "code",
   "execution_count": 12,
   "metadata": {},
   "outputs": [
    {
     "ename": "AttributeError",
     "evalue": "'NoneType' object has no attribute 'dropna'",
     "output_type": "error",
     "traceback": [
      "\u001b[1;31m---------------------------------------------------------------------------\u001b[0m",
      "\u001b[1;31mAttributeError\u001b[0m                            Traceback (most recent call last)",
      "Cell \u001b[1;32mIn[12], line 1\u001b[0m\n\u001b[1;32m----> 1\u001b[0m \u001b[43mincomplete_merged_df\u001b[49m\u001b[38;5;241;43m.\u001b[39;49m\u001b[43mdropna\u001b[49m(subset\u001b[38;5;241m=\u001b[39m[\u001b[38;5;124m'\u001b[39m\u001b[38;5;124mchebi_id\u001b[39m\u001b[38;5;124m'\u001b[39m])\u001b[38;5;241m.\u001b[39mhead(\u001b[38;5;241m1\u001b[39m)\u001b[38;5;241m.\u001b[39mT\n",
      "\u001b[1;31mAttributeError\u001b[0m: 'NoneType' object has no attribute 'dropna'"
     ]
    }
   ],
   "source": [
    "incomplete_merged_df.dropna(subset=['chebi_id']).head(1).T"
   ]
  },
  {
   "cell_type": "code",
   "execution_count": 13,
   "metadata": {},
   "outputs": [
    {
     "ename": "AttributeError",
     "evalue": "'NoneType' object has no attribute 'dropna'",
     "output_type": "error",
     "traceback": [
      "\u001b[1;31m---------------------------------------------------------------------------\u001b[0m",
      "\u001b[1;31mAttributeError\u001b[0m                            Traceback (most recent call last)",
      "Cell \u001b[1;32mIn[13], line 1\u001b[0m\n\u001b[1;32m----> 1\u001b[0m \u001b[43mincomplete_merged_df\u001b[49m\u001b[38;5;241;43m.\u001b[39;49m\u001b[43mdropna\u001b[49m(subset\u001b[38;5;241m=\u001b[39m[\u001b[38;5;124m'\u001b[39m\u001b[38;5;124mchebi_id_DrugBank\u001b[39m\u001b[38;5;124m'\u001b[39m])\u001b[38;5;241m.\u001b[39mhead(\u001b[38;5;241m1\u001b[39m)\u001b[38;5;241m.\u001b[39mT\n",
      "\u001b[1;31mAttributeError\u001b[0m: 'NoneType' object has no attribute 'dropna'"
     ]
    }
   ],
   "source": [
    "incomplete_merged_df.dropna(subset=['chebi_id_DrugBank']).head(1).T"
   ]
  },
  {
   "cell_type": "code",
   "execution_count": 19,
   "metadata": {},
   "outputs": [
    {
     "data": {
      "text/html": [
       "<div>\n",
       "<style scoped>\n",
       "    .dataframe tbody tr th:only-of-type {\n",
       "        vertical-align: middle;\n",
       "    }\n",
       "\n",
       "    .dataframe tbody tr th {\n",
       "        vertical-align: top;\n",
       "    }\n",
       "\n",
       "    .dataframe thead th {\n",
       "        text-align: right;\n",
       "    }\n",
       "</style>\n",
       "<table border=\"1\" class=\"dataframe\">\n",
       "  <thead>\n",
       "    <tr style=\"text-align: right;\">\n",
       "      <th></th>\n",
       "      <th>chebi_id</th>\n",
       "    </tr>\n",
       "  </thead>\n",
       "  <tbody>\n",
       "    <tr>\n",
       "      <th>129</th>\n",
       "      <td>42082</td>\n",
       "    </tr>\n",
       "    <tr>\n",
       "      <th>235</th>\n",
       "      <td>367163</td>\n",
       "    </tr>\n",
       "    <tr>\n",
       "      <th>246</th>\n",
       "      <td>367163</td>\n",
       "    </tr>\n",
       "    <tr>\n",
       "      <th>303</th>\n",
       "      <td>59385</td>\n",
       "    </tr>\n",
       "    <tr>\n",
       "      <th>304</th>\n",
       "      <td>59385</td>\n",
       "    </tr>\n",
       "    <tr>\n",
       "      <th>...</th>\n",
       "      <td>...</td>\n",
       "    </tr>\n",
       "    <tr>\n",
       "      <th>2927514</th>\n",
       "      <td>73726</td>\n",
       "    </tr>\n",
       "    <tr>\n",
       "      <th>2927534</th>\n",
       "      <td>73726</td>\n",
       "    </tr>\n",
       "    <tr>\n",
       "      <th>2927556</th>\n",
       "      <td>73726</td>\n",
       "    </tr>\n",
       "    <tr>\n",
       "      <th>2927578</th>\n",
       "      <td>73726</td>\n",
       "    </tr>\n",
       "    <tr>\n",
       "      <th>2927598</th>\n",
       "      <td>73726</td>\n",
       "    </tr>\n",
       "  </tbody>\n",
       "</table>\n",
       "<p>96920 rows × 1 columns</p>\n",
       "</div>"
      ],
      "text/plain": [
       "         chebi_id\n",
       "129         42082\n",
       "235        367163\n",
       "246        367163\n",
       "303         59385\n",
       "304         59385\n",
       "...           ...\n",
       "2927514     73726\n",
       "2927534     73726\n",
       "2927556     73726\n",
       "2927578     73726\n",
       "2927598     73726\n",
       "\n",
       "[96920 rows x 1 columns]"
      ]
     },
     "execution_count": 19,
     "metadata": {},
     "output_type": "execute_result"
    }
   ],
   "source": [
    "clean_binding_df[[col for col in clean_binding_df.columns if 'chebi' in col]].dropna()"
   ]
  },
  {
   "cell_type": "code",
   "execution_count": 20,
   "metadata": {},
   "outputs": [
    {
     "data": {
      "text/html": [
       "<div>\n",
       "<style scoped>\n",
       "    .dataframe tbody tr th:only-of-type {\n",
       "        vertical-align: middle;\n",
       "    }\n",
       "\n",
       "    .dataframe tbody tr th {\n",
       "        vertical-align: top;\n",
       "    }\n",
       "\n",
       "    .dataframe thead th {\n",
       "        text-align: right;\n",
       "    }\n",
       "</style>\n",
       "<table border=\"1\" class=\"dataframe\">\n",
       "  <thead>\n",
       "    <tr style=\"text-align: right;\">\n",
       "      <th></th>\n",
       "      <th>chebi_id</th>\n",
       "    </tr>\n",
       "  </thead>\n",
       "  <tbody>\n",
       "    <tr>\n",
       "      <th>5</th>\n",
       "      <td>59173</td>\n",
       "    </tr>\n",
       "    <tr>\n",
       "      <th>6</th>\n",
       "      <td>6427</td>\n",
       "    </tr>\n",
       "    <tr>\n",
       "      <th>13</th>\n",
       "      <td>5523</td>\n",
       "    </tr>\n",
       "    <tr>\n",
       "      <th>28</th>\n",
       "      <td>5931</td>\n",
       "    </tr>\n",
       "    <tr>\n",
       "      <th>33</th>\n",
       "      <td>4450</td>\n",
       "    </tr>\n",
       "    <tr>\n",
       "      <th>...</th>\n",
       "      <td>...</td>\n",
       "    </tr>\n",
       "    <tr>\n",
       "      <th>16381</th>\n",
       "      <td>34969</td>\n",
       "    </tr>\n",
       "    <tr>\n",
       "      <th>16436</th>\n",
       "      <td>60568</td>\n",
       "    </tr>\n",
       "    <tr>\n",
       "      <th>16451</th>\n",
       "      <td>95255</td>\n",
       "    </tr>\n",
       "    <tr>\n",
       "      <th>16528</th>\n",
       "      <td>27616</td>\n",
       "    </tr>\n",
       "    <tr>\n",
       "      <th>16552</th>\n",
       "      <td>13332</td>\n",
       "    </tr>\n",
       "  </tbody>\n",
       "</table>\n",
       "<p>5422 rows × 1 columns</p>\n",
       "</div>"
      ],
      "text/plain": [
       "      chebi_id\n",
       "5        59173\n",
       "6         6427\n",
       "13        5523\n",
       "28        5931\n",
       "33        4450\n",
       "...        ...\n",
       "16381    34969\n",
       "16436    60568\n",
       "16451    95255\n",
       "16528    27616\n",
       "16552    13332\n",
       "\n",
       "[5422 rows x 1 columns]"
      ]
     },
     "execution_count": 20,
     "metadata": {},
     "output_type": "execute_result"
    }
   ],
   "source": [
    "drugbank_ligand[[col for col in drugbank_ligand.columns if 'chebi' in col]].dropna()"
   ]
  },
  {
   "cell_type": "code",
   "execution_count": 21,
   "metadata": {},
   "outputs": [
    {
     "data": {
      "text/html": [
       "<div>\n",
       "<style scoped>\n",
       "    .dataframe tbody tr th:only-of-type {\n",
       "        vertical-align: middle;\n",
       "    }\n",
       "\n",
       "    .dataframe tbody tr th {\n",
       "        vertical-align: top;\n",
       "    }\n",
       "\n",
       "    .dataframe thead th {\n",
       "        text-align: right;\n",
       "    }\n",
       "</style>\n",
       "<table border=\"1\" class=\"dataframe\">\n",
       "  <thead>\n",
       "    <tr style=\"text-align: right;\">\n",
       "      <th></th>\n",
       "      <th>chebi_id</th>\n",
       "      <th>chebi_id_BindingDB</th>\n",
       "      <th>chebi_id_DrugBank</th>\n",
       "    </tr>\n",
       "  </thead>\n",
       "  <tbody>\n",
       "    <tr>\n",
       "      <th>235</th>\n",
       "      <td>367163</td>\n",
       "      <td>367163.0</td>\n",
       "      <td>CJBJHOAVZSMMDJ-HEXNFIEUSA-N</td>\n",
       "    </tr>\n",
       "    <tr>\n",
       "      <th>246</th>\n",
       "      <td>367163</td>\n",
       "      <td>367163.0</td>\n",
       "      <td>CJBJHOAVZSMMDJ-HEXNFIEUSA-N</td>\n",
       "    </tr>\n",
       "    <tr>\n",
       "      <th>600</th>\n",
       "      <td>63628</td>\n",
       "      <td>63628.0</td>\n",
       "      <td>SUJUHGSWHZTSEU-FYBSXPHGSA-N</td>\n",
       "    </tr>\n",
       "    <tr>\n",
       "      <th>766</th>\n",
       "      <td>44032</td>\n",
       "      <td>44032.0</td>\n",
       "      <td>CBVCZFGXHXORBI-PXQQMZJSSA-N</td>\n",
       "    </tr>\n",
       "    <tr>\n",
       "      <th>788</th>\n",
       "      <td>63621</td>\n",
       "      <td>63621.0</td>\n",
       "      <td>QWAXKHKRTORLEM-UGJKXSETSA-N</td>\n",
       "    </tr>\n",
       "    <tr>\n",
       "      <th>...</th>\n",
       "      <td>...</td>\n",
       "      <td>...</td>\n",
       "      <td>...</td>\n",
       "    </tr>\n",
       "    <tr>\n",
       "      <th>2927514</th>\n",
       "      <td>73726</td>\n",
       "      <td>73726.0</td>\n",
       "      <td>YDBLKRPLXZNVNB-UHFFFAOYSA-N</td>\n",
       "    </tr>\n",
       "    <tr>\n",
       "      <th>2927534</th>\n",
       "      <td>73726</td>\n",
       "      <td>73726.0</td>\n",
       "      <td>YDBLKRPLXZNVNB-UHFFFAOYSA-N</td>\n",
       "    </tr>\n",
       "    <tr>\n",
       "      <th>2927556</th>\n",
       "      <td>73726</td>\n",
       "      <td>73726.0</td>\n",
       "      <td>YDBLKRPLXZNVNB-UHFFFAOYSA-N</td>\n",
       "    </tr>\n",
       "    <tr>\n",
       "      <th>2927578</th>\n",
       "      <td>73726</td>\n",
       "      <td>73726.0</td>\n",
       "      <td>YDBLKRPLXZNVNB-UHFFFAOYSA-N</td>\n",
       "    </tr>\n",
       "    <tr>\n",
       "      <th>2927598</th>\n",
       "      <td>73726</td>\n",
       "      <td>73726.0</td>\n",
       "      <td>YDBLKRPLXZNVNB-UHFFFAOYSA-N</td>\n",
       "    </tr>\n",
       "  </tbody>\n",
       "</table>\n",
       "<p>80550 rows × 3 columns</p>\n",
       "</div>"
      ],
      "text/plain": [
       "         chebi_id  chebi_id_BindingDB            chebi_id_DrugBank\n",
       "235        367163            367163.0  CJBJHOAVZSMMDJ-HEXNFIEUSA-N\n",
       "246        367163            367163.0  CJBJHOAVZSMMDJ-HEXNFIEUSA-N\n",
       "600         63628             63628.0  SUJUHGSWHZTSEU-FYBSXPHGSA-N\n",
       "766         44032             44032.0  CBVCZFGXHXORBI-PXQQMZJSSA-N\n",
       "788         63621             63621.0  QWAXKHKRTORLEM-UGJKXSETSA-N\n",
       "...           ...                 ...                          ...\n",
       "2927514     73726             73726.0  YDBLKRPLXZNVNB-UHFFFAOYSA-N\n",
       "2927534     73726             73726.0  YDBLKRPLXZNVNB-UHFFFAOYSA-N\n",
       "2927556     73726             73726.0  YDBLKRPLXZNVNB-UHFFFAOYSA-N\n",
       "2927578     73726             73726.0  YDBLKRPLXZNVNB-UHFFFAOYSA-N\n",
       "2927598     73726             73726.0  YDBLKRPLXZNVNB-UHFFFAOYSA-N\n",
       "\n",
       "[80550 rows x 3 columns]"
      ]
     },
     "execution_count": 21,
     "metadata": {},
     "output_type": "execute_result"
    }
   ],
   "source": [
    "incomplete_merged_df[[col for col in incomplete_merged_df.columns if 'chebi' in col]].dropna()"
   ]
  },
  {
   "cell_type": "code",
   "execution_count": 7,
   "metadata": {},
   "outputs": [
    {
     "data": {
      "text/plain": [
       "(2927609, 16581, 4906, 2927609)"
      ]
     },
     "execution_count": 7,
     "metadata": {},
     "output_type": "execute_result"
    }
   ],
   "source": [
    "len(merged_df), len(drugbank_ligand), len(drugbank_proteins), len(clean_binding_df)"
   ]
  },
  {
   "cell_type": "code",
   "execution_count": 8,
   "metadata": {},
   "outputs": [
    {
     "data": {
      "text/plain": [
       "Matched_On\n",
       "chebi_id       74904\n",
       "chembl_id      40543\n",
       "inchi_key      20059\n",
       "drugbank_id    15136\n",
       "smiles           792\n",
       "pubchem_cid        9\n",
       "Name: count, dtype: int64"
      ]
     },
     "execution_count": 8,
     "metadata": {},
     "output_type": "execute_result"
    }
   ],
   "source": [
    "merged_df['Matched_On'].value_counts()"
   ]
  },
  {
   "cell_type": "code",
   "execution_count": null,
   "metadata": {},
   "outputs": [],
   "source": [
    "# Rename merged_df name attribute\n",
    "merged_df.rename(columns={'name_x': 'drug_name', 'name_y': 'protein_name'}, inplace=True)"
   ]
  },
  {
   "cell_type": "markdown",
   "metadata": {},
   "source": [
    "## DOIs\n",
    "In order to discover temporal trends, we need to fetch data about articles, from which BindingDB measurements were taken (i.e. the time when the measurement was published)."
   ]
  },
  {
   "cell_type": "code",
   "execution_count": 9,
   "metadata": {},
   "outputs": [
    {
     "name": "stdout",
     "output_type": "stream",
     "text": [
      "Number of unique dois: 40737\n"
     ]
    }
   ],
   "source": [
    "unique_dois = clean_binding_df['doi'].dropna().unique()\n",
    "print('Number of unique dois:', len(unique_dois))"
   ]
  },
  {
   "cell_type": "code",
   "execution_count": 10,
   "metadata": {},
   "outputs": [
    {
     "name": "stdout",
     "output_type": "stream",
     "text": [
      "Title: 2,4-Diamino-6,7-dimethoxyquinazolines. 2. 2-(4-Carbamoylpiperidino) derivatives as .alpha.1-adrenoceptor antagonists and antihypertensive agents\n",
      "Abstract: <NA>\n"
     ]
    }
   ],
   "source": [
    "\n",
    "def fetch_article_metadata(doi):\n",
    "    url = f\"https://api.crossref.org/works/{doi}\"\n",
    "    response = requests.get(url)\n",
    "    \n",
    "    if response.status_code == 200:\n",
    "        data = response.json()[\"message\"]\n",
    "        \n",
    "        title_list = data.get(\"title\", [])\n",
    "        title = title_list[0] if len(title_list) > 0 else pd.NA\n",
    "        abstract = data.get(\"abstract\", pd.NA)\n",
    "        # Get published year, month and day\n",
    "        published_date = data.get(\"published-print\", None)\n",
    "        if published_date:\n",
    "            published_date = published_date[\"date-parts\"][0]\n",
    "        else:\n",
    "            published_date = []\n",
    "        year = published_date[0] if len(published_date) > 0 else pd.NA\n",
    "        month = published_date[1] if len(published_date) > 1 else pd.NA\n",
    "        day = published_date[2] if len(published_date) > 2 else pd.NA\n",
    "\n",
    "        \n",
    "        \n",
    "        return {\n",
    "            \"title\": title,\n",
    "            \"abstract\": abstract,\n",
    "            \"year\": year,\n",
    "            \"month\": month,\n",
    "            \"day\": day\n",
    "        }\n",
    "    else:\n",
    "        print(f\"Failed to fetch data for DOI {doi}. Status code: {response.status_code}\")\n",
    "        return None\n",
    "\n",
    "# Example usage\n",
    "doi = np.random.choice(unique_dois)\n",
    "metadata = fetch_article_metadata(doi)\n",
    "\n",
    "if metadata:\n",
    "    print(\"Title:\", metadata[\"title\"])\n",
    "    print(\"Abstract:\", metadata[\"abstract\"])\n"
   ]
  },
  {
   "cell_type": "code",
   "execution_count": 11,
   "metadata": {},
   "outputs": [
    {
     "name": "stdout",
     "output_type": "stream",
     "text": [
      "No DOI dataframe found at data/clean/df_doi.pkl. Creating a new one...\n"
     ]
    }
   ],
   "source": [
    "if os.path.exists(DOI_DF_PATH):\n",
    "    df_dois = pd.read_pickle(DOI_DF_PATH)\n",
    "    print('Loaded doi_df from', DOI_DF_PATH)\n",
    "else:\n",
    "    print(f'No DOI dataframe found at {DOI_DF_PATH}. Creating a new one...')\n",
    "    cols = ['fetched', 'title', 'abstract', 'year', 'month', 'day']\n",
    "\n",
    "    # Create an empty dataframe with doi as index and cols with nans\n",
    "    df_dois = pd.DataFrame(index=unique_dois, columns=cols)\n",
    "    df_dois['fetched'] = False\n",
    "\n",
    "    df_dois.index.name = 'doi'\n",
    "    df_dois.head()\n",
    "    "
   ]
  },
  {
   "cell_type": "code",
   "execution_count": 12,
   "metadata": {},
   "outputs": [
    {
     "name": "stdout",
     "output_type": "stream",
     "text": [
      "Not all articles were fetched. Fetching DOIS\n"
     ]
    },
    {
     "name": "stderr",
     "output_type": "stream",
     "text": [
      "  4%|▍         | 1731/40737 [03:35<1:39:07,  6.56it/s]"
     ]
    },
    {
     "name": "stdout",
     "output_type": "stream",
     "text": [
      "Failed to fetch data for DOI 10.1002/1439-7633(20010504)2. Status code: 404\n"
     ]
    },
    {
     "name": "stderr",
     "output_type": "stream",
     "text": [
      "  4%|▍         | 1752/40737 [03:37<1:35:03,  6.83it/s]"
     ]
    },
    {
     "name": "stdout",
     "output_type": "stream",
     "text": [
      "Failed to fetch data for DOI 10.1002/1439-7633(20010601)2. Status code: 404\n",
      "Failed to fetch data for DOI 10.1002/1439-7633(20020902)3:9. Status code: 404\n"
     ]
    },
    {
     "name": "stderr",
     "output_type": "stream",
     "text": [
      "  4%|▍         | 1789/40737 [03:42<1:20:36,  8.05it/s]"
     ]
    },
    {
     "name": "stdout",
     "output_type": "stream",
     "text": [
      "Failed to fetch data for DOI 10.1002/1439-7633(20021004)3:10. Status code: 404\n"
     ]
    },
    {
     "name": "stderr",
     "output_type": "stream",
     "text": [
      "  5%|▍         | 1872/40737 [03:52<1:22:52,  7.82it/s]"
     ]
    },
    {
     "name": "stdout",
     "output_type": "stream",
     "text": [
      "Failed to fetch data for DOI 10.1002/(SICI)1098-2396(199702)25:2. Status code: 404\n"
     ]
    },
    {
     "name": "stderr",
     "output_type": "stream",
     "text": [
      "  5%|▍         | 1970/40737 [04:04<1:20:42,  8.01it/s]"
     ]
    },
    {
     "name": "stdout",
     "output_type": "stream",
     "text": [
      "Failed to fetch data for DOI 10.1002/(SICI)1098-2396(19990601)32:3. Status code: 404\n"
     ]
    },
    {
     "name": "stderr",
     "output_type": "stream",
     "text": [
      "  5%|▍         | 1996/40737 [04:08<1:16:00,  8.49it/s]"
     ]
    },
    {
     "name": "stdout",
     "output_type": "stream",
     "text": [
      "Failed to fetch data for DOI 28357. Status code: 404\n"
     ]
    },
    {
     "name": "stderr",
     "output_type": "stream",
     "text": [
      "  5%|▍         | 2010/40737 [04:09<1:19:40,  8.10it/s]"
     ]
    },
    {
     "name": "stdout",
     "output_type": "stream",
     "text": [
      "Failed to fetch data for DOI 10.1002/1098-2396(20001215)38:4. Status code: 404\n",
      "Failed to fetch data for DOI 10.1002/1098-2396(20010101)39:1. Status code: 404\n"
     ]
    },
    {
     "name": "stderr",
     "output_type": "stream",
     "text": [
      "  5%|▍         | 2035/40737 [04:12<1:09:47,  9.24it/s]"
     ]
    },
    {
     "name": "stdout",
     "output_type": "stream",
     "text": [
      "Failed to fetch data for DOI 10.1002/1520-636X(2001)13:3. Status code: 404\n"
     ]
    },
    {
     "name": "stderr",
     "output_type": "stream",
     "text": [
      "  6%|▌         | 2386/40737 [04:56<1:27:12,  7.33it/s]"
     ]
    },
    {
     "name": "stdout",
     "output_type": "stream",
     "text": [
      "Failed to fetch data for DOI 0.1007/s00044-005-0126-y. Status code: 404\n"
     ]
    },
    {
     "name": "stderr",
     "output_type": "stream",
     "text": [
      " 72%|███████▏  | 29379/40737 [1:02:38<20:16,  9.34it/s]"
     ]
    },
    {
     "name": "stdout",
     "output_type": "stream",
     "text": [
      "Failed to fetch data for DOI 10.1097/01.aids.0000060380.78202.b5. Status code: 404\n"
     ]
    },
    {
     "name": "stderr",
     "output_type": "stream",
     "text": [
      "100%|██████████| 40737/40737 [1:26:21<00:00,  7.86it/s]\n"
     ]
    }
   ],
   "source": [
    "def fetch_and_update(doi):\n",
    "    if df_dois.loc[doi, 'fetched']:\n",
    "        return None\n",
    "\n",
    "    # Fetch article metadata with a random delay\n",
    "    article_info = fetch_article_metadata(doi)\n",
    "    if article_info is None:\n",
    "        df_dois.loc[doi, 'fetched'] = True\n",
    "        return None\n",
    "    for key, value in article_info.items():\n",
    "        df_dois.loc[doi, key] = value\n",
    "    df_dois.loc[doi, 'fetched'] = True\n",
    "    \n",
    "    # Sleep for a short, random time to avoid triggering rate limits\n",
    "    time.sleep(random.uniform(0.05, .5))\n",
    "\n",
    "if df_dois.fetched.all():\n",
    "    print('All articles were fetched. Saving df_dois')\n",
    "    df_dois.to_pickle(DOI_DF_PATH)\n",
    "else:\n",
    "    print('Not all articles were fetched. Fetching DOIS')\n",
    "    try:\n",
    "        with ThreadPoolExecutor(max_workers=5) as executor:\n",
    "            list(tqdm(executor.map(fetch_and_update, df_dois.index), total=len(df_dois.index)))\n",
    "    except: \n",
    "        print('Error, saving WIP.')\n",
    "        df_dois.to_pickle(DOI_DF_PATH)\n",
    "    \n"
   ]
  },
  {
   "cell_type": "code",
   "execution_count": 13,
   "metadata": {},
   "outputs": [],
   "source": [
    "# Now all the DOIs should be fetched using the API and the result saved in the dataframe\n",
    "assert df_dois['fetched'].all()"
   ]
  },
  {
   "cell_type": "code",
   "execution_count": 14,
   "metadata": {},
   "outputs": [
    {
     "data": {
      "text/plain": [
       "fetched     0.000000\n",
       "title       0.000687\n",
       "abstract    0.981786\n",
       "year        0.002848\n",
       "month       0.004198\n",
       "day         0.627292\n",
       "dtype: float64"
      ]
     },
     "execution_count": 14,
     "metadata": {},
     "output_type": "execute_result"
    }
   ],
   "source": [
    "# Show percentage of missing values per column?\n",
    "# We see abstract and day (of month) are not going to be very useful, but for the rest we almost always have data\n",
    "df_dois.isnull().mean()"
   ]
  },
  {
   "cell_type": "code",
   "execution_count": 15,
   "metadata": {},
   "outputs": [
    {
     "data": {
      "text/plain": [
       "<Axes: >"
      ]
     },
     "execution_count": 15,
     "metadata": {},
     "output_type": "execute_result"
    },
    {
     "data": {
      "image/png": "[encoded data removed]",
      "text/plain": [
       "<Figure size 640x480 with 1 Axes>"
      ]
     },
     "metadata": {},
     "output_type": "display_data"
    }
   ],
   "source": [
    "# Note, that most articles have more measuremetns in them\n",
    "df_dois['year'].hist()"
   ]
  },
  {
   "cell_type": "markdown",
   "metadata": {},
   "source": [
    "### Initial analysis on the affect of ligands to cancer related proteins "
   ]
  },
  {
   "cell_type": "markdown",
   "metadata": {},
   "source": []
  },
  {
   "cell_type": "code",
   "execution_count": 16,
   "metadata": {},
   "outputs": [],
   "source": [
    "cancer_keywords= [\n",
    "    # General Cancer Terms\n",
    "    \"Cancer\", \"Tumor\", \"Carcinoma\", \"Sarcoma\", \"Malignancy\", \"Neoplasm\", \n",
    "    \"Metastasis\", \"Oncogene\", \"Antineoplastic\", \"Chemotherapy\", \n",
    "    \"Radiotherapy\", \"Immunotherapy\", \"Targeted therapy\", \"Cytotoxic\", \"Cancerous\"\n",
    "    \n",
    "    # Types of Cancer - Common Solid Tumors\n",
    "    \"Breast cancer\", \"Lung cancer\", \"Colorectal cancer\", \"Pancreatic cancer\", \n",
    "    \"Prostate cancer\", \"Melanoma\", \"Ovarian cancer\", \"Brain tumor\", \n",
    "    \"Liver cancer\", \"Gastric cancer\", \"Esophageal cancer\", \"Kidney cancer\",\n",
    "    \n",
    "    # Types of Cancer - Hematological Malignancies\n",
    "    \"Leukemia\", \"Lymphoma\", \"Myeloma\", \"Hodgkin's lymphoma\", \n",
    "    \"Non-Hodgkin's lymphoma\", \"Chronic lymphocytic leukemia (CLL)\", \n",
    "    \"Acute myeloid leukemia (AML)\",\n",
    "    \n",
    "    # Molecular Targets and Mechanisms - Proteins\n",
    "    \"Tyrosine kinase\", \"EGFR\", \"HER2\", \"VEGF\", \"PD-1\", \"PD-L1\", \n",
    "    \"CTLA-4\", \"BCL-2\",\n",
    "    \n",
    "    # Molecular Targets and Mechanisms - Genes and Pathways\n",
    "    \"KRAS\", \"TP53\", \"BRCA1\", \"BRCA2\", \"MYC\", \"PI3K\", \"RAS/RAF/MEK/ERK pathway\", \n",
    "    \"JAK/STAT pathway\", \"Wnt signaling\", \"Hedgehog pathway\",\n",
    "    \n",
    "    # Molecular Targets and Mechanisms - Drug Mechanisms\n",
    "    \"Apoptosis inducer\", \"Angiogenesis inhibitor\", \"DNA alkylation\", \n",
    "    \"DNA intercalation\", \"Topoisomerase inhibitor\", \"Microtubule stabilizer\", \n",
    "    \"Immune checkpoint inhibitor\",\n",
    "    \n",
    "    # Specific Drug Classes\n",
    "    \"Alkylating agents\", \"Antimetabolites\", \"Anthracyclines\", \"Taxanes\", \n",
    "    \"Platinum compounds\", \"Monoclonal antibodies\", \"PARP inhibitors\", \n",
    "    \"CDK inhibitors\", \"HDAC inhibitors\", \"Proteasome inhibitors\", \n",
    "    \"mTOR inhibitors\",\n",
    "    \n",
    "    # Treatment-Related Terms\n",
    "    \"Cytotoxicity\", \"Resistance\", \"Hormone therapy\", \"Anti-angiogenic\", \n",
    "    \"Cell cycle arrest\", \"Radiosensitizer\", \"Synergistic therapy\",\n",
    "    \n",
    "    # Emerging Terms\n",
    "    \"Precision oncology\", \"Epigenetic modulation\", \n",
    "    \"Adoptive cell therapy\", \"CAR-T cell therapy\", \"Tumor microenvironment\", \n",
    "    \"Cancer stem cells\"\n",
    "]"
   ]
  },
  {
   "cell_type": "markdown",
   "metadata": {},
   "source": [
    "**We will rely on other columns (like Target Name) and further metadata to get the cancers and mutants more accurately**"
   ]
  },
  {
   "cell_type": "code",
   "execution_count": 17,
   "metadata": {},
   "outputs": [],
   "source": [
    "import re\n",
    "\n",
    "# Create a single regex pattern from the list of terms (case-insensitive)\n",
    "pattern = '|'.join(rf\"\\b{re.escape(term)}\\b\" for term in cancer_keywords)\n",
    "\n",
    "# Filter rows where \"specific-description\" contains any of the cancer terms\n",
    "filtered_df = merged_df[merged_df['specific-function'].str.contains(pattern, case=False, na=False)]"
   ]
  },
  {
   "cell_type": "code",
   "execution_count": 18,
   "metadata": {},
   "outputs": [],
   "source": [
    "\n",
    "mutant_keywords = [\n",
    "    \"mutation\",\n",
    "    \"oncogenesis\", \"tumorigenesis\", \"apoptosis\", \"angiogenesis\", \"HER2\", \"BRAF\", \"KRAS\", \"EGFR\",\n",
    "    \"BRCA1\", \"BRCA2\", \"P53\", \"MDM2\", \"CDK4\", \"CDK6\", \"V600\", \"G12\"\n",
    "]\n"
   ]
  },
  {
   "cell_type": "code",
   "execution_count": 19,
   "metadata": {},
   "outputs": [],
   "source": [
    "pattern_mutant = '|'.join(rf\"\\b{re.escape(term)}\\b\" for term in mutant_keywords)\n",
    "\n",
    "# Filter rows where \"specific-description\" contains any of the mutant terms\n",
    "mutant_df = filtered_df[filtered_df['specific-function'].str.contains(pattern_mutant, case=False, na=False)]"
   ]
  },
  {
   "cell_type": "code",
   "execution_count": 20,
   "metadata": {},
   "outputs": [
    {
     "name": "stdout",
     "output_type": "stream",
     "text": [
      "We have 26774 cancer related proteins and out of them possibly 17816 are mutant related\n"
     ]
    }
   ],
   "source": [
    "print(f\"We have {len(filtered_df)} cancer related proteins and out of them possibly {len(mutant_df)} are mutant related\")"
   ]
  },
  {
   "cell_type": "code",
   "execution_count": 21,
   "metadata": {},
   "outputs": [],
   "source": [
    "affinity_cols = [\"ki\", \"kd\"] ## Measures of binding affinity\n",
    "ec_ic = [\"ic50\"] #### Measures of inhibitory (IC50) and effective concentrations (EC50)\n",
    "bind_unbind = [\"kon\"] ## Rates of binding / unbinding of ligands\n",
    "\n",
    "binding_ligand_efficency_cols = affinity_cols + ec_ic + bind_unbind"
   ]
  },
  {
   "cell_type": "markdown",
   "metadata": {},
   "source": [
    "#### Visualizing basic numerical data about the ligand-protein binding efficency and the environment in which they were tested"
   ]
  },
  {
   "cell_type": "code",
   "execution_count": 22,
   "metadata": {},
   "outputs": [
    {
     "data": {
      "image/png": "[encoded data removed]",
      "text/plain": [
       "<Figure size 640x480 with 1 Axes>"
      ]
     },
     "metadata": {},
     "output_type": "display_data"
    }
   ],
   "source": [
    "for i in range(len(affinity_cols)):\n",
    "    plt.boxplot(filtered_df[affinity_cols[i]].dropna(), positions = [i], widths=0.5)\n",
    "plt.title(\"Measures of binding affinitiy\")\n",
    "plt.xticks(range(len(affinity_cols)), affinity_cols)\n",
    "plt.yscale('log')\n",
    "plt.show()"
   ]
  },
  {
   "cell_type": "code",
   "execution_count": 23,
   "metadata": {},
   "outputs": [
    {
     "data": {
      "image/png": "[encoded data removed]",
      "text/plain": [
       "<Figure size 640x480 with 1 Axes>"
      ]
     },
     "metadata": {},
     "output_type": "display_data"
    }
   ],
   "source": [
    "plt.boxplot(filtered_df[\"ic50\"].dropna(), positions = [i], widths=0.5)\n",
    "plt.title(\"Measures of inhibitory (IC50)\")\n",
    "plt.xticks(range(len(ec_ic)), ec_ic)\n",
    "#plt.ylim([-0.3, 1000])\n",
    "plt.yscale('log')\n",
    "plt.show()"
   ]
  },
  {
   "cell_type": "code",
   "execution_count": 24,
   "metadata": {},
   "outputs": [
    {
     "data": {
      "text/plain": [
       "Text(0.5, 1.0, 'Histogram of NaN percentages for columns')"
      ]
     },
     "execution_count": 24,
     "metadata": {},
     "output_type": "execute_result"
    },
    {
     "data": {
      "image/png": "[encoded data removed]",
      "text/plain": [
       "<Figure size 640x480 with 1 Axes>"
      ]
     },
     "metadata": {},
     "output_type": "display_data"
    }
   ],
   "source": [
    "nan_counts_per_col = merged_df.isna().mean(axis=0)*100\n",
    "nan_counts_per_col.plot(kind='bar', color='skyblue', edgecolor='black')\n",
    "plt.title(\"Histogram of NaN percentages for columns\")"
   ]
  },
  {
   "cell_type": "code",
   "execution_count": 25,
   "metadata": {},
   "outputs": [
    {
     "data": {
      "text/plain": [
       "Text(0.5, 0, 'ph')"
      ]
     },
     "execution_count": 25,
     "metadata": {},
     "output_type": "execute_result"
    },
    {
     "data": {
      "image/png": "[encoded data removed]",
      "text/plain": [
       "<Figure size 1200x600 with 1 Axes>"
      ]
     },
     "metadata": {},
     "output_type": "display_data"
    }
   ],
   "source": [
    "plt.figure(figsize=(12, 6)) \n",
    "merged_df['ph'].hist(bins = 50)\n",
    "plt.xticks(np.arange(15))\n",
    "plt.title(\"ph values\")\n",
    "plt.xlabel(\"ph\")\n"
   ]
  },
  {
   "cell_type": "code",
   "execution_count": 26,
   "metadata": {},
   "outputs": [
    {
     "data": {
      "text/plain": [
       "Text(0.5, 0, 'Celsius degrees')"
      ]
     },
     "execution_count": 26,
     "metadata": {},
     "output_type": "execute_result"
    },
    {
     "data": {
      "image/png": "[encoded data removed]",
      "text/plain": [
       "<Figure size 1200x600 with 1 Axes>"
      ]
     },
     "metadata": {},
     "output_type": "display_data"
    }
   ],
   "source": [
    "plt.figure(figsize=(12, 6)) \n",
    "merged_df['temp'].hist(bins = 500)\n",
    "plt.title(\"Temperature values in Celsius\")\n",
    "plt.xlim([0, 100])\n",
    "plt.xlabel(\"Celsius degrees\")"
   ]
  },
  {
   "cell_type": "markdown",
   "metadata": {},
   "source": [
    "### Mutations\n",
    "- Correlation between metrics of biding affinity, dosage, etc\n",
    "- Possibly trying to see some groupings of data points (similarity in structure, metrics, types of disease being fought, ...)"
   ]
  },
  {
   "cell_type": "code",
   "execution_count": 27,
   "metadata": {},
   "outputs": [],
   "source": [
    "import seaborn as sns\n",
    "import networkx as nx\n",
    "import statsmodels.api as sm\n",
    "import statsmodels.formula.api as smf\n",
    "\n",
    "from statsmodels.stats import diagnostic\n",
    "from scipy import stats\n"
   ]
  },
  {
   "cell_type": "code",
   "execution_count": 28,
   "metadata": {},
   "outputs": [],
   "source": [
    "merged_df_2 = merged_df[[\"ki\", \"ic50\", \"kd\", \"ph\", \"temp\"]].dropna()"
   ]
  },
  {
   "cell_type": "code",
   "execution_count": 29,
   "metadata": {},
   "outputs": [
    {
     "data": {
      "text/html": [
       "<div>\n",
       "<style scoped>\n",
       "    .dataframe tbody tr th:only-of-type {\n",
       "        vertical-align: middle;\n",
       "    }\n",
       "\n",
       "    .dataframe tbody tr th {\n",
       "        vertical-align: top;\n",
       "    }\n",
       "\n",
       "    .dataframe thead th {\n",
       "        text-align: right;\n",
       "    }\n",
       "</style>\n",
       "<table border=\"1\" class=\"dataframe\">\n",
       "  <thead>\n",
       "    <tr style=\"text-align: right;\">\n",
       "      <th></th>\n",
       "      <th>ki</th>\n",
       "      <th>ic50</th>\n",
       "      <th>kd</th>\n",
       "      <th>ph</th>\n",
       "      <th>temp</th>\n",
       "    </tr>\n",
       "  </thead>\n",
       "  <tbody>\n",
       "    <tr>\n",
       "      <th>32414</th>\n",
       "      <td>50.0</td>\n",
       "      <td>2000.0</td>\n",
       "      <td>270.0</td>\n",
       "      <td>7.5</td>\n",
       "      <td>25.0</td>\n",
       "    </tr>\n",
       "    <tr>\n",
       "      <th>403630</th>\n",
       "      <td>5500.0</td>\n",
       "      <td>19600.0</td>\n",
       "      <td>496.0</td>\n",
       "      <td>7.3</td>\n",
       "      <td>25.0</td>\n",
       "    </tr>\n",
       "    <tr>\n",
       "      <th>403631</th>\n",
       "      <td>91100.0</td>\n",
       "      <td>335000.0</td>\n",
       "      <td>954.0</td>\n",
       "      <td>7.3</td>\n",
       "      <td>25.0</td>\n",
       "    </tr>\n",
       "    <tr>\n",
       "      <th>403633</th>\n",
       "      <td>2800.0</td>\n",
       "      <td>9900.0</td>\n",
       "      <td>256.0</td>\n",
       "      <td>7.3</td>\n",
       "      <td>25.0</td>\n",
       "    </tr>\n",
       "    <tr>\n",
       "      <th>403635</th>\n",
       "      <td>2000.0</td>\n",
       "      <td>7200.0</td>\n",
       "      <td>264.0</td>\n",
       "      <td>7.3</td>\n",
       "      <td>25.0</td>\n",
       "    </tr>\n",
       "    <tr>\n",
       "      <th>403637</th>\n",
       "      <td>9600.0</td>\n",
       "      <td>34100.0</td>\n",
       "      <td>380.0</td>\n",
       "      <td>7.3</td>\n",
       "      <td>25.0</td>\n",
       "    </tr>\n",
       "    <tr>\n",
       "      <th>403638</th>\n",
       "      <td>96600.0</td>\n",
       "      <td>341000.0</td>\n",
       "      <td>496.0</td>\n",
       "      <td>7.4</td>\n",
       "      <td>25.0</td>\n",
       "    </tr>\n",
       "    <tr>\n",
       "      <th>403639</th>\n",
       "      <td>14900.0</td>\n",
       "      <td>52700.0</td>\n",
       "      <td>291.0</td>\n",
       "      <td>7.4</td>\n",
       "      <td>25.0</td>\n",
       "    </tr>\n",
       "    <tr>\n",
       "      <th>403640</th>\n",
       "      <td>355500.0</td>\n",
       "      <td>1258500.0</td>\n",
       "      <td>264.0</td>\n",
       "      <td>7.4</td>\n",
       "      <td>25.0</td>\n",
       "    </tr>\n",
       "  </tbody>\n",
       "</table>\n",
       "</div>"
      ],
      "text/plain": [
       "              ki       ic50     kd   ph  temp\n",
       "32414       50.0     2000.0  270.0  7.5  25.0\n",
       "403630    5500.0    19600.0  496.0  7.3  25.0\n",
       "403631   91100.0   335000.0  954.0  7.3  25.0\n",
       "403633    2800.0     9900.0  256.0  7.3  25.0\n",
       "403635    2000.0     7200.0  264.0  7.3  25.0\n",
       "403637    9600.0    34100.0  380.0  7.3  25.0\n",
       "403638   96600.0   341000.0  496.0  7.4  25.0\n",
       "403639   14900.0    52700.0  291.0  7.4  25.0\n",
       "403640  355500.0  1258500.0  264.0  7.4  25.0"
      ]
     },
     "execution_count": 29,
     "metadata": {},
     "output_type": "execute_result"
    }
   ],
   "source": [
    "merged_df_2"
   ]
  },
  {
   "cell_type": "code",
   "execution_count": 30,
   "metadata": {},
   "outputs": [
    {
     "name": "stdout",
     "output_type": "stream",
     "text": [
      "(0.3316297918004256, 0.005464736952897225)\n",
      "(0.45962321542124196, 0.0015567131690047327)\n",
      "(0.3329414971146777, 0.005055785987452595)\n",
      "(0.4610074446102134, 0.0014676254914479862)\n",
      "(0.25237112659389244, 0.09962614601795748)\n",
      "(0.4661401359792068, 0.001137290343683231)\n"
     ]
    }
   ],
   "source": [
    "print(diagnostic.kstest_normal(merged_df_2[\"ki\"].values, dist = 'norm'))\n",
    "print(diagnostic.kstest_normal(merged_df_2[\"ki\"].values, dist = 'exp'))\n",
    "print(diagnostic.kstest_normal(merged_df_2[\"ic50\"].values, dist = 'norm'))\n",
    "print(diagnostic.kstest_normal(merged_df_2[\"ic50\"].values, dist = 'exp'))\n",
    "print(diagnostic.kstest_normal(merged_df_2[\"kd\"].values, dist = 'norm'))\n",
    "print(diagnostic.kstest_normal(merged_df_2[\"kd\"].values, dist = 'exp'))"
   ]
  }
 ],
 "metadata": {
  "kernelspec": {
   "display_name": "epfl-master",
   "language": "python",
   "name": "python3"
  },
  "language_info": {
   "codemirror_mode": {
    "name": "ipython",
    "version": 3
   },
   "file_extension": ".py",
   "mimetype": "text/x-python",
   "name": "python",
   "nbconvert_exporter": "python",
   "pygments_lexer": "ipython3",
   "version": "3.11.9"
  }
 },
 "nbformat": 4,
 "nbformat_minor": 4
}
