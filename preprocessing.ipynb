{
 "cells": [
  {
   "cell_type": "markdown",
   "metadata": {},
   "source": [
    "##\n"
   ]
  },
  {
   "cell_type": "markdown",
   "metadata": {},
   "source": [
    "#### To create the dataframes and files needed for our analysis, make sure that:\n",
    "\n",
    "Make sure you have the following files in `data/raw`:\n",
    "  1. [full_database.xml](https://drive.google.com/file/d/1149kYVkazq67e0vuv-_4APyqVX6yyh2p), which will represent the XML version of the DrugBank\n",
    "  2. [BindingDB_All.tsv](https://www.bindingdb.org/bind/downloads/BindingDB_All_202411_tsv.zip), which will represent the tsv version of the BindingDB"
   ]
  },
  {
   "cell_type": "markdown",
   "metadata": {},
   "source": [
    "### Imports"
   ]
  },
  {
   "cell_type": "code",
   "execution_count": 45,
   "metadata": {},
   "outputs": [
    {
     "name": "stdout",
     "output_type": "stream",
     "text": [
      "The autoreload extension is already loaded. To reload it, use:\n",
      "  %reload_ext autoreload\n"
     ]
    }
   ],
   "source": [
    "import os\n",
    "import gc\n",
    "import re\n",
    "import requests\n",
    "import time\n",
    "import random\n",
    "\n",
    "import numpy as np\n",
    "import pandas as pd\n",
    "\n",
    "import matplotlib.pyplot as plt\n",
    "import xml.etree.ElementTree as ET\n",
    "from tqdm import tqdm\n",
    "import pandas as pd\n",
    "from concurrent.futures import ThreadPoolExecutor\n",
    "\n",
    "from drugbank_XML_drugparser import DrugParser\n",
    "from drugbank_bindingdb_merger import DrugBank_BindingDB_Merger\n",
    "from preprocessing import Preprocessing, ColumnClean\n",
    "\n",
    "from data_paths import *\n",
    "\n",
    "%matplotlib inline\n",
    "\n",
    "%load_ext autoreload\n",
    "%autoreload 2"
   ]
  },
  {
   "cell_type": "markdown",
   "metadata": {},
   "source": [
    "## Parsing and cleaning BindingDB"
   ]
  },
  {
   "cell_type": "code",
   "execution_count": 11,
   "metadata": {},
   "outputs": [
    {
     "name": "stdout",
     "output_type": "stream",
     "text": [
      "Creating clean BindingDB...\n",
      "Lodaing Binding DB...\n"
     ]
    },
    {
     "name": "stderr",
     "output_type": "stream",
     "text": [
      "/tmp/ipykernel_65786/3837726181.py:7: DtypeWarning: Columns (8,9,10,12,15,17,32,33,35,36,54) have mixed types. Specify dtype option on import or set low_memory=False.\n",
      "  return pd.read_csv(file_path, sep='\\t', header=0, usecols=cols)\n"
     ]
    },
    {
     "name": "stdout",
     "output_type": "stream",
     "text": [
      "Cleaning Binding DB...\n"
     ]
    }
   ],
   "source": [
    "if os.path.exists(BINDINGDB_CLEAN):\n",
    "    print(\"BindingDB clean exists...\")\n",
    "    clean_binding_df = pd.read_pickle(BINDINGDB_CLEAN)\n",
    "else:\n",
    "    print(\"Creating clean BindingDB...\")\n",
    "    def load_BindingDB(file_path, cols):\n",
    "        return pd.read_csv(file_path, sep='\\t', header=0, usecols=cols)\n",
    "\n",
    "    \"\"\"\n",
    "    This method srips all non-numeric characters from the value.\n",
    "\n",
    "    For example, the temperature is always given as 12C or 14.2C, so we remove the C.\n",
    "\n",
    "    In come cases, mesured values are given as >10000 or <.01. In these cases, we just take the bound, as it is still better then loosing all the information by replacing it with NA.\n",
    "    \"\"\"\n",
    "    def keep_just_numeric(value):\n",
    "        if type(value) != str:\n",
    "            if type(value) == float or type(value) == int:\n",
    "                return value\n",
    "            else:\n",
    "                return pd.NA\n",
    "\n",
    "        ## All non-numeric characters (except the decimal .) should be replaced\n",
    "        cleaned_val = re.sub(r'[^\\d.]+','', str(value)) \n",
    "        if(cleaned_val == ''): # It didn't contain any number?\n",
    "            return pd.NA\n",
    "        return float(cleaned_val)\n",
    "\n",
    "    def parse_int(value):\n",
    "        try:\n",
    "            return int(value)\n",
    "        except:\n",
    "            return pd.NA\n",
    "    # First, we specify which \n",
    "    bdb_preprocessor = Preprocessing(\n",
    "        [\n",
    "            ColumnClean('Ki (nM)', 'ki', clean=keep_just_numeric),\n",
    "            ColumnClean('pH', 'ph', clean=keep_just_numeric),\n",
    "            ColumnClean('Temp (C)', 'temp', clean=keep_just_numeric),\n",
    "            ColumnClean('IC50 (nM)', 'ic50', clean=keep_just_numeric),\n",
    "            ColumnClean('Kd (nM)', 'kd', clean=keep_just_numeric),\n",
    "            ColumnClean('kon (M-1-s-1)', 'kon', clean=keep_just_numeric),\n",
    "\n",
    "            # These columns are supposed to contain strings.\n",
    "            ColumnClean('Article DOI', 'doi'),\n",
    "\n",
    "            # We use these IDs to join bindingDB and drugbank\n",
    "            ColumnClean('PubChem CID', 'pubchem_cid'),\n",
    "            ColumnClean('ChEBI ID of Ligand', 'chebi_id'),\n",
    "            ColumnClean('ChEMBL ID of Ligand', 'chembl_id'),\n",
    "            ColumnClean('DrugBank ID of Ligand', 'drugbank_id'),\n",
    "            ColumnClean('KEGG ID of Ligand', 'kegg_id'),\n",
    "            ColumnClean('ZINC ID of Ligand', 'zinc_id'),\n",
    "            ColumnClean('Ligand SMILES', 'smiles'),\n",
    "            ColumnClean('Ligand InChI Key', 'inchi_key'),\n",
    "            ColumnClean('BindingDB MonomerID', 'bindingdb_id', clean=parse_int),\n",
    "            ColumnClean('PubChem CID','pubchem_cid'),\n",
    "            ColumnClean('UniProt (SwissProt) Primary ID of Target Chain.1', 'swissprot_protein_id'),\n",
    "        ]\n",
    "    )\n",
    "\n",
    "    print(\"Lodaing Binding DB...\")\n",
    "    raw_binding_df = load_BindingDB(BINDINGDB_RAW, bdb_preprocessor.get_all_old_columns())\n",
    "\n",
    "    print(\"Cleaning Binding DB...\")\n",
    "    clean_binding_df = bdb_preprocessor.transform(raw_binding_df)\n",
    "    clean_binding_df.to_pickle(BINDINGDB_CLEAN)\n",
    "\n",
    "    assert len(clean_binding_df) == len(raw_binding_df)\n"
   ]
  },
  {
   "cell_type": "code",
   "execution_count": 12,
   "metadata": {},
   "outputs": [
    {
     "data": {
      "text/html": [
       "<div>\n",
       "<style scoped>\n",
       "    .dataframe tbody tr th:only-of-type {\n",
       "        vertical-align: middle;\n",
       "    }\n",
       "\n",
       "    .dataframe tbody tr th {\n",
       "        vertical-align: top;\n",
       "    }\n",
       "\n",
       "    .dataframe thead th {\n",
       "        text-align: right;\n",
       "    }\n",
       "</style>\n",
       "<table border=\"1\" class=\"dataframe\">\n",
       "  <thead>\n",
       "    <tr style=\"text-align: right;\">\n",
       "      <th></th>\n",
       "      <th>ki</th>\n",
       "      <th>ph</th>\n",
       "      <th>temp</th>\n",
       "      <th>ic50</th>\n",
       "      <th>kd</th>\n",
       "      <th>kon</th>\n",
       "      <th>doi</th>\n",
       "      <th>pubchem_cid</th>\n",
       "      <th>chebi_id</th>\n",
       "      <th>chembl_id</th>\n",
       "      <th>drugbank_id</th>\n",
       "      <th>kegg_id</th>\n",
       "      <th>zinc_id</th>\n",
       "      <th>smiles</th>\n",
       "      <th>inchi_key</th>\n",
       "      <th>bindingdb_id</th>\n",
       "      <th>swissprot_protein_id</th>\n",
       "    </tr>\n",
       "  </thead>\n",
       "  <tbody>\n",
       "    <tr>\n",
       "      <th>1523365</th>\n",
       "      <td>&lt;NA&gt;</td>\n",
       "      <td>&lt;NA&gt;</td>\n",
       "      <td>&lt;NA&gt;</td>\n",
       "      <td>750.0</td>\n",
       "      <td>&lt;NA&gt;</td>\n",
       "      <td>&lt;NA&gt;</td>\n",
       "      <td>10.1016/j.bmcl.2005.06.100</td>\n",
       "      <td>44403564</td>\n",
       "      <td>&lt;NA&gt;</td>\n",
       "      <td>CHEMBL197265</td>\n",
       "      <td>&lt;NA&gt;</td>\n",
       "      <td>&lt;NA&gt;</td>\n",
       "      <td>ZINC28525355</td>\n",
       "      <td>C[C@@]1(CCC[C@@]2(C)[C@H]1CCc1ccccc21)C(=O)N1C...</td>\n",
       "      <td>YOBSSBAJFVWQAA-CMYDWJSCSA-N</td>\n",
       "      <td>50172198</td>\n",
       "      <td>&lt;NA&gt;</td>\n",
       "    </tr>\n",
       "    <tr>\n",
       "      <th>2427874</th>\n",
       "      <td>&lt;NA&gt;</td>\n",
       "      <td>&lt;NA&gt;</td>\n",
       "      <td>&lt;NA&gt;</td>\n",
       "      <td>603.0</td>\n",
       "      <td>&lt;NA&gt;</td>\n",
       "      <td>&lt;NA&gt;</td>\n",
       "      <td>10.1016/j.bmc.2007.01.011</td>\n",
       "      <td>44329694</td>\n",
       "      <td>&lt;NA&gt;</td>\n",
       "      <td>CHEMBL99148</td>\n",
       "      <td>&lt;NA&gt;</td>\n",
       "      <td>&lt;NA&gt;</td>\n",
       "      <td>ZINC26731361</td>\n",
       "      <td>CCS(=O)(=O)N(C)C[C@@H]([C@@H](CC1CCCC1)C(=O)N1...</td>\n",
       "      <td>ZVAKMIZOMSWYGQ-SJORKVTESA-N</td>\n",
       "      <td>50081867</td>\n",
       "      <td>&lt;NA&gt;</td>\n",
       "    </tr>\n",
       "    <tr>\n",
       "      <th>2030534</th>\n",
       "      <td>&lt;NA&gt;</td>\n",
       "      <td>&lt;NA&gt;</td>\n",
       "      <td>&lt;NA&gt;</td>\n",
       "      <td>25000.0</td>\n",
       "      <td>&lt;NA&gt;</td>\n",
       "      <td>&lt;NA&gt;</td>\n",
       "      <td>10.1021/jm00169a035</td>\n",
       "      <td>14460014</td>\n",
       "      <td>&lt;NA&gt;</td>\n",
       "      <td>CHEMBL293858</td>\n",
       "      <td>&lt;NA&gt;</td>\n",
       "      <td>&lt;NA&gt;</td>\n",
       "      <td>ZINC84462548</td>\n",
       "      <td>CSCCNC(=O)C1C(=O)N2c3c1cccc3CCc1ccccc21</td>\n",
       "      <td>UKJQNVZYVCJTLI-UHFFFAOYSA-N</td>\n",
       "      <td>50012818</td>\n",
       "      <td>P35355</td>\n",
       "    </tr>\n",
       "    <tr>\n",
       "      <th>2410984</th>\n",
       "      <td>1000.0</td>\n",
       "      <td>&lt;NA&gt;</td>\n",
       "      <td>&lt;NA&gt;</td>\n",
       "      <td>&lt;NA&gt;</td>\n",
       "      <td>&lt;NA&gt;</td>\n",
       "      <td>&lt;NA&gt;</td>\n",
       "      <td>10.1016/j.bmcl.2010.09.090</td>\n",
       "      <td>3213606</td>\n",
       "      <td>&lt;NA&gt;</td>\n",
       "      <td>CHEMBL1271701</td>\n",
       "      <td>&lt;NA&gt;</td>\n",
       "      <td>&lt;NA&gt;</td>\n",
       "      <td>ZINC04860325</td>\n",
       "      <td>Cc1occc1-c1nnc(SCC(=O)Nc2ccccc2)n1Cc1ccco1</td>\n",
       "      <td>YGBDBOGSRZEGDB-UHFFFAOYSA-N</td>\n",
       "      <td>50417240</td>\n",
       "      <td>&lt;NA&gt;</td>\n",
       "    </tr>\n",
       "    <tr>\n",
       "      <th>1665375</th>\n",
       "      <td>&lt;NA&gt;</td>\n",
       "      <td>&lt;NA&gt;</td>\n",
       "      <td>&lt;NA&gt;</td>\n",
       "      <td>220.0</td>\n",
       "      <td>&lt;NA&gt;</td>\n",
       "      <td>&lt;NA&gt;</td>\n",
       "      <td>10.1016/j.bmc.2014.06.001</td>\n",
       "      <td>11696652</td>\n",
       "      <td>&lt;NA&gt;</td>\n",
       "      <td>&lt;NA&gt;</td>\n",
       "      <td>&lt;NA&gt;</td>\n",
       "      <td>&lt;NA&gt;</td>\n",
       "      <td>ZINC13676605</td>\n",
       "      <td>O=C(NCC#N)[C@H](Cc1ccccc1)NC(=O)c1ccc(cc1)-c1c...</td>\n",
       "      <td>DWFFMEGYLGKXHE-QFIPXVFZSA-N</td>\n",
       "      <td>20120</td>\n",
       "      <td>&lt;NA&gt;</td>\n",
       "    </tr>\n",
       "    <tr>\n",
       "      <th>2533290</th>\n",
       "      <td>&lt;NA&gt;</td>\n",
       "      <td>&lt;NA&gt;</td>\n",
       "      <td>&lt;NA&gt;</td>\n",
       "      <td>12589.0</td>\n",
       "      <td>&lt;NA&gt;</td>\n",
       "      <td>&lt;NA&gt;</td>\n",
       "      <td>10.1016/j.bmcl.2018.09.022</td>\n",
       "      <td>145980932</td>\n",
       "      <td>&lt;NA&gt;</td>\n",
       "      <td>&lt;NA&gt;</td>\n",
       "      <td>&lt;NA&gt;</td>\n",
       "      <td>&lt;NA&gt;</td>\n",
       "      <td>&lt;NA&gt;</td>\n",
       "      <td>COc1ccc(cc1)-c1nc(C)ccc1OCc1ccc(C)cn1</td>\n",
       "      <td>JKCRHCLUTJEMBH-UHFFFAOYSA-N</td>\n",
       "      <td>50467671</td>\n",
       "      <td>&lt;NA&gt;</td>\n",
       "    </tr>\n",
       "    <tr>\n",
       "      <th>1663146</th>\n",
       "      <td>&lt;NA&gt;</td>\n",
       "      <td>&lt;NA&gt;</td>\n",
       "      <td>&lt;NA&gt;</td>\n",
       "      <td>31.0</td>\n",
       "      <td>&lt;NA&gt;</td>\n",
       "      <td>&lt;NA&gt;</td>\n",
       "      <td>10.1016/j.bmcl.2004.03.090</td>\n",
       "      <td>10000872</td>\n",
       "      <td>&lt;NA&gt;</td>\n",
       "      <td>CHEMBL430694</td>\n",
       "      <td>&lt;NA&gt;</td>\n",
       "      <td>&lt;NA&gt;</td>\n",
       "      <td>ZINC03819649</td>\n",
       "      <td>OCCCn1cc(C2=C(C(=O)NC2=O)c2cccc3ccccc23)c2cccnc12</td>\n",
       "      <td>RLESTJQOEHIBLM-UHFFFAOYSA-N</td>\n",
       "      <td>50147469</td>\n",
       "      <td>&lt;NA&gt;</td>\n",
       "    </tr>\n",
       "    <tr>\n",
       "      <th>2732382</th>\n",
       "      <td>&lt;NA&gt;</td>\n",
       "      <td>&lt;NA&gt;</td>\n",
       "      <td>&lt;NA&gt;</td>\n",
       "      <td>9.0</td>\n",
       "      <td>&lt;NA&gt;</td>\n",
       "      <td>&lt;NA&gt;</td>\n",
       "      <td>10.1016/j.bmcl.2020.127205</td>\n",
       "      <td>156012837</td>\n",
       "      <td>&lt;NA&gt;</td>\n",
       "      <td>&lt;NA&gt;</td>\n",
       "      <td>&lt;NA&gt;</td>\n",
       "      <td>&lt;NA&gt;</td>\n",
       "      <td>&lt;NA&gt;</td>\n",
       "      <td>CC[C@H](NS(=O)(=O)c1ccc(-c2sc(nc2C(=O)N2CCC(F)...</td>\n",
       "      <td>ODLJZSVWTFUBLM-AWEZNQCLSA-N</td>\n",
       "      <td>50542530</td>\n",
       "      <td>&lt;NA&gt;</td>\n",
       "    </tr>\n",
       "    <tr>\n",
       "      <th>839808</th>\n",
       "      <td>&lt;NA&gt;</td>\n",
       "      <td>&lt;NA&gt;</td>\n",
       "      <td>&lt;NA&gt;</td>\n",
       "      <td>3.6</td>\n",
       "      <td>&lt;NA&gt;</td>\n",
       "      <td>&lt;NA&gt;</td>\n",
       "      <td>&lt;NA&gt;</td>\n",
       "      <td>122690187</td>\n",
       "      <td>&lt;NA&gt;</td>\n",
       "      <td>&lt;NA&gt;</td>\n",
       "      <td>&lt;NA&gt;</td>\n",
       "      <td>&lt;NA&gt;</td>\n",
       "      <td>&lt;NA&gt;</td>\n",
       "      <td>Cn1c(nc2cc(ccc12)C(=O)NO)-c1ccc(cc1)-c1ccccc1</td>\n",
       "      <td>XHZZHUQIJCWDGT-UHFFFAOYSA-N</td>\n",
       "      <td>425891</td>\n",
       "      <td>&lt;NA&gt;</td>\n",
       "    </tr>\n",
       "    <tr>\n",
       "      <th>1269226</th>\n",
       "      <td>&lt;NA&gt;</td>\n",
       "      <td>&lt;NA&gt;</td>\n",
       "      <td>&lt;NA&gt;</td>\n",
       "      <td>1.6</td>\n",
       "      <td>&lt;NA&gt;</td>\n",
       "      <td>&lt;NA&gt;</td>\n",
       "      <td>&lt;NA&gt;</td>\n",
       "      <td>139465944</td>\n",
       "      <td>&lt;NA&gt;</td>\n",
       "      <td>&lt;NA&gt;</td>\n",
       "      <td>&lt;NA&gt;</td>\n",
       "      <td>&lt;NA&gt;</td>\n",
       "      <td>&lt;NA&gt;</td>\n",
       "      <td>CC1CN(CCO1)c1ccncc1NC(=O)c1ccnn2cc(nc12)C1=CCCCC1</td>\n",
       "      <td>ZLWLGUFTYZQJRI-UHFFFAOYSA-N</td>\n",
       "      <td>610487</td>\n",
       "      <td>&lt;NA&gt;</td>\n",
       "    </tr>\n",
       "    <tr>\n",
       "      <th>397769</th>\n",
       "      <td>&lt;NA&gt;</td>\n",
       "      <td>&lt;NA&gt;</td>\n",
       "      <td>25.0</td>\n",
       "      <td>4.0</td>\n",
       "      <td>&lt;NA&gt;</td>\n",
       "      <td>&lt;NA&gt;</td>\n",
       "      <td>&lt;NA&gt;</td>\n",
       "      <td>89473738</td>\n",
       "      <td>&lt;NA&gt;</td>\n",
       "      <td>&lt;NA&gt;</td>\n",
       "      <td>&lt;NA&gt;</td>\n",
       "      <td>&lt;NA&gt;</td>\n",
       "      <td>&lt;NA&gt;</td>\n",
       "      <td>NC(=O)c1cn(nc1Nc1ccccc1)C1(CC#N)CCN(CC1)C(=O)O...</td>\n",
       "      <td>SEZDMKLNVLKPJW-UHFFFAOYSA-N</td>\n",
       "      <td>229205</td>\n",
       "      <td>&lt;NA&gt;</td>\n",
       "    </tr>\n",
       "    <tr>\n",
       "      <th>2463547</th>\n",
       "      <td>&lt;NA&gt;</td>\n",
       "      <td>&lt;NA&gt;</td>\n",
       "      <td>&lt;NA&gt;</td>\n",
       "      <td>600000.0</td>\n",
       "      <td>&lt;NA&gt;</td>\n",
       "      <td>&lt;NA&gt;</td>\n",
       "      <td>10.1016/j.bmcl.2013.06.002</td>\n",
       "      <td>71725364</td>\n",
       "      <td>&lt;NA&gt;</td>\n",
       "      <td>CHEMBL2409528</td>\n",
       "      <td>&lt;NA&gt;</td>\n",
       "      <td>&lt;NA&gt;</td>\n",
       "      <td>ZINC96273585</td>\n",
       "      <td>CC(C)C[C@H](N)C(=O)N[C@@H](CC(C)C)C(=O)N[C@@H]...</td>\n",
       "      <td>WBWNZQJALGMLKU-XZSFGIKTSA-N</td>\n",
       "      <td>50437738</td>\n",
       "      <td>&lt;NA&gt;</td>\n",
       "    </tr>\n",
       "    <tr>\n",
       "      <th>740271</th>\n",
       "      <td>&lt;NA&gt;</td>\n",
       "      <td>&lt;NA&gt;</td>\n",
       "      <td>&lt;NA&gt;</td>\n",
       "      <td>3600.0</td>\n",
       "      <td>&lt;NA&gt;</td>\n",
       "      <td>&lt;NA&gt;</td>\n",
       "      <td>&lt;NA&gt;</td>\n",
       "      <td>132210913</td>\n",
       "      <td>&lt;NA&gt;</td>\n",
       "      <td>&lt;NA&gt;</td>\n",
       "      <td>&lt;NA&gt;</td>\n",
       "      <td>&lt;NA&gt;</td>\n",
       "      <td>&lt;NA&gt;</td>\n",
       "      <td>COc1cc(ccc1OCc1ccccc1)C(C)N1CC(C1)NC(=O)c1cn(n...</td>\n",
       "      <td>MEKPMQOATHIXEU-UHFFFAOYSA-N</td>\n",
       "      <td>378756</td>\n",
       "      <td>&lt;NA&gt;</td>\n",
       "    </tr>\n",
       "    <tr>\n",
       "      <th>2579039</th>\n",
       "      <td>&lt;NA&gt;</td>\n",
       "      <td>&lt;NA&gt;</td>\n",
       "      <td>&lt;NA&gt;</td>\n",
       "      <td>0.600067</td>\n",
       "      <td>&lt;NA&gt;</td>\n",
       "      <td>&lt;NA&gt;</td>\n",
       "      <td>10.1007/s00044-011-9926-4</td>\n",
       "      <td>11544961</td>\n",
       "      <td>&lt;NA&gt;</td>\n",
       "      <td>CHEMBL272938</td>\n",
       "      <td>&lt;NA&gt;</td>\n",
       "      <td>&lt;NA&gt;</td>\n",
       "      <td>ZINC29130252</td>\n",
       "      <td>Cc1cccc(NC(=O)Nc2ccc(cc2)-c2cncc3[nH]nc(N)c23)c1</td>\n",
       "      <td>FOONBYIHFUMRSX-UHFFFAOYSA-N</td>\n",
       "      <td>50372144</td>\n",
       "      <td>&lt;NA&gt;</td>\n",
       "    </tr>\n",
       "    <tr>\n",
       "      <th>620882</th>\n",
       "      <td>11.0</td>\n",
       "      <td>&lt;NA&gt;</td>\n",
       "      <td>&lt;NA&gt;</td>\n",
       "      <td>&lt;NA&gt;</td>\n",
       "      <td>&lt;NA&gt;</td>\n",
       "      <td>&lt;NA&gt;</td>\n",
       "      <td>&lt;NA&gt;</td>\n",
       "      <td>117637636</td>\n",
       "      <td>&lt;NA&gt;</td>\n",
       "      <td>&lt;NA&gt;</td>\n",
       "      <td>&lt;NA&gt;</td>\n",
       "      <td>&lt;NA&gt;</td>\n",
       "      <td>&lt;NA&gt;</td>\n",
       "      <td>Fc1cccc(-c2ncccn2)c1C(=O)N1CC2CC(Nc3ncc(cn3)C(...</td>\n",
       "      <td>FMQHXPFWYUHTFI-UHFFFAOYSA-N</td>\n",
       "      <td>315048</td>\n",
       "      <td>&lt;NA&gt;</td>\n",
       "    </tr>\n",
       "    <tr>\n",
       "      <th>2703253</th>\n",
       "      <td>&lt;NA&gt;</td>\n",
       "      <td>&lt;NA&gt;</td>\n",
       "      <td>&lt;NA&gt;</td>\n",
       "      <td>&lt;NA&gt;</td>\n",
       "      <td>&lt;NA&gt;</td>\n",
       "      <td>&lt;NA&gt;</td>\n",
       "      <td>10.1016/j.bmcl.2019.01.027</td>\n",
       "      <td>155549447</td>\n",
       "      <td>&lt;NA&gt;</td>\n",
       "      <td>&lt;NA&gt;</td>\n",
       "      <td>&lt;NA&gt;</td>\n",
       "      <td>&lt;NA&gt;</td>\n",
       "      <td>&lt;NA&gt;</td>\n",
       "      <td>Cc1cc(NC(=O)Cn2nnc(n2)-c2ccc(F)c(F)c2)n(n1)C1C...</td>\n",
       "      <td>PGYRVSRXVYBHGK-UHFFFAOYSA-N</td>\n",
       "      <td>50532013</td>\n",
       "      <td>&lt;NA&gt;</td>\n",
       "    </tr>\n",
       "    <tr>\n",
       "      <th>2771706</th>\n",
       "      <td>&lt;NA&gt;</td>\n",
       "      <td>&lt;NA&gt;</td>\n",
       "      <td>&lt;NA&gt;</td>\n",
       "      <td>&lt;NA&gt;</td>\n",
       "      <td>&lt;NA&gt;</td>\n",
       "      <td>&lt;NA&gt;</td>\n",
       "      <td>10.1021/acsmedchemlett.1c00112</td>\n",
       "      <td>162651498</td>\n",
       "      <td>&lt;NA&gt;</td>\n",
       "      <td>&lt;NA&gt;</td>\n",
       "      <td>&lt;NA&gt;</td>\n",
       "      <td>&lt;NA&gt;</td>\n",
       "      <td>&lt;NA&gt;</td>\n",
       "      <td>Fc1ccc(cc1)S(=O)(=O)[C@@]12CCN([C@@H]1CCc1nc(c...</td>\n",
       "      <td>UPHISCDXGJDADQ-FYYLOGMGSA-N</td>\n",
       "      <td>50557799</td>\n",
       "      <td>&lt;NA&gt;</td>\n",
       "    </tr>\n",
       "    <tr>\n",
       "      <th>1192705</th>\n",
       "      <td>&lt;NA&gt;</td>\n",
       "      <td>&lt;NA&gt;</td>\n",
       "      <td>&lt;NA&gt;</td>\n",
       "      <td>31.8</td>\n",
       "      <td>&lt;NA&gt;</td>\n",
       "      <td>&lt;NA&gt;</td>\n",
       "      <td>&lt;NA&gt;</td>\n",
       "      <td>71715355</td>\n",
       "      <td>&lt;NA&gt;</td>\n",
       "      <td>&lt;NA&gt;</td>\n",
       "      <td>&lt;NA&gt;</td>\n",
       "      <td>&lt;NA&gt;</td>\n",
       "      <td>&lt;NA&gt;</td>\n",
       "      <td>CC(C)(C)CC(=O)N1CCC2(CC2CNC(=O)c2cc3cnccc3[nH]...</td>\n",
       "      <td>&lt;NA&gt;</td>\n",
       "      <td>455406</td>\n",
       "      <td>&lt;NA&gt;</td>\n",
       "    </tr>\n",
       "    <tr>\n",
       "      <th>1741969</th>\n",
       "      <td>&lt;NA&gt;</td>\n",
       "      <td>&lt;NA&gt;</td>\n",
       "      <td>&lt;NA&gt;</td>\n",
       "      <td>42.0</td>\n",
       "      <td>&lt;NA&gt;</td>\n",
       "      <td>&lt;NA&gt;</td>\n",
       "      <td>10.1016/j.bmcl.2006.05.066</td>\n",
       "      <td>44414866</td>\n",
       "      <td>&lt;NA&gt;</td>\n",
       "      <td>CHEMBL378440</td>\n",
       "      <td>&lt;NA&gt;</td>\n",
       "      <td>&lt;NA&gt;</td>\n",
       "      <td>ZINC36338874</td>\n",
       "      <td>CN1CCN(Cc2ccc-3c(Cc4c-3n[nH]c4-c3ccc(COC(=O)Nc...</td>\n",
       "      <td>LYHXXYZDGNTNCQ-UHFFFAOYSA-N</td>\n",
       "      <td>50188751</td>\n",
       "      <td>&lt;NA&gt;</td>\n",
       "    </tr>\n",
       "    <tr>\n",
       "      <th>2023834</th>\n",
       "      <td>&lt;NA&gt;</td>\n",
       "      <td>&lt;NA&gt;</td>\n",
       "      <td>&lt;NA&gt;</td>\n",
       "      <td>4400.0</td>\n",
       "      <td>&lt;NA&gt;</td>\n",
       "      <td>&lt;NA&gt;</td>\n",
       "      <td>10.1016/j.bmcl.2011.01.079</td>\n",
       "      <td>54581289</td>\n",
       "      <td>&lt;NA&gt;</td>\n",
       "      <td>CHEMBL1761557</td>\n",
       "      <td>&lt;NA&gt;</td>\n",
       "      <td>&lt;NA&gt;</td>\n",
       "      <td>ZINC71318993</td>\n",
       "      <td>C1CN(CCO1)c1ncn(n1)-c1ccc(Nc2ncc3ccc(cc3n2)N2C...</td>\n",
       "      <td>WBZKMLDAAVSVJN-UHFFFAOYSA-N</td>\n",
       "      <td>50340602</td>\n",
       "      <td>&lt;NA&gt;</td>\n",
       "    </tr>\n",
       "  </tbody>\n",
       "</table>\n",
       "</div>"
      ],
      "text/plain": [
       "             ki    ph  temp      ic50    kd   kon  \\\n",
       "1523365    <NA>  <NA>  <NA>     750.0  <NA>  <NA>   \n",
       "2427874    <NA>  <NA>  <NA>     603.0  <NA>  <NA>   \n",
       "2030534    <NA>  <NA>  <NA>   25000.0  <NA>  <NA>   \n",
       "2410984  1000.0  <NA>  <NA>      <NA>  <NA>  <NA>   \n",
       "1665375    <NA>  <NA>  <NA>     220.0  <NA>  <NA>   \n",
       "2533290    <NA>  <NA>  <NA>   12589.0  <NA>  <NA>   \n",
       "1663146    <NA>  <NA>  <NA>      31.0  <NA>  <NA>   \n",
       "2732382    <NA>  <NA>  <NA>       9.0  <NA>  <NA>   \n",
       "839808     <NA>  <NA>  <NA>       3.6  <NA>  <NA>   \n",
       "1269226    <NA>  <NA>  <NA>       1.6  <NA>  <NA>   \n",
       "397769     <NA>  <NA>  25.0       4.0  <NA>  <NA>   \n",
       "2463547    <NA>  <NA>  <NA>  600000.0  <NA>  <NA>   \n",
       "740271     <NA>  <NA>  <NA>    3600.0  <NA>  <NA>   \n",
       "2579039    <NA>  <NA>  <NA>  0.600067  <NA>  <NA>   \n",
       "620882     11.0  <NA>  <NA>      <NA>  <NA>  <NA>   \n",
       "2703253    <NA>  <NA>  <NA>      <NA>  <NA>  <NA>   \n",
       "2771706    <NA>  <NA>  <NA>      <NA>  <NA>  <NA>   \n",
       "1192705    <NA>  <NA>  <NA>      31.8  <NA>  <NA>   \n",
       "1741969    <NA>  <NA>  <NA>      42.0  <NA>  <NA>   \n",
       "2023834    <NA>  <NA>  <NA>    4400.0  <NA>  <NA>   \n",
       "\n",
       "                                    doi  pubchem_cid  chebi_id      chembl_id  \\\n",
       "1523365      10.1016/j.bmcl.2005.06.100     44403564      <NA>   CHEMBL197265   \n",
       "2427874       10.1016/j.bmc.2007.01.011     44329694      <NA>    CHEMBL99148   \n",
       "2030534             10.1021/jm00169a035     14460014      <NA>   CHEMBL293858   \n",
       "2410984      10.1016/j.bmcl.2010.09.090      3213606      <NA>  CHEMBL1271701   \n",
       "1665375       10.1016/j.bmc.2014.06.001     11696652      <NA>           <NA>   \n",
       "2533290      10.1016/j.bmcl.2018.09.022    145980932      <NA>           <NA>   \n",
       "1663146      10.1016/j.bmcl.2004.03.090     10000872      <NA>   CHEMBL430694   \n",
       "2732382      10.1016/j.bmcl.2020.127205    156012837      <NA>           <NA>   \n",
       "839808                             <NA>    122690187      <NA>           <NA>   \n",
       "1269226                            <NA>    139465944      <NA>           <NA>   \n",
       "397769                             <NA>     89473738      <NA>           <NA>   \n",
       "2463547      10.1016/j.bmcl.2013.06.002     71725364      <NA>  CHEMBL2409528   \n",
       "740271                             <NA>    132210913      <NA>           <NA>   \n",
       "2579039       10.1007/s00044-011-9926-4     11544961      <NA>   CHEMBL272938   \n",
       "620882                             <NA>    117637636      <NA>           <NA>   \n",
       "2703253      10.1016/j.bmcl.2019.01.027    155549447      <NA>           <NA>   \n",
       "2771706  10.1021/acsmedchemlett.1c00112    162651498      <NA>           <NA>   \n",
       "1192705                            <NA>     71715355      <NA>           <NA>   \n",
       "1741969      10.1016/j.bmcl.2006.05.066     44414866      <NA>   CHEMBL378440   \n",
       "2023834      10.1016/j.bmcl.2011.01.079     54581289      <NA>  CHEMBL1761557   \n",
       "\n",
       "        drugbank_id kegg_id       zinc_id  \\\n",
       "1523365        <NA>    <NA>  ZINC28525355   \n",
       "2427874        <NA>    <NA>  ZINC26731361   \n",
       "2030534        <NA>    <NA>  ZINC84462548   \n",
       "2410984        <NA>    <NA>  ZINC04860325   \n",
       "1665375        <NA>    <NA>  ZINC13676605   \n",
       "2533290        <NA>    <NA>          <NA>   \n",
       "1663146        <NA>    <NA>  ZINC03819649   \n",
       "2732382        <NA>    <NA>          <NA>   \n",
       "839808         <NA>    <NA>          <NA>   \n",
       "1269226        <NA>    <NA>          <NA>   \n",
       "397769         <NA>    <NA>          <NA>   \n",
       "2463547        <NA>    <NA>  ZINC96273585   \n",
       "740271         <NA>    <NA>          <NA>   \n",
       "2579039        <NA>    <NA>  ZINC29130252   \n",
       "620882         <NA>    <NA>          <NA>   \n",
       "2703253        <NA>    <NA>          <NA>   \n",
       "2771706        <NA>    <NA>          <NA>   \n",
       "1192705        <NA>    <NA>          <NA>   \n",
       "1741969        <NA>    <NA>  ZINC36338874   \n",
       "2023834        <NA>    <NA>  ZINC71318993   \n",
       "\n",
       "                                                    smiles  \\\n",
       "1523365  C[C@@]1(CCC[C@@]2(C)[C@H]1CCc1ccccc21)C(=O)N1C...   \n",
       "2427874  CCS(=O)(=O)N(C)C[C@@H]([C@@H](CC1CCCC1)C(=O)N1...   \n",
       "2030534            CSCCNC(=O)C1C(=O)N2c3c1cccc3CCc1ccccc21   \n",
       "2410984         Cc1occc1-c1nnc(SCC(=O)Nc2ccccc2)n1Cc1ccco1   \n",
       "1665375  O=C(NCC#N)[C@H](Cc1ccccc1)NC(=O)c1ccc(cc1)-c1c...   \n",
       "2533290              COc1ccc(cc1)-c1nc(C)ccc1OCc1ccc(C)cn1   \n",
       "1663146  OCCCn1cc(C2=C(C(=O)NC2=O)c2cccc3ccccc23)c2cccnc12   \n",
       "2732382  CC[C@H](NS(=O)(=O)c1ccc(-c2sc(nc2C(=O)N2CCC(F)...   \n",
       "839808       Cn1c(nc2cc(ccc12)C(=O)NO)-c1ccc(cc1)-c1ccccc1   \n",
       "1269226  CC1CN(CCO1)c1ccncc1NC(=O)c1ccnn2cc(nc12)C1=CCCCC1   \n",
       "397769   NC(=O)c1cn(nc1Nc1ccccc1)C1(CC#N)CCN(CC1)C(=O)O...   \n",
       "2463547  CC(C)C[C@H](N)C(=O)N[C@@H](CC(C)C)C(=O)N[C@@H]...   \n",
       "740271   COc1cc(ccc1OCc1ccccc1)C(C)N1CC(C1)NC(=O)c1cn(n...   \n",
       "2579039   Cc1cccc(NC(=O)Nc2ccc(cc2)-c2cncc3[nH]nc(N)c23)c1   \n",
       "620882   Fc1cccc(-c2ncccn2)c1C(=O)N1CC2CC(Nc3ncc(cn3)C(...   \n",
       "2703253  Cc1cc(NC(=O)Cn2nnc(n2)-c2ccc(F)c(F)c2)n(n1)C1C...   \n",
       "2771706  Fc1ccc(cc1)S(=O)(=O)[C@@]12CCN([C@@H]1CCc1nc(c...   \n",
       "1192705  CC(C)(C)CC(=O)N1CCC2(CC2CNC(=O)c2cc3cnccc3[nH]...   \n",
       "1741969  CN1CCN(Cc2ccc-3c(Cc4c-3n[nH]c4-c3ccc(COC(=O)Nc...   \n",
       "2023834  C1CN(CCO1)c1ncn(n1)-c1ccc(Nc2ncc3ccc(cc3n2)N2C...   \n",
       "\n",
       "                           inchi_key  bindingdb_id swissprot_protein_id  \n",
       "1523365  YOBSSBAJFVWQAA-CMYDWJSCSA-N      50172198                 <NA>  \n",
       "2427874  ZVAKMIZOMSWYGQ-SJORKVTESA-N      50081867                 <NA>  \n",
       "2030534  UKJQNVZYVCJTLI-UHFFFAOYSA-N      50012818               P35355  \n",
       "2410984  YGBDBOGSRZEGDB-UHFFFAOYSA-N      50417240                 <NA>  \n",
       "1665375  DWFFMEGYLGKXHE-QFIPXVFZSA-N         20120                 <NA>  \n",
       "2533290  JKCRHCLUTJEMBH-UHFFFAOYSA-N      50467671                 <NA>  \n",
       "1663146  RLESTJQOEHIBLM-UHFFFAOYSA-N      50147469                 <NA>  \n",
       "2732382  ODLJZSVWTFUBLM-AWEZNQCLSA-N      50542530                 <NA>  \n",
       "839808   XHZZHUQIJCWDGT-UHFFFAOYSA-N        425891                 <NA>  \n",
       "1269226  ZLWLGUFTYZQJRI-UHFFFAOYSA-N        610487                 <NA>  \n",
       "397769   SEZDMKLNVLKPJW-UHFFFAOYSA-N        229205                 <NA>  \n",
       "2463547  WBWNZQJALGMLKU-XZSFGIKTSA-N      50437738                 <NA>  \n",
       "740271   MEKPMQOATHIXEU-UHFFFAOYSA-N        378756                 <NA>  \n",
       "2579039  FOONBYIHFUMRSX-UHFFFAOYSA-N      50372144                 <NA>  \n",
       "620882   FMQHXPFWYUHTFI-UHFFFAOYSA-N        315048                 <NA>  \n",
       "2703253  PGYRVSRXVYBHGK-UHFFFAOYSA-N      50532013                 <NA>  \n",
       "2771706  UPHISCDXGJDADQ-FYYLOGMGSA-N      50557799                 <NA>  \n",
       "1192705                         <NA>        455406                 <NA>  \n",
       "1741969  LYHXXYZDGNTNCQ-UHFFFAOYSA-N      50188751                 <NA>  \n",
       "2023834  WBZKMLDAAVSVJN-UHFFFAOYSA-N      50340602                 <NA>  "
      ]
     },
     "execution_count": 12,
     "metadata": {},
     "output_type": "execute_result"
    }
   ],
   "source": [
    "clean_binding_df.sample(20)"
   ]
  },
  {
   "cell_type": "code",
   "execution_count": 15,
   "metadata": {},
   "outputs": [
    {
     "data": {
      "text/plain": [
       "ki                             Float64\n",
       "ph                             Float64\n",
       "temp                           Float64\n",
       "ic50                           Float64\n",
       "kd                             Float64\n",
       "kon                            Float64\n",
       "doi                     string[python]\n",
       "pubchem_cid                      Int64\n",
       "chebi_id                         Int64\n",
       "chembl_id               string[python]\n",
       "drugbank_id             string[python]\n",
       "kegg_id                 string[python]\n",
       "zinc_id                 string[python]\n",
       "smiles                  string[python]\n",
       "inchi_key               string[python]\n",
       "bindingdb_id                     Int64\n",
       "swissprot_protein_id    string[python]\n",
       "dtype: object"
      ]
     },
     "execution_count": 15,
     "metadata": {},
     "output_type": "execute_result"
    }
   ],
   "source": [
    "# Did we sucessfully convert all the columns to the right types?\n",
    "clean_binding_df.dtypes"
   ]
  },
  {
   "cell_type": "code",
   "execution_count": 19,
   "metadata": {},
   "outputs": [
    {
     "name": "stdout",
     "output_type": "stream",
     "text": [
      "NA ratio \t Raw \t Clean\n",
      "ki \t 0.80 \t 0.80\n",
      "ph \t 0.93 \t 0.93\n",
      "temp \t 0.93 \t 0.93\n",
      "ic50 \t 0.33 \t 0.33\n",
      "kd \t 0.96 \t 0.96\n",
      "kon \t 1.00 \t 1.00\n",
      "doi \t 0.47 \t 0.47\n",
      "pubchem_cid \t 0.02 \t 0.02\n",
      "chebi_id \t 0.97 \t 0.97\n",
      "chembl_id \t 0.62 \t 0.62\n",
      "drugbank_id \t 0.97 \t 0.97\n",
      "kegg_id \t 0.97 \t 0.97\n",
      "zinc_id \t 0.60 \t 0.60\n",
      "smiles \t 0.00 \t 0.00\n",
      "inchi_key \t 0.04 \t 0.04\n",
      "bindingdb_id \t 0.00 \t 0.00\n",
      "pubchem_cid \t 0.02 \t 0.02\n",
      "swissprot_protein_id \t 0.95 \t 0.95\n"
     ]
    }
   ],
   "source": [
    "print(\"NA ratio \\t Raw \\t Clean\")\n",
    "for col_old, col_new in zip(bdb_preprocessor.get_all_old_columns(), bdb_preprocessor.get_all_new_columns()):\n",
    "    raw = raw_binding_df[col_old].isna().mean()\n",
    "    clean = clean_binding_df[col_new].isna().mean()\n",
    "    print(f\"{col_new} \\t {raw:.2f} \\t {clean:.2f}\")"
   ]
  },
  {
   "cell_type": "code",
   "execution_count": 20,
   "metadata": {},
   "outputs": [
    {
     "data": {
      "text/plain": [
       "2114"
      ]
     },
     "execution_count": 20,
     "metadata": {},
     "output_type": "execute_result"
    }
   ],
   "source": [
    "# Get rid of the raw dataframe\n",
    "del raw_binding_df\n",
    "gc.collect()"
   ]
  },
  {
   "cell_type": "markdown",
   "metadata": {},
   "source": [
    "## Parse and clean the Drugbank data"
   ]
  },
  {
   "cell_type": "code",
   "execution_count": 21,
   "metadata": {},
   "outputs": [
    {
     "name": "stdout",
     "output_type": "stream",
     "text": [
      "parsed_Drugbank exists...\n",
      "Loading...\n"
     ]
    }
   ],
   "source": [
    "\n",
    "if os.path.exists(DRUGBANK_LIGAND_PARSED) and os.path.exists(DRUGBANK_PROTEIN_PARSED):\n",
    "    print(\"parsed_Drugbank exists...\")\n",
    "    print(\"Loading...\")\n",
    "\n",
    "    drugbank_ligand = pd.read_pickle(DRUGBANK_LIGAND_PARSED)\n",
    "    drugbank_proteins = pd.read_pickle(DRUGBANK_PROTEIN_PARSED)\n",
    "else:\n",
    "    print(\"parsed_Drugbank doesn't exists...\")\n",
    "    print(\"Parsing DrugBank XML...\")\n",
    "\n",
    "    drugparser = DrugParser(DRUGBANK_XML)\n",
    "    drugparser.parse_drugs()\n",
    "    drugparser.parse_proteins()\n",
    "    drugbank_ligand, drugbank_proteins = drugparser.save_parsed_drugs(DRUGBANK_LIGAND_PARSED, DRUGBANK_PROTEIN_PARSED, return_df = True)\n",
    "\n",
    "    print(\"DrugBank XML is parsed. \\n Loading Bind ...\")"
   ]
  },
  {
   "cell_type": "markdown",
   "metadata": {},
   "source": [
    "## Merge BindingDB and DrugBank"
   ]
  },
  {
   "cell_type": "code",
   "execution_count": 35,
   "metadata": {},
   "outputs": [
    {
     "name": "stdout",
     "output_type": "stream",
     "text": [
      "Merged dataset doesn't exists.\n",
      " Creating it...\n"
     ]
    },
    {
     "name": "stderr",
     "output_type": "stream",
     "text": [
      "  0%|          | 0/7 [00:00<?, ?it/s]"
     ]
    },
    {
     "name": "stderr",
     "output_type": "stream",
     "text": [
      "/home/miki/epfl/ada_project/drugbank_bindingdb_merger.py:106: SettingWithCopyWarning: \n",
      "A value is trying to be set on a copy of a slice from a DataFrame.\n",
      "Try using .loc[row_indexer,col_indexer] = value instead\n",
      "\n",
      "See the caveats in the documentation: https://pandas.pydata.org/pandas-docs/stable/user_guide/indexing.html#returning-a-view-versus-a-copy\n",
      "  binding_df_id[identifier] = binding_df_id[identifier].astype(str)\n",
      "/home/miki/epfl/ada_project/drugbank_bindingdb_merger.py:107: SettingWithCopyWarning: \n",
      "A value is trying to be set on a copy of a slice from a DataFrame.\n",
      "Try using .loc[row_indexer,col_indexer] = value instead\n",
      "\n",
      "See the caveats in the documentation: https://pandas.pydata.org/pandas-docs/stable/user_guide/indexing.html#returning-a-view-versus-a-copy\n",
      "  drugbank_df_id[identifier] = drugbank_df_id[identifier].astype(str)\n",
      " 14%|█▍        | 1/7 [00:02<00:14,  2.33s/it]"
     ]
    },
    {
     "name": "stdout",
     "output_type": "stream",
     "text": [
      "run\n"
     ]
    },
    {
     "name": "stderr",
     "output_type": "stream",
     "text": [
      "/home/miki/epfl/ada_project/drugbank_bindingdb_merger.py:106: SettingWithCopyWarning: \n",
      "A value is trying to be set on a copy of a slice from a DataFrame.\n",
      "Try using .loc[row_indexer,col_indexer] = value instead\n",
      "\n",
      "See the caveats in the documentation: https://pandas.pydata.org/pandas-docs/stable/user_guide/indexing.html#returning-a-view-versus-a-copy\n",
      "  binding_df_id[identifier] = binding_df_id[identifier].astype(str)\n",
      "/home/miki/epfl/ada_project/drugbank_bindingdb_merger.py:107: SettingWithCopyWarning: \n",
      "A value is trying to be set on a copy of a slice from a DataFrame.\n",
      "Try using .loc[row_indexer,col_indexer] = value instead\n",
      "\n",
      "See the caveats in the documentation: https://pandas.pydata.org/pandas-docs/stable/user_guide/indexing.html#returning-a-view-versus-a-copy\n",
      "  drugbank_df_id[identifier] = drugbank_df_id[identifier].astype(str)\n"
     ]
    },
    {
     "name": "stdout",
     "output_type": "stream",
     "text": [
      "run\n"
     ]
    },
    {
     "name": "stderr",
     "output_type": "stream",
     "text": [
      " 29%|██▊       | 2/7 [00:10<00:28,  5.62s/it]/home/miki/epfl/ada_project/drugbank_bindingdb_merger.py:106: SettingWithCopyWarning: \n",
      "A value is trying to be set on a copy of a slice from a DataFrame.\n",
      "Try using .loc[row_indexer,col_indexer] = value instead\n",
      "\n",
      "See the caveats in the documentation: https://pandas.pydata.org/pandas-docs/stable/user_guide/indexing.html#returning-a-view-versus-a-copy\n",
      "  binding_df_id[identifier] = binding_df_id[identifier].astype(str)\n",
      "/home/miki/epfl/ada_project/drugbank_bindingdb_merger.py:107: SettingWithCopyWarning: \n",
      "A value is trying to be set on a copy of a slice from a DataFrame.\n",
      "Try using .loc[row_indexer,col_indexer] = value instead\n",
      "\n",
      "See the caveats in the documentation: https://pandas.pydata.org/pandas-docs/stable/user_guide/indexing.html#returning-a-view-versus-a-copy\n",
      "  drugbank_df_id[identifier] = drugbank_df_id[identifier].astype(str)\n"
     ]
    },
    {
     "name": "stdout",
     "output_type": "stream",
     "text": [
      "run\n"
     ]
    },
    {
     "name": "stderr",
     "output_type": "stream",
     "text": [
      " 43%|████▎     | 3/7 [00:18<00:27,  6.83s/it]/home/miki/epfl/ada_project/drugbank_bindingdb_merger.py:106: SettingWithCopyWarning: \n",
      "A value is trying to be set on a copy of a slice from a DataFrame.\n",
      "Try using .loc[row_indexer,col_indexer] = value instead\n",
      "\n",
      "See the caveats in the documentation: https://pandas.pydata.org/pandas-docs/stable/user_guide/indexing.html#returning-a-view-versus-a-copy\n",
      "  binding_df_id[identifier] = binding_df_id[identifier].astype(str)\n"
     ]
    },
    {
     "name": "stdout",
     "output_type": "stream",
     "text": [
      "run\n"
     ]
    },
    {
     "name": "stderr",
     "output_type": "stream",
     "text": [
      " 57%|█████▋    | 4/7 [00:27<00:22,  7.58s/it]/home/miki/epfl/ada_project/drugbank_bindingdb_merger.py:107: SettingWithCopyWarning: \n",
      "A value is trying to be set on a copy of a slice from a DataFrame.\n",
      "Try using .loc[row_indexer,col_indexer] = value instead\n",
      "\n",
      "See the caveats in the documentation: https://pandas.pydata.org/pandas-docs/stable/user_guide/indexing.html#returning-a-view-versus-a-copy\n",
      "  drugbank_df_id[identifier] = drugbank_df_id[identifier].astype(str)\n",
      " 71%|███████▏  | 5/7 [00:29<00:11,  5.63s/it]/home/miki/epfl/ada_project/drugbank_bindingdb_merger.py:107: SettingWithCopyWarning: \n",
      "A value is trying to be set on a copy of a slice from a DataFrame.\n",
      "Try using .loc[row_indexer,col_indexer] = value instead\n",
      "\n",
      "See the caveats in the documentation: https://pandas.pydata.org/pandas-docs/stable/user_guide/indexing.html#returning-a-view-versus-a-copy\n",
      "  drugbank_df_id[identifier] = drugbank_df_id[identifier].astype(str)\n"
     ]
    },
    {
     "name": "stdout",
     "output_type": "stream",
     "text": [
      "run\n"
     ]
    },
    {
     "name": "stderr",
     "output_type": "stream",
     "text": [
      " 86%|████████▌ | 6/7 [00:31<00:04,  4.51s/it]/home/miki/epfl/ada_project/drugbank_bindingdb_merger.py:106: SettingWithCopyWarning: \n",
      "A value is trying to be set on a copy of a slice from a DataFrame.\n",
      "Try using .loc[row_indexer,col_indexer] = value instead\n",
      "\n",
      "See the caveats in the documentation: https://pandas.pydata.org/pandas-docs/stable/user_guide/indexing.html#returning-a-view-versus-a-copy\n",
      "  binding_df_id[identifier] = binding_df_id[identifier].astype(str)\n",
      "/home/miki/epfl/ada_project/drugbank_bindingdb_merger.py:107: SettingWithCopyWarning: \n",
      "A value is trying to be set on a copy of a slice from a DataFrame.\n",
      "Try using .loc[row_indexer,col_indexer] = value instead\n",
      "\n",
      "See the caveats in the documentation: https://pandas.pydata.org/pandas-docs/stable/user_guide/indexing.html#returning-a-view-versus-a-copy\n",
      "  drugbank_df_id[identifier] = drugbank_df_id[identifier].astype(str)\n"
     ]
    },
    {
     "name": "stdout",
     "output_type": "stream",
     "text": [
      "run\n"
     ]
    },
    {
     "name": "stderr",
     "output_type": "stream",
     "text": [
      "100%|██████████| 7/7 [00:45<00:00,  6.44s/it]\n",
      "/home/miki/epfl/ada_project/drugbank_bindingdb_merger.py:129: DtypeWarning: Columns (27,28,31) have mixed types. Specify dtype option on import or set low_memory=False.\n",
      "  return_df =  pd.read_csv(output_file)\n"
     ]
    },
    {
     "name": "stdout",
     "output_type": "stream",
     "text": [
      "Merged dataset is loaded and saved.\n"
     ]
    }
   ],
   "source": [
    "# Let's merge bindingDB and DrugBank (unless already saved)\n",
    "if os.path.exists(MERGED):\n",
    "    print(\"Merged dataset exists.\\n Loading...\")\n",
    "\n",
    "    merged_df = pd.read_pickle(MERGED)\n",
    "\n",
    "    print(\"Merged dataset loaded\")\n",
    "else:\n",
    "    print(\"Merged dataset doesn't exists.\\n Creating it...\")\n",
    "    drugbank_binding_merger = DrugBank_BindingDB_Merger()\n",
    "    incomplete_merged_df = drugbank_binding_merger.merge(drugbank_ligand, clean_binding_df)\n",
    "\n",
    "    merged_df = pd.merge(incomplete_merged_df, drugbank_proteins, how='left', on='swissprot_protein_id')\n",
    "    merged_df.to_pickle(MERGED)\n",
    "\n",
    "    print(\"Merged dataset is loaded and saved.\")\n"
   ]
  },
  {
   "cell_type": "code",
   "execution_count": 36,
   "metadata": {},
   "outputs": [
    {
     "data": {
      "text/plain": [
       "(2923143, 16581, 4906, 2923143)"
      ]
     },
     "execution_count": 36,
     "metadata": {},
     "output_type": "execute_result"
    }
   ],
   "source": [
    "len(merged_df), len(drugbank_ligand), len(drugbank_proteins), len(clean_binding_df)"
   ]
  },
  {
   "cell_type": "code",
   "execution_count": 37,
   "metadata": {},
   "outputs": [
    {
     "data": {
      "text/plain": [
       "Matched_On\n",
       "chebi_id       74903\n",
       "chembl_id      40543\n",
       "inchi_key      20056\n",
       "drugbank_id    15134\n",
       "smiles           792\n",
       "pubchem_cid        9\n",
       "Name: count, dtype: int64"
      ]
     },
     "execution_count": 37,
     "metadata": {},
     "output_type": "execute_result"
    }
   ],
   "source": [
    "merged_df['Matched_On'].value_counts()"
   ]
  },
  {
   "cell_type": "markdown",
   "metadata": {},
   "source": [
    "## DOIs\n",
    "In order to discover temporal trends, we need to fetch data about articles, from which BindingDB measurements were taken (i.e. the time when the measurement was published)."
   ]
  },
  {
   "cell_type": "code",
   "execution_count": 38,
   "metadata": {},
   "outputs": [
    {
     "name": "stdout",
     "output_type": "stream",
     "text": [
      "Number of unique dois: 40737\n"
     ]
    }
   ],
   "source": [
    "unique_dois = clean_binding_df['doi'].dropna().unique()\n",
    "print('Number of unique dois:', len(unique_dois))"
   ]
  },
  {
   "cell_type": "code",
   "execution_count": 39,
   "metadata": {},
   "outputs": [
    {
     "name": "stdout",
     "output_type": "stream",
     "text": [
      "Title: Synthetic approaches to DNMT inhibitor SGI-1027 and effects on the U937 leukemia cell line\n",
      "Abstract: <NA>\n"
     ]
    }
   ],
   "source": [
    "\n",
    "def fetch_article_metadata(doi):\n",
    "    url = f\"https://api.crossref.org/works/{doi}\"\n",
    "    response = requests.get(url)\n",
    "    \n",
    "    if response.status_code == 200:\n",
    "        data = response.json()[\"message\"]\n",
    "        \n",
    "        title_list = data.get(\"title\", [])\n",
    "        title = title_list[0] if len(title_list) > 0 else pd.NA\n",
    "        abstract = data.get(\"abstract\", pd.NA)\n",
    "        # Get published year, month and day\n",
    "        published_date = data.get(\"published-print\", None)\n",
    "        if published_date:\n",
    "            published_date = published_date[\"date-parts\"][0]\n",
    "        else:\n",
    "            published_date = []\n",
    "        year = published_date[0] if len(published_date) > 0 else pd.NA\n",
    "        month = published_date[1] if len(published_date) > 1 else pd.NA\n",
    "        day = published_date[2] if len(published_date) > 2 else pd.NA\n",
    "\n",
    "        \n",
    "        \n",
    "        return {\n",
    "            \"title\": title,\n",
    "            \"abstract\": abstract,\n",
    "            \"year\": year,\n",
    "            \"month\": month,\n",
    "            \"day\": day\n",
    "        }\n",
    "    else:\n",
    "        print(f\"Failed to fetch data for DOI {doi}. Status code: {response.status_code}\")\n",
    "        return None\n",
    "\n",
    "# Example usage\n",
    "doi = np.random.choice(unique_dois)\n",
    "metadata = fetch_article_metadata(doi)\n",
    "\n",
    "if metadata:\n",
    "    print(\"Title:\", metadata[\"title\"])\n",
    "    print(\"Abstract:\", metadata[\"abstract\"])\n"
   ]
  },
  {
   "cell_type": "code",
   "execution_count": 40,
   "metadata": {},
   "outputs": [
    {
     "name": "stdout",
     "output_type": "stream",
     "text": [
      "Loaded doi_df from data/clean/df_doi.pkl\n"
     ]
    }
   ],
   "source": [
    "if os.path.exists(DOI_DF_PATH):\n",
    "    df_dois = pd.read_pickle(DOI_DF_PATH)\n",
    "    print('Loaded doi_df from', DOI_DF_PATH)\n",
    "else:\n",
    "    print(f'No DOI dataframe found at {DOI_DF_PATH}. Creating a new one...')\n",
    "    cols = ['fetched', 'title', 'abstract', 'year', 'month', 'day']\n",
    "\n",
    "    # Create an empty dataframe with doi as index and cols with nans\n",
    "    df_dois = pd.DataFrame(index=unique_dois, columns=cols)\n",
    "    df_dois['fetched'] = False\n",
    "\n",
    "    df_dois.index.name = 'doi'\n",
    "    df_dois.head()\n",
    "    "
   ]
  },
  {
   "cell_type": "code",
   "execution_count": 41,
   "metadata": {},
   "outputs": [
    {
     "name": "stdout",
     "output_type": "stream",
     "text": [
      "All articles were fetched. Saving df_dois\n"
     ]
    }
   ],
   "source": [
    "def fetch_and_update(doi):\n",
    "    if df_dois.loc[doi, 'fetched']:\n",
    "        return None\n",
    "\n",
    "    # Fetch article metadata with a random delay\n",
    "    article_info = fetch_article_metadata(doi)\n",
    "    if article_info is None:\n",
    "        df_dois.loc[doi, 'fetched'] = True\n",
    "        return None\n",
    "    for key, value in article_info.items():\n",
    "        df_dois.loc[doi, key] = value\n",
    "    df_dois.loc[doi, 'fetched'] = True\n",
    "    \n",
    "    # Sleep for a short, random time to avoid triggering rate limits\n",
    "    time.sleep(random.uniform(0.05, .5))\n",
    "\n",
    "if df_dois.fetched.all():\n",
    "    print('All articles were fetched. Saving df_dois')\n",
    "    df_dois.to_pickle(DOI_DF_PATH)\n",
    "else:\n",
    "    print('Not all articles were fetched. Fetching DOIS')\n",
    "    try:\n",
    "        with ThreadPoolExecutor(max_workers=5) as executor:\n",
    "            list(tqdm(executor.map(fetch_and_update, df_dois.index), total=len(df_dois.index)))\n",
    "    except: \n",
    "        print('Error, saving WIP.')\n",
    "        df_dois.to_pickle(DOI_DF_PATH)\n",
    "    \n"
   ]
  },
  {
   "cell_type": "code",
   "execution_count": 42,
   "metadata": {},
   "outputs": [],
   "source": [
    "# Now all the DOIs should be fetched using the API and the result saved in the dataframe\n",
    "assert df_dois['fetched'].all()"
   ]
  },
  {
   "cell_type": "code",
   "execution_count": 43,
   "metadata": {},
   "outputs": [
    {
     "data": {
      "text/plain": [
       "fetched     0.000000\n",
       "title       0.000687\n",
       "abstract    0.000295\n",
       "year        0.002848\n",
       "month       0.004198\n",
       "day         0.627292\n",
       "dtype: float64"
      ]
     },
     "execution_count": 43,
     "metadata": {},
     "output_type": "execute_result"
    }
   ],
   "source": [
    "# Show percentage of missing values per column?\n",
    "# We see abstract and day (of month) are not going to be very useful, but for the rest we almost always have data\n",
    "df_dois.isnull().mean()"
   ]
  },
  {
   "cell_type": "code",
   "execution_count": 44,
   "metadata": {},
   "outputs": [
    {
     "data": {
      "text/plain": [
       "<Axes: >"
      ]
     },
     "execution_count": 44,
     "metadata": {},
     "output_type": "execute_result"
    },
    {
     "data": {
      "image/png": "[encoded data removed]",
      "text/plain": [
       "<Figure size 640x480 with 1 Axes>"
      ]
     },
     "metadata": {},
     "output_type": "display_data"
    }
   ],
   "source": [
    "# Note, that most articles have more measuremetns in them\n",
    "df_dois['year'].hist()"
   ]
  }
 ],
 "metadata": {
  "kernelspec": {
   "display_name": "Python 3",
   "language": "python",
   "name": "python3"
  },
  "language_info": {
   "codemirror_mode": {
    "name": "ipython",
    "version": 3
   },
   "file_extension": ".py",
   "mimetype": "text/x-python",
   "name": "python",
   "nbconvert_exporter": "python",
   "pygments_lexer": "ipython3",
   "version": "3.12.7"
  }
 },
 "nbformat": 4,
 "nbformat_minor": 2
}
