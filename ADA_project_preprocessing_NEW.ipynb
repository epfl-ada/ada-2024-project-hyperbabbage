{
 "cells": [
  {
   "cell_type": "markdown",
   "metadata": {},
   "source": [
    "## Insight for the medical dataset"
   ]
  },
  {
   "cell_type": "markdown",
   "metadata": {},
   "source": [
    "#### To create the dataframes and files needed for our analysis, make sure that:\n",
    "    You have full_database.xml under data/medical/ folder, which will represent the XML version of the DrugBank\n",
    "    You have BindingDB_All.tsv under data/medical/ folder, which will represent the tsv version of the BindingDB"
   ]
  },
  {
   "cell_type": "markdown",
   "metadata": {},
   "source": [
    "### Imports"
   ]
  },
  {
   "cell_type": "code",
   "execution_count": 3,
   "metadata": {},
   "outputs": [],
   "source": [
    "import numpy as np\n",
    "import pandas as pd\n",
    "import os\n",
    "import matplotlib.pyplot as plt\n",
    "import xml.etree.ElementTree as ET\n",
    "from tqdm import tqdm\n",
    "import pandas as pd\n",
    "\n",
    "from drugbank_XML_drugparser import DrugParser\n",
    "from drugbank_bindingdb_merger import DrugBank_BindingDB_Merger\n",
    "from preprocessing import Preprocessing, CleanNumericAtrributesStrategy\n",
    "\n",
    "%matplotlib inline\n",
    "\n",
    "%load_ext autoreload\n",
    "%autoreload 2"
   ]
  },
  {
   "cell_type": "markdown",
   "metadata": {},
   "source": [
    "### Paths"
   ]
  },
  {
   "cell_type": "code",
   "execution_count": 4,
   "metadata": {},
   "outputs": [],
   "source": [
    "DATA_PATH = 'data/medical/'\n",
    "BINDINGDB = DATA_PATH + 'BindingDB_All.tsv'\n",
    "DRUGBANK_XML = DATA_PATH + 'full_database.xml'\n",
    "DRUGBANK_CSV = DATA_PATH + 'parsed_DrugBank.csv'\n",
    "MERGED_CSV = DATA_PATH + 'Merged_Binding_DrugBank_LEFT.csv'\n",
    "MERGED_PARQUET = DATA_PATH + 'merged_dataframe.parquet'\n",
    "MERGED_PICKLE = DATA_PATH + 'merged_dataframe.pkl'"
   ]
  },
  {
   "cell_type": "markdown",
   "metadata": {},
   "source": [
    "### Loading the data"
   ]
  },
  {
   "cell_type": "code",
   "execution_count": 5,
   "metadata": {},
   "outputs": [],
   "source": [
    "def load_BindingDB(file_path):\n",
    "\n",
    "    ## load the first row to get the number of columns\n",
    "    df_first_row = pd.read_csv(file_path, sep='\\t', nrows=1)\n",
    "\n",
    "    ## number of columns to use\n",
    "    df = pd.read_csv(file_path, sep='\\t', header=0, usecols=range(df_first_row.shape[1]))\n",
    "    return df"
   ]
  },
  {
   "cell_type": "code",
   "execution_count": 6,
   "metadata": {},
   "outputs": [
    {
     "name": "stdout",
     "output_type": "stream",
     "text": [
      "Merged dataset doesn't exists.\n",
      " Creating it...\n",
      "parsed_Drugbank exists...\n",
      "Loading...\n",
      "Load Binding DB...\n"
     ]
    },
    {
     "name": "stderr",
     "output_type": "stream",
     "text": [
      "C:\\Users\\Charaf Kamel\\AppData\\Local\\Temp\\ipykernel_3932\\3397691220.py:7: DtypeWarning: Columns (8,9,10,11,12,13,15,17,20,21,22,23,27,28,32,33,35,36,45,46,47,48,50,51,52,53,54,55,57,58,59,60,62,63,64,65,66,67,69,70,71,72,74,75,76,77,78,79,81,82,83,86,87,88,89,90,91,93,94,95,98,99,100,101,102,103,105,106,107,110,111,112,113,114,115,117,118,119,122,123,124,125,126,127,129,130,131,134,135,136,137,138,139,141,142,143,146,147,148,149,150,151,153,154,155,158,159,160,161,162,163,165,166,167,170,171,172,173,174,175,177,178,179,182,183,184,185,186,187,189,190,191) have mixed types. Specify dtype option on import or set low_memory=False.\n",
      "  df = pd.read_csv(file_path, sep='\\t', header=0, usecols=range(df_first_row.shape[1]))\n"
     ]
    },
    {
     "name": "stdout",
     "output_type": "stream",
     "text": [
      "Cleaning Binding DB...\n",
      "Creating merged dataset\n"
     ]
    },
    {
     "name": "stderr",
     "output_type": "stream",
     "text": [
      "100%|██████████| 10/10 [45:35<00:00, 273.52s/it] \n"
     ]
    },
    {
     "name": "stdout",
     "output_type": "stream",
     "text": [
      "Part-1 is done\n",
      "Merged dataset is loaded and saved.\n"
     ]
    }
   ],
   "source": [
    "import gc\n",
    "if os.path.exists(MERGED_PARQUET):\n",
    "    print(\"Merged dataset exists.\\n Loading...\")\n",
    "\n",
    "    merged_df = pd.read_pickle(MERGED_PICKLE)\n",
    "\n",
    "    print(\"Merged dataset loaded\")\n",
    "\n",
    "else:\n",
    "    print(\"Merged dataset doesn't exists.\\n Creating it...\")\n",
    "\n",
    "    if os.path.exists(DRUGBANK_CSV):\n",
    "        print(\"parsed_Drugbank exists...\")\n",
    "        print(\"Loading...\")\n",
    "\n",
    "        drugbank = pd.read_csv(DRUGBANK_CSV, encoding='utf-8')\n",
    "    else:\n",
    "        print(\"parsed_Drugbank doesn't exists...\")\n",
    "        print(\"Creating parsed_Drugbank.csv\")\n",
    "\n",
    "        drugparser = DrugParser(DRUGBANK_XML)\n",
    "        drugparser.parse_drugs()\n",
    "        drugbank = drugparser.save_parsed_drugs(DRUGBANK_CSV, return_df = True)\n",
    "\n",
    "        print(\"parsed_Drugbank.csv is created\")\n",
    "        print(\"DrugBank XML is parsed. \\n Loading it ...\")\n",
    "\n",
    "    print(\"Load Binding DB...\")\n",
    "    bindingDB_df = load_BindingDB(BINDINGDB)\n",
    "\n",
    "    print(\"Cleaning Binding DB...\")\n",
    "    preprocessor = Preprocessing(\n",
    "        [\n",
    "            CleanNumericAtrributesStrategy(),\n",
    "        ]\n",
    "    )\n",
    "    preprocessed_df = preprocessor.transform(bindingDB_df)\n",
    "\n",
    "    del bindingDB_df\n",
    "    gc.collect()\n",
    "    \n",
    "    print(\"Creating merged dataset\")\n",
    "    drugbank_binding_merger = DrugBank_BindingDB_Merger()\n",
    "    merged_df = drugbank_binding_merger.merge(drugbank, preprocessed_df)\n",
    "    drugbank_binding_merger.save_merged(MERGED_PICKLE)\n",
    "\n",
    "    print(\"Merged dataset is loaded and saved.\")"
   ]
  },
  {
   "cell_type": "code",
   "execution_count": null,
   "metadata": {},
   "outputs": [],
   "source": [
    "merged_df.head()"
   ]
  },
  {
   "cell_type": "markdown",
   "metadata": {},
   "source": [
    "### Initial Cancer related filtering"
   ]
  },
  {
   "cell_type": "code",
   "execution_count": null,
   "metadata": {},
   "outputs": [],
   "source": [
    "cancer_keywords = [\n",
    "    \"cancer\", \"tumor\", \"carcinoma\", \"neoplasm\", \"malignancy\", \"metastasis\", \"oncology\",\n",
    "    \"sarcoma\", \"adenocarcinoma\", \"lymphoma\", \"leukemia\", \"myeloma\", \"breast cancer\",\n",
    "    \"lung cancer\", \"prostate cancer\", \"colon cancer\", \"rectal cancer\", \"colorectal cancer\",\n",
    "    \"skin cancer\", \"melanoma\", \"bladder cancer\", \"kidney cancer\", \"renal cancer\",\n",
    "    \"pancreatic cancer\", \"ovarian cancer\", \"cervical cancer\", \"uterine cancer\", \"thyroid cancer\",\n",
    "    \"liver cancer\", \"gastric cancer\", \"stomach cancer\", \"esophageal cancer\", \"brain cancer\",\n",
    "    \"glioma\", \"astrocytoma\", \"neuroblastoma\", \"endometrial cancer\", \"dysplasia\", \"hyperplasia\",\n",
    "    \"leukoplakia\", \"adenoma\", \"lesion\", \"metastases\", \"carcinoma in situ\", \"anaplastic\",\n",
    "    \"fibrosarcoma\", \"osteosarcoma\", \"mesothelioma\", \"chemotherapy\", \"radiotherapy\",\n",
    "    \"immunotherapy\", \"biopsy\", \"staging\", \"grading\", \"metastasize\", \"malignant\", \"benign\",\n",
    "    \"tumor suppressor\", \"oncogene\", \"palliative care\", \"remission\", \"recurrence\"\n",
    "]\n",
    "filtered_df_with_target_name = merged_df[merged_df[[\"Target Name\", \"UniProt (SwissProt) Entry Name of Target Chain\"]].map(lambda x: any(keyword in str(x).lower() for keyword in cancer_keywords)).any(axis=1)]"
   ]
  },
  {
   "cell_type": "code",
   "execution_count": null,
   "metadata": {},
   "outputs": [],
   "source": [
    "unique_cancer_related_proteins = filtered_df_with_target_name[\"Target Name\"].unique()\n",
    "print(f\"number of different cancer related proteins: {len(unique_cancer_related_proteins)}\")"
   ]
  },
  {
   "cell_type": "markdown",
   "metadata": {},
   "source": [
    "#### Just human as source organism"
   ]
  },
  {
   "cell_type": "code",
   "execution_count": null,
   "metadata": {},
   "outputs": [],
   "source": [
    "filtered_df_human = filtered_df_with_target_name[filtered_df_with_target_name[[\"Target Source Organism According to Curator or DataSource\", \"UniProt (SwissProt) Entry Name of Target Chain\"]].map(lambda x: \"human\" in str(x).lower() or type(x) == float).any(axis=1)]"
   ]
  },
  {
   "cell_type": "code",
   "execution_count": null,
   "metadata": {},
   "outputs": [],
   "source": [
    "len(filtered_df_human)"
   ]
  },
  {
   "cell_type": "code",
   "execution_count": null,
   "metadata": {},
   "outputs": [],
   "source": [
    "mutant_keywords = [\n",
    "    \"mutation\",\n",
    "    \"oncogenesis\", \"tumorigenesis\", \"apoptosis\", \"angiogenesis\", \"HER2\", \"BRAF\", \"KRAS\", \"EGFR\",\n",
    "    \"BRCA1\", \"BRCA2\", \"P53\", \"MDM2\", \"CDK4\", \"CDK6\", \"V600\", \"G12\"\n",
    "]\n",
    "only_mutants_df = filtered_df_human[filtered_df_human[\"Target Name\"].apply(lambda x: any(keyword in str(x).lower() for keyword in mutant_keywords))]"
   ]
  },
  {
   "cell_type": "code",
   "execution_count": null,
   "metadata": {},
   "outputs": [],
   "source": [
    "only_mutants_df"
   ]
  },
  {
   "cell_type": "code",
   "execution_count": null,
   "metadata": {},
   "outputs": [],
   "source": [
    "merged_df[\"Matched_On\"].value_counts()"
   ]
  },
  {
   "cell_type": "code",
   "execution_count": null,
   "metadata": {},
   "outputs": [],
   "source": []
  }
 ],
 "metadata": {
  "kernelspec": {
   "display_name": "ada",
   "language": "python",
   "name": "python3"
  },
  "language_info": {
   "codemirror_mode": {
    "name": "ipython",
    "version": 3
   },
   "file_extension": ".py",
   "mimetype": "text/x-python",
   "name": "python",
   "nbconvert_exporter": "python",
   "pygments_lexer": "ipython3",
   "version": "3.11.9"
  }
 },
 "nbformat": 4,
 "nbformat_minor": 2
}
