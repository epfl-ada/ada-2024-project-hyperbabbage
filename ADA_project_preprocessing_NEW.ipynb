{
 "cells": [
  {
   "cell_type": "markdown",
   "metadata": {},
   "source": [
    "## Insight for the medical dataset"
   ]
  },
  {
   "cell_type": "markdown",
   "metadata": {},
   "source": [
    "#### To create the dataframes and files needed for our analysis, make sure that:\n",
    "    You have full_database.xml under data/medical/ folder, which will represent the XML version of the DrugBank\n",
    "    You have BindingDB_All.tsv under data/medical/ folder, which will represent the tsv version of the BindingDB"
   ]
  },
  {
   "cell_type": "markdown",
   "metadata": {},
   "source": [
    "### Imports"
   ]
  },
  {
   "cell_type": "code",
   "execution_count": 1,
   "metadata": {},
   "outputs": [],
   "source": [
    "import numpy as np\n",
    "import pandas as pd\n",
    "import os\n",
    "import matplotlib.pyplot as plt\n",
    "import xml.etree.ElementTree as ET\n",
    "from tqdm import tqdm\n",
    "import pandas as pd\n",
    "\n",
    "from drugbank_XML_drugparser import DrugParser\n",
    "from drugbank_bindingdb_merger import DrugBank_BindingDB_Merger\n",
    "from preprocessing import Preprocessing, CleanNumericAtrributesStrategy\n",
    "\n",
    "%matplotlib inline\n",
    "\n",
    "%load_ext autoreload\n",
    "%autoreload 2"
   ]
  },
  {
   "cell_type": "markdown",
   "metadata": {},
   "source": [
    "### Paths"
   ]
  },
  {
   "cell_type": "code",
   "execution_count": 2,
   "metadata": {},
   "outputs": [],
   "source": [
    "DATA_PATH = 'data/medical/'\n",
    "BINDINGDB = DATA_PATH + 'BindingDB_All.tsv'\n",
    "DRUGBANK_XML = DATA_PATH + 'full_database.xml'\n",
    "DRUGBANK_CSV = DATA_PATH + 'parsed_DrugBank.csv'\n",
    "MERGED_CSV = DATA_PATH + 'Merged_Binding_DrugBank_LEFT.csv'\n",
    "MERGED_PARQUET = DATA_PATH + 'merged_dataframe.parquet'\n",
    "MERGED_PICKLE = DATA_PATH + 'merged_dataframe.pkl'"
   ]
  },
  {
   "cell_type": "markdown",
   "metadata": {},
   "source": [
    "### Loading the data"
   ]
  },
  {
   "cell_type": "code",
   "execution_count": 3,
   "metadata": {},
   "outputs": [],
   "source": [
    "def load_BindingDB(file_path):\n",
    "\n",
    "    ## load the first row to get the number of columns\n",
    "    df_first_row = pd.read_csv(file_path, sep='\\t', nrows=1)\n",
    "\n",
    "    ## number of columns to use\n",
    "    df = pd.read_csv(file_path, sep='\\t', header=0, usecols=range(df_first_row.shape[1]))\n",
    "    return df"
   ]
  },
  {
   "cell_type": "code",
   "execution_count": 4,
   "metadata": {},
   "outputs": [
    {
     "name": "stdout",
     "output_type": "stream",
     "text": [
      "Merged dataset exists.\n",
      " Loading...\n",
      "Merged dataset loaded\n"
     ]
    }
   ],
   "source": [
    "import gc\n",
    "if os.path.exists(MERGED_PICKLE):\n",
    "    print(\"Merged dataset exists.\\n Loading...\")\n",
    "\n",
    "    merged_df = pd.read_pickle(MERGED_PICKLE)\n",
    "\n",
    "    print(\"Merged dataset loaded\")\n",
    "\n",
    "else:\n",
    "    print(\"Merged dataset doesn't exists.\\n Creating it...\")\n",
    "\n",
    "    if os.path.exists(DRUGBANK_CSV):\n",
    "        print(\"parsed_Drugbank exists...\")\n",
    "        print(\"Loading...\")\n",
    "\n",
    "        drugbank = pd.read_csv(DRUGBANK_CSV, encoding='utf-8')\n",
    "    else:\n",
    "        print(\"parsed_Drugbank doesn't exists...\")\n",
    "        print(\"Creating parsed_Drugbank.csv\")\n",
    "\n",
    "        drugparser = DrugParser(DRUGBANK_XML)\n",
    "        drugparser.parse_drugs()\n",
    "        drugbank = drugparser.save_parsed_drugs(DRUGBANK_CSV, return_df = True)\n",
    "\n",
    "        print(\"parsed_Drugbank.csv is created\")\n",
    "        print(\"DrugBank XML is parsed. \\n Loading it ...\")\n",
    "\n",
    "    print(\"Load Binding DB...\")\n",
    "    bindingDB_df = load_BindingDB(BINDINGDB)\n",
    "\n",
    "    print(\"Cleaning Binding DB...\")\n",
    "    preprocessor = Preprocessing(\n",
    "        [\n",
    "            CleanNumericAtrributesStrategy(),\n",
    "        ]\n",
    "    )\n",
    "    preprocessed_df = preprocessor.transform(bindingDB_df)\n",
    "\n",
    "    del bindingDB_df\n",
    "    gc.collect()\n",
    "    \n",
    "    print(\"Creating merged dataset\")\n",
    "    drugbank_binding_merger = DrugBank_BindingDB_Merger()\n",
    "    merged_df = drugbank_binding_merger.merge(drugbank, preprocessed_df)\n",
    "    drugbank_binding_merger.save_merged(MERGED_PICKLE)\n",
    "\n",
    "    print(\"Merged dataset is loaded and saved.\")"
   ]
  },
  {
   "cell_type": "code",
   "execution_count": 5,
   "metadata": {},
   "outputs": [
    {
     "data": {
      "text/html": [
       "<div>\n",
       "<style scoped>\n",
       "    .dataframe tbody tr th:only-of-type {\n",
       "        vertical-align: middle;\n",
       "    }\n",
       "\n",
       "    .dataframe tbody tr th {\n",
       "        vertical-align: top;\n",
       "    }\n",
       "\n",
       "    .dataframe thead th {\n",
       "        text-align: right;\n",
       "    }\n",
       "</style>\n",
       "<table border=\"1\" class=\"dataframe\">\n",
       "  <thead>\n",
       "    <tr style=\"text-align: right;\">\n",
       "      <th></th>\n",
       "      <th>BindingDB Reactant_set_id</th>\n",
       "      <th>SMILES</th>\n",
       "      <th>Ligand InChI</th>\n",
       "      <th>InChI_Key</th>\n",
       "      <th>BindingDB_ID</th>\n",
       "      <th>BindingDB Ligand Name</th>\n",
       "      <th>Target Name</th>\n",
       "      <th>Target Source Organism According to Curator or DataSource</th>\n",
       "      <th>Ki (nM)</th>\n",
       "      <th>IC50 (nM)</th>\n",
       "      <th>...</th>\n",
       "      <th>synonyms</th>\n",
       "      <th>categories</th>\n",
       "      <th>patent_approved</th>\n",
       "      <th>interaction</th>\n",
       "      <th>ChEMBL_ID_DrugBank</th>\n",
       "      <th>SMILES_DrugBank</th>\n",
       "      <th>InChI_Key_DrugBank</th>\n",
       "      <th>ChEBI_ID_DrugBank</th>\n",
       "      <th>BindingDB_ID_DrugBank</th>\n",
       "      <th>Matched_On</th>\n",
       "    </tr>\n",
       "  </thead>\n",
       "  <tbody>\n",
       "    <tr>\n",
       "      <th>0</th>\n",
       "      <td>1</td>\n",
       "      <td>O[C@@H]1[C@@H](O)[C@@H](Cc2ccccc2)N(CCCCCC(O)=...</td>\n",
       "      <td>InChI=1S/C31H42N2O7/c34-27(35)17-9-3-11-19-32-...</td>\n",
       "      <td>XGEGDSLAQZJGCW-HHGOQMMWSA-N</td>\n",
       "      <td>608734</td>\n",
       "      <td>6-[(4R,5S,6S,7R)-4,7-dibenzyl-3-(5-carboxypent...</td>\n",
       "      <td>Dimer of Gag-Pol polyprotein [501-599]</td>\n",
       "      <td>Human immunodeficiency virus 1</td>\n",
       "      <td>0.24</td>\n",
       "      <td>-1.0</td>\n",
       "      <td>...</td>\n",
       "      <td>NaN</td>\n",
       "      <td>NaN</td>\n",
       "      <td>NaN</td>\n",
       "      <td>NaN</td>\n",
       "      <td>NaN</td>\n",
       "      <td>NaN</td>\n",
       "      <td>NaN</td>\n",
       "      <td>NaN</td>\n",
       "      <td>NaN</td>\n",
       "      <td>NaN</td>\n",
       "    </tr>\n",
       "    <tr>\n",
       "      <th>1</th>\n",
       "      <td>2</td>\n",
       "      <td>O[C@@H]1[C@@H](O)[C@@H](Cc2ccccc2)N(C\\C=C\\c2cn...</td>\n",
       "      <td>InChI=1S/C31H34N6O3/c38-29-27(17-23-9-3-1-4-10...</td>\n",
       "      <td>UZLMEAPBHYEHAC-UNTBESQGSA-N</td>\n",
       "      <td>22</td>\n",
       "      <td>(4R,5S,6S,7R)-4,7-dibenzyl-5,6-dihydroxy-1,3-b...</td>\n",
       "      <td>Dimer of Gag-Pol polyprotein [501-599]</td>\n",
       "      <td>Human immunodeficiency virus 1</td>\n",
       "      <td>0.25</td>\n",
       "      <td>-1.0</td>\n",
       "      <td>...</td>\n",
       "      <td>NaN</td>\n",
       "      <td>NaN</td>\n",
       "      <td>NaN</td>\n",
       "      <td>NaN</td>\n",
       "      <td>NaN</td>\n",
       "      <td>NaN</td>\n",
       "      <td>NaN</td>\n",
       "      <td>NaN</td>\n",
       "      <td>NaN</td>\n",
       "      <td>NaN</td>\n",
       "    </tr>\n",
       "    <tr>\n",
       "      <th>2</th>\n",
       "      <td>3</td>\n",
       "      <td>O[C@@H]1[C@@H](O)[C@@H](Cc2ccccc2)N(CC2CC2)C(=...</td>\n",
       "      <td>InChI=1S/C29H34N4O3/c34-27-25(16-21-8-3-1-4-9-...</td>\n",
       "      <td>HYNYUFZPPJMPOB-UTWJFGBXSA-N</td>\n",
       "      <td>23</td>\n",
       "      <td>(4R,5S,6S,7R)-4,7-dibenzyl-1-(cyclopropylmethy...</td>\n",
       "      <td>Dimer of Gag-Pol polyprotein [501-599]</td>\n",
       "      <td>Human immunodeficiency virus 1</td>\n",
       "      <td>0.41</td>\n",
       "      <td>-1.0</td>\n",
       "      <td>...</td>\n",
       "      <td>NaN</td>\n",
       "      <td>NaN</td>\n",
       "      <td>NaN</td>\n",
       "      <td>NaN</td>\n",
       "      <td>NaN</td>\n",
       "      <td>NaN</td>\n",
       "      <td>NaN</td>\n",
       "      <td>NaN</td>\n",
       "      <td>NaN</td>\n",
       "      <td>NaN</td>\n",
       "    </tr>\n",
       "    <tr>\n",
       "      <th>3</th>\n",
       "      <td>4</td>\n",
       "      <td>OCCCCCCN1[C@H](Cc2ccccc2)[C@H](O)[C@@H](O)[C@@...</td>\n",
       "      <td>InChI=1S/C29H40N2O4/c32-18-10-2-1-9-17-30-25(1...</td>\n",
       "      <td>YXVAZXDWVZTGGD-VIJSPRBVSA-N</td>\n",
       "      <td>24</td>\n",
       "      <td>(4R,5S,6S,7R)-4,7-dibenzyl-1-(cyclopropylmethy...</td>\n",
       "      <td>Dimer of Gag-Pol polyprotein [501-599]</td>\n",
       "      <td>Human immunodeficiency virus 1</td>\n",
       "      <td>0.80</td>\n",
       "      <td>-1.0</td>\n",
       "      <td>...</td>\n",
       "      <td>NaN</td>\n",
       "      <td>NaN</td>\n",
       "      <td>NaN</td>\n",
       "      <td>NaN</td>\n",
       "      <td>NaN</td>\n",
       "      <td>NaN</td>\n",
       "      <td>NaN</td>\n",
       "      <td>NaN</td>\n",
       "      <td>NaN</td>\n",
       "      <td>NaN</td>\n",
       "    </tr>\n",
       "    <tr>\n",
       "      <th>4</th>\n",
       "      <td>5</td>\n",
       "      <td>OCCCCCN1[C@H](Cc2ccccc2)[C@H](O)[C@@H](O)[C@@H...</td>\n",
       "      <td>InChI=1S/C28H38N2O4/c31-17-9-3-8-16-29-24(18-2...</td>\n",
       "      <td>WWTSWTPNILRSJX-XDZXDJIYSA-N</td>\n",
       "      <td>25</td>\n",
       "      <td>(4R,5S,6S,7R)-4,7-dibenzyl-1-(cyclopropylmethy...</td>\n",
       "      <td>Dimer of Gag-Pol polyprotein [501-599]</td>\n",
       "      <td>Human immunodeficiency virus 1</td>\n",
       "      <td>0.99</td>\n",
       "      <td>-1.0</td>\n",
       "      <td>...</td>\n",
       "      <td>NaN</td>\n",
       "      <td>NaN</td>\n",
       "      <td>NaN</td>\n",
       "      <td>NaN</td>\n",
       "      <td>NaN</td>\n",
       "      <td>NaN</td>\n",
       "      <td>NaN</td>\n",
       "      <td>NaN</td>\n",
       "      <td>NaN</td>\n",
       "      <td>NaN</td>\n",
       "    </tr>\n",
       "  </tbody>\n",
       "</table>\n",
       "<p>5 rows × 216 columns</p>\n",
       "</div>"
      ],
      "text/plain": [
       "   BindingDB Reactant_set_id  \\\n",
       "0                          1   \n",
       "1                          2   \n",
       "2                          3   \n",
       "3                          4   \n",
       "4                          5   \n",
       "\n",
       "                                              SMILES  \\\n",
       "0  O[C@@H]1[C@@H](O)[C@@H](Cc2ccccc2)N(CCCCCC(O)=...   \n",
       "1  O[C@@H]1[C@@H](O)[C@@H](Cc2ccccc2)N(C\\C=C\\c2cn...   \n",
       "2  O[C@@H]1[C@@H](O)[C@@H](Cc2ccccc2)N(CC2CC2)C(=...   \n",
       "3  OCCCCCCN1[C@H](Cc2ccccc2)[C@H](O)[C@@H](O)[C@@...   \n",
       "4  OCCCCCN1[C@H](Cc2ccccc2)[C@H](O)[C@@H](O)[C@@H...   \n",
       "\n",
       "                                        Ligand InChI  \\\n",
       "0  InChI=1S/C31H42N2O7/c34-27(35)17-9-3-11-19-32-...   \n",
       "1  InChI=1S/C31H34N6O3/c38-29-27(17-23-9-3-1-4-10...   \n",
       "2  InChI=1S/C29H34N4O3/c34-27-25(16-21-8-3-1-4-9-...   \n",
       "3  InChI=1S/C29H40N2O4/c32-18-10-2-1-9-17-30-25(1...   \n",
       "4  InChI=1S/C28H38N2O4/c31-17-9-3-8-16-29-24(18-2...   \n",
       "\n",
       "                     InChI_Key  BindingDB_ID  \\\n",
       "0  XGEGDSLAQZJGCW-HHGOQMMWSA-N        608734   \n",
       "1  UZLMEAPBHYEHAC-UNTBESQGSA-N            22   \n",
       "2  HYNYUFZPPJMPOB-UTWJFGBXSA-N            23   \n",
       "3  YXVAZXDWVZTGGD-VIJSPRBVSA-N            24   \n",
       "4  WWTSWTPNILRSJX-XDZXDJIYSA-N            25   \n",
       "\n",
       "                               BindingDB Ligand Name  \\\n",
       "0  6-[(4R,5S,6S,7R)-4,7-dibenzyl-3-(5-carboxypent...   \n",
       "1  (4R,5S,6S,7R)-4,7-dibenzyl-5,6-dihydroxy-1,3-b...   \n",
       "2  (4R,5S,6S,7R)-4,7-dibenzyl-1-(cyclopropylmethy...   \n",
       "3  (4R,5S,6S,7R)-4,7-dibenzyl-1-(cyclopropylmethy...   \n",
       "4  (4R,5S,6S,7R)-4,7-dibenzyl-1-(cyclopropylmethy...   \n",
       "\n",
       "                              Target Name  \\\n",
       "0  Dimer of Gag-Pol polyprotein [501-599]   \n",
       "1  Dimer of Gag-Pol polyprotein [501-599]   \n",
       "2  Dimer of Gag-Pol polyprotein [501-599]   \n",
       "3  Dimer of Gag-Pol polyprotein [501-599]   \n",
       "4  Dimer of Gag-Pol polyprotein [501-599]   \n",
       "\n",
       "  Target Source Organism According to Curator or DataSource  Ki (nM)  \\\n",
       "0                     Human immunodeficiency virus 1            0.24   \n",
       "1                     Human immunodeficiency virus 1            0.25   \n",
       "2                     Human immunodeficiency virus 1            0.41   \n",
       "3                     Human immunodeficiency virus 1            0.80   \n",
       "4                     Human immunodeficiency virus 1            0.99   \n",
       "\n",
       "   IC50 (nM)  ...  synonyms  categories  patent_approved  interaction  \\\n",
       "0       -1.0  ...       NaN         NaN              NaN          NaN   \n",
       "1       -1.0  ...       NaN         NaN              NaN          NaN   \n",
       "2       -1.0  ...       NaN         NaN              NaN          NaN   \n",
       "3       -1.0  ...       NaN         NaN              NaN          NaN   \n",
       "4       -1.0  ...       NaN         NaN              NaN          NaN   \n",
       "\n",
       "   ChEMBL_ID_DrugBank SMILES_DrugBank InChI_Key_DrugBank ChEBI_ID_DrugBank  \\\n",
       "0                 NaN             NaN                NaN               NaN   \n",
       "1                 NaN             NaN                NaN               NaN   \n",
       "2                 NaN             NaN                NaN               NaN   \n",
       "3                 NaN             NaN                NaN               NaN   \n",
       "4                 NaN             NaN                NaN               NaN   \n",
       "\n",
       "  BindingDB_ID_DrugBank  Matched_On  \n",
       "0                   NaN         NaN  \n",
       "1                   NaN         NaN  \n",
       "2                   NaN         NaN  \n",
       "3                   NaN         NaN  \n",
       "4                   NaN         NaN  \n",
       "\n",
       "[5 rows x 216 columns]"
      ]
     },
     "execution_count": 5,
     "metadata": {},
     "output_type": "execute_result"
    }
   ],
   "source": [
    "merged_df.head()"
   ]
  },
  {
   "cell_type": "markdown",
   "metadata": {},
   "source": [
    "### Initial Cancer related filtering"
   ]
  },
  {
   "cell_type": "code",
   "execution_count": 17,
   "metadata": {},
   "outputs": [],
   "source": [
    "cancer_keywords = [\n",
    "    \"cancer\", \"tumor\", \"carcinoma\", \"neoplasm\", \"malignancy\", \"metastasis\", \"oncology\",\n",
    "    \"sarcoma\", \"adenocarcinoma\", \"lymphoma\", \"leukemia\", \"myeloma\", \"breast cancer\",\n",
    "    \"lung cancer\", \"prostate cancer\", \"colon cancer\", \"rectal cancer\", \"colorectal cancer\",\n",
    "    \"skin cancer\", \"melanoma\", \"bladder cancer\", \"kidney cancer\", \"renal cancer\",\n",
    "    \"pancreatic cancer\", \"ovarian cancer\", \"cervical cancer\", \"uterine cancer\", \"thyroid cancer\",\n",
    "    \"liver cancer\", \"gastric cancer\", \"stomach cancer\", \"esophageal cancer\", \"brain cancer\",\n",
    "    \"glioma\", \"astrocytoma\", \"neuroblastoma\", \"endometrial cancer\", \"dysplasia\", \"hyperplasia\",\n",
    "    \"leukoplakia\", \"adenoma\", \"lesion\", \"metastases\", \"carcinoma in situ\", \"anaplastic\",\n",
    "    \"fibrosarcoma\", \"osteosarcoma\", \"mesothelioma\", \"chemotherapy\", \"radiotherapy\",\n",
    "    \"immunotherapy\", \"biopsy\", \"staging\", \"grading\", \"metastasize\", \"malignant\", \"benign\",\n",
    "    \"tumor suppressor\", \"oncogene\", \"palliative care\", \"remission\", \"recurrence\"\n",
    "]\n",
    "filtered_df_with_target_name = merged_df[merged_df[[\"Target Name\", \"UniProt (SwissProt) Entry Name of Target Chain\"]].map(lambda x: any(keyword in str(x).lower() for keyword in cancer_keywords)).any(axis=1)]"
   ]
  },
  {
   "cell_type": "code",
   "execution_count": 26,
   "metadata": {},
   "outputs": [
    {
     "name": "stdout",
     "output_type": "stream",
     "text": [
      "number of different cancer related proteins: 123\n"
     ]
    }
   ],
   "source": [
    "unique_cancer_related_proteins = filtered_df_with_target_name[\"Target Name\"].unique()\n",
    "print(f\"number of different cancer related proteins: {len(unique_cancer_related_proteins)}\")"
   ]
  },
  {
   "cell_type": "markdown",
   "metadata": {},
   "source": [
    "#### Just human as source organism"
   ]
  },
  {
   "cell_type": "code",
   "execution_count": null,
   "metadata": {},
   "outputs": [],
   "source": [
    "filtered_df_human = filtered_df_with_target_name[filtered_df_with_target_name[[\"Target Source Organism According to Curator or DataSource\", \"UniProt (SwissProt) Entry Name of Target Chain\"]].map(lambda x: \"human\" in str(x).lower()).any(axis=1)]"
   ]
  },
  {
   "cell_type": "code",
   "execution_count": 22,
   "metadata": {},
   "outputs": [
    {
     "data": {
      "text/plain": [
       "67650"
      ]
     },
     "execution_count": 22,
     "metadata": {},
     "output_type": "execute_result"
    }
   ],
   "source": [
    "len(filtered_df_human)"
   ]
  },
  {
   "cell_type": "code",
   "execution_count": null,
   "metadata": {},
   "outputs": [],
   "source": []
  }
 ],
 "metadata": {
  "kernelspec": {
   "display_name": "ada",
   "language": "python",
   "name": "python3"
  },
  "language_info": {
   "codemirror_mode": {
    "name": "ipython",
    "version": 3
   },
   "file_extension": ".py",
   "mimetype": "text/x-python",
   "name": "python",
   "nbconvert_exporter": "python",
   "pygments_lexer": "ipython3",
   "version": "3.11.9"
  }
 },
 "nbformat": 4,
 "nbformat_minor": 2
}
