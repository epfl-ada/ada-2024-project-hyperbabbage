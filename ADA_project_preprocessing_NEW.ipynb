{
 "cells": [
  {
   "cell_type": "markdown",
   "metadata": {},
   "source": [
    "## Insight for the medical dataset"
   ]
  },
  {
   "cell_type": "markdown",
   "metadata": {},
   "source": [
    "#### To create the dataframes and files needed for our analysis, make sure that:\n",
    "    You have full_database.xml under data/medical/ folder, which will represent the XML version of the DrugBank\n",
    "    You have BindingDB_All.tsv under data/medical/ folder, which will represent the tsv version of the BindingDB"
   ]
  },
  {
   "cell_type": "markdown",
   "metadata": {},
   "source": [
    "### Imports"
   ]
  },
  {
   "cell_type": "code",
   "execution_count": 1,
   "metadata": {},
   "outputs": [],
   "source": [
    "import numpy as np\n",
    "import pandas as pd\n",
    "import os\n",
    "import matplotlib.pyplot as plt\n",
    "import xml.etree.ElementTree as ET\n",
    "from tqdm import tqdm\n",
    "import pandas as pd\n",
    "\n",
    "from drugbank_XML_drugparser import DrugParser\n",
    "from drugbank_bindingdb_merger import DrugBank_BindingDB_Merger\n",
    "from preprocessing import Preprocessing, CleanNumericAtrributesStrategy\n",
    "\n",
    "%matplotlib inline\n",
    "\n",
    "%load_ext autoreload\n",
    "%autoreload 2"
   ]
  },
  {
   "cell_type": "markdown",
   "metadata": {},
   "source": [
    "### Paths"
   ]
  },
  {
   "cell_type": "code",
   "execution_count": 2,
   "metadata": {},
   "outputs": [],
   "source": [
    "DATA_PATH = 'data/medical/'\n",
    "BINDINGDB = DATA_PATH + 'BindingDB_All.tsv'\n",
    "DRUGBANK_XML = DATA_PATH + 'full_database.xml'\n",
    "DRUGBANK_CSV = DATA_PATH + 'parsed_DrugBank.csv'\n",
    "MERGED_CSV = DATA_PATH + 'Merged_Binding_DrugBank_LEFT.csv'\n",
    "MERGED_PARQUET = DATA_PATH + 'merged_dataframe.parquet'"
   ]
  },
  {
   "cell_type": "markdown",
   "metadata": {},
   "source": [
    "### Loading the data"
   ]
  },
  {
   "cell_type": "code",
   "execution_count": 3,
   "metadata": {},
   "outputs": [],
   "source": [
    "def load_BindingDB(file_path):\n",
    "\n",
    "    ## load the first row to get the number of columns\n",
    "    df_first_row = pd.read_csv(file_path, sep='\\t', nrows=1)\n",
    "\n",
    "    ## number of columns to use\n",
    "    df = pd.read_csv(file_path, sep='\\t', header=0, usecols=range(df_first_row.shape[1]))\n",
    "    return df"
   ]
  },
  {
   "cell_type": "code",
   "execution_count": null,
   "metadata": {},
   "outputs": [],
   "source": [
    "if os.path.exists(MERGED_PARQUET):\n",
    "    print(\"Merged dataset exists.\\n Loading...\")\n",
    "\n",
    "    merged_df = pd.read_parquet(MERGED_PARQUET)\n",
    "\n",
    "    print(\"Merged dataset loaded\")\n",
    "\n",
    "else:\n",
    "    print(\"Merged dataset doesn't exists.\\n Creating it...\")\n",
    "\n",
    "    if os.path.exists(DRUGBANK_CSV):\n",
    "        print(\"parsed_Drugbank exists...\")\n",
    "        print(\"Loading...\")\n",
    "\n",
    "        drugbank = pd.read_csv(DRUGBANK_CSV, encoding='utf-8')\n",
    "    else:\n",
    "        print(\"parsed_Drugbank doesn't exists...\")\n",
    "        print(\"Creating parsed_Drugbank.csv\")\n",
    "\n",
    "        drugparser = DrugParser(DRUGBANK_XML)\n",
    "        drugparser.parse_drugs()\n",
    "        drugbank = drugparser.save_parsed_drugs(DRUGBANK_CSV, return_df = True)\n",
    "\n",
    "        print(\"parsed_Drugbank.csv is created\")\n",
    "        print(\"DrugBank XML is parsed. \\n Loading it ...\")\n",
    "\n",
    "    print(\"Load Binding DB...\")\n",
    "    bindingDB_df = load_BindingDB(BINDINGDB)\n",
    "\n",
    "    print(\"Cleaning Binding DB...\")\n",
    "    preprocessor = Preprocessing(\n",
    "        [\n",
    "            CleanNumericAtrributesStrategy(),\n",
    "        ]\n",
    "    )\n",
    "    preprocessed_df = preprocessor.transform(bindingDB_df)\n",
    "\n",
    "    print(\"Creating merged dataset\")\n",
    "    drugbank_binding_merger = DrugBank_BindingDB_Merger()\n",
    "    merged_df = drugbank_binding_merger.merge(drugbank, preprocessed_df)\n",
    "    drugbank_binding_merger.save_merged(MERGED_PARQUET)\n",
    "\n",
    "    print(\"Done.\")\n"
   ]
  },
  {
   "cell_type": "code",
   "execution_count": null,
   "metadata": {},
   "outputs": [],
   "source": [
    "2"
   ]
  },
  {
   "cell_type": "code",
   "execution_count": null,
   "metadata": {},
   "outputs": [],
   "source": [
    "preprocessor = Preprocessing(\n",
    "    [\n",
    "        CleanNumericAtrributesStrategy(),\n",
    "    ]\n",
    ")\n",
    "preprocessed_df = preprocessor.transform(merged_df)\n",
    "preprocessed_df.head()"
   ]
  },
  {
   "cell_type": "code",
   "execution_count": null,
   "metadata": {},
   "outputs": [],
   "source": []
  },
  {
   "cell_type": "code",
   "execution_count": null,
   "metadata": {},
   "outputs": [],
   "source": []
  },
  {
   "cell_type": "code",
   "execution_count": 9,
   "metadata": {},
   "outputs": [
    {
     "data": {
      "text/plain": [
       "216"
      ]
     },
     "execution_count": 9,
     "metadata": {},
     "output_type": "execute_result"
    }
   ],
   "source": [
    "len(merged_df.columns)\n"
   ]
  },
  {
   "cell_type": "code",
   "execution_count": null,
   "metadata": {},
   "outputs": [
    {
     "name": "stdout",
     "output_type": "stream",
     "text": [
      "parsed_Drugbank exists...\n",
      "Loading parsed_Drugbank.csv...\n"
     ]
    }
   ],
   "source": []
  },
  {
   "cell_type": "code",
   "execution_count": 7,
   "metadata": {},
   "outputs": [],
   "source": [
    "#print(f\"Number of rows: {len(df)}\")\n",
    "#print(f\"Number of cols: {len(df.columns)}\")"
   ]
  },
  {
   "cell_type": "code",
   "execution_count": null,
   "metadata": {},
   "outputs": [],
   "source": []
  },
  {
   "cell_type": "code",
   "execution_count": null,
   "metadata": {},
   "outputs": [
    {
     "data": {
      "text/plain": [
       "'data/medical/Merged_Binding_DrugBank_LEFT.csv'"
      ]
     },
     "execution_count": 9,
     "metadata": {},
     "output_type": "execute_result"
    }
   ],
   "source": [
    "del bindingDB_df, drugbank\n",
    "gc.collect()"
   ]
  },
  {
   "cell_type": "code",
   "execution_count": 13,
   "metadata": {},
   "outputs": [
    {
     "name": "stdout",
     "output_type": "stream",
     "text": [
      "Merged_Binding_DrugBank exists...\n",
      "Loading Merged_Binding_DrugBank_LEFT.csv...\n"
     ]
    },
    {
     "name": "stderr",
     "output_type": "stream",
     "text": [
      "C:\\Users\\Charaf Kamel\\AppData\\Local\\Temp\\ipykernel_21556\\2728944718.py:4: DtypeWarning: Columns (8,9,10,11,12,13,15,17,20,21,22,23,27,28,32,33,35,36,45,46,47,48,50,51,52,53,54,55,57,58,59,60,62,63,64,65,66,67,69,70,71,72,74,75,76,77,78,79,81,82,83,86,87,88,89,90,91,93,94,95,98,99,100,101,102,103,105,106,107,110,111,112,113,114,115,117,118,119,122,123,124,125,126,127,129,130,131,134,135,136,137,138,139,141,142,143,146,147,148,149,150,151,153,154,155,158,159,160,161,162,163,165,166,167,170,171,172,173,174,175,177,178,179,182,183,184,185,186,187,189,190,191,195,196,199,200,201,202,203,204,205,206,207,208,209,210,211,212,213,215) have mixed types. Specify dtype option on import or set low_memory=False.\n",
      "  merged_df = pd.read_csv(output_file_merged, encoding='utf-8')\n"
     ]
    }
   ],
   "source": [
    "if os.path.exists(output_file_merged):\n",
    "    print(\"Merged_Binding_DrugBank exists...\")\n",
    "    print(\"Loading Merged_Binding_DrugBank_LEFT.csv...\")\n",
    "    merged_df = pd.read_csv(output_file_merged, encoding='utf-8')\n",
    "else:\n",
    "    print(\"Merged_Binding_DrugBank_LEFT doesn't exists...\")\n",
    "    print(\"Creating Merged_Binding_DrugBank_LEFT.csv\")\n",
    "    drugbank_binding_merger = DrugBank_BindingDB_Merger()\n",
    "    merged_df = drugbank_binding_merger.merge(drugbank, bindingDB_df)\n",
    "    drugbank_binding_merger.save_merged(output_file_merged)\n",
    "    print(\"Merged_Binding_DrugBank_LEFT.csv is created\")"
   ]
  },
  {
   "cell_type": "code",
   "execution_count": 1,
   "metadata": {},
   "outputs": [
    {
     "ename": "NameError",
     "evalue": "name 'preprocessed_df' is not defined",
     "output_type": "error",
     "traceback": [
      "\u001b[1;31m---------------------------------------------------------------------------\u001b[0m",
      "\u001b[1;31mNameError\u001b[0m                                 Traceback (most recent call last)",
      "Cell \u001b[1;32mIn[1], line 1\u001b[0m\n\u001b[1;32m----> 1\u001b[0m \u001b[43mpreprocessed_df\u001b[49m\u001b[38;5;241m.\u001b[39mhead()\n",
      "\u001b[1;31mNameError\u001b[0m: name 'preprocessed_df' is not defined"
     ]
    }
   ],
   "source": [
    "preprocessed_df.head()"
   ]
  },
  {
   "cell_type": "code",
   "execution_count": null,
   "metadata": {},
   "outputs": [
    {
     "data": {
      "text/html": [
       "<div>\n",
       "<style scoped>\n",
       "    .dataframe tbody tr th:only-of-type {\n",
       "        vertical-align: middle;\n",
       "    }\n",
       "\n",
       "    .dataframe tbody tr th {\n",
       "        vertical-align: top;\n",
       "    }\n",
       "\n",
       "    .dataframe thead th {\n",
       "        text-align: right;\n",
       "    }\n",
       "</style>\n",
       "<table border=\"1\" class=\"dataframe\">\n",
       "  <thead>\n",
       "    <tr style=\"text-align: right;\">\n",
       "      <th></th>\n",
       "      <th>BindingDB Reactant_set_id</th>\n",
       "      <th>SMILES</th>\n",
       "      <th>Ligand InChI</th>\n",
       "      <th>InChI_Key</th>\n",
       "      <th>BindingDB_ID</th>\n",
       "      <th>BindingDB Ligand Name</th>\n",
       "      <th>Target Name</th>\n",
       "      <th>Target Source Organism According to Curator or DataSource</th>\n",
       "      <th>Ki (nM)</th>\n",
       "      <th>IC50 (nM)</th>\n",
       "      <th>...</th>\n",
       "      <th>synonyms</th>\n",
       "      <th>categories</th>\n",
       "      <th>patent_approved</th>\n",
       "      <th>interaction</th>\n",
       "      <th>ChEMBL_ID_DrugBank</th>\n",
       "      <th>SMILES_DrugBank</th>\n",
       "      <th>InChI_Key_DrugBank</th>\n",
       "      <th>ChEBI_ID_DrugBank</th>\n",
       "      <th>BindingDB_ID_DrugBank</th>\n",
       "      <th>Matched_On</th>\n",
       "    </tr>\n",
       "  </thead>\n",
       "  <tbody>\n",
       "    <tr>\n",
       "      <th>0</th>\n",
       "      <td>1</td>\n",
       "      <td>O[C@@H]1[C@@H](O)[C@@H](Cc2ccccc2)N(CCCCCC(O)=...</td>\n",
       "      <td>InChI=1S/C31H42N2O7/c34-27(35)17-9-3-11-19-32-...</td>\n",
       "      <td>XGEGDSLAQZJGCW-HHGOQMMWSA-N</td>\n",
       "      <td>608734</td>\n",
       "      <td>6-[(4R,5S,6S,7R)-4,7-dibenzyl-3-(5-carboxypent...</td>\n",
       "      <td>Dimer of Gag-Pol polyprotein [501-599]</td>\n",
       "      <td>Human immunodeficiency virus 1</td>\n",
       "      <td>0.24</td>\n",
       "      <td>NaN</td>\n",
       "      <td>...</td>\n",
       "      <td>NaN</td>\n",
       "      <td>NaN</td>\n",
       "      <td>NaN</td>\n",
       "      <td>NaN</td>\n",
       "      <td>NaN</td>\n",
       "      <td>NaN</td>\n",
       "      <td>NaN</td>\n",
       "      <td>NaN</td>\n",
       "      <td>NaN</td>\n",
       "      <td>NaN</td>\n",
       "    </tr>\n",
       "    <tr>\n",
       "      <th>1</th>\n",
       "      <td>2</td>\n",
       "      <td>O[C@@H]1[C@@H](O)[C@@H](Cc2ccccc2)N(C\\C=C\\c2cn...</td>\n",
       "      <td>InChI=1S/C31H34N6O3/c38-29-27(17-23-9-3-1-4-10...</td>\n",
       "      <td>UZLMEAPBHYEHAC-UNTBESQGSA-N</td>\n",
       "      <td>22</td>\n",
       "      <td>(4R,5S,6S,7R)-4,7-dibenzyl-5,6-dihydroxy-1,3-b...</td>\n",
       "      <td>Dimer of Gag-Pol polyprotein [501-599]</td>\n",
       "      <td>Human immunodeficiency virus 1</td>\n",
       "      <td>0.25</td>\n",
       "      <td>NaN</td>\n",
       "      <td>...</td>\n",
       "      <td>NaN</td>\n",
       "      <td>NaN</td>\n",
       "      <td>NaN</td>\n",
       "      <td>NaN</td>\n",
       "      <td>NaN</td>\n",
       "      <td>NaN</td>\n",
       "      <td>NaN</td>\n",
       "      <td>NaN</td>\n",
       "      <td>NaN</td>\n",
       "      <td>NaN</td>\n",
       "    </tr>\n",
       "    <tr>\n",
       "      <th>2</th>\n",
       "      <td>3</td>\n",
       "      <td>O[C@@H]1[C@@H](O)[C@@H](Cc2ccccc2)N(CC2CC2)C(=...</td>\n",
       "      <td>InChI=1S/C29H34N4O3/c34-27-25(16-21-8-3-1-4-9-...</td>\n",
       "      <td>HYNYUFZPPJMPOB-UTWJFGBXSA-N</td>\n",
       "      <td>23</td>\n",
       "      <td>(4R,5S,6S,7R)-4,7-dibenzyl-1-(cyclopropylmethy...</td>\n",
       "      <td>Dimer of Gag-Pol polyprotein [501-599]</td>\n",
       "      <td>Human immunodeficiency virus 1</td>\n",
       "      <td>0.41</td>\n",
       "      <td>NaN</td>\n",
       "      <td>...</td>\n",
       "      <td>NaN</td>\n",
       "      <td>NaN</td>\n",
       "      <td>NaN</td>\n",
       "      <td>NaN</td>\n",
       "      <td>NaN</td>\n",
       "      <td>NaN</td>\n",
       "      <td>NaN</td>\n",
       "      <td>NaN</td>\n",
       "      <td>NaN</td>\n",
       "      <td>NaN</td>\n",
       "    </tr>\n",
       "    <tr>\n",
       "      <th>3</th>\n",
       "      <td>4</td>\n",
       "      <td>OCCCCCCN1[C@H](Cc2ccccc2)[C@H](O)[C@@H](O)[C@@...</td>\n",
       "      <td>InChI=1S/C29H40N2O4/c32-18-10-2-1-9-17-30-25(1...</td>\n",
       "      <td>YXVAZXDWVZTGGD-VIJSPRBVSA-N</td>\n",
       "      <td>24</td>\n",
       "      <td>(4R,5S,6S,7R)-4,7-dibenzyl-1-(cyclopropylmethy...</td>\n",
       "      <td>Dimer of Gag-Pol polyprotein [501-599]</td>\n",
       "      <td>Human immunodeficiency virus 1</td>\n",
       "      <td>0.80</td>\n",
       "      <td>NaN</td>\n",
       "      <td>...</td>\n",
       "      <td>NaN</td>\n",
       "      <td>NaN</td>\n",
       "      <td>NaN</td>\n",
       "      <td>NaN</td>\n",
       "      <td>NaN</td>\n",
       "      <td>NaN</td>\n",
       "      <td>NaN</td>\n",
       "      <td>NaN</td>\n",
       "      <td>NaN</td>\n",
       "      <td>NaN</td>\n",
       "    </tr>\n",
       "    <tr>\n",
       "      <th>4</th>\n",
       "      <td>5</td>\n",
       "      <td>OCCCCCN1[C@H](Cc2ccccc2)[C@H](O)[C@@H](O)[C@@H...</td>\n",
       "      <td>InChI=1S/C28H38N2O4/c31-17-9-3-8-16-29-24(18-2...</td>\n",
       "      <td>WWTSWTPNILRSJX-XDZXDJIYSA-N</td>\n",
       "      <td>25</td>\n",
       "      <td>(4R,5S,6S,7R)-4,7-dibenzyl-1-(cyclopropylmethy...</td>\n",
       "      <td>Dimer of Gag-Pol polyprotein [501-599]</td>\n",
       "      <td>Human immunodeficiency virus 1</td>\n",
       "      <td>0.99</td>\n",
       "      <td>NaN</td>\n",
       "      <td>...</td>\n",
       "      <td>NaN</td>\n",
       "      <td>NaN</td>\n",
       "      <td>NaN</td>\n",
       "      <td>NaN</td>\n",
       "      <td>NaN</td>\n",
       "      <td>NaN</td>\n",
       "      <td>NaN</td>\n",
       "      <td>NaN</td>\n",
       "      <td>NaN</td>\n",
       "      <td>NaN</td>\n",
       "    </tr>\n",
       "  </tbody>\n",
       "</table>\n",
       "<p>5 rows × 216 columns</p>\n",
       "</div>"
      ],
      "text/plain": [
       "   BindingDB Reactant_set_id  \\\n",
       "0                          1   \n",
       "1                          2   \n",
       "2                          3   \n",
       "3                          4   \n",
       "4                          5   \n",
       "\n",
       "                                              SMILES  \\\n",
       "0  O[C@@H]1[C@@H](O)[C@@H](Cc2ccccc2)N(CCCCCC(O)=...   \n",
       "1  O[C@@H]1[C@@H](O)[C@@H](Cc2ccccc2)N(C\\C=C\\c2cn...   \n",
       "2  O[C@@H]1[C@@H](O)[C@@H](Cc2ccccc2)N(CC2CC2)C(=...   \n",
       "3  OCCCCCCN1[C@H](Cc2ccccc2)[C@H](O)[C@@H](O)[C@@...   \n",
       "4  OCCCCCN1[C@H](Cc2ccccc2)[C@H](O)[C@@H](O)[C@@H...   \n",
       "\n",
       "                                        Ligand InChI  \\\n",
       "0  InChI=1S/C31H42N2O7/c34-27(35)17-9-3-11-19-32-...   \n",
       "1  InChI=1S/C31H34N6O3/c38-29-27(17-23-9-3-1-4-10...   \n",
       "2  InChI=1S/C29H34N4O3/c34-27-25(16-21-8-3-1-4-9-...   \n",
       "3  InChI=1S/C29H40N2O4/c32-18-10-2-1-9-17-30-25(1...   \n",
       "4  InChI=1S/C28H38N2O4/c31-17-9-3-8-16-29-24(18-2...   \n",
       "\n",
       "                     InChI_Key  BindingDB_ID  \\\n",
       "0  XGEGDSLAQZJGCW-HHGOQMMWSA-N        608734   \n",
       "1  UZLMEAPBHYEHAC-UNTBESQGSA-N            22   \n",
       "2  HYNYUFZPPJMPOB-UTWJFGBXSA-N            23   \n",
       "3  YXVAZXDWVZTGGD-VIJSPRBVSA-N            24   \n",
       "4  WWTSWTPNILRSJX-XDZXDJIYSA-N            25   \n",
       "\n",
       "                               BindingDB Ligand Name  \\\n",
       "0  6-[(4R,5S,6S,7R)-4,7-dibenzyl-3-(5-carboxypent...   \n",
       "1  (4R,5S,6S,7R)-4,7-dibenzyl-5,6-dihydroxy-1,3-b...   \n",
       "2  (4R,5S,6S,7R)-4,7-dibenzyl-1-(cyclopropylmethy...   \n",
       "3  (4R,5S,6S,7R)-4,7-dibenzyl-1-(cyclopropylmethy...   \n",
       "4  (4R,5S,6S,7R)-4,7-dibenzyl-1-(cyclopropylmethy...   \n",
       "\n",
       "                              Target Name  \\\n",
       "0  Dimer of Gag-Pol polyprotein [501-599]   \n",
       "1  Dimer of Gag-Pol polyprotein [501-599]   \n",
       "2  Dimer of Gag-Pol polyprotein [501-599]   \n",
       "3  Dimer of Gag-Pol polyprotein [501-599]   \n",
       "4  Dimer of Gag-Pol polyprotein [501-599]   \n",
       "\n",
       "  Target Source Organism According to Curator or DataSource  Ki (nM)  \\\n",
       "0                     Human immunodeficiency virus 1            0.24   \n",
       "1                     Human immunodeficiency virus 1            0.25   \n",
       "2                     Human immunodeficiency virus 1            0.41   \n",
       "3                     Human immunodeficiency virus 1            0.80   \n",
       "4                     Human immunodeficiency virus 1            0.99   \n",
       "\n",
       "   IC50 (nM)  ...  synonyms  categories  patent_approved  interaction  \\\n",
       "0        NaN  ...       NaN         NaN              NaN          NaN   \n",
       "1        NaN  ...       NaN         NaN              NaN          NaN   \n",
       "2        NaN  ...       NaN         NaN              NaN          NaN   \n",
       "3        NaN  ...       NaN         NaN              NaN          NaN   \n",
       "4        NaN  ...       NaN         NaN              NaN          NaN   \n",
       "\n",
       "   ChEMBL_ID_DrugBank SMILES_DrugBank InChI_Key_DrugBank ChEBI_ID_DrugBank  \\\n",
       "0                 NaN             NaN                NaN               NaN   \n",
       "1                 NaN             NaN                NaN               NaN   \n",
       "2                 NaN             NaN                NaN               NaN   \n",
       "3                 NaN             NaN                NaN               NaN   \n",
       "4                 NaN             NaN                NaN               NaN   \n",
       "\n",
       "  BindingDB_ID_DrugBank  Matched_On  \n",
       "0                   NaN         NaN  \n",
       "1                   NaN         NaN  \n",
       "2                   NaN         NaN  \n",
       "3                   NaN         NaN  \n",
       "4                   NaN         NaN  \n",
       "\n",
       "[5 rows x 216 columns]"
      ]
     },
     "execution_count": 18,
     "metadata": {},
     "output_type": "execute_result"
    }
   ],
   "source": []
  },
  {
   "cell_type": "code",
   "execution_count": 8,
   "metadata": {},
   "outputs": [
    {
     "data": {
      "text/plain": [
       "2927609"
      ]
     },
     "execution_count": 8,
     "metadata": {},
     "output_type": "execute_result"
    }
   ],
   "source": [
    "len(merged_df)"
   ]
  },
  {
   "cell_type": "code",
   "execution_count": null,
   "metadata": {},
   "outputs": [
    {
     "data": {
      "text/html": [
       "<div>\n",
       "<style scoped>\n",
       "    .dataframe tbody tr th:only-of-type {\n",
       "        vertical-align: middle;\n",
       "    }\n",
       "\n",
       "    .dataframe tbody tr th {\n",
       "        vertical-align: top;\n",
       "    }\n",
       "\n",
       "    .dataframe thead th {\n",
       "        text-align: right;\n",
       "    }\n",
       "</style>\n",
       "<table border=\"1\" class=\"dataframe\">\n",
       "  <thead>\n",
       "    <tr style=\"text-align: right;\">\n",
       "      <th></th>\n",
       "      <th>BindingDB Reactant_set_id</th>\n",
       "      <th>Ligand SMILES</th>\n",
       "      <th>Ligand InChI</th>\n",
       "      <th>Ligand InChI Key</th>\n",
       "      <th>BindingDB MonomerID</th>\n",
       "      <th>BindingDB Ligand Name</th>\n",
       "      <th>Target Name</th>\n",
       "      <th>Target Source Organism According to Curator or DataSource</th>\n",
       "      <th>Ki (nM)</th>\n",
       "      <th>IC50 (nM)</th>\n",
       "      <th>...</th>\n",
       "      <th>UniProt (SwissProt) Recommended Name of Target Chain.12</th>\n",
       "      <th>UniProt (SwissProt) Entry Name of Target Chain.12</th>\n",
       "      <th>UniProt (SwissProt) Primary ID of Target Chain.12</th>\n",
       "      <th>UniProt (SwissProt) Secondary ID(s) of Target Chain.12</th>\n",
       "      <th>UniProt (SwissProt) Alternative ID(s) of Target Chain.12</th>\n",
       "      <th>UniProt (TrEMBL) Submitted Name of Target Chain.12</th>\n",
       "      <th>UniProt (TrEMBL) Entry Name of Target Chain.12</th>\n",
       "      <th>UniProt (TrEMBL) Primary ID of Target Chain.12</th>\n",
       "      <th>UniProt (TrEMBL) Secondary ID(s) of Target Chain.12</th>\n",
       "      <th>UniProt (TrEMBL) Alternative ID(s) of Target Chain.12</th>\n",
       "    </tr>\n",
       "  </thead>\n",
       "  <tbody>\n",
       "    <tr>\n",
       "      <th>0</th>\n",
       "      <td>1</td>\n",
       "      <td>O[C@@H]1[C@@H](O)[C@@H](Cc2ccccc2)N(CCCCCC(O)=...</td>\n",
       "      <td>InChI=1S/C31H42N2O7/c34-27(35)17-9-3-11-19-32-...</td>\n",
       "      <td>XGEGDSLAQZJGCW-HHGOQMMWSA-N</td>\n",
       "      <td>608734</td>\n",
       "      <td>6-[(4R,5S,6S,7R)-4,7-dibenzyl-3-(5-carboxypent...</td>\n",
       "      <td>Dimer of Gag-Pol polyprotein [501-599]</td>\n",
       "      <td>Human immunodeficiency virus 1</td>\n",
       "      <td>0.24</td>\n",
       "      <td>-1.0</td>\n",
       "      <td>...</td>\n",
       "      <td>NaN</td>\n",
       "      <td>NaN</td>\n",
       "      <td>NaN</td>\n",
       "      <td>NaN</td>\n",
       "      <td>NaN</td>\n",
       "      <td>NaN</td>\n",
       "      <td>NaN</td>\n",
       "      <td>NaN</td>\n",
       "      <td>NaN</td>\n",
       "      <td>NaN</td>\n",
       "    </tr>\n",
       "    <tr>\n",
       "      <th>1</th>\n",
       "      <td>2</td>\n",
       "      <td>O[C@@H]1[C@@H](O)[C@@H](Cc2ccccc2)N(C\\C=C\\c2cn...</td>\n",
       "      <td>InChI=1S/C31H34N6O3/c38-29-27(17-23-9-3-1-4-10...</td>\n",
       "      <td>UZLMEAPBHYEHAC-UNTBESQGSA-N</td>\n",
       "      <td>22</td>\n",
       "      <td>(4R,5S,6S,7R)-4,7-dibenzyl-5,6-dihydroxy-1,3-b...</td>\n",
       "      <td>Dimer of Gag-Pol polyprotein [501-599]</td>\n",
       "      <td>Human immunodeficiency virus 1</td>\n",
       "      <td>0.25</td>\n",
       "      <td>-1.0</td>\n",
       "      <td>...</td>\n",
       "      <td>NaN</td>\n",
       "      <td>NaN</td>\n",
       "      <td>NaN</td>\n",
       "      <td>NaN</td>\n",
       "      <td>NaN</td>\n",
       "      <td>NaN</td>\n",
       "      <td>NaN</td>\n",
       "      <td>NaN</td>\n",
       "      <td>NaN</td>\n",
       "      <td>NaN</td>\n",
       "    </tr>\n",
       "    <tr>\n",
       "      <th>2</th>\n",
       "      <td>3</td>\n",
       "      <td>O[C@@H]1[C@@H](O)[C@@H](Cc2ccccc2)N(CC2CC2)C(=...</td>\n",
       "      <td>InChI=1S/C29H34N4O3/c34-27-25(16-21-8-3-1-4-9-...</td>\n",
       "      <td>HYNYUFZPPJMPOB-UTWJFGBXSA-N</td>\n",
       "      <td>23</td>\n",
       "      <td>(4R,5S,6S,7R)-4,7-dibenzyl-1-(cyclopropylmethy...</td>\n",
       "      <td>Dimer of Gag-Pol polyprotein [501-599]</td>\n",
       "      <td>Human immunodeficiency virus 1</td>\n",
       "      <td>0.41</td>\n",
       "      <td>-1.0</td>\n",
       "      <td>...</td>\n",
       "      <td>NaN</td>\n",
       "      <td>NaN</td>\n",
       "      <td>NaN</td>\n",
       "      <td>NaN</td>\n",
       "      <td>NaN</td>\n",
       "      <td>NaN</td>\n",
       "      <td>NaN</td>\n",
       "      <td>NaN</td>\n",
       "      <td>NaN</td>\n",
       "      <td>NaN</td>\n",
       "    </tr>\n",
       "    <tr>\n",
       "      <th>3</th>\n",
       "      <td>4</td>\n",
       "      <td>OCCCCCCN1[C@H](Cc2ccccc2)[C@H](O)[C@@H](O)[C@@...</td>\n",
       "      <td>InChI=1S/C29H40N2O4/c32-18-10-2-1-9-17-30-25(1...</td>\n",
       "      <td>YXVAZXDWVZTGGD-VIJSPRBVSA-N</td>\n",
       "      <td>24</td>\n",
       "      <td>(4R,5S,6S,7R)-4,7-dibenzyl-1-(cyclopropylmethy...</td>\n",
       "      <td>Dimer of Gag-Pol polyprotein [501-599]</td>\n",
       "      <td>Human immunodeficiency virus 1</td>\n",
       "      <td>0.80</td>\n",
       "      <td>-1.0</td>\n",
       "      <td>...</td>\n",
       "      <td>NaN</td>\n",
       "      <td>NaN</td>\n",
       "      <td>NaN</td>\n",
       "      <td>NaN</td>\n",
       "      <td>NaN</td>\n",
       "      <td>NaN</td>\n",
       "      <td>NaN</td>\n",
       "      <td>NaN</td>\n",
       "      <td>NaN</td>\n",
       "      <td>NaN</td>\n",
       "    </tr>\n",
       "    <tr>\n",
       "      <th>4</th>\n",
       "      <td>5</td>\n",
       "      <td>OCCCCCN1[C@H](Cc2ccccc2)[C@H](O)[C@@H](O)[C@@H...</td>\n",
       "      <td>InChI=1S/C28H38N2O4/c31-17-9-3-8-16-29-24(18-2...</td>\n",
       "      <td>WWTSWTPNILRSJX-XDZXDJIYSA-N</td>\n",
       "      <td>25</td>\n",
       "      <td>(4R,5S,6S,7R)-4,7-dibenzyl-1-(cyclopropylmethy...</td>\n",
       "      <td>Dimer of Gag-Pol polyprotein [501-599]</td>\n",
       "      <td>Human immunodeficiency virus 1</td>\n",
       "      <td>0.99</td>\n",
       "      <td>-1.0</td>\n",
       "      <td>...</td>\n",
       "      <td>NaN</td>\n",
       "      <td>NaN</td>\n",
       "      <td>NaN</td>\n",
       "      <td>NaN</td>\n",
       "      <td>NaN</td>\n",
       "      <td>NaN</td>\n",
       "      <td>NaN</td>\n",
       "      <td>NaN</td>\n",
       "      <td>NaN</td>\n",
       "      <td>NaN</td>\n",
       "    </tr>\n",
       "  </tbody>\n",
       "</table>\n",
       "<p>5 rows × 194 columns</p>\n",
       "</div>"
      ],
      "text/plain": [
       "   BindingDB Reactant_set_id  \\\n",
       "0                          1   \n",
       "1                          2   \n",
       "2                          3   \n",
       "3                          4   \n",
       "4                          5   \n",
       "\n",
       "                                       Ligand SMILES  \\\n",
       "0  O[C@@H]1[C@@H](O)[C@@H](Cc2ccccc2)N(CCCCCC(O)=...   \n",
       "1  O[C@@H]1[C@@H](O)[C@@H](Cc2ccccc2)N(C\\C=C\\c2cn...   \n",
       "2  O[C@@H]1[C@@H](O)[C@@H](Cc2ccccc2)N(CC2CC2)C(=...   \n",
       "3  OCCCCCCN1[C@H](Cc2ccccc2)[C@H](O)[C@@H](O)[C@@...   \n",
       "4  OCCCCCN1[C@H](Cc2ccccc2)[C@H](O)[C@@H](O)[C@@H...   \n",
       "\n",
       "                                        Ligand InChI  \\\n",
       "0  InChI=1S/C31H42N2O7/c34-27(35)17-9-3-11-19-32-...   \n",
       "1  InChI=1S/C31H34N6O3/c38-29-27(17-23-9-3-1-4-10...   \n",
       "2  InChI=1S/C29H34N4O3/c34-27-25(16-21-8-3-1-4-9-...   \n",
       "3  InChI=1S/C29H40N2O4/c32-18-10-2-1-9-17-30-25(1...   \n",
       "4  InChI=1S/C28H38N2O4/c31-17-9-3-8-16-29-24(18-2...   \n",
       "\n",
       "              Ligand InChI Key  BindingDB MonomerID  \\\n",
       "0  XGEGDSLAQZJGCW-HHGOQMMWSA-N               608734   \n",
       "1  UZLMEAPBHYEHAC-UNTBESQGSA-N                   22   \n",
       "2  HYNYUFZPPJMPOB-UTWJFGBXSA-N                   23   \n",
       "3  YXVAZXDWVZTGGD-VIJSPRBVSA-N                   24   \n",
       "4  WWTSWTPNILRSJX-XDZXDJIYSA-N                   25   \n",
       "\n",
       "                               BindingDB Ligand Name  \\\n",
       "0  6-[(4R,5S,6S,7R)-4,7-dibenzyl-3-(5-carboxypent...   \n",
       "1  (4R,5S,6S,7R)-4,7-dibenzyl-5,6-dihydroxy-1,3-b...   \n",
       "2  (4R,5S,6S,7R)-4,7-dibenzyl-1-(cyclopropylmethy...   \n",
       "3  (4R,5S,6S,7R)-4,7-dibenzyl-1-(cyclopropylmethy...   \n",
       "4  (4R,5S,6S,7R)-4,7-dibenzyl-1-(cyclopropylmethy...   \n",
       "\n",
       "                              Target Name  \\\n",
       "0  Dimer of Gag-Pol polyprotein [501-599]   \n",
       "1  Dimer of Gag-Pol polyprotein [501-599]   \n",
       "2  Dimer of Gag-Pol polyprotein [501-599]   \n",
       "3  Dimer of Gag-Pol polyprotein [501-599]   \n",
       "4  Dimer of Gag-Pol polyprotein [501-599]   \n",
       "\n",
       "  Target Source Organism According to Curator or DataSource  Ki (nM)  \\\n",
       "0                     Human immunodeficiency virus 1            0.24   \n",
       "1                     Human immunodeficiency virus 1            0.25   \n",
       "2                     Human immunodeficiency virus 1            0.41   \n",
       "3                     Human immunodeficiency virus 1            0.80   \n",
       "4                     Human immunodeficiency virus 1            0.99   \n",
       "\n",
       "   IC50 (nM)  ...  UniProt (SwissProt) Recommended Name of Target Chain.12  \\\n",
       "0       -1.0  ...                                                NaN         \n",
       "1       -1.0  ...                                                NaN         \n",
       "2       -1.0  ...                                                NaN         \n",
       "3       -1.0  ...                                                NaN         \n",
       "4       -1.0  ...                                                NaN         \n",
       "\n",
       "   UniProt (SwissProt) Entry Name of Target Chain.12  \\\n",
       "0                                                NaN   \n",
       "1                                                NaN   \n",
       "2                                                NaN   \n",
       "3                                                NaN   \n",
       "4                                                NaN   \n",
       "\n",
       "   UniProt (SwissProt) Primary ID of Target Chain.12  \\\n",
       "0                                                NaN   \n",
       "1                                                NaN   \n",
       "2                                                NaN   \n",
       "3                                                NaN   \n",
       "4                                                NaN   \n",
       "\n",
       "   UniProt (SwissProt) Secondary ID(s) of Target Chain.12  \\\n",
       "0                                                NaN        \n",
       "1                                                NaN        \n",
       "2                                                NaN        \n",
       "3                                                NaN        \n",
       "4                                                NaN        \n",
       "\n",
       "   UniProt (SwissProt) Alternative ID(s) of Target Chain.12  \\\n",
       "0                                                NaN          \n",
       "1                                                NaN          \n",
       "2                                                NaN          \n",
       "3                                                NaN          \n",
       "4                                                NaN          \n",
       "\n",
       "  UniProt (TrEMBL) Submitted Name of Target Chain.12  \\\n",
       "0                                                NaN   \n",
       "1                                                NaN   \n",
       "2                                                NaN   \n",
       "3                                                NaN   \n",
       "4                                                NaN   \n",
       "\n",
       "  UniProt (TrEMBL) Entry Name of Target Chain.12  \\\n",
       "0                                            NaN   \n",
       "1                                            NaN   \n",
       "2                                            NaN   \n",
       "3                                            NaN   \n",
       "4                                            NaN   \n",
       "\n",
       "  UniProt (TrEMBL) Primary ID of Target Chain.12  \\\n",
       "0                                            NaN   \n",
       "1                                            NaN   \n",
       "2                                            NaN   \n",
       "3                                            NaN   \n",
       "4                                            NaN   \n",
       "\n",
       "  UniProt (TrEMBL) Secondary ID(s) of Target Chain.12  \\\n",
       "0                                                NaN    \n",
       "1                                                NaN    \n",
       "2                                                NaN    \n",
       "3                                                NaN    \n",
       "4                                                NaN    \n",
       "\n",
       "   UniProt (TrEMBL) Alternative ID(s) of Target Chain.12  \n",
       "0                                                NaN      \n",
       "1                                                NaN      \n",
       "2                                                NaN      \n",
       "3                                                NaN      \n",
       "4                                                NaN      \n",
       "\n",
       "[5 rows x 194 columns]"
      ]
     },
     "execution_count": 18,
     "metadata": {},
     "output_type": "execute_result"
    }
   ],
   "source": []
  },
  {
   "cell_type": "markdown",
   "metadata": {},
   "source": [
    "## Link to Drug Bank"
   ]
  },
  {
   "cell_type": "code",
   "execution_count": null,
   "metadata": {},
   "outputs": [
    {
     "ename": "MemoryError",
     "evalue": "Unable to allocate 22.3 MiB for an array with shape (2927609,) and data type object",
     "output_type": "error",
     "traceback": [
      "\u001b[1;31m---------------------------------------------------------------------------\u001b[0m",
      "\u001b[1;31mMemoryError\u001b[0m                               Traceback (most recent call last)",
      "Cell \u001b[1;32mIn[4], line 1\u001b[0m\n\u001b[1;32m----> 1\u001b[0m merged \u001b[38;5;241m=\u001b[39m \u001b[43mpd\u001b[49m\u001b[38;5;241;43m.\u001b[39;49m\u001b[43mread_csv\u001b[49m\u001b[43m(\u001b[49m\u001b[43mMERGED_CSV\u001b[49m\u001b[43m)\u001b[49m\n\u001b[0;32m      2\u001b[0m merged\u001b[38;5;241m.\u001b[39mhead()\n",
      "File \u001b[1;32mc:\\Users\\Charaf Kamel\\.conda\\envs\\ada\\Lib\\site-packages\\pandas\\io\\parsers\\readers.py:1026\u001b[0m, in \u001b[0;36mread_csv\u001b[1;34m(filepath_or_buffer, sep, delimiter, header, names, index_col, usecols, dtype, engine, converters, true_values, false_values, skipinitialspace, skiprows, skipfooter, nrows, na_values, keep_default_na, na_filter, verbose, skip_blank_lines, parse_dates, infer_datetime_format, keep_date_col, date_parser, date_format, dayfirst, cache_dates, iterator, chunksize, compression, thousands, decimal, lineterminator, quotechar, quoting, doublequote, escapechar, comment, encoding, encoding_errors, dialect, on_bad_lines, delim_whitespace, low_memory, memory_map, float_precision, storage_options, dtype_backend)\u001b[0m\n\u001b[0;32m   1013\u001b[0m kwds_defaults \u001b[38;5;241m=\u001b[39m _refine_defaults_read(\n\u001b[0;32m   1014\u001b[0m     dialect,\n\u001b[0;32m   1015\u001b[0m     delimiter,\n\u001b[1;32m   (...)\u001b[0m\n\u001b[0;32m   1022\u001b[0m     dtype_backend\u001b[38;5;241m=\u001b[39mdtype_backend,\n\u001b[0;32m   1023\u001b[0m )\n\u001b[0;32m   1024\u001b[0m kwds\u001b[38;5;241m.\u001b[39mupdate(kwds_defaults)\n\u001b[1;32m-> 1026\u001b[0m \u001b[38;5;28;01mreturn\u001b[39;00m \u001b[43m_read\u001b[49m\u001b[43m(\u001b[49m\u001b[43mfilepath_or_buffer\u001b[49m\u001b[43m,\u001b[49m\u001b[43m \u001b[49m\u001b[43mkwds\u001b[49m\u001b[43m)\u001b[49m\n",
      "File \u001b[1;32mc:\\Users\\Charaf Kamel\\.conda\\envs\\ada\\Lib\\site-packages\\pandas\\io\\parsers\\readers.py:626\u001b[0m, in \u001b[0;36m_read\u001b[1;34m(filepath_or_buffer, kwds)\u001b[0m\n\u001b[0;32m    623\u001b[0m     \u001b[38;5;28;01mreturn\u001b[39;00m parser\n\u001b[0;32m    625\u001b[0m \u001b[38;5;28;01mwith\u001b[39;00m parser:\n\u001b[1;32m--> 626\u001b[0m     \u001b[38;5;28;01mreturn\u001b[39;00m \u001b[43mparser\u001b[49m\u001b[38;5;241;43m.\u001b[39;49m\u001b[43mread\u001b[49m\u001b[43m(\u001b[49m\u001b[43mnrows\u001b[49m\u001b[43m)\u001b[49m\n",
      "File \u001b[1;32mc:\\Users\\Charaf Kamel\\.conda\\envs\\ada\\Lib\\site-packages\\pandas\\io\\parsers\\readers.py:1923\u001b[0m, in \u001b[0;36mTextFileReader.read\u001b[1;34m(self, nrows)\u001b[0m\n\u001b[0;32m   1916\u001b[0m nrows \u001b[38;5;241m=\u001b[39m validate_integer(\u001b[38;5;124m\"\u001b[39m\u001b[38;5;124mnrows\u001b[39m\u001b[38;5;124m\"\u001b[39m, nrows)\n\u001b[0;32m   1917\u001b[0m \u001b[38;5;28;01mtry\u001b[39;00m:\n\u001b[0;32m   1918\u001b[0m     \u001b[38;5;66;03m# error: \"ParserBase\" has no attribute \"read\"\u001b[39;00m\n\u001b[0;32m   1919\u001b[0m     (\n\u001b[0;32m   1920\u001b[0m         index,\n\u001b[0;32m   1921\u001b[0m         columns,\n\u001b[0;32m   1922\u001b[0m         col_dict,\n\u001b[1;32m-> 1923\u001b[0m     ) \u001b[38;5;241m=\u001b[39m \u001b[38;5;28;43mself\u001b[39;49m\u001b[38;5;241;43m.\u001b[39;49m\u001b[43m_engine\u001b[49m\u001b[38;5;241;43m.\u001b[39;49m\u001b[43mread\u001b[49m\u001b[43m(\u001b[49m\u001b[43m  \u001b[49m\u001b[38;5;66;43;03m# type: ignore[attr-defined]\u001b[39;49;00m\n\u001b[0;32m   1924\u001b[0m \u001b[43m        \u001b[49m\u001b[43mnrows\u001b[49m\n\u001b[0;32m   1925\u001b[0m \u001b[43m    \u001b[49m\u001b[43m)\u001b[49m\n\u001b[0;32m   1926\u001b[0m \u001b[38;5;28;01mexcept\u001b[39;00m \u001b[38;5;167;01mException\u001b[39;00m:\n\u001b[0;32m   1927\u001b[0m     \u001b[38;5;28mself\u001b[39m\u001b[38;5;241m.\u001b[39mclose()\n",
      "File \u001b[1;32mc:\\Users\\Charaf Kamel\\.conda\\envs\\ada\\Lib\\site-packages\\pandas\\io\\parsers\\c_parser_wrapper.py:236\u001b[0m, in \u001b[0;36mCParserWrapper.read\u001b[1;34m(self, nrows)\u001b[0m\n\u001b[0;32m    234\u001b[0m     chunks \u001b[38;5;241m=\u001b[39m \u001b[38;5;28mself\u001b[39m\u001b[38;5;241m.\u001b[39m_reader\u001b[38;5;241m.\u001b[39mread_low_memory(nrows)\n\u001b[0;32m    235\u001b[0m     \u001b[38;5;66;03m# destructive to chunks\u001b[39;00m\n\u001b[1;32m--> 236\u001b[0m     data \u001b[38;5;241m=\u001b[39m \u001b[43m_concatenate_chunks\u001b[49m\u001b[43m(\u001b[49m\u001b[43mchunks\u001b[49m\u001b[43m)\u001b[49m\n\u001b[0;32m    238\u001b[0m \u001b[38;5;28;01melse\u001b[39;00m:\n\u001b[0;32m    239\u001b[0m     data \u001b[38;5;241m=\u001b[39m \u001b[38;5;28mself\u001b[39m\u001b[38;5;241m.\u001b[39m_reader\u001b[38;5;241m.\u001b[39mread(nrows)\n",
      "File \u001b[1;32mc:\\Users\\Charaf Kamel\\.conda\\envs\\ada\\Lib\\site-packages\\pandas\\io\\parsers\\c_parser_wrapper.py:376\u001b[0m, in \u001b[0;36m_concatenate_chunks\u001b[1;34m(chunks)\u001b[0m\n\u001b[0;32m    374\u001b[0m     result[name] \u001b[38;5;241m=\u001b[39m union_categoricals(arrs, sort_categories\u001b[38;5;241m=\u001b[39m\u001b[38;5;28;01mFalse\u001b[39;00m)\n\u001b[0;32m    375\u001b[0m \u001b[38;5;28;01melse\u001b[39;00m:\n\u001b[1;32m--> 376\u001b[0m     result[name] \u001b[38;5;241m=\u001b[39m \u001b[43mconcat_compat\u001b[49m\u001b[43m(\u001b[49m\u001b[43marrs\u001b[49m\u001b[43m)\u001b[49m\n\u001b[0;32m    377\u001b[0m     \u001b[38;5;28;01mif\u001b[39;00m \u001b[38;5;28mlen\u001b[39m(non_cat_dtypes) \u001b[38;5;241m>\u001b[39m \u001b[38;5;241m1\u001b[39m \u001b[38;5;129;01mand\u001b[39;00m result[name]\u001b[38;5;241m.\u001b[39mdtype \u001b[38;5;241m==\u001b[39m np\u001b[38;5;241m.\u001b[39mdtype(\u001b[38;5;28mobject\u001b[39m):\n\u001b[0;32m    378\u001b[0m         warning_columns\u001b[38;5;241m.\u001b[39mappend(\u001b[38;5;28mstr\u001b[39m(name))\n",
      "File \u001b[1;32mc:\\Users\\Charaf Kamel\\.conda\\envs\\ada\\Lib\\site-packages\\pandas\\core\\dtypes\\concat.py:78\u001b[0m, in \u001b[0;36mconcat_compat\u001b[1;34m(to_concat, axis, ea_compat_axis)\u001b[0m\n\u001b[0;32m     76\u001b[0m \u001b[38;5;28;01mif\u001b[39;00m \u001b[38;5;28misinstance\u001b[39m(obj, np\u001b[38;5;241m.\u001b[39mndarray):\n\u001b[0;32m     77\u001b[0m     to_concat_arrs \u001b[38;5;241m=\u001b[39m cast(\u001b[38;5;124m\"\u001b[39m\u001b[38;5;124mSequence[np.ndarray]\u001b[39m\u001b[38;5;124m\"\u001b[39m, to_concat)\n\u001b[1;32m---> 78\u001b[0m     \u001b[38;5;28;01mreturn\u001b[39;00m \u001b[43mnp\u001b[49m\u001b[38;5;241;43m.\u001b[39;49m\u001b[43mconcatenate\u001b[49m\u001b[43m(\u001b[49m\u001b[43mto_concat_arrs\u001b[49m\u001b[43m,\u001b[49m\u001b[43m \u001b[49m\u001b[43maxis\u001b[49m\u001b[38;5;241;43m=\u001b[39;49m\u001b[43maxis\u001b[49m\u001b[43m)\u001b[49m\n\u001b[0;32m     80\u001b[0m to_concat_eas \u001b[38;5;241m=\u001b[39m cast(\u001b[38;5;124m\"\u001b[39m\u001b[38;5;124mSequence[ExtensionArray]\u001b[39m\u001b[38;5;124m\"\u001b[39m, to_concat)\n\u001b[0;32m     81\u001b[0m \u001b[38;5;28;01mif\u001b[39;00m ea_compat_axis:\n\u001b[0;32m     82\u001b[0m     \u001b[38;5;66;03m# We have 1D objects, that don't support axis keyword\u001b[39;00m\n",
      "\u001b[1;31mMemoryError\u001b[0m: Unable to allocate 22.3 MiB for an array with shape (2927609,) and data type object"
     ]
    }
   ],
   "source": []
  },
  {
   "cell_type": "code",
   "execution_count": null,
   "metadata": {},
   "outputs": [
    {
     "data": {
      "text/plain": [
       "87465"
      ]
     },
     "execution_count": 22,
     "metadata": {},
     "output_type": "execute_result"
    }
   ],
   "source": [
    "len(filtered_df['DrugBank ID of Ligand'].dropna())"
   ]
  },
  {
   "cell_type": "code",
   "execution_count": null,
   "metadata": {},
   "outputs": [
    {
     "data": {
      "text/plain": [
       "6191"
      ]
     },
     "execution_count": 23,
     "metadata": {},
     "output_type": "execute_result"
    }
   ],
   "source": [
    "smile_merged = pd.merge(filtered_df, drugbank, left_on='Ligand SMILES', right_on='SMILES')\n",
    "len(smile_merged)"
   ]
  },
  {
   "cell_type": "code",
   "execution_count": null,
   "metadata": {},
   "outputs": [],
   "source": []
  },
  {
   "cell_type": "code",
   "execution_count": null,
   "metadata": {},
   "outputs": [
    {
     "name": "stdout",
     "output_type": "stream",
     "text": [
      "Processing identifier: PubChem_CID\n"
     ]
    },
    {
     "name": "stderr",
     "output_type": "stream",
     "text": [
      "C:\\Users\\sebge\\AppData\\Local\\Temp\\ipykernel_17816\\4041174551.py:35: SettingWithCopyWarning: \n",
      "A value is trying to be set on a copy of a slice from a DataFrame.\n",
      "Try using .loc[row_indexer,col_indexer] = value instead\n",
      "\n",
      "See the caveats in the documentation: https://pandas.pydata.org/pandas-docs/stable/user_guide/indexing.html#returning-a-view-versus-a-copy\n",
      "  df1_id[identifier] = df1_id[identifier].astype(str)\n",
      "C:\\Users\\sebge\\AppData\\Local\\Temp\\ipykernel_17816\\4041174551.py:36: SettingWithCopyWarning: \n",
      "A value is trying to be set on a copy of a slice from a DataFrame.\n",
      "Try using .loc[row_indexer,col_indexer] = value instead\n",
      "\n",
      "See the caveats in the documentation: https://pandas.pydata.org/pandas-docs/stable/user_guide/indexing.html#returning-a-view-versus-a-copy\n",
      "  df2_id[identifier] = df2_id[identifier].astype(str)\n"
     ]
    },
    {
     "name": "stdout",
     "output_type": "stream",
     "text": [
      "Processing identifier: ChEBI_ID\n"
     ]
    },
    {
     "name": "stderr",
     "output_type": "stream",
     "text": [
      "C:\\Users\\sebge\\AppData\\Local\\Temp\\ipykernel_17816\\4041174551.py:35: SettingWithCopyWarning: \n",
      "A value is trying to be set on a copy of a slice from a DataFrame.\n",
      "Try using .loc[row_indexer,col_indexer] = value instead\n",
      "\n",
      "See the caveats in the documentation: https://pandas.pydata.org/pandas-docs/stable/user_guide/indexing.html#returning-a-view-versus-a-copy\n",
      "  df1_id[identifier] = df1_id[identifier].astype(str)\n",
      "C:\\Users\\sebge\\AppData\\Local\\Temp\\ipykernel_17816\\4041174551.py:36: SettingWithCopyWarning: \n",
      "A value is trying to be set on a copy of a slice from a DataFrame.\n",
      "Try using .loc[row_indexer,col_indexer] = value instead\n",
      "\n",
      "See the caveats in the documentation: https://pandas.pydata.org/pandas-docs/stable/user_guide/indexing.html#returning-a-view-versus-a-copy\n",
      "  df2_id[identifier] = df2_id[identifier].astype(str)\n"
     ]
    },
    {
     "name": "stdout",
     "output_type": "stream",
     "text": [
      "Processing identifier: ChEMBL_ID\n"
     ]
    },
    {
     "name": "stderr",
     "output_type": "stream",
     "text": [
      "C:\\Users\\sebge\\AppData\\Local\\Temp\\ipykernel_17816\\4041174551.py:35: SettingWithCopyWarning: \n",
      "A value is trying to be set on a copy of a slice from a DataFrame.\n",
      "Try using .loc[row_indexer,col_indexer] = value instead\n",
      "\n",
      "See the caveats in the documentation: https://pandas.pydata.org/pandas-docs/stable/user_guide/indexing.html#returning-a-view-versus-a-copy\n",
      "  df1_id[identifier] = df1_id[identifier].astype(str)\n",
      "C:\\Users\\sebge\\AppData\\Local\\Temp\\ipykernel_17816\\4041174551.py:36: SettingWithCopyWarning: \n",
      "A value is trying to be set on a copy of a slice from a DataFrame.\n",
      "Try using .loc[row_indexer,col_indexer] = value instead\n",
      "\n",
      "See the caveats in the documentation: https://pandas.pydata.org/pandas-docs/stable/user_guide/indexing.html#returning-a-view-versus-a-copy\n",
      "  df2_id[identifier] = df2_id[identifier].astype(str)\n"
     ]
    },
    {
     "name": "stdout",
     "output_type": "stream",
     "text": [
      "Processing identifier: BindingDB_ID\n"
     ]
    },
    {
     "name": "stderr",
     "output_type": "stream",
     "text": [
      "C:\\Users\\sebge\\AppData\\Local\\Temp\\ipykernel_17816\\4041174551.py:36: SettingWithCopyWarning: \n",
      "A value is trying to be set on a copy of a slice from a DataFrame.\n",
      "Try using .loc[row_indexer,col_indexer] = value instead\n",
      "\n",
      "See the caveats in the documentation: https://pandas.pydata.org/pandas-docs/stable/user_guide/indexing.html#returning-a-view-versus-a-copy\n",
      "  df2_id[identifier] = df2_id[identifier].astype(str)\n"
     ]
    },
    {
     "name": "stdout",
     "output_type": "stream",
     "text": [
      "Processing identifier: SMILES\n"
     ]
    },
    {
     "name": "stderr",
     "output_type": "stream",
     "text": [
      "C:\\Users\\sebge\\AppData\\Local\\Temp\\ipykernel_17816\\4041174551.py:36: SettingWithCopyWarning: \n",
      "A value is trying to be set on a copy of a slice from a DataFrame.\n",
      "Try using .loc[row_indexer,col_indexer] = value instead\n",
      "\n",
      "See the caveats in the documentation: https://pandas.pydata.org/pandas-docs/stable/user_guide/indexing.html#returning-a-view-versus-a-copy\n",
      "  df2_id[identifier] = df2_id[identifier].astype(str)\n"
     ]
    },
    {
     "name": "stdout",
     "output_type": "stream",
     "text": [
      "Processing identifier: InChI_Key\n"
     ]
    },
    {
     "name": "stderr",
     "output_type": "stream",
     "text": [
      "C:\\Users\\sebge\\AppData\\Local\\Temp\\ipykernel_17816\\4041174551.py:35: SettingWithCopyWarning: \n",
      "A value is trying to be set on a copy of a slice from a DataFrame.\n",
      "Try using .loc[row_indexer,col_indexer] = value instead\n",
      "\n",
      "See the caveats in the documentation: https://pandas.pydata.org/pandas-docs/stable/user_guide/indexing.html#returning-a-view-versus-a-copy\n",
      "  df1_id[identifier] = df1_id[identifier].astype(str)\n",
      "C:\\Users\\sebge\\AppData\\Local\\Temp\\ipykernel_17816\\4041174551.py:36: SettingWithCopyWarning: \n",
      "A value is trying to be set on a copy of a slice from a DataFrame.\n",
      "Try using .loc[row_indexer,col_indexer] = value instead\n",
      "\n",
      "See the caveats in the documentation: https://pandas.pydata.org/pandas-docs/stable/user_guide/indexing.html#returning-a-view-versus-a-copy\n",
      "  df2_id[identifier] = df2_id[identifier].astype(str)\n"
     ]
    }
   ],
   "source": []
  },
  {
   "cell_type": "code",
   "execution_count": null,
   "metadata": {},
   "outputs": [
    {
     "name": "stderr",
     "output_type": "stream",
     "text": [
      "C:\\Users\\sebge\\AppData\\Local\\Temp\\ipykernel_34168\\3797673924.py:1: DtypeWarning: Columns (15,17,20,21,45,46,47,48,50,51,52,53,54,55,57,58,59,62,63,64,65,66,67,69,70,71,74,75,76,77,78,79,86,87,88,89,90,91,98,99,100,101,102,103,105,106,107,110,111,112,113,114,115,122,123,124,125,126,127,129,130,131,134,135,136,137,138,139,146,147,148,149,150,151,158,159,160,161,162,163,170,171,172,173,174,175,182,183,184,185,186,187,205,208) have mixed types. Specify dtype option on import or set low_memory=False.\n",
      "  merged_df = pd.read_csv(output_file)\n"
     ]
    }
   ],
   "source": []
  },
  {
   "cell_type": "code",
   "execution_count": null,
   "metadata": {},
   "outputs": [
    {
     "data": {
      "text/plain": [
       "Matched_On\n",
       "InChI_Key      147426\n",
       "ChEMBL_ID       96639\n",
       "ChEBI_ID        74904\n",
       "SMILES           6191\n",
       "PubChem_CID         9\n",
       "Name: count, dtype: int64"
      ]
     },
     "execution_count": 26,
     "metadata": {},
     "output_type": "execute_result"
    }
   ],
   "source": [
    "merged_df['Matched_On'].value_counts()"
   ]
  },
  {
   "cell_type": "code",
   "execution_count": null,
   "metadata": {},
   "outputs": [
    {
     "data": {
      "text/plain": [
       "325169"
      ]
     },
     "execution_count": 27,
     "metadata": {},
     "output_type": "execute_result"
    }
   ],
   "source": [
    "len(merged_df)"
   ]
  },
  {
   "cell_type": "code",
   "execution_count": null,
   "metadata": {},
   "outputs": [
    {
     "data": {
      "text/plain": [
       "150783"
      ]
     },
     "execution_count": 28,
     "metadata": {},
     "output_type": "execute_result"
    }
   ],
   "source": [
    "merged_df['Unique_ID'].nunique()"
   ]
  },
  {
   "cell_type": "code",
   "execution_count": null,
   "metadata": {},
   "outputs": [],
   "source": [
    "merged_df.drop_duplicates(subset=['Unique_ID'], inplace=True)"
   ]
  },
  {
   "cell_type": "code",
   "execution_count": null,
   "metadata": {},
   "outputs": [],
   "source": []
  },
  {
   "cell_type": "code",
   "execution_count": null,
   "metadata": {},
   "outputs": [
    {
     "data": {
      "text/html": [
       "<div>\n",
       "<style scoped>\n",
       "    .dataframe tbody tr th:only-of-type {\n",
       "        vertical-align: middle;\n",
       "    }\n",
       "\n",
       "    .dataframe tbody tr th {\n",
       "        vertical-align: top;\n",
       "    }\n",
       "\n",
       "    .dataframe thead th {\n",
       "        text-align: right;\n",
       "    }\n",
       "</style>\n",
       "<table border=\"1\" class=\"dataframe\">\n",
       "  <thead>\n",
       "    <tr style=\"text-align: right;\">\n",
       "      <th></th>\n",
       "      <th>BindingDB Reactant_set_id</th>\n",
       "      <th>SMILES</th>\n",
       "      <th>Ligand InChI</th>\n",
       "      <th>InChI_Key</th>\n",
       "      <th>BindingDB_ID</th>\n",
       "      <th>BindingDB Ligand Name</th>\n",
       "      <th>Target Name</th>\n",
       "      <th>Target Source Organism According to Curator or DataSource</th>\n",
       "      <th>Ki (nM)</th>\n",
       "      <th>IC50 (nM)</th>\n",
       "      <th>...</th>\n",
       "      <th>synonyms</th>\n",
       "      <th>categories</th>\n",
       "      <th>patent_approved</th>\n",
       "      <th>interaction</th>\n",
       "      <th>ChEMBL_ID_DrugBank</th>\n",
       "      <th>SMILES_DrugBank</th>\n",
       "      <th>InChI_Key_DrugBank</th>\n",
       "      <th>ChEBI_ID_DrugBank</th>\n",
       "      <th>BindingDB_ID_DrugBank</th>\n",
       "      <th>Matched_On</th>\n",
       "    </tr>\n",
       "  </thead>\n",
       "  <tbody>\n",
       "    <tr>\n",
       "      <th>0</th>\n",
       "      <td>1</td>\n",
       "      <td>O[C@@H]1[C@@H](O)[C@@H](Cc2ccccc2)N(CCCCCC(O)=...</td>\n",
       "      <td>InChI=1S/C31H42N2O7/c34-27(35)17-9-3-11-19-32-...</td>\n",
       "      <td>XGEGDSLAQZJGCW-HHGOQMMWSA-N</td>\n",
       "      <td>608734</td>\n",
       "      <td>6-[(4R,5S,6S,7R)-4,7-dibenzyl-3-(5-carboxypent...</td>\n",
       "      <td>Dimer of Gag-Pol polyprotein [501-599]</td>\n",
       "      <td>Human immunodeficiency virus 1</td>\n",
       "      <td>0.24</td>\n",
       "      <td>-1.0</td>\n",
       "      <td>...</td>\n",
       "      <td>NaN</td>\n",
       "      <td>NaN</td>\n",
       "      <td>NaN</td>\n",
       "      <td>NaN</td>\n",
       "      <td>NaN</td>\n",
       "      <td>NaN</td>\n",
       "      <td>NaN</td>\n",
       "      <td>NaN</td>\n",
       "      <td>NaN</td>\n",
       "      <td>NaN</td>\n",
       "    </tr>\n",
       "    <tr>\n",
       "      <th>1</th>\n",
       "      <td>2</td>\n",
       "      <td>O[C@@H]1[C@@H](O)[C@@H](Cc2ccccc2)N(C\\C=C\\c2cn...</td>\n",
       "      <td>InChI=1S/C31H34N6O3/c38-29-27(17-23-9-3-1-4-10...</td>\n",
       "      <td>UZLMEAPBHYEHAC-UNTBESQGSA-N</td>\n",
       "      <td>22</td>\n",
       "      <td>(4R,5S,6S,7R)-4,7-dibenzyl-5,6-dihydroxy-1,3-b...</td>\n",
       "      <td>Dimer of Gag-Pol polyprotein [501-599]</td>\n",
       "      <td>Human immunodeficiency virus 1</td>\n",
       "      <td>0.25</td>\n",
       "      <td>-1.0</td>\n",
       "      <td>...</td>\n",
       "      <td>NaN</td>\n",
       "      <td>NaN</td>\n",
       "      <td>NaN</td>\n",
       "      <td>NaN</td>\n",
       "      <td>NaN</td>\n",
       "      <td>NaN</td>\n",
       "      <td>NaN</td>\n",
       "      <td>NaN</td>\n",
       "      <td>NaN</td>\n",
       "      <td>NaN</td>\n",
       "    </tr>\n",
       "  </tbody>\n",
       "</table>\n",
       "<p>2 rows × 405 columns</p>\n",
       "</div>"
      ],
      "text/plain": [
       "   BindingDB Reactant_set_id  \\\n",
       "0                          1   \n",
       "1                          2   \n",
       "\n",
       "                                              SMILES  \\\n",
       "0  O[C@@H]1[C@@H](O)[C@@H](Cc2ccccc2)N(CCCCCC(O)=...   \n",
       "1  O[C@@H]1[C@@H](O)[C@@H](Cc2ccccc2)N(C\\C=C\\c2cn...   \n",
       "\n",
       "                                        Ligand InChI  \\\n",
       "0  InChI=1S/C31H42N2O7/c34-27(35)17-9-3-11-19-32-...   \n",
       "1  InChI=1S/C31H34N6O3/c38-29-27(17-23-9-3-1-4-10...   \n",
       "\n",
       "                     InChI_Key  BindingDB_ID  \\\n",
       "0  XGEGDSLAQZJGCW-HHGOQMMWSA-N        608734   \n",
       "1  UZLMEAPBHYEHAC-UNTBESQGSA-N            22   \n",
       "\n",
       "                               BindingDB Ligand Name  \\\n",
       "0  6-[(4R,5S,6S,7R)-4,7-dibenzyl-3-(5-carboxypent...   \n",
       "1  (4R,5S,6S,7R)-4,7-dibenzyl-5,6-dihydroxy-1,3-b...   \n",
       "\n",
       "                              Target Name  \\\n",
       "0  Dimer of Gag-Pol polyprotein [501-599]   \n",
       "1  Dimer of Gag-Pol polyprotein [501-599]   \n",
       "\n",
       "  Target Source Organism According to Curator or DataSource  Ki (nM)  \\\n",
       "0                     Human immunodeficiency virus 1            0.24   \n",
       "1                     Human immunodeficiency virus 1            0.25   \n",
       "\n",
       "   IC50 (nM)  ...  synonyms  categories  patent_approved  interaction  \\\n",
       "0       -1.0  ...       NaN         NaN              NaN          NaN   \n",
       "1       -1.0  ...       NaN         NaN              NaN          NaN   \n",
       "\n",
       "   ChEMBL_ID_DrugBank SMILES_DrugBank InChI_Key_DrugBank ChEBI_ID_DrugBank  \\\n",
       "0                 NaN             NaN                NaN               NaN   \n",
       "1                 NaN             NaN                NaN               NaN   \n",
       "\n",
       "  BindingDB_ID_DrugBank  Matched_On  \n",
       "0                   NaN         NaN  \n",
       "1                   NaN         NaN  \n",
       "\n",
       "[2 rows x 405 columns]"
      ]
     },
     "execution_count": 31,
     "metadata": {},
     "output_type": "execute_result"
    }
   ],
   "source": [
    "binding_readded.head(2)"
   ]
  },
  {
   "cell_type": "code",
   "execution_count": null,
   "metadata": {},
   "outputs": [],
   "source": [
    "# Left join binding db with merged_df (on Unique_ID), don't duplicate columns though\n",
    "binding_readded = pd.merge(BindingDB, merged_df, on='Unique_ID', how='left', suffixes=('', '_y'))\n",
    "all_cols = list(binding_readded.columns)\n",
    "cols_to_keep = []\n",
    "\n",
    "for col in all_cols:\n",
    "    if not ('_y' in col and col.split('_y')[0] in all_cols):\n",
    "        cols_to_keep.append(col)"
   ]
  },
  {
   "cell_type": "code",
   "execution_count": null,
   "metadata": {},
   "outputs": [],
   "source": [
    "# Left join binding db with merged_df (on Unique_ID), don't duplicate columns though\n",
    "binding_readded = pd.merge(BindingDB, merged_df, on='Unique_ID', how='left', suffixes=('', '_y'))\n",
    "all_cols = list(binding_readded.columns)\n",
    "cols_to_keep = []\n",
    "\n",
    "for col in all_cols:\n",
    "    if not ('_y' in col and col.split('_y')[0] in all_cols):\n",
    "        cols_to_keep.append(col)\n",
    "# Keep only the columns in cols_to_keep\n",
    "cleaned_readded = binding_readded[cols_to_keep]\n",
    "cleaned_readded.to_csv('Merged Binding DrugBank.csv', index=False)"
   ]
  },
  {
   "cell_type": "code",
   "execution_count": null,
   "metadata": {},
   "outputs": [
    {
     "ename": "NameError",
     "evalue": "name 'os' is not defined",
     "output_type": "error",
     "traceback": [
      "\u001b[1;31m---------------------------------------------------------------------------\u001b[0m",
      "\u001b[1;31mNameError\u001b[0m                                 Traceback (most recent call last)",
      "Cell \u001b[1;32mIn[36], line 2\u001b[0m\n\u001b[0;32m      1\u001b[0m cleaned_readded\u001b[38;5;241m.\u001b[39mto_csv(\u001b[38;5;124m'\u001b[39m\u001b[38;5;124mMerged Binding DrugBank.csv\u001b[39m\u001b[38;5;124m'\u001b[39m, index\u001b[38;5;241m=\u001b[39m\u001b[38;5;28;01mFalse\u001b[39;00m)\n\u001b[1;32m----> 2\u001b[0m \u001b[38;5;28;01mif\u001b[39;00m \u001b[43mos\u001b[49m\u001b[38;5;241m.\u001b[39mpath\u001b[38;5;241m.\u001b[39mexists(output_file):\n\u001b[0;32m      3\u001b[0m     os\u001b[38;5;241m.\u001b[39mremove(output_file)\n",
      "\u001b[1;31mNameError\u001b[0m: name 'os' is not defined"
     ]
    }
   ],
   "source": [
    "cleaned_readded.to_csv('Merged Binding DrugBank.csv', index=False)"
   ]
  },
  {
   "cell_type": "code",
   "execution_count": null,
   "metadata": {},
   "outputs": [],
   "source": [
    "import os\n",
    "if os.path.exists(output_file):\n",
    "    os.remove(output_file)"
   ]
  },
  {
   "cell_type": "code",
   "execution_count": null,
   "metadata": {},
   "outputs": [],
   "source": []
  }
 ],
 "metadata": {
  "kernelspec": {
   "display_name": "ada",
   "language": "python",
   "name": "python3"
  },
  "language_info": {
   "codemirror_mode": {
    "name": "ipython",
    "version": 3
   },
   "file_extension": ".py",
   "mimetype": "text/x-python",
   "name": "python",
   "nbconvert_exporter": "python",
   "pygments_lexer": "ipython3",
   "version": "3.11.9"
  }
 },
 "nbformat": 4,
 "nbformat_minor": 2
}
