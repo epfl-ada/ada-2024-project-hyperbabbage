{
 "cells": [
  {
   "cell_type": "code",
   "execution_count": 1,
   "metadata": {},
   "outputs": [],
   "source": [
    "import numpy as np\n",
    "import pandas as pd\n",
    "import os\n",
    "import matplotlib.pyplot as plt\n",
    "import collections\n",
    "%matplotlib inline"
   ]
  },
  {
   "cell_type": "code",
   "execution_count": 2,
   "metadata": {},
   "outputs": [
    {
     "name": "stderr",
     "output_type": "stream",
     "text": [
      "/tmp/ipykernel_4657/4248568440.py:12: DtypeWarning: Columns (8,9,10,11,12,13,15,17,20,21,22,23,27,28,32,33,35,36,45,46,47,48,50,51,52,53,54,55,57,58,59,60,62,63,64,65,66,67,69,70,71,72,74,75,76,77,78,79,81,82,83,86,87,88,89,90,91,93,94,95,98,99,100,101,102,103,105,106,107,110,111,112,113,114,115,117,118,119,122,123,124,125,126,127,129,130,131,134,135,136,137,138,139,141,142,143,146,147,148,149,150,151,153,154,155,158,159,160,161,162,163,165,166,167,170,171,172,173,174,175,177,178,179,182,183,184,185,186,187,189,190,191) have mixed types. Specify dtype option on import or set low_memory=False.\n",
      "  df = pd.read_csv(file_path, sep='\\t', header=0, usecols=range(df_first_row.shape[1]))\n"
     ]
    }
   ],
   "source": [
    "\n",
    "DATA_PATH = './data/medical/'\n",
    "BINDINGDB = 'BindingDB_All.tsv'\n",
    "ChEMBL = 'BindingDB_ChEMBL.tsv'\n",
    "\n",
    "def load_BindingDB(file):\n",
    "    file_path = DATA_PATH + file\n",
    "\n",
    "    ## load the first row to get the number of columns\n",
    "    df_first_row = pd.read_csv(file_path, sep='\\t', nrows=1)\n",
    "\n",
    "    ## number of columns to use\n",
    "    df = pd.read_csv(file_path, sep='\\t', header=0, usecols=range(df_first_row.shape[1]))\n",
    "    return df\n",
    "\n",
    "df = load_BindingDB(BINDINGDB)"
   ]
  },
  {
   "cell_type": "code",
   "execution_count": null,
   "metadata": {},
   "outputs": [
    {
     "name": "stdout",
     "output_type": "stream",
     "text": [
      "Number of unique dois: 40737\n"
     ]
    },
    {
     "data": {
      "text/html": [
       "<div>\n",
       "<style scoped>\n",
       "    .dataframe tbody tr th:only-of-type {\n",
       "        vertical-align: middle;\n",
       "    }\n",
       "\n",
       "    .dataframe tbody tr th {\n",
       "        vertical-align: top;\n",
       "    }\n",
       "\n",
       "    .dataframe thead th {\n",
       "        text-align: right;\n",
       "    }\n",
       "</style>\n",
       "<table border=\"1\" class=\"dataframe\">\n",
       "  <thead>\n",
       "    <tr style=\"text-align: right;\">\n",
       "      <th></th>\n",
       "      <th>fetched</th>\n",
       "      <th>title</th>\n",
       "      <th>abstract</th>\n",
       "      <th>year</th>\n",
       "      <th>month</th>\n",
       "      <th>day</th>\n",
       "    </tr>\n",
       "    <tr>\n",
       "      <th>doi</th>\n",
       "      <th></th>\n",
       "      <th></th>\n",
       "      <th></th>\n",
       "      <th></th>\n",
       "      <th></th>\n",
       "      <th></th>\n",
       "    </tr>\n",
       "  </thead>\n",
       "  <tbody>\n",
       "    <tr>\n",
       "      <th>10.1021/jm9602571</th>\n",
       "      <td>False</td>\n",
       "      <td>NaN</td>\n",
       "      <td>NaN</td>\n",
       "      <td>NaN</td>\n",
       "      <td>NaN</td>\n",
       "      <td>NaN</td>\n",
       "    </tr>\n",
       "    <tr>\n",
       "      <th>10.1016/j.chembiol.2013.07.014</th>\n",
       "      <td>False</td>\n",
       "      <td>NaN</td>\n",
       "      <td>NaN</td>\n",
       "      <td>NaN</td>\n",
       "      <td>NaN</td>\n",
       "      <td>NaN</td>\n",
       "    </tr>\n",
       "    <tr>\n",
       "      <th>10.1021/jm9507183</th>\n",
       "      <td>False</td>\n",
       "      <td>NaN</td>\n",
       "      <td>NaN</td>\n",
       "      <td>NaN</td>\n",
       "      <td>NaN</td>\n",
       "      <td>NaN</td>\n",
       "    </tr>\n",
       "    <tr>\n",
       "      <th>10.1126/science.2200122</th>\n",
       "      <td>False</td>\n",
       "      <td>NaN</td>\n",
       "      <td>NaN</td>\n",
       "      <td>NaN</td>\n",
       "      <td>NaN</td>\n",
       "      <td>NaN</td>\n",
       "    </tr>\n",
       "    <tr>\n",
       "      <th>10.1021/ja00082a004</th>\n",
       "      <td>False</td>\n",
       "      <td>NaN</td>\n",
       "      <td>NaN</td>\n",
       "      <td>NaN</td>\n",
       "      <td>NaN</td>\n",
       "      <td>NaN</td>\n",
       "    </tr>\n",
       "  </tbody>\n",
       "</table>\n",
       "</div>"
      ],
      "text/plain": [
       "                                fetched title abstract year month  day\n",
       "doi                                                                   \n",
       "10.1021/jm9602571                 False   NaN      NaN  NaN   NaN  NaN\n",
       "10.1016/j.chembiol.2013.07.014    False   NaN      NaN  NaN   NaN  NaN\n",
       "10.1021/jm9507183                 False   NaN      NaN  NaN   NaN  NaN\n",
       "10.1126/science.2200122           False   NaN      NaN  NaN   NaN  NaN\n",
       "10.1021/ja00082a004               False   NaN      NaN  NaN   NaN  NaN"
      ]
     },
     "execution_count": 36,
     "metadata": {},
     "output_type": "execute_result"
    }
   ],
   "source": [
    "print('Number of unique dois:', len(unique_dois))\n",
    "if os.path.exists(DOI_DF_PATH):\n",
    "    df_dois = pd.read_pickle(DOI_DF_PATH)\n",
    "    print('Loaded doi_df from', DOI_DF_PATH)\n",
    "else:\n",
    "    print(f'No DOI dataframe found at {DOI_DF_PATH}. Creating a new one...')\n",
    "    cols = ['fetched', 'title', 'abstract', 'year', 'month', 'day']\n",
    "    unique_dois = df['Article DOI'].dropna().unique()\n",
    "\n",
    "    # Create an empty dataframe with doi as index and cols with nans\n",
    "    df_dois = pd.DataFrame(index=unique_dois, columns=cols)\n",
    "    df_dois['fetched'] = False\n",
    "\n",
    "    df_dois.index.name = 'doi'\n",
    "    df_dois.head()"
   ]
  },
  {
   "cell_type": "code",
   "execution_count": null,
   "metadata": {},
   "outputs": [
    {
     "name": "stdout",
     "output_type": "stream",
     "text": [
      "Title: <i>N</i>1-Azinylsulfonyl-1<i>H</i>-indoles: 5-HT6 Receptor Antagonists with Procognitive and Antidepressant-Like Properties\n",
      "Abstract: No abstract available\n"
     ]
    }
   ],
   "source": [
    "# Use api to get info about article based on doi\n",
    "import requests\n",
    "from tqdm import tqdm\n",
    "\n",
    "def fetch_article_metadata(doi):\n",
    "    url = f\"https://api.crossref.org/works/{doi}\"\n",
    "    response = requests.get(url)\n",
    "    \n",
    "    if response.status_code == 200:\n",
    "        data = response.json()[\"message\"]\n",
    "        \n",
    "        title_list = data.get(\"title\", [])\n",
    "        title = title_list[0] if len(title_list) > 0 else pd.NA\n",
    "        abstract = data.get(\"abstract\", pd.NA)\n",
    "        # Get published year, month and day\n",
    "        published_date = data.get(\"published-print\", None)\n",
    "        if published_date:\n",
    "            published_date = published_date[\"date-parts\"][0]\n",
    "        else:\n",
    "            published_date = []\n",
    "        year = published_date[0] if len(published_date) > 0 else pd.NA\n",
    "        month = published_date[1] if len(published_date) > 1 else pd.NA\n",
    "        day = published_date[2] if len(published_date) > 2 else pd.NA\n",
    "\n",
    "        \n",
    "        \n",
    "        return {\n",
    "            \"title\": title,\n",
    "            \"abstract\": abstract,\n",
    "            \"year\": year,\n",
    "            \"month\": month,\n",
    "            \"day\": day\n",
    "        }\n",
    "    else:\n",
    "        print(f\"Failed to fetch data for DOI {doi}. Status code: {response.status_code}\")\n",
    "        return None\n",
    "\n",
    "# Example usage\n",
    "doi = np.random.choice(unique_dois)\n",
    "metadata = fetch_article_metadata(doi)\n",
    "\n",
    "if metadata:\n",
    "    print(\"Title:\", metadata[\"title\"])\n",
    "    print(\"Abstract:\", metadata[\"abstract\"])\n"
   ]
  },
  {
   "cell_type": "code",
   "execution_count": 45,
   "metadata": {},
   "outputs": [
    {
     "name": "stderr",
     "output_type": "stream",
     "text": [
      "  5%|▍         | 1977/40737 [00:00<00:15, 2450.82it/s]"
     ]
    },
    {
     "name": "stdout",
     "output_type": "stream",
     "text": [
      "Failed to fetch data for DOI 28357. Status code: 404\n",
      "Failed to fetch data for DOI 10.1002/1098-2396(20001215)38:4. Status code: 404\n",
      "Failed to fetch data for DOI 10.1002/1098-2396(20010101)39:1. Status code: 404\n",
      "Failed to fetch data for DOI 10.1002/1520-636X(2001)13:3. Status code: 404\n"
     ]
    },
    {
     "name": "stderr",
     "output_type": "stream",
     "text": [
      "  6%|▌         | 2385/40737 [01:16<1:52:32,  5.68it/s]"
     ]
    },
    {
     "name": "stdout",
     "output_type": "stream",
     "text": [
      "Failed to fetch data for DOI 0.1007/s00044-005-0126-y. Status code: 404\n"
     ]
    },
    {
     "name": "stderr",
     "output_type": "stream",
     "text": [
      " 72%|███████▏  | 29378/40737 [1:27:40<33:42,  5.62it/s]  "
     ]
    },
    {
     "name": "stdout",
     "output_type": "stream",
     "text": [
      "Failed to fetch data for DOI 10.1097/01.aids.0000060380.78202.b5. Status code: 404\n"
     ]
    },
    {
     "name": "stderr",
     "output_type": "stream",
     "text": [
      "100%|██████████| 40737/40737 [2:03:47<00:00,  5.48it/s]  \n"
     ]
    }
   ],
   "source": [
    "import time\n",
    "import random\n",
    "from concurrent.futures import ThreadPoolExecutor\n",
    "from tqdm import tqdm\n",
    "\n",
    "def fetch_and_update(doi):\n",
    "    if df_dois.loc[doi, 'fetched']:\n",
    "        return None\n",
    "\n",
    "    # Fetch article metadata with a random delay\n",
    "    article_info = fetch_article_metadata(doi)\n",
    "    if article_info is None:\n",
    "        df_dois.loc[doi, 'fetched'] = True\n",
    "        return None\n",
    "    for key, value in article_info.items():\n",
    "        df_dois.loc[doi, key] = value\n",
    "    df_dois.loc[doi, 'fetched'] = True\n",
    "    \n",
    "    # Sleep for a short, random time to avoid triggering rate limits\n",
    "    time.sleep(random.uniform(0.2, 1))\n",
    "\n",
    "with ThreadPoolExecutor(max_workers=5) as executor:\n",
    "    list(tqdm(executor.map(fetch_and_update, df_dois.index), total=len(df_dois.index)))\n"
   ]
  },
  {
   "cell_type": "code",
   "execution_count": null,
   "metadata": {},
   "outputs": [
    {
     "data": {
      "text/html": [
       "<div>\n",
       "<style scoped>\n",
       "    .dataframe tbody tr th:only-of-type {\n",
       "        vertical-align: middle;\n",
       "    }\n",
       "\n",
       "    .dataframe tbody tr th {\n",
       "        vertical-align: top;\n",
       "    }\n",
       "\n",
       "    .dataframe thead th {\n",
       "        text-align: right;\n",
       "    }\n",
       "</style>\n",
       "<table border=\"1\" class=\"dataframe\">\n",
       "  <thead>\n",
       "    <tr style=\"text-align: right;\">\n",
       "      <th></th>\n",
       "      <th>fetched</th>\n",
       "      <th>title</th>\n",
       "      <th>abstract</th>\n",
       "      <th>year</th>\n",
       "      <th>month</th>\n",
       "      <th>day</th>\n",
       "    </tr>\n",
       "    <tr>\n",
       "      <th>doi</th>\n",
       "      <th></th>\n",
       "      <th></th>\n",
       "      <th></th>\n",
       "      <th></th>\n",
       "      <th></th>\n",
       "      <th></th>\n",
       "    </tr>\n",
       "  </thead>\n",
       "  <tbody>\n",
       "    <tr>\n",
       "      <th>10.1021/jm9602571</th>\n",
       "      <td>True</td>\n",
       "      <td>Cyclic HIV Protease Inhibitors:  Synthesis, Co...</td>\n",
       "      <td>&lt;NA&gt;</td>\n",
       "      <td>1996</td>\n",
       "      <td>1</td>\n",
       "      <td>1</td>\n",
       "    </tr>\n",
       "    <tr>\n",
       "      <th>10.1016/j.chembiol.2013.07.014</th>\n",
       "      <td>True</td>\n",
       "      <td>Substrate Envelope-Designed Potent HIV-1 Prote...</td>\n",
       "      <td>&lt;NA&gt;</td>\n",
       "      <td>2013</td>\n",
       "      <td>9</td>\n",
       "      <td>&lt;NA&gt;</td>\n",
       "    </tr>\n",
       "    <tr>\n",
       "      <th>10.1021/jm9507183</th>\n",
       "      <td>True</td>\n",
       "      <td>A Novel, Picomolar Inhibitor of Human Immunode...</td>\n",
       "      <td>&lt;NA&gt;</td>\n",
       "      <td>1996</td>\n",
       "      <td>1</td>\n",
       "      <td>1</td>\n",
       "    </tr>\n",
       "    <tr>\n",
       "      <th>10.1126/science.2200122</th>\n",
       "      <td>True</td>\n",
       "      <td>Design, Activity, and 2.8 Å Crystal Structure ...</td>\n",
       "      <td>&lt;jats:p&gt;\\n            A two-fold (\\n          ...</td>\n",
       "      <td>1990</td>\n",
       "      <td>8</td>\n",
       "      <td>3</td>\n",
       "    </tr>\n",
       "    <tr>\n",
       "      <th>10.1021/ja00082a004</th>\n",
       "      <td>True</td>\n",
       "      <td>Influence of stereochemistry on activity and b...</td>\n",
       "      <td>&lt;NA&gt;</td>\n",
       "      <td>1994</td>\n",
       "      <td>2</td>\n",
       "      <td>&lt;NA&gt;</td>\n",
       "    </tr>\n",
       "  </tbody>\n",
       "</table>\n",
       "</div>"
      ],
      "text/plain": [
       "                                fetched  \\\n",
       "doi                                       \n",
       "10.1021/jm9602571                  True   \n",
       "10.1016/j.chembiol.2013.07.014     True   \n",
       "10.1021/jm9507183                  True   \n",
       "10.1126/science.2200122            True   \n",
       "10.1021/ja00082a004                True   \n",
       "\n",
       "                                                                            title  \\\n",
       "doi                                                                                 \n",
       "10.1021/jm9602571               Cyclic HIV Protease Inhibitors:  Synthesis, Co...   \n",
       "10.1016/j.chembiol.2013.07.014  Substrate Envelope-Designed Potent HIV-1 Prote...   \n",
       "10.1021/jm9507183               A Novel, Picomolar Inhibitor of Human Immunode...   \n",
       "10.1126/science.2200122         Design, Activity, and 2.8 Å Crystal Structure ...   \n",
       "10.1021/ja00082a004             Influence of stereochemistry on activity and b...   \n",
       "\n",
       "                                                                         abstract  \\\n",
       "doi                                                                                 \n",
       "10.1021/jm9602571                                                            <NA>   \n",
       "10.1016/j.chembiol.2013.07.014                                               <NA>   \n",
       "10.1021/jm9507183                                                            <NA>   \n",
       "10.1126/science.2200122         <jats:p>\\n            A two-fold (\\n          ...   \n",
       "10.1021/ja00082a004                                                          <NA>   \n",
       "\n",
       "                                year month   day  \n",
       "doi                                               \n",
       "10.1021/jm9602571               1996     1     1  \n",
       "10.1016/j.chembiol.2013.07.014  2013     9  <NA>  \n",
       "10.1021/jm9507183               1996     1     1  \n",
       "10.1126/science.2200122         1990     8     3  \n",
       "10.1021/ja00082a004             1994     2  <NA>  "
      ]
     },
     "execution_count": 52,
     "metadata": {},
     "output_type": "execute_result"
    }
   ],
   "source": [
    "# replace No abstract available\t wiht pd.NA\n",
    "df_dois.head()"
   ]
  },
  {
   "cell_type": "code",
   "execution_count": 53,
   "metadata": {},
   "outputs": [
    {
     "data": {
      "text/plain": [
       "fetched     0.000000\n",
       "title       0.000687\n",
       "abstract    0.981786\n",
       "year        0.002848\n",
       "month       0.004198\n",
       "day         0.627292\n",
       "dtype: float64"
      ]
     },
     "execution_count": 53,
     "metadata": {},
     "output_type": "execute_result"
    }
   ],
   "source": [
    "# Show percentage of missing values per column\n",
    "df_dois.isnull().mean()\n",
    "\n"
   ]
  },
  {
   "cell_type": "code",
   "execution_count": 54,
   "metadata": {},
   "outputs": [
    {
     "data": {
      "text/html": [
       "<div>\n",
       "<style scoped>\n",
       "    .dataframe tbody tr th:only-of-type {\n",
       "        vertical-align: middle;\n",
       "    }\n",
       "\n",
       "    .dataframe tbody tr th {\n",
       "        vertical-align: top;\n",
       "    }\n",
       "\n",
       "    .dataframe thead th {\n",
       "        text-align: right;\n",
       "    }\n",
       "</style>\n",
       "<table border=\"1\" class=\"dataframe\">\n",
       "  <thead>\n",
       "    <tr style=\"text-align: right;\">\n",
       "      <th></th>\n",
       "      <th>fetched</th>\n",
       "      <th>title</th>\n",
       "      <th>abstract</th>\n",
       "      <th>year</th>\n",
       "      <th>month</th>\n",
       "      <th>day</th>\n",
       "    </tr>\n",
       "  </thead>\n",
       "  <tbody>\n",
       "    <tr>\n",
       "      <th>count</th>\n",
       "      <td>40737</td>\n",
       "      <td>40709</td>\n",
       "      <td>742</td>\n",
       "      <td>40621</td>\n",
       "      <td>40566</td>\n",
       "      <td>15183</td>\n",
       "    </tr>\n",
       "    <tr>\n",
       "      <th>unique</th>\n",
       "      <td>1</td>\n",
       "      <td>40699</td>\n",
       "      <td>742</td>\n",
       "      <td>50</td>\n",
       "      <td>12</td>\n",
       "      <td>31</td>\n",
       "    </tr>\n",
       "    <tr>\n",
       "      <th>top</th>\n",
       "      <td>True</td>\n",
       "      <td>Factor XI Activation Inhibitors for Treating T...</td>\n",
       "      <td>&lt;p&gt;After a century since the first antimonial-...</td>\n",
       "      <td>2013</td>\n",
       "      <td>1</td>\n",
       "      <td>1</td>\n",
       "    </tr>\n",
       "    <tr>\n",
       "      <th>freq</th>\n",
       "      <td>40737</td>\n",
       "      <td>2</td>\n",
       "      <td>1</td>\n",
       "      <td>2104</td>\n",
       "      <td>4173</td>\n",
       "      <td>5480</td>\n",
       "    </tr>\n",
       "  </tbody>\n",
       "</table>\n",
       "</div>"
      ],
      "text/plain": [
       "       fetched                                              title  \\\n",
       "count    40737                                              40709   \n",
       "unique       1                                              40699   \n",
       "top       True  Factor XI Activation Inhibitors for Treating T...   \n",
       "freq     40737                                                  2   \n",
       "\n",
       "                                                 abstract   year  month    day  \n",
       "count                                                 742  40621  40566  15183  \n",
       "unique                                                742     50     12     31  \n",
       "top     <p>After a century since the first antimonial-...   2013      1      1  \n",
       "freq                                                    1   2104   4173   5480  "
      ]
     },
     "execution_count": 54,
     "metadata": {},
     "output_type": "execute_result"
    }
   ],
   "source": [
    "# Summary of all df_dois columns\n",
    "df_dois.describe(include='all')"
   ]
  },
  {
   "cell_type": "code",
   "execution_count": 1,
   "metadata": {},
   "outputs": [
    {
     "ename": "NameError",
     "evalue": "name 'df_dois' is not defined",
     "output_type": "error",
     "traceback": [
      "\u001b[0;31m---------------------------------------------------------------------------\u001b[0m",
      "\u001b[0;31mNameError\u001b[0m                                 Traceback (most recent call last)",
      "Cell \u001b[0;32mIn[1], line 1\u001b[0m\n\u001b[0;32m----> 1\u001b[0m \u001b[38;5;28;01mif\u001b[39;00m \u001b[43mdf_dois\u001b[49m\u001b[38;5;241m.\u001b[39mfetched\u001b[38;5;241m.\u001b[39mall():\n\u001b[1;32m      2\u001b[0m     \u001b[38;5;28mprint\u001b[39m(\u001b[38;5;124m'\u001b[39m\u001b[38;5;124mAll articles were fetched. Saving df_dois\u001b[39m\u001b[38;5;124m'\u001b[39m)\n\u001b[1;32m      3\u001b[0m     df_dois\u001b[38;5;241m.\u001b[39mto_pickle(DATA_PATH \u001b[38;5;241m+\u001b[39m \u001b[38;5;124m'\u001b[39m\u001b[38;5;124mdf_dois.pkl\u001b[39m\u001b[38;5;124m'\u001b[39m)\n",
      "\u001b[0;31mNameError\u001b[0m: name 'df_dois' is not defined"
     ]
    }
   ],
   "source": [
    "if df_dois.fetched.all():\n",
    "    print('All articles were fetched. Saving df_dois')\n",
    "    df_dois.to_pickle()\n",
    "else:\n",
    "    print('Not all articles were fetched. Saving work in progress')\n",
    "    df_dois.to_pickle(DATA_PATH + 'df_dois_wip.pkl')"
   ]
  },
  {
   "cell_type": "code",
   "execution_count": null,
   "metadata": {},
   "outputs": [],
   "source": []
  }
 ],
 "metadata": {
  "kernelspec": {
   "display_name": "Python 3",
   "language": "python",
   "name": "python3"
  },
  "language_info": {
   "codemirror_mode": {
    "name": "ipython",
    "version": 3
   },
   "file_extension": ".py",
   "mimetype": "text/x-python",
   "name": "python",
   "nbconvert_exporter": "python",
   "pygments_lexer": "ipython3",
   "version": "3.12.7"
  }
 },
 "nbformat": 4,
 "nbformat_minor": 2
}
