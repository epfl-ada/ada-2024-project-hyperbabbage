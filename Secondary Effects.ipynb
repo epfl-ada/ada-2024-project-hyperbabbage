{
 "cells": [
  {
   "cell_type": "code",
   "execution_count": 1,
   "metadata": {},
   "outputs": [],
   "source": [
    "import pandas as pd\n",
    "import numpy as np\n",
    "import matplotlib.pyplot as plt\n",
    "\n",
    "from src.data_paths import *"
   ]
  },
  {
   "cell_type": "code",
   "execution_count": 2,
   "metadata": {},
   "outputs": [],
   "source": [
    "df = pd.read_pickle(MERGED)\n",
    "cosmic_proteins = pd.read_csv(COSMIC_PROTEINS, sep='\\t')"
   ]
  },
  {
   "cell_type": "code",
   "execution_count": 3,
   "metadata": {},
   "outputs": [
    {
     "data": {
      "text/html": [
       "<div>\n",
       "<style scoped>\n",
       "    .dataframe tbody tr th:only-of-type {\n",
       "        vertical-align: middle;\n",
       "    }\n",
       "\n",
       "    .dataframe tbody tr th {\n",
       "        vertical-align: top;\n",
       "    }\n",
       "\n",
       "    .dataframe thead th {\n",
       "        text-align: right;\n",
       "    }\n",
       "</style>\n",
       "<table border=\"1\" class=\"dataframe\">\n",
       "  <thead>\n",
       "    <tr style=\"text-align: right;\">\n",
       "      <th></th>\n",
       "      <th>Gene</th>\n",
       "      <th>Gene synonym</th>\n",
       "      <th>Ensembl</th>\n",
       "      <th>Gene description</th>\n",
       "      <th>Uniprot</th>\n",
       "      <th>Chromosome</th>\n",
       "      <th>Position</th>\n",
       "      <th>Protein class</th>\n",
       "      <th>Biological process</th>\n",
       "      <th>Molecular function</th>\n",
       "      <th>...</th>\n",
       "      <th>Cancer prognostics - Pancreatic Adenocarcinoma (TCGA)</th>\n",
       "      <th>Cancer prognostics - Pancreatic Adenocarcinoma (validation)</th>\n",
       "      <th>Cancer prognostics - Prostate Adenocarcinoma (TCGA)</th>\n",
       "      <th>Cancer prognostics - Rectum Adenocarcinoma (TCGA)</th>\n",
       "      <th>Cancer prognostics - Rectum Adenocarcinoma (validation)</th>\n",
       "      <th>Cancer prognostics - Skin Cuteneous Melanoma (TCGA)</th>\n",
       "      <th>Cancer prognostics - Stomach Adenocarcinoma (TCGA)</th>\n",
       "      <th>Cancer prognostics - Testicular Germ Cell Tumor (TCGA)</th>\n",
       "      <th>Cancer prognostics - Thyroid Carcinoma (TCGA)</th>\n",
       "      <th>Cancer prognostics - Uterine Corpus Endometrial Carcinoma (TCGA)</th>\n",
       "    </tr>\n",
       "  </thead>\n",
       "  <tbody>\n",
       "    <tr>\n",
       "      <th>0</th>\n",
       "      <td>ABI1</td>\n",
       "      <td>ABI-1, E3B1, SSH3BP1</td>\n",
       "      <td>ENSG00000136754</td>\n",
       "      <td>Abl interactor 1</td>\n",
       "      <td>Q8IZP0</td>\n",
       "      <td>10</td>\n",
       "      <td>26746593-26861087</td>\n",
       "      <td>Cancer-related genes, Disease related genes, P...</td>\n",
       "      <td>Host-virus interaction</td>\n",
       "      <td>NaN</td>\n",
       "      <td>...</td>\n",
       "      <td>unprognostic (6.17e-3)</td>\n",
       "      <td>unprognostic (9.66e-2)</td>\n",
       "      <td>unprognostic (8.60e-2)</td>\n",
       "      <td>unprognostic (1.16e-1)</td>\n",
       "      <td>unprognostic (3.28e-2)</td>\n",
       "      <td>unprognostic (1.01e-1)</td>\n",
       "      <td>unprognostic (3.66e-1)</td>\n",
       "      <td>unprognostic (1.72e-1)</td>\n",
       "      <td>unprognostic (1.03e-1)</td>\n",
       "      <td>unprognostic (1.72e-1)</td>\n",
       "    </tr>\n",
       "  </tbody>\n",
       "</table>\n",
       "<p>1 rows × 107 columns</p>\n",
       "</div>"
      ],
      "text/plain": [
       "   Gene          Gene synonym          Ensembl  Gene description Uniprot  \\\n",
       "0  ABI1  ABI-1, E3B1, SSH3BP1  ENSG00000136754  Abl interactor 1  Q8IZP0   \n",
       "\n",
       "  Chromosome           Position  \\\n",
       "0         10  26746593-26861087   \n",
       "\n",
       "                                       Protein class      Biological process  \\\n",
       "0  Cancer-related genes, Disease related genes, P...  Host-virus interaction   \n",
       "\n",
       "  Molecular function  ...  \\\n",
       "0                NaN  ...   \n",
       "\n",
       "  Cancer prognostics - Pancreatic Adenocarcinoma (TCGA)  \\\n",
       "0                             unprognostic (6.17e-3)      \n",
       "\n",
       "  Cancer prognostics - Pancreatic Adenocarcinoma (validation)  \\\n",
       "0                             unprognostic (9.66e-2)            \n",
       "\n",
       "  Cancer prognostics - Prostate Adenocarcinoma (TCGA)  \\\n",
       "0                             unprognostic (8.60e-2)    \n",
       "\n",
       "  Cancer prognostics - Rectum Adenocarcinoma (TCGA)  \\\n",
       "0                            unprognostic (1.16e-1)   \n",
       "\n",
       "  Cancer prognostics - Rectum Adenocarcinoma (validation)  \\\n",
       "0                             unprognostic (3.28e-2)        \n",
       "\n",
       "  Cancer prognostics - Skin Cuteneous Melanoma (TCGA)  \\\n",
       "0                             unprognostic (1.01e-1)    \n",
       "\n",
       "  Cancer prognostics - Stomach Adenocarcinoma (TCGA)  \\\n",
       "0                             unprognostic (3.66e-1)   \n",
       "\n",
       "   Cancer prognostics - Testicular Germ Cell Tumor (TCGA)  \\\n",
       "0                             unprognostic (1.72e-1)        \n",
       "\n",
       "  Cancer prognostics - Thyroid Carcinoma (TCGA)  \\\n",
       "0                        unprognostic (1.03e-1)   \n",
       "\n",
       "  Cancer prognostics - Uterine Corpus Endometrial Carcinoma (TCGA)  \n",
       "0                             unprognostic (1.72e-1)                \n",
       "\n",
       "[1 rows x 107 columns]"
      ]
     },
     "execution_count": 3,
     "metadata": {},
     "output_type": "execute_result"
    }
   ],
   "source": [
    "cosmic_proteins.head(1)"
   ]
  },
  {
   "cell_type": "markdown",
   "metadata": {},
   "source": [
    "### Check if synonyms could be used"
   ]
  },
  {
   "cell_type": "code",
   "execution_count": 4,
   "metadata": {},
   "outputs": [
    {
     "data": {
      "text/plain": [
       "(0, 0)"
      ]
     },
     "execution_count": 4,
     "metadata": {},
     "output_type": "execute_result"
    }
   ],
   "source": [
    "arr = cosmic_proteins['Gene synonym'].apply(lambda x: np.array([y.strip() for y in str(x).split(',')]))\n",
    "all_elems = np.concatenate(arr)\n",
    "\n",
    "# Check isin for each element in the array (careful of double lists)\n",
    "df['target_name'].isin(all_elems).sum(), df['drugbank_protein_name'].isin(all_elems).sum()"
   ]
  },
  {
   "cell_type": "code",
   "execution_count": 5,
   "metadata": {},
   "outputs": [
    {
     "data": {
      "text/plain": [
       "0      Q8IZP0\n",
       "1      P00519\n",
       "2      P42684\n",
       "3      P25106\n",
       "4      O95573\n",
       "        ...  \n",
       "567    Q9UBW7\n",
       "568    Q9NQX6\n",
       "569    Q8TF68\n",
       "570    Q96K83\n",
       "571    Q15696\n",
       "Name: Uniprot, Length: 572, dtype: object"
      ]
     },
     "execution_count": 5,
     "metadata": {},
     "output_type": "execute_result"
    }
   ],
   "source": [
    "cosmic_proteins['Uniprot']"
   ]
  },
  {
   "cell_type": "code",
   "execution_count": 6,
   "metadata": {},
   "outputs": [
    {
     "name": "stdout",
     "output_type": "stream",
     "text": [
      "Number of bind proteins in cosmic by drugbank_protein_name: 20199\n",
      "Number of cosmic proteins in bind by drugbank_protein_name: 45\n",
      "\n",
      "Number of bind proteins in cosmic by target_name: 0\n",
      "\n",
      "Number of bind proteins in cosmic by uniprot: 32320\n",
      "Number of cosmic proteins in bind by uniprot: 75\n"
     ]
    }
   ],
   "source": [
    "# Matching by drugbank_protein_name\n",
    "nb_bind_in_cosmic_bn = df['drugbank_protein_name'].isin(cosmic_proteins['Gene']).sum()\n",
    "nb_cosmic_in_bind_bn = cosmic_proteins['Gene'].isin(df['drugbank_protein_name']).sum()\n",
    "nb_bind_in_cosmic_by_targetname_bn = df['target_name'].isin(cosmic_proteins['Gene']).sum()\n",
    "\n",
    "# Matching by uniprot\n",
    "nb_bind_in_cosmic_bu = df['swissprot_protein_id'].dropna().isin(cosmic_proteins['Uniprot']).sum()\n",
    "nb_cosmic_in_bind_bu = cosmic_proteins['Uniprot'].isin(df['swissprot_protein_id'].dropna()).sum()\n",
    "\n",
    "print(f\"Number of bind proteins in cosmic by drugbank_protein_name: {nb_bind_in_cosmic_bn}\")\n",
    "print(f\"Number of cosmic proteins in bind by drugbank_protein_name: {nb_cosmic_in_bind_bn}\")\n",
    "print()\n",
    "print(f\"Number of bind proteins in cosmic by target_name: {nb_bind_in_cosmic_by_targetname_bn}\")\n",
    "print()\n",
    "print(f\"Number of bind proteins in cosmic by uniprot: {nb_bind_in_cosmic_bu}\")\n",
    "print(f\"Number of cosmic proteins in bind by uniprot: {nb_cosmic_in_bind_bu}\")"
   ]
  },
  {
   "cell_type": "markdown",
   "metadata": {},
   "source": [
    "### Cancer related proteins"
   ]
  },
  {
   "cell_type": "code",
   "execution_count": 7,
   "metadata": {},
   "outputs": [
    {
     "name": "stdout",
     "output_type": "stream",
     "text": [
      "Number of cancer proteins in bind by drugbank_protein_name: 91\n",
      "Number of cancer proteins in bind by uniprot: 142\n",
      "Difference between the two sets:\n",
      "  - 4 proteins in drugbank_protein_name but not in uniprot\n",
      "  - 55 proteins in uniprot but not in drugbank_protein_name\n"
     ]
    }
   ],
   "source": [
    "bind_cancer_proteins_by_name = df[df['drugbank_protein_name'].isin(cosmic_proteins['Gene'])]\n",
    "bind_cancer_proteins_by_uniprot = df[df['swissprot_protein_id'].isin(cosmic_proteins['Uniprot'])]\n",
    "\n",
    "bcpbn_set = set(bind_cancer_proteins_by_name['target_name'])\n",
    "bcpbu_set = set(bind_cancer_proteins_by_uniprot['target_name'])\n",
    "\n",
    "print(f\"Number of cancer proteins in bind by drugbank_protein_name: {len(bcpbn_set)}\")\n",
    "print(f\"Number of cancer proteins in bind by uniprot: {len(bcpbu_set)}\")\n",
    "print(f\"Difference between the two sets:\")\n",
    "print(f\"  - {len(bcpbn_set - bcpbu_set)} proteins in drugbank_protein_name but not in uniprot\")\n",
    "print(f\"  - {len(bcpbu_set - bcpbn_set)} proteins in uniprot but not in drugbank_protein_name\")"
   ]
  },
  {
   "cell_type": "code",
   "execution_count": 8,
   "metadata": {},
   "outputs": [
    {
     "data": {
      "text/html": [
       "<div>\n",
       "<style scoped>\n",
       "    .dataframe tbody tr th:only-of-type {\n",
       "        vertical-align: middle;\n",
       "    }\n",
       "\n",
       "    .dataframe tbody tr th {\n",
       "        vertical-align: top;\n",
       "    }\n",
       "\n",
       "    .dataframe thead th {\n",
       "        text-align: right;\n",
       "    }\n",
       "</style>\n",
       "<table border=\"1\" class=\"dataframe\">\n",
       "  <thead>\n",
       "    <tr style=\"text-align: right;\">\n",
       "      <th></th>\n",
       "      <th>drugbank_protein_name</th>\n",
       "      <th>target_name</th>\n",
       "      <th>swissprot_protein_id</th>\n",
       "    </tr>\n",
       "  </thead>\n",
       "  <tbody>\n",
       "    <tr>\n",
       "      <th>64111</th>\n",
       "      <td>EGFR</td>\n",
       "      <td>Phosphatidylinositol 4,5-bisphosphate 3-kinase...</td>\n",
       "      <td>Q504U8</td>\n",
       "    </tr>\n",
       "    <tr>\n",
       "      <th>64125</th>\n",
       "      <td>EGFR</td>\n",
       "      <td>Receptor protein-tyrosine kinase/Serine/threon...</td>\n",
       "      <td>Q504U8</td>\n",
       "    </tr>\n",
       "    <tr>\n",
       "      <th>64139</th>\n",
       "      <td>EGFR</td>\n",
       "      <td>DNA-dependent protein kinase catalytic subunit...</td>\n",
       "      <td>Q504U8</td>\n",
       "    </tr>\n",
       "    <tr>\n",
       "      <th>64153</th>\n",
       "      <td>EGFR</td>\n",
       "      <td>Phosphatidylinositol 4,5-bisphosphate 3-kinase...</td>\n",
       "      <td>Q504U8</td>\n",
       "    </tr>\n",
       "  </tbody>\n",
       "</table>\n",
       "</div>"
      ],
      "text/plain": [
       "      drugbank_protein_name  \\\n",
       "64111                  EGFR   \n",
       "64125                  EGFR   \n",
       "64139                  EGFR   \n",
       "64153                  EGFR   \n",
       "\n",
       "                                             target_name swissprot_protein_id  \n",
       "64111  Phosphatidylinositol 4,5-bisphosphate 3-kinase...               Q504U8  \n",
       "64125  Receptor protein-tyrosine kinase/Serine/threon...               Q504U8  \n",
       "64139  DNA-dependent protein kinase catalytic subunit...               Q504U8  \n",
       "64153  Phosphatidylinositol 4,5-bisphosphate 3-kinase...               Q504U8  "
      ]
     },
     "execution_count": 8,
     "metadata": {},
     "output_type": "execute_result"
    }
   ],
   "source": [
    "cancer_proteins_namey_not_uniprot = df[df['target_name'].isin(bcpbn_set - bcpbu_set)]\n",
    "cancer_proteins_namey_not_uniprot[['drugbank_protein_name', 'target_name', 'swissprot_protein_id']]"
   ]
  },
  {
   "cell_type": "code",
   "execution_count": 9,
   "metadata": {},
   "outputs": [
    {
     "data": {
      "text/html": [
       "<div>\n",
       "<style scoped>\n",
       "    .dataframe tbody tr th:only-of-type {\n",
       "        vertical-align: middle;\n",
       "    }\n",
       "\n",
       "    .dataframe tbody tr th {\n",
       "        vertical-align: top;\n",
       "    }\n",
       "\n",
       "    .dataframe thead th {\n",
       "        text-align: right;\n",
       "    }\n",
       "</style>\n",
       "<table border=\"1\" class=\"dataframe\">\n",
       "  <thead>\n",
       "    <tr style=\"text-align: right;\">\n",
       "      <th></th>\n",
       "      <th>Gene</th>\n",
       "      <th>Gene synonym</th>\n",
       "      <th>Uniprot</th>\n",
       "    </tr>\n",
       "  </thead>\n",
       "  <tbody>\n",
       "    <tr>\n",
       "      <th>141</th>\n",
       "      <td>EGFR</td>\n",
       "      <td>ERBB, ERBB1, ERRP</td>\n",
       "      <td>P00533</td>\n",
       "    </tr>\n",
       "  </tbody>\n",
       "</table>\n",
       "</div>"
      ],
      "text/plain": [
       "     Gene       Gene synonym Uniprot\n",
       "141  EGFR  ERBB, ERBB1, ERRP  P00533"
      ]
     },
     "execution_count": 9,
     "metadata": {},
     "output_type": "execute_result"
    }
   ],
   "source": [
    "cosmic_proteins[cosmic_proteins['Gene'] == 'EGFR'][['Gene', 'Gene synonym', 'Uniprot']]"
   ]
  },
  {
   "cell_type": "code",
   "execution_count": 10,
   "metadata": {},
   "outputs": [
    {
     "name": "stdout",
     "output_type": "stream",
     "text": [
      "Number of pairs of cancer proteins with their ligand in bind: 67058\n",
      "Number of unique cancer proteins: 146\n",
      "  - 91 by drugbank_protein_name\n",
      "  - 142 by uniprot\n"
     ]
    }
   ],
   "source": [
    "# Combine the two sets (even though Uniprot is not the same)\n",
    "cancer_related_proteins = pd.concat([bind_cancer_proteins_by_name, bind_cancer_proteins_by_uniprot]).drop_duplicates()\n",
    "cancer_related_proteins_df = df[df['target_name'].isin(cancer_related_proteins['target_name'])]\n",
    "\n",
    "print(f\"Number of pairs of cancer proteins with their ligand in bind: {len(cancer_related_proteins_df)}\")\n",
    "print(f\"Number of unique cancer proteins: {len(cancer_related_proteins['target_name'].unique())}\")\n",
    "print(f\"  - {len(bind_cancer_proteins_by_name['target_name'].unique())} by drugbank_protein_name\")\n",
    "print(f\"  - {len(bind_cancer_proteins_by_uniprot['target_name'].unique())} by uniprot\")"
   ]
  },
  {
   "cell_type": "markdown",
   "metadata": {},
   "source": [
    "### Ligands related to these proteins"
   ]
  },
  {
   "cell_type": "code",
   "execution_count": 62,
   "metadata": {},
   "outputs": [
    {
     "name": "stdout",
     "output_type": "stream",
     "text": [
      "Number of pairs of ligands related to cancer proteins (keep only the ones for which we have a name): 67058\n",
      "Number of unique ligands related to cancer proteins: 39196\n",
      "Number of cancer proteins that matched to a ligand: 146 out of 146\n"
     ]
    }
   ],
   "source": [
    "ligands_related_to_cancer_proteins = cancer_related_proteins_df.dropna(subset=['ligand_name'])\n",
    "\n",
    "print(f\"Number of pairs of ligands related to cancer proteins (keep only the ones for which we have a name): {len(ligands_related_to_cancer_proteins)}\")\n",
    "print(f\"Number of unique ligands related to cancer proteins: {len(set(ligands_related_to_cancer_proteins['ligand_name']))}\")\n",
    "print(f\"Number of cancer proteins that matched to a ligand: {len(set(ligands_related_to_cancer_proteins['target_name']))} out of {len(cancer_related_proteins['target_name'].unique())}\")"
   ]
  },
  {
   "cell_type": "code",
   "execution_count": 63,
   "metadata": {},
   "outputs": [
    {
     "name": "stdout",
     "output_type": "stream",
     "text": [
      "Number of pairs of drugs related to cancer proteins: 3192\n",
      "Number of unique drugs related to cancer proteins: 321\n",
      "Number of cancer proteins that matched to a drug: 68 out of 146\n"
     ]
    }
   ],
   "source": [
    "# Keep only the ligands that are in DrugBank \n",
    "drugs_related_to_cancer_proteins = ligands_related_to_cancer_proteins.dropna(subset='drugbank_drug_class_superclass')\n",
    "\n",
    "print(f\"Number of pairs of drugs related to cancer proteins: {len(drugs_related_to_cancer_proteins)}\")\n",
    "print(f\"Number of unique drugs related to cancer proteins: {len(drugs_related_to_cancer_proteins['drugbank_drug_name'].unique())}\")\n",
    "print(f\"Number of cancer proteins that matched to a drug: {len(set(drugs_related_to_cancer_proteins['target_name']))} out of {len(cancer_related_proteins['target_name'].unique())}\")"
   ]
  },
  {
   "cell_type": "markdown",
   "metadata": {},
   "source": [
    "### All proteins related to these ligands"
   ]
  },
  {
   "cell_type": "code",
   "execution_count": 75,
   "metadata": {},
   "outputs": [
    {
     "name": "stdout",
     "output_type": "stream",
     "text": [
      "Number of unique proteins related to cancer ligands: 2092\n",
      "Number of unique proteins related to cancer drugs: 1592\n"
     ]
    }
   ],
   "source": [
    "all_prots_related_to_cancer_ligands = df[df['ligand_name'].isin(ligands_related_to_cancer_proteins['ligand_name'].unique())]\n",
    "all_prots_related_to_cancer_drugs = df[df['drugbank_drug_name'].isin(drugs_related_to_cancer_proteins['drugbank_drug_name'].unique())]\n",
    "\n",
    "print(f\"Number of unique proteins related to cancer ligands: {len(all_prots_related_to_cancer_ligands['target_name'].unique())}\")\n",
    "print(f\"Number of unique proteins related to cancer drugs: {len(all_prots_related_to_cancer_drugs['target_name'].unique())}\")"
   ]
  },
  {
   "cell_type": "markdown",
   "metadata": {},
   "source": [
    "### Differentiate between secondary effects and drugs"
   ]
  },
  {
   "cell_type": "code",
   "execution_count": 79,
   "metadata": {},
   "outputs": [
    {
     "name": "stdout",
     "output_type": "stream",
     "text": [
      "Number of proteins directly targeted by drugs: 68\n",
      "Number of proteins representing secondary effect of drugs: 1524\n",
      "\n",
      "Number of proteins directly targeted by ligands: 146\n",
      "Number of proteins representing secondary effect of ligands: 1946\n"
     ]
    }
   ],
   "source": [
    "direct_prots_related_target_names = cancer_related_proteins['target_name'].unique()\n",
    "\n",
    "direct_effect_prots = all_prots_related_to_cancer_drugs[all_prots_related_to_cancer_drugs['target_name'].isin(direct_prots_related_target_names)]\n",
    "secondary_effect_prots = all_prots_related_to_cancer_drugs[~all_prots_related_to_cancer_drugs['target_name'].isin(direct_prots_related_target_names)]\n",
    "\n",
    "ligands_direct_effect_prots = all_prots_related_to_cancer_ligands[all_prots_related_to_cancer_ligands['target_name'].isin(direct_prots_related_target_names)]\n",
    "ligands_secondary_effect_prots = all_prots_related_to_cancer_ligands[~all_prots_related_to_cancer_ligands['target_name'].isin(direct_prots_related_target_names)]\n",
    "\n",
    "print(f\"Number of proteins directly targeted by drugs: {len(direct_effect_prots['target_name'].unique())}\")\n",
    "print(f\"Number of proteins representing secondary effect of drugs: {len(secondary_effect_prots['target_name'].unique())}\")\n",
    "print()\n",
    "print(f\"Number of proteins directly targeted by ligands: {len(ligands_direct_effect_prots['target_name'].unique())}\")\n",
    "print(f\"Number of proteins representing secondary effect of ligands: {len(ligands_secondary_effect_prots['target_name'].unique())}\")"
   ]
  },
  {
   "cell_type": "markdown",
   "metadata": {},
   "source": [
    "Note that cancer related proteins has 146 distinct prots, but as we keep only the ones that are linked to a ligand in bindingdb, we end up using only 66 (61 for drugs) out of those 146 prots. So in the end, the difference between number of proteins directly targeted by ligands and the number of proteins that are related to cancer is only because of this:\n",
    "```\tpython\n",
    "    ligands_related_to_cancer_proteins = cancer_related_proteins_df.dropna(subset=['drugbank_drug_name'])\n",
    "```\n",
    "In summary, \n",
    "- we have 146 cancer prots\n",
    "- they link to 405 ligands (ligands related to cancer prots), which themselves only link to 66 of the cancer prots (61 for drugs)\n",
    "- these 405 ligands link to all prots which around 1651 prots\n",
    "- out of all these prots, as we've seen 66 are cancer related (61 for drugs), and 1504 are likely proteins on which the drug has secondary effects\n",
    "\n",
    "The difference between the 146 cancer prots and the 66 cancer prots is really because only a subset of the cancer prots can be used for our analysis. And this subset, as explained above, is given by the dropna on drugbank_drug_name which is the name of the ligand."
   ]
  },
  {
   "cell_type": "code",
   "execution_count": 86,
   "metadata": {},
   "outputs": [
    {
     "data": {
      "text/plain": [
       "3192"
      ]
     },
     "execution_count": 86,
     "metadata": {},
     "output_type": "execute_result"
    }
   ],
   "source": [
    "direct_effect_prots['drugbank_drug_name'].isin(all_prots_related_to_cancer_drugs['drugbank_drug_name']).sum()"
   ]
  },
  {
   "cell_type": "code",
   "execution_count": null,
   "metadata": {},
   "outputs": [],
   "source": [
    "\n",
    "# Create a list of nodes\n",
    "nodes = []\n",
    "node_id_map = {}  # To map node names to unique ids\n",
    "categories = [{'name': 'Possible Cancer Drug'}, {'name': 'Cancer Protein'}, {'name': 'Secondary Effect Protein'}]\n",
    "\n",
    "# Process ligand nodes\n",
    "ligand_nodes = all_prots_related_to_cancer_drugs['drugbank_drug_name'].dropna().unique()\n",
    "for idx, ligand in enumerate(ligand_nodes):\n",
    "    ligand = str(ligand)\n",
    "    node_id_map[ligand] = idx\n",
    "    node = {\n",
    "        'id': str(idx),\n",
    "        'name': ligand,\n",
    "        'category': 0,  # Index of 'ligand' in categories\n",
    "        'symbolSize': 10,  # Adjust as needed\n",
    "        'value': 1  # You can set this to degree or other measure\n",
    "    }\n",
    "    nodes.append(node)\n",
    "\n",
    "# Process protein nodes\n",
    "cancer_protein_nodes = direct_effect_prots['target_name'].unique()\n",
    "for idx, protein in enumerate(cancer_protein_nodes, start=len(node_id_map)):\n",
    "    node_id_map[protein] = idx\n",
    "    node = {\n",
    "        'id': str(idx),\n",
    "        'name': protein,\n",
    "        'category': 1,  # Index of 'protein' in categories\n",
    "        'symbolSize': 10,  # Adjust as needed\n",
    "        'value': 1  # You can set this to degree or other measure\n",
    "    }\n",
    "    nodes.append(node)\n",
    "\n",
    "secondary_protein_nodes = secondary_effect_prots['target_name'].unique()\n",
    "for idx, protein in enumerate(secondary_protein_nodes, start=len(node_id_map)):\n",
    "    node_id_map[protein] = idx\n",
    "    node = {\n",
    "        'id': str(idx),\n",
    "        'name': protein,\n",
    "        'category': 2,  # Index of 'protein' in categories\n",
    "        'symbolSize': 10,  # Adjust as needed\n",
    "        'value': 1  # You can set this to degree or other measure\n",
    "    }\n",
    "    nodes.append(node)\n"
   ]
  },
  {
   "cell_type": "code",
   "execution_count": 96,
   "metadata": {},
   "outputs": [],
   "source": [
    "# Create a list of edges\n",
    "edges = []\n",
    "for _, row in direct_effect_prots.iterrows():\n",
    "    source_id = node_id_map[row['drugbank_drug_name']]\n",
    "    target_id = node_id_map[row['target_name']]\n",
    "    edge = {\n",
    "        'source': str(source_id),\n",
    "        'target': str(target_id),\n",
    "        'value': row['ic50']  # Use ic50 as edge value\n",
    "    }\n",
    "    edges.append(edge)\n",
    "\n",
    "for _, row in secondary_effect_prots.iterrows():\n",
    "    source_id = node_id_map[row['drugbank_drug_name']]\n",
    "    target_id = node_id_map[row['target_name']]\n",
    "    edge = {\n",
    "        'source': str(source_id),\n",
    "        'target': str(target_id),\n",
    "        'value': row['ic50']  # Use ic50 as edge value\n",
    "    }\n",
    "    edges.append(edge)\n",
    "\n",
    "# Create the graph data\n",
    "graph_data = {\n",
    "    'nodes': nodes,\n",
    "    'links': edges,\n",
    "    'categories': categories\n",
    "}"
   ]
  },
  {
   "cell_type": "code",
   "execution_count": null,
   "metadata": {},
   "outputs": [
    {
     "data": {
      "text/plain": [
       "'c:\\\\Users\\\\sebge\\\\source\\\\test2\\\\ada-2024-project-hyperbabbage\\\\graph.html'"
      ]
     },
     "execution_count": 97,
     "metadata": {},
     "output_type": "execute_result"
    }
   ],
   "source": [
    "from pyecharts.charts import Graph\n",
    "from pyecharts import options as opts\n",
    "\n",
    "\n",
    "graph = Graph(init_opts=opts.InitOpts(width=\"100%\", height=\"700px\"))\n",
    "graph.add(\n",
    "    \"\",\n",
    "    nodes,\n",
    "    edges,\n",
    "    categories=categories,\n",
    "    layout=\"force\",\n",
    "    edge_length=[50, 200],\n",
    "    repulsion=100,\n",
    "    linestyle_opts=opts.LineStyleOpts(width=0.5, opacity=0.5),\n",
    ")\n",
    "graph.set_series_opts(\n",
    "    label_opts=opts.LabelOpts(\n",
    "        is_show=False,  # Hide labels by default\n",
    "        position=\"right\",\n",
    "        formatter=\"{b}\",  # Use node name as the label\n",
    "        #show=False,  # Ensure labels are not rendered statically\n",
    "    )\n",
    ")\n",
    "\n",
    "graph.set_global_opts(\n",
    "    title_opts=opts.TitleOpts(title=\"Cancer Related Ligand-Protein Interaction Network\"),\n",
    ")\n",
    "\n",
    "graph.render(\"graph.html\")\n"
   ]
  },
  {
   "cell_type": "code",
   "execution_count": null,
   "metadata": {},
   "outputs": [],
   "source": []
  }
 ],
 "metadata": {
  "kernelspec": {
   "display_name": "epfl",
   "language": "python",
   "name": "python3"
  },
  "language_info": {
   "codemirror_mode": {
    "name": "ipython",
    "version": 3
   },
   "file_extension": ".py",
   "mimetype": "text/x-python",
   "name": "python",
   "nbconvert_exporter": "python",
   "pygments_lexer": "ipython3",
   "version": "3.11.10"
  }
 },
 "nbformat": 4,
 "nbformat_minor": 2
}
