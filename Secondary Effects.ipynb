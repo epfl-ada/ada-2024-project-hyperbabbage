{
 "cells": [
  {
   "cell_type": "code",
   "execution_count": 185,
   "metadata": {},
   "outputs": [],
   "source": [
    "import pandas as pd\n",
    "import numpy as np\n",
    "import matplotlib.pyplot as plt\n",
    "\n",
    "from src.data_paths import *"
   ]
  },
  {
   "cell_type": "code",
   "execution_count": 186,
   "metadata": {},
   "outputs": [],
   "source": [
    "df = pd.read_pickle(MERGED)"
   ]
  },
  {
   "cell_type": "code",
   "execution_count": 187,
   "metadata": {},
   "outputs": [],
   "source": [
    "cosmic_proteins = pd.read_csv(COSMIC_PROTEINS, sep='\\t')"
   ]
  },
  {
   "cell_type": "code",
   "execution_count": 188,
   "metadata": {},
   "outputs": [
    {
     "data": {
      "text/html": [
       "<div>\n",
       "<style scoped>\n",
       "    .dataframe tbody tr th:only-of-type {\n",
       "        vertical-align: middle;\n",
       "    }\n",
       "\n",
       "    .dataframe tbody tr th {\n",
       "        vertical-align: top;\n",
       "    }\n",
       "\n",
       "    .dataframe thead th {\n",
       "        text-align: right;\n",
       "    }\n",
       "</style>\n",
       "<table border=\"1\" class=\"dataframe\">\n",
       "  <thead>\n",
       "    <tr style=\"text-align: right;\">\n",
       "      <th></th>\n",
       "      <th>Gene</th>\n",
       "      <th>Gene synonym</th>\n",
       "      <th>Ensembl</th>\n",
       "      <th>Gene description</th>\n",
       "      <th>Uniprot</th>\n",
       "      <th>Chromosome</th>\n",
       "      <th>Position</th>\n",
       "      <th>Protein class</th>\n",
       "      <th>Biological process</th>\n",
       "      <th>Molecular function</th>\n",
       "      <th>...</th>\n",
       "      <th>Cancer prognostics - Pancreatic Adenocarcinoma (TCGA)</th>\n",
       "      <th>Cancer prognostics - Pancreatic Adenocarcinoma (validation)</th>\n",
       "      <th>Cancer prognostics - Prostate Adenocarcinoma (TCGA)</th>\n",
       "      <th>Cancer prognostics - Rectum Adenocarcinoma (TCGA)</th>\n",
       "      <th>Cancer prognostics - Rectum Adenocarcinoma (validation)</th>\n",
       "      <th>Cancer prognostics - Skin Cuteneous Melanoma (TCGA)</th>\n",
       "      <th>Cancer prognostics - Stomach Adenocarcinoma (TCGA)</th>\n",
       "      <th>Cancer prognostics - Testicular Germ Cell Tumor (TCGA)</th>\n",
       "      <th>Cancer prognostics - Thyroid Carcinoma (TCGA)</th>\n",
       "      <th>Cancer prognostics - Uterine Corpus Endometrial Carcinoma (TCGA)</th>\n",
       "    </tr>\n",
       "  </thead>\n",
       "  <tbody>\n",
       "    <tr>\n",
       "      <th>0</th>\n",
       "      <td>ABI1</td>\n",
       "      <td>ABI-1, E3B1, SSH3BP1</td>\n",
       "      <td>ENSG00000136754</td>\n",
       "      <td>Abl interactor 1</td>\n",
       "      <td>Q8IZP0</td>\n",
       "      <td>10</td>\n",
       "      <td>26746593-26861087</td>\n",
       "      <td>Cancer-related genes, Disease related genes, P...</td>\n",
       "      <td>Host-virus interaction</td>\n",
       "      <td>NaN</td>\n",
       "      <td>...</td>\n",
       "      <td>unprognostic (6.17e-3)</td>\n",
       "      <td>unprognostic (9.66e-2)</td>\n",
       "      <td>unprognostic (8.60e-2)</td>\n",
       "      <td>unprognostic (1.16e-1)</td>\n",
       "      <td>unprognostic (3.28e-2)</td>\n",
       "      <td>unprognostic (1.01e-1)</td>\n",
       "      <td>unprognostic (3.66e-1)</td>\n",
       "      <td>unprognostic (1.72e-1)</td>\n",
       "      <td>unprognostic (1.03e-1)</td>\n",
       "      <td>unprognostic (1.72e-1)</td>\n",
       "    </tr>\n",
       "  </tbody>\n",
       "</table>\n",
       "<p>1 rows × 107 columns</p>\n",
       "</div>"
      ],
      "text/plain": [
       "   Gene          Gene synonym          Ensembl  Gene description Uniprot  \\\n",
       "0  ABI1  ABI-1, E3B1, SSH3BP1  ENSG00000136754  Abl interactor 1  Q8IZP0   \n",
       "\n",
       "  Chromosome           Position  \\\n",
       "0         10  26746593-26861087   \n",
       "\n",
       "                                       Protein class      Biological process  \\\n",
       "0  Cancer-related genes, Disease related genes, P...  Host-virus interaction   \n",
       "\n",
       "  Molecular function  ...  \\\n",
       "0                NaN  ...   \n",
       "\n",
       "  Cancer prognostics - Pancreatic Adenocarcinoma (TCGA)  \\\n",
       "0                             unprognostic (6.17e-3)      \n",
       "\n",
       "  Cancer prognostics - Pancreatic Adenocarcinoma (validation)  \\\n",
       "0                             unprognostic (9.66e-2)            \n",
       "\n",
       "  Cancer prognostics - Prostate Adenocarcinoma (TCGA)  \\\n",
       "0                             unprognostic (8.60e-2)    \n",
       "\n",
       "  Cancer prognostics - Rectum Adenocarcinoma (TCGA)  \\\n",
       "0                            unprognostic (1.16e-1)   \n",
       "\n",
       "  Cancer prognostics - Rectum Adenocarcinoma (validation)  \\\n",
       "0                             unprognostic (3.28e-2)        \n",
       "\n",
       "  Cancer prognostics - Skin Cuteneous Melanoma (TCGA)  \\\n",
       "0                             unprognostic (1.01e-1)    \n",
       "\n",
       "  Cancer prognostics - Stomach Adenocarcinoma (TCGA)  \\\n",
       "0                             unprognostic (3.66e-1)   \n",
       "\n",
       "   Cancer prognostics - Testicular Germ Cell Tumor (TCGA)  \\\n",
       "0                             unprognostic (1.72e-1)        \n",
       "\n",
       "  Cancer prognostics - Thyroid Carcinoma (TCGA)  \\\n",
       "0                        unprognostic (1.03e-1)   \n",
       "\n",
       "  Cancer prognostics - Uterine Corpus Endometrial Carcinoma (TCGA)  \n",
       "0                             unprognostic (1.72e-1)                \n",
       "\n",
       "[1 rows x 107 columns]"
      ]
     },
     "execution_count": 188,
     "metadata": {},
     "output_type": "execute_result"
    }
   ],
   "source": [
    "cosmic_proteins.head(1)"
   ]
  },
  {
   "cell_type": "code",
   "execution_count": 189,
   "metadata": {},
   "outputs": [
    {
     "data": {
      "text/plain": [
       "0        ABI1\n",
       "1        ABL1\n",
       "2        ABL2\n",
       "3       ACKR3\n",
       "4       ACSL3\n",
       "        ...  \n",
       "567     ZMYM2\n",
       "568    ZNF331\n",
       "569    ZNF384\n",
       "570    ZNF521\n",
       "571     ZRSR2\n",
       "Name: Gene, Length: 572, dtype: object"
      ]
     },
     "execution_count": 189,
     "metadata": {},
     "output_type": "execute_result"
    }
   ],
   "source": [
    "cosmic_proteins['Gene']"
   ]
  },
  {
   "cell_type": "code",
   "execution_count": 190,
   "metadata": {},
   "outputs": [
    {
     "data": {
      "text/plain": [
       "(np.int64(0), np.int64(0))"
      ]
     },
     "execution_count": 190,
     "metadata": {},
     "output_type": "execute_result"
    }
   ],
   "source": [
    "arr = cosmic_proteins['Gene synonym'].apply(lambda x: np.array([y.strip() for y in str(x).split(',')]))\n",
    "all_elems = np.concatenate(arr)\n",
    "\n",
    "# Check isin for each element in the array (careful of double lists)\n",
    "df['target_name'].isin(all_elems).sum(), df['name_y'].isin(all_elems).sum()"
   ]
  },
  {
   "cell_type": "code",
   "execution_count": 191,
   "metadata": {},
   "outputs": [
    {
     "data": {
      "text/plain": [
       "np.int64(20199)"
      ]
     },
     "execution_count": 191,
     "metadata": {},
     "output_type": "execute_result"
    }
   ],
   "source": [
    "df['name_y'].isin(cosmic_proteins['Gene']).sum()"
   ]
  },
  {
   "cell_type": "code",
   "execution_count": 192,
   "metadata": {},
   "outputs": [
    {
     "data": {
      "text/plain": [
       "np.int64(0)"
      ]
     },
     "execution_count": 192,
     "metadata": {},
     "output_type": "execute_result"
    }
   ],
   "source": [
    "df['target_name'].isin(cosmic_proteins['Gene']).sum()"
   ]
  },
  {
   "cell_type": "code",
   "execution_count": 193,
   "metadata": {},
   "outputs": [
    {
     "data": {
      "text/plain": [
       "np.int64(45)"
      ]
     },
     "execution_count": 193,
     "metadata": {},
     "output_type": "execute_result"
    }
   ],
   "source": [
    "cosmic_proteins['Gene'].isin(df['name_y']).sum()"
   ]
  },
  {
   "cell_type": "code",
   "execution_count": 194,
   "metadata": {},
   "outputs": [
    {
     "data": {
      "text/html": [
       "<div>\n",
       "<style scoped>\n",
       "    .dataframe tbody tr th:only-of-type {\n",
       "        vertical-align: middle;\n",
       "    }\n",
       "\n",
       "    .dataframe tbody tr th {\n",
       "        vertical-align: top;\n",
       "    }\n",
       "\n",
       "    .dataframe thead th {\n",
       "        text-align: right;\n",
       "    }\n",
       "</style>\n",
       "<table border=\"1\" class=\"dataframe\">\n",
       "  <thead>\n",
       "    <tr style=\"text-align: right;\">\n",
       "      <th></th>\n",
       "      <th>ki</th>\n",
       "      <th>ph</th>\n",
       "      <th>temp</th>\n",
       "      <th>ic50</th>\n",
       "      <th>ec50</th>\n",
       "      <th>kd</th>\n",
       "      <th>kon</th>\n",
       "      <th>koff</th>\n",
       "      <th>doi</th>\n",
       "      <th>target_name</th>\n",
       "      <th>...</th>\n",
       "      <th>chembl_id_DrugBank</th>\n",
       "      <th>smiles_DrugBank</th>\n",
       "      <th>inchi_key_DrugBank</th>\n",
       "      <th>chebi_id_DrugBank</th>\n",
       "      <th>bindingdb_id_DrugBank</th>\n",
       "      <th>Matched_On</th>\n",
       "      <th>name_y</th>\n",
       "      <th>general-function</th>\n",
       "      <th>specific-function</th>\n",
       "      <th>organism</th>\n",
       "    </tr>\n",
       "  </thead>\n",
       "  <tbody>\n",
       "    <tr>\n",
       "      <th>8960</th>\n",
       "      <td>&lt;NA&gt;</td>\n",
       "      <td>7.6</td>\n",
       "      <td>22.0</td>\n",
       "      <td>840.0</td>\n",
       "      <td>&lt;NA&gt;</td>\n",
       "      <td>&lt;NA&gt;</td>\n",
       "      <td>&lt;NA&gt;</td>\n",
       "      <td>&lt;NA&gt;</td>\n",
       "      <td>10.1021/jm0201722</td>\n",
       "      <td>Cyclin-dependent kinase 4/G1/S-specific cyclin-D1</td>\n",
       "      <td>...</td>\n",
       "      <td>NaN</td>\n",
       "      <td>NaN</td>\n",
       "      <td>NaN</td>\n",
       "      <td>NaN</td>\n",
       "      <td>NaN</td>\n",
       "      <td>NaN</td>\n",
       "      <td>CCND1</td>\n",
       "      <td>Transcription factor binding</td>\n",
       "      <td>Regulatory component of the cyclin D1-CDK4 (DC...</td>\n",
       "      <td>Humans</td>\n",
       "    </tr>\n",
       "    <tr>\n",
       "      <th>8961</th>\n",
       "      <td>&lt;NA&gt;</td>\n",
       "      <td>7.6</td>\n",
       "      <td>22.0</td>\n",
       "      <td>490.0</td>\n",
       "      <td>&lt;NA&gt;</td>\n",
       "      <td>&lt;NA&gt;</td>\n",
       "      <td>&lt;NA&gt;</td>\n",
       "      <td>&lt;NA&gt;</td>\n",
       "      <td>10.1021/jm0201722</td>\n",
       "      <td>Cyclin-dependent kinase 4/G1/S-specific cyclin-D1</td>\n",
       "      <td>...</td>\n",
       "      <td>NaN</td>\n",
       "      <td>NaN</td>\n",
       "      <td>NaN</td>\n",
       "      <td>NaN</td>\n",
       "      <td>NaN</td>\n",
       "      <td>NaN</td>\n",
       "      <td>CCND1</td>\n",
       "      <td>Transcription factor binding</td>\n",
       "      <td>Regulatory component of the cyclin D1-CDK4 (DC...</td>\n",
       "      <td>Humans</td>\n",
       "    </tr>\n",
       "  </tbody>\n",
       "</table>\n",
       "<p>2 rows × 49 columns</p>\n",
       "</div>"
      ],
      "text/plain": [
       "        ki   ph  temp   ic50  ec50    kd   kon  koff                doi  \\\n",
       "8960  <NA>  7.6  22.0  840.0  <NA>  <NA>  <NA>  <NA>  10.1021/jm0201722   \n",
       "8961  <NA>  7.6  22.0  490.0  <NA>  <NA>  <NA>  <NA>  10.1021/jm0201722   \n",
       "\n",
       "                                            target_name  ...  \\\n",
       "8960  Cyclin-dependent kinase 4/G1/S-specific cyclin-D1  ...   \n",
       "8961  Cyclin-dependent kinase 4/G1/S-specific cyclin-D1  ...   \n",
       "\n",
       "      chembl_id_DrugBank  smiles_DrugBank inchi_key_DrugBank  \\\n",
       "8960                 NaN              NaN                NaN   \n",
       "8961                 NaN              NaN                NaN   \n",
       "\n",
       "     chebi_id_DrugBank bindingdb_id_DrugBank Matched_On name_y  \\\n",
       "8960               NaN                   NaN        NaN  CCND1   \n",
       "8961               NaN                   NaN        NaN  CCND1   \n",
       "\n",
       "                  general-function  \\\n",
       "8960  Transcription factor binding   \n",
       "8961  Transcription factor binding   \n",
       "\n",
       "                                      specific-function organism  \n",
       "8960  Regulatory component of the cyclin D1-CDK4 (DC...   Humans  \n",
       "8961  Regulatory component of the cyclin D1-CDK4 (DC...   Humans  \n",
       "\n",
       "[2 rows x 49 columns]"
      ]
     },
     "execution_count": 194,
     "metadata": {},
     "output_type": "execute_result"
    }
   ],
   "source": [
    "df[df['name_y'].isin(cosmic_proteins['Gene'])].head(2)"
   ]
  },
  {
   "cell_type": "code",
   "execution_count": 195,
   "metadata": {},
   "outputs": [
    {
     "data": {
      "text/plain": [
       "(191,\n",
       " array([nan, 'Alvocidib', 'Olomoucine', 'G9ZF61LE7G',\n",
       "        \"N'-(Pyrrolidino[2,1-B]Isoindolin-4-On-8-Yl)-N-(Pyridin-2-Yl)Urea\",\n",
       "        '1-(5-OXO-2,3,5,9B-TETRAHYDRO-1H-PYRROLO[2,1-A]ISOINDOL-9-YL)-3-(5-PYRROLIDIN-2-YL-1H-PYRAZOL-3-YL)-UREA',\n",
       "        'WS821Z52LQ', 'Pteroic acid', 'K-252a',\n",
       "        '6,7,12,13-tetrahydro-5H-indolo[2,3-a]pyrrolo[3,4-c]carbazol-5-one',\n",
       "        'SB-218078', 'Bisindolylmaleimide I', 'Staurosporine',\n",
       "        '64H5U84UFB', 'NTZ47MG2A4',\n",
       "        '4-[4-(4-Methyl-2-Methylamino-Thiazol-5-Yl)-Pyrimidin-2-Ylamino]-Phenol',\n",
       "        '[4-(2-Amino-4-Methyl-Thiazol-5-Yl)-Pyrimidin-2-Yl]-(3-Nitro-Phenyl)-Amine',\n",
       "        \"O6-CYCLOHEXYLMETHOXY-2-(4'-SULPHAMOYLANILINO) PURINE\",\n",
       "        'T61871RKRI', 'Wortmannin', '7-Hydroxystaurosporine', 'Pictilisib',\n",
       "        'TG100-115', 'LY-294002', 'Milciclib Maleate', 'Roginolisib',\n",
       "        'Tirabrutinib', 'Navtemadlin', 'Y2SR66P7VM', 'Trilaciclib',\n",
       "        'Lerociclib', 'AUY922', 'Vorasidenib', 'Enasidenib', 'Abemaciclib',\n",
       "        'PF-06842874', 'Trametinib', 'Pimasertib', 'AZD-8330',\n",
       "        'Binimetinib', 'Mirdametinib', 'Avutometinib', 'Genistein',\n",
       "        'Quercetin', 'Tanespimycin', 'Sorafenib', 'Baricitinib',\n",
       "        'Tofacitinib', 'Ruxolitinib', 'Decernotinib', 'Purvalanol',\n",
       "        'Purvalanol A', 'Seliciclib', 'Ellagic acid', 'Imatinib',\n",
       "        'Bosutinib', 'PD173955', 'Dasatinib',\n",
       "        'N-[(1S)-2-AMINO-1-(2,4-DICHLOROBENZYL)ETHYL]-5-[2-(METHYLAMINO)PYRIMIDIN-4-YL]THIOPHENE-2-CARBOXAMIDE',\n",
       "        'Linifanib', 'PP-121', 'Onvansertib', 'PHA-793887', '3C06JJ0Z2O',\n",
       "        'Temozolomide',\n",
       "        '9-Butyl-8-(3,4,5-Trimethoxybenzyl)-9h-Purin-6-Amine', 'Erlotinib',\n",
       "        'Gefitinib', 'Afatinib',\n",
       "        '9-Butyl-8-(4-Methoxybenzyl)-9h-Purin-6-Amine',\n",
       "        '8-BENZO[1,3]DIOXOL-,5-YLMETHYL-9-BUTYL-9H-',\n",
       "        '9-Butyl-8-(2,5-Dimethoxy-Benzyl)-2-Fluoro-9h-Purin-6-Ylamine',\n",
       "        '8-(2,5-Dimethoxy-Benzyl)-2-Fluoro-9h-Purin-6-Ylamine',\n",
       "        '8-(2-Chloro-3,4,5-Trimethoxy-Benzyl)-9-Pent-4-Ylnyl-9h-Purin-6-Ylamine',\n",
       "        '8-(2,5-Dimethoxy-Benzyl)-2-Fluoro-9-Pent-9h-Purin-6-Ylamine',\n",
       "        '9-Butyl-8-(2-Chloro-3,4,5-Trimethoxy-Benzyl)-9h-Purin-6-Ylamine',\n",
       "        '9-Butyl-8-(2,5-Dimethoxy-Benzyl)-9h-Purin-6-Ylamine',\n",
       "        '8-Benzo[1,3]Dioxol-,5-Ylmethyl-9-Butyl-2-Fluoro-9h-Purin-6-Ylamine',\n",
       "        '9-Butyl-8-(3-Methoxybenzyl)-9h-Purin-6-Amine',\n",
       "        '8-(2-Chloro-3,4,5-Trimethoxy-Benzyl)-2-Fluoro-9-Pent-4-Ylnyl-9h-Purin-6-Ylamine',\n",
       "        'RAF-265',\n",
       "        '4-CHLORO-6-(4-{4-[4-(METHYLSULFONYL)BENZYL]PIPERAZIN-1-YL}-1H-PYRAZOL-5-YL)BENZENE-1,3-DIOL',\n",
       "        '5-(5-CHLORO-2,4-DIHYDROXYPHENYL)-N-ETHYL-4-PIPERAZIN-1-YL-1H-PYRAZOLE-3-CARBOXAMIDE',\n",
       "        '4-CHLORO-6-(4-PIPERAZIN-1-YL-1H-PYRAZOL-5-YL)BENZENE-1,3-DIOL',\n",
       "        'Geldanamycin',\n",
       "        '9-HYDROXY-4-PHENYL-6H-PYRROLO[3,4-C]CARBAZOLE-1,3-DIONE',\n",
       "        'X1BF92PW9T', 'Nilotinib', 'Ponatinib', 'Dactolisib', 'AZD-3759',\n",
       "        'Tandutinib', 'Dinaciclib',\n",
       "        '4-[(4-METHYL-1-PIPERAZINYL)METHYL]-N-[3-[[4-(3-PYRIDINYL)-2-PYRIMIDINYL]AMINO]PHENYL]-BENZAMIDE',\n",
       "        'PF-06459988', 'Canertinib', 'Rociletinib', 'Nazartinib',\n",
       "        'Naquotinib', 'Olmutinib', 'Sunitinib', 'Vorinostat',\n",
       "        'Fimepinostat', 'IPI-549', 'SNS-032', 'Voruciclib', 'LAS-191954',\n",
       "        '2-tert-butyl-9-fluoro-1,6-dihydrobenzo[h]imidazo[4,5-f]isoquinolin-7-one',\n",
       "        'Radicicol', 'Betadex', 'YZI5105V0L', 'PI-103', 'AZD-8055',\n",
       "        'Vemurafenib', 'Bimiralisib', 'Vistusertib', 'Omipalisib',\n",
       "        'Resveratrol', 'Pterostilbene', 'IPI-493',\n",
       "        'VEGFR 2 Kinase inhibitor I', 'FN-1501', 'ZSTK-474', 'Pemetrexed',\n",
       "        'YL5FZ2Y5U1', 'Bafetinib', 'Buparlisib', 'Crizotinib', 'Onalespib',\n",
       "        'SNX-2112', 'Crozbaciclib', 'Idelalisib', 'Duvelisib',\n",
       "        'Alvespimycin', 'Tanshinone I', 'Cryptotanshinone', 'CI-1040',\n",
       "        'Bakuchiol', 'Latrunculin A', 'Topotecan', 'Emetine', 'Zelavespib',\n",
       "        '2-(1H-pyrrol-1-ylcarbonyl)benzene-1,3,5-triol',\n",
       "        '4-{[(2R)-2-(2-methylphenyl)pyrrolidin-1-yl]carbonyl}benzene-1,3-diol',\n",
       "        'Doxorubicin', 'Etamivan', 'Phenethyl Isothiocyanate',\n",
       "        'Dacomitinib', 'CAN-508', 'LGH-447', 'SU9516',\n",
       "        '4-[(6-Amino-4-Pyrimidinyl)Amino]Benzenesulfonamide', 'Ribociclib',\n",
       "        'LFR1253W75', 'Umbralisib', 'Dezapelisib', 'Berzosertib',\n",
       "        'Copanlisib', 'Tirbanibulin', 'Deucravacitinib',\n",
       "        '(2R)-2-({9-(1-methylethyl)-6-[(4-pyridin-2-ylbenzyl)amino]-9H-purin-2-yl}amino)butan-1-ol',\n",
       "        'AZD-7648', 'Flumatinib', 'PF-06700841', 'Ganetespib',\n",
       "        'GSK-2636771', 'AZD-8186', 'BIIB021', 'Novobiocin', 'BMS-911543',\n",
       "        'Upadacitinib',\n",
       "        '(3E)-3-[(phenylamino)methylidene]dihydrofuran-2(3H)-one',\n",
       "        'Lorlatinib', 'Ropsacitinib',\n",
       "        '{[(2,6-difluorophenyl)carbonyl]amino}-N-(4-fluorophenyl)-1H-pyrazole-3-carboxamide',\n",
       "        'VS-5584', 'Roniciclib', 'Ceritinib', 'Selumetinib', 'Alpelisib',\n",
       "        'AUM-302', 'Radotinib', 'Vodobatinib', 'Ifidancitinib',\n",
       "        'Asciminib', 'Miransertib', 'Indirubin-5-sulphonate', 'Fedratinib',\n",
       "        'Gusacitinib', \"Indirubin-3'-monoxime\", 'Filgotinib'], dtype=object))"
      ]
     },
     "execution_count": 195,
     "metadata": {},
     "output_type": "execute_result"
    }
   ],
   "source": [
    "cancer_proteins = df[df['name_y'].isin(cosmic_proteins['Gene'])]\n",
    "\n",
    "ligands_related_to_cancer_proteins = cancer_proteins['name_x'].unique()\n",
    "len(ligands_related_to_cancer_proteins), ligands_related_to_cancer_proteins"
   ]
  },
  {
   "cell_type": "code",
   "execution_count": 196,
   "metadata": {},
   "outputs": [
    {
     "data": {
      "text/html": [
       "<div>\n",
       "<style scoped>\n",
       "    .dataframe tbody tr th:only-of-type {\n",
       "        vertical-align: middle;\n",
       "    }\n",
       "\n",
       "    .dataframe tbody tr th {\n",
       "        vertical-align: top;\n",
       "    }\n",
       "\n",
       "    .dataframe thead th {\n",
       "        text-align: right;\n",
       "    }\n",
       "</style>\n",
       "<table border=\"1\" class=\"dataframe\">\n",
       "  <thead>\n",
       "    <tr style=\"text-align: right;\">\n",
       "      <th></th>\n",
       "      <th>name_x</th>\n",
       "      <th>class_superclass</th>\n",
       "      <th>toxicity</th>\n",
       "      <th>patent_approved</th>\n",
       "    </tr>\n",
       "  </thead>\n",
       "  <tbody>\n",
       "    <tr>\n",
       "      <th>10208</th>\n",
       "      <td>G9ZF61LE7G</td>\n",
       "      <td>6-acetyl-8-cyclopentyl-5-methyl-2-{[5-(piperaz...</td>\n",
       "      <td>Organic compounds</td>\n",
       "      <td>DB06643|DB00008|DB00011|DB00018|DB00022|DB0003...</td>\n",
       "    </tr>\n",
       "    <tr>\n",
       "      <th>10884</th>\n",
       "      <td>WS821Z52LQ</td>\n",
       "      <td>6-phenylpteridine-2,4,7-triamine|Teridin|Triam...</td>\n",
       "      <td>Organic compounds</td>\n",
       "      <td>DB00476|DB01235|DB00734|DB01609|DB00022|DB0109...</td>\n",
       "    </tr>\n",
       "    <tr>\n",
       "      <th>339356</th>\n",
       "      <td>G9ZF61LE7G</td>\n",
       "      <td>6-acetyl-8-cyclopentyl-5-methyl-2-{[5-(piperaz...</td>\n",
       "      <td>Organic compounds</td>\n",
       "      <td>DB06643|DB00008|DB00011|DB00018|DB00022|DB0003...</td>\n",
       "    </tr>\n",
       "    <tr>\n",
       "      <th>435539</th>\n",
       "      <td>G9ZF61LE7G</td>\n",
       "      <td>6-acetyl-8-cyclopentyl-5-methyl-2-{[5-(piperaz...</td>\n",
       "      <td>Organic compounds</td>\n",
       "      <td>DB06643|DB00008|DB00011|DB00018|DB00022|DB0003...</td>\n",
       "    </tr>\n",
       "    <tr>\n",
       "      <th>984620</th>\n",
       "      <td>Enasidenib</td>\n",
       "      <td>Organoheterocyclic compounds</td>\n",
       "      <td>Based on animal embryo-fetal toxicity studies,...</td>\n",
       "      <td>2016-12-06|2017-08-15|2017-08-22|2018-10-09|20...</td>\n",
       "    </tr>\n",
       "    <tr>\n",
       "      <th>...</th>\n",
       "      <td>...</td>\n",
       "      <td>...</td>\n",
       "      <td>...</td>\n",
       "      <td>...</td>\n",
       "    </tr>\n",
       "    <tr>\n",
       "      <th>2890356</th>\n",
       "      <td>Ponatinib</td>\n",
       "      <td>Benzenoids</td>\n",
       "      <td>The most common non-hematologic adverse reacti...</td>\n",
       "      <td>2015-05-12|2012-02-14|2016-11-15|2021-12-07|20...</td>\n",
       "    </tr>\n",
       "    <tr>\n",
       "      <th>2890360</th>\n",
       "      <td>Ponatinib</td>\n",
       "      <td>Benzenoids</td>\n",
       "      <td>The most common non-hematologic adverse reacti...</td>\n",
       "      <td>2015-05-12|2012-02-14|2016-11-15|2021-12-07|20...</td>\n",
       "    </tr>\n",
       "    <tr>\n",
       "      <th>2901554</th>\n",
       "      <td>Dasatinib</td>\n",
       "      <td>Benzenoids</td>\n",
       "      <td>Overdose cases with dasatinib occurred in isol...</td>\n",
       "      <td>2009-08-25|2003-07-22|2006-10-24|2006-12-26|20...</td>\n",
       "    </tr>\n",
       "    <tr>\n",
       "      <th>2903139</th>\n",
       "      <td>G9ZF61LE7G</td>\n",
       "      <td>6-acetyl-8-cyclopentyl-5-methyl-2-{[5-(piperaz...</td>\n",
       "      <td>Organic compounds</td>\n",
       "      <td>DB06643|DB00008|DB00011|DB00018|DB00022|DB0003...</td>\n",
       "    </tr>\n",
       "    <tr>\n",
       "      <th>2903153</th>\n",
       "      <td>G9ZF61LE7G</td>\n",
       "      <td>6-acetyl-8-cyclopentyl-5-methyl-2-{[5-(piperaz...</td>\n",
       "      <td>Organic compounds</td>\n",
       "      <td>DB06643|DB00008|DB00011|DB00018|DB00022|DB0003...</td>\n",
       "    </tr>\n",
       "  </tbody>\n",
       "</table>\n",
       "<p>244 rows × 4 columns</p>\n",
       "</div>"
      ],
      "text/plain": [
       "             name_x                                   class_superclass  \\\n",
       "10208    G9ZF61LE7G  6-acetyl-8-cyclopentyl-5-methyl-2-{[5-(piperaz...   \n",
       "10884    WS821Z52LQ  6-phenylpteridine-2,4,7-triamine|Teridin|Triam...   \n",
       "339356   G9ZF61LE7G  6-acetyl-8-cyclopentyl-5-methyl-2-{[5-(piperaz...   \n",
       "435539   G9ZF61LE7G  6-acetyl-8-cyclopentyl-5-methyl-2-{[5-(piperaz...   \n",
       "984620   Enasidenib                       Organoheterocyclic compounds   \n",
       "...             ...                                                ...   \n",
       "2890356   Ponatinib                                         Benzenoids   \n",
       "2890360   Ponatinib                                         Benzenoids   \n",
       "2901554   Dasatinib                                         Benzenoids   \n",
       "2903139  G9ZF61LE7G  6-acetyl-8-cyclopentyl-5-methyl-2-{[5-(piperaz...   \n",
       "2903153  G9ZF61LE7G  6-acetyl-8-cyclopentyl-5-methyl-2-{[5-(piperaz...   \n",
       "\n",
       "                                                  toxicity  \\\n",
       "10208                                    Organic compounds   \n",
       "10884                                    Organic compounds   \n",
       "339356                                   Organic compounds   \n",
       "435539                                   Organic compounds   \n",
       "984620   Based on animal embryo-fetal toxicity studies,...   \n",
       "...                                                    ...   \n",
       "2890356  The most common non-hematologic adverse reacti...   \n",
       "2890360  The most common non-hematologic adverse reacti...   \n",
       "2901554  Overdose cases with dasatinib occurred in isol...   \n",
       "2903139                                  Organic compounds   \n",
       "2903153                                  Organic compounds   \n",
       "\n",
       "                                           patent_approved  \n",
       "10208    DB06643|DB00008|DB00011|DB00018|DB00022|DB0003...  \n",
       "10884    DB00476|DB01235|DB00734|DB01609|DB00022|DB0109...  \n",
       "339356   DB06643|DB00008|DB00011|DB00018|DB00022|DB0003...  \n",
       "435539   DB06643|DB00008|DB00011|DB00018|DB00022|DB0003...  \n",
       "984620   2016-12-06|2017-08-15|2017-08-22|2018-10-09|20...  \n",
       "...                                                    ...  \n",
       "2890356  2015-05-12|2012-02-14|2016-11-15|2021-12-07|20...  \n",
       "2890360  2015-05-12|2012-02-14|2016-11-15|2021-12-07|20...  \n",
       "2901554  2009-08-25|2003-07-22|2006-10-24|2006-12-26|20...  \n",
       "2903139  DB06643|DB00008|DB00011|DB00018|DB00022|DB0003...  \n",
       "2903153  DB06643|DB00008|DB00011|DB00018|DB00022|DB0003...  \n",
       "\n",
       "[244 rows x 4 columns]"
      ]
     },
     "execution_count": 196,
     "metadata": {},
     "output_type": "execute_result"
    }
   ],
   "source": [
    "cancer_proteins[cancer_proteins['name_x'].isin(ligands_related_to_cancer_proteins)][['name_x', 'class_superclass', 'toxicity', 'patent_approved']].dropna()"
   ]
  },
  {
   "cell_type": "code",
   "execution_count": 197,
   "metadata": {},
   "outputs": [],
   "source": [
    "# Keep only the ligands that are in DrugBank (for now)\n",
    "drugs_cancer = df[df['name_x'].isin(ligands_related_to_cancer_proteins)].dropna(subset='class_superclass')"
   ]
  },
  {
   "cell_type": "code",
   "execution_count": 198,
   "metadata": {},
   "outputs": [
    {
     "data": {
      "text/plain": [
       "27997"
      ]
     },
     "execution_count": 198,
     "metadata": {},
     "output_type": "execute_result"
    }
   ],
   "source": [
    "len(drugs_cancer)"
   ]
  },
  {
   "cell_type": "code",
   "execution_count": 199,
   "metadata": {},
   "outputs": [
    {
     "data": {
      "text/plain": [
       "(63,\n",
       " array([nan, 'CCNA2', 'CCND1', 'CDK6', '72', 'CDK5', 'CDK7', 'CDK9',\n",
       "        'CDK2', 'PIK3CA', 'gyrB', 'parE', 'PIK3CB', 'PIK3CD', 'PRKAB1',\n",
       "        'HDAC8', 'TP53', 'MET', 'ALK', 'RET', 'HDAC2', 'HDAC3', 'HSP90AB1',\n",
       "        'IDH1', 'IL3', 'MAP2K2', 'PRKACB', 'PRKCB', 'MAPK3', 'CAMK2A',\n",
       "        'PDGFRA', 'HSP90AA1', 'JAK1', 'JAK3', 'JAK2', 'NPM1', 'BCR',\n",
       "        'ABL2', 'MAPK11', 'AKT2', 'GSK3A', 'CSNK1E', 'EGFR', 'KCNQ1',\n",
       "        'parC', 'FKBP1A', 'PDE4C', 'FGFR2', 'TOP2B', 'PDE3B', 'RAC1',\n",
       "        'RAF1', 'ATIC', 'CDK1', 'PIK3CG', 'KDR', 'ESR2', 'EPAS1', 'PRSS2',\n",
       "        'CACNA1S', 'ROS1', 'TAB1', 'LIMK2'], dtype=object))"
      ]
     },
     "execution_count": 199,
     "metadata": {},
     "output_type": "execute_result"
    }
   ],
   "source": [
    "proteins_related_to_cancer_drugs = drugs_cancer['name_y'].unique()\n",
    "len(proteins_related_to_cancer_drugs), proteins_related_to_cancer_drugs"
   ]
  },
  {
   "cell_type": "code",
   "execution_count": 200,
   "metadata": {},
   "outputs": [
    {
     "data": {
      "text/plain": [
       "2870589"
      ]
     },
     "execution_count": 200,
     "metadata": {},
     "output_type": "execute_result"
    }
   ],
   "source": [
    "df_proteins_related_to_cancer_drugs = df[df['name_y'].isin(proteins_related_to_cancer_drugs)]\n",
    "len(df_proteins_related_to_cancer_drugs)"
   ]
  },
  {
   "cell_type": "code",
   "execution_count": 201,
   "metadata": {},
   "outputs": [
    {
     "data": {
      "text/plain": [
       "6326"
      ]
     },
     "execution_count": 201,
     "metadata": {},
     "output_type": "execute_result"
    }
   ],
   "source": [
    "len(set(df_proteins_related_to_cancer_drugs['target_name'].values) - set(cancer_proteins['target_name'].values))"
   ]
  },
  {
   "cell_type": "code",
   "execution_count": null,
   "metadata": {},
   "outputs": [],
   "source": []
  },
  {
   "cell_type": "code",
   "execution_count": null,
   "metadata": {},
   "outputs": [],
   "source": []
  },
  {
   "cell_type": "markdown",
   "metadata": {},
   "source": [
    "### Using UniProt"
   ]
  },
  {
   "cell_type": "code",
   "execution_count": 202,
   "metadata": {},
   "outputs": [
    {
     "data": {
      "text/plain": [
       "np.int64(75)"
      ]
     },
     "execution_count": 202,
     "metadata": {},
     "output_type": "execute_result"
    }
   ],
   "source": [
    "cosmic_proteins['Uniprot'].isin(df['swissprot_protein_id']).sum()"
   ]
  },
  {
   "cell_type": "code",
   "execution_count": 203,
   "metadata": {},
   "outputs": [
    {
     "data": {
      "text/plain": [
       "np.int64(32320)"
      ]
     },
     "execution_count": 203,
     "metadata": {},
     "output_type": "execute_result"
    }
   ],
   "source": [
    "df['swissprot_protein_id'].isin(cosmic_proteins['Uniprot']).sum()"
   ]
  },
  {
   "cell_type": "code",
   "execution_count": 204,
   "metadata": {},
   "outputs": [
    {
     "data": {
      "text/plain": [
       "(240,\n",
       " array([nan, 'Alvocidib', 'Olomoucine', 'SNS-032', 'G9ZF61LE7G',\n",
       "        \"N'-(Pyrrolidino[2,1-B]Isoindolin-4-On-8-Yl)-N-(Pyridin-2-Yl)Urea\",\n",
       "        '1-(5-OXO-2,3,5,9B-TETRAHYDRO-1H-PYRROLO[2,1-A]ISOINDOL-9-YL)-3-(5-PYRROLIDIN-2-YL-1H-PYRAZOL-3-YL)-UREA',\n",
       "        'WS821Z52LQ', 'Pteroic acid', 'K-252a',\n",
       "        '6,7,12,13-tetrahydro-5H-indolo[2,3-a]pyrrolo[3,4-c]carbazol-5-one',\n",
       "        'SB-218078', 'Bisindolylmaleimide I', 'Staurosporine',\n",
       "        '64H5U84UFB',\n",
       "        '4-[(4-Imidazo[1,2-a]Pyridin-3-Ylpyrimidin-2-Yl)Amino]Benzenesulfonamide',\n",
       "        'NTZ47MG2A4',\n",
       "        '4-[4-(4-Methyl-2-Methylamino-Thiazol-5-Yl)-Pyrimidin-2-Ylamino]-Phenol',\n",
       "        '[4-(2-Amino-4-Methyl-Thiazol-5-Yl)-Pyrimidin-2-Yl]-(3-Nitro-Phenyl)-Amine',\n",
       "        'Seliciclib',\n",
       "        \"O6-CYCLOHEXYLMETHOXY-2-(4'-SULPHAMOYLANILINO) PURINE\",\n",
       "        'T61871RKRI', 'Wortmannin', '7-Hydroxystaurosporine', 'Pictilisib',\n",
       "        'TG100-115', 'LY-294002', 'Milciclib Maleate', 'Roginolisib',\n",
       "        'Tirabrutinib', 'Navtemadlin', 'Y2SR66P7VM', 'Trilaciclib',\n",
       "        'Lerociclib', 'O9M39HTM5W', 'Perazine', '4Q13LY9Z8X',\n",
       "        'Thioridazine', 'BMS-919373', 'AUY922', 'INCB-057643',\n",
       "        'Abemaciclib', 'Vorasidenib', 'Enasidenib', 'Crozbaciclib',\n",
       "        'PF-06842874', 'DSP-5336', 'Trametinib', 'Pimasertib', 'AZD-8330',\n",
       "        'Binimetinib', 'Mirdametinib', 'Avutometinib', 'Selpercatinib',\n",
       "        'Midostaurin', 'Genistein', 'Quercetin', 'Tanespimycin',\n",
       "        'Sorafenib', 'Imatinib', 'Silmitasertib', 'Vorinostat',\n",
       "        'Baricitinib', 'Tofacitinib', 'Ruxolitinib', 'Decernotinib',\n",
       "        'Purvalanol A', 'Purvalanol', 'Ellagic acid', 'Bosutinib',\n",
       "        'PD173955', 'Dasatinib',\n",
       "        'N-[(1S)-2-AMINO-1-(2,4-DICHLOROBENZYL)ETHYL]-5-[2-(METHYLAMINO)PYRIMIDIN-4-YL]THIOPHENE-2-CARBOXAMIDE',\n",
       "        'Linifanib', 'PP-121', 'Onvansertib', 'Doramapimod', 'PHA-793887',\n",
       "        '3C06JJ0Z2O', 'Temozolomide',\n",
       "        '9-Butyl-8-(3,4,5-Trimethoxybenzyl)-9h-Purin-6-Amine', 'Erlotinib',\n",
       "        'Gefitinib', 'Afatinib',\n",
       "        '9-Butyl-8-(4-Methoxybenzyl)-9h-Purin-6-Amine',\n",
       "        '8-BENZO[1,3]DIOXOL-,5-YLMETHYL-9-BUTYL-9H-',\n",
       "        '9-Butyl-8-(2,5-Dimethoxy-Benzyl)-2-Fluoro-9h-Purin-6-Ylamine',\n",
       "        '8-(2,5-Dimethoxy-Benzyl)-2-Fluoro-9h-Purin-6-Ylamine',\n",
       "        '8-(2-Chloro-3,4,5-Trimethoxy-Benzyl)-9-Pent-4-Ylnyl-9h-Purin-6-Ylamine',\n",
       "        '8-(2,5-Dimethoxy-Benzyl)-2-Fluoro-9-Pent-9h-Purin-6-Ylamine',\n",
       "        '9-Butyl-8-(2-Chloro-3,4,5-Trimethoxy-Benzyl)-9h-Purin-6-Ylamine',\n",
       "        '9-Butyl-8-(2,5-Dimethoxy-Benzyl)-9h-Purin-6-Ylamine',\n",
       "        '8-Benzo[1,3]Dioxol-,5-Ylmethyl-9-Butyl-2-Fluoro-9h-Purin-6-Ylamine',\n",
       "        '9-Butyl-8-(3-Methoxybenzyl)-9h-Purin-6-Amine',\n",
       "        '8-(2-Chloro-3,4,5-Trimethoxy-Benzyl)-2-Fluoro-9-Pent-4-Ylnyl-9h-Purin-6-Ylamine',\n",
       "        'RAF-265',\n",
       "        '4-CHLORO-6-(4-{4-[4-(METHYLSULFONYL)BENZYL]PIPERAZIN-1-YL}-1H-PYRAZOL-5-YL)BENZENE-1,3-DIOL',\n",
       "        '5-(5-CHLORO-2,4-DIHYDROXYPHENYL)-N-ETHYL-4-PIPERAZIN-1-YL-1H-PYRAZOLE-3-CARBOXAMIDE',\n",
       "        '4-CHLORO-6-(4-PIPERAZIN-1-YL-1H-PYRAZOL-5-YL)BENZENE-1,3-DIOL',\n",
       "        'Geldanamycin',\n",
       "        '9-HYDROXY-4-PHENYL-6H-PYRROLO[3,4-C]CARBAZOLE-1,3-DIONE',\n",
       "        'X1BF92PW9T', 'Nilotinib', 'Ponatinib', 'Mocetinostat',\n",
       "        'Dactolisib', 'AZD-3759', 'Tandutinib', 'Indigo',\n",
       "        '5-Bromoindirubin', 'Dinaciclib', 'Vandetanib', 'Cabozantinib',\n",
       "        '4-[3-Hydroxyanilino]-6,7-Dimethoxyquinazoline',\n",
       "        '(2R)-2-({9-(1-methylethyl)-6-[(4-pyridin-2-ylbenzyl)amino]-9H-purin-2-yl}amino)butan-1-ol',\n",
       "        '3X2S926L3Z',\n",
       "        '4-[(4-METHYL-1-PIPERAZINYL)METHYL]-N-[3-[[4-(3-PYRIDINYL)-2-PYRIMIDINYL]AMINO]PHENYL]-BENZAMIDE',\n",
       "        'PF-06459988', 'Canertinib', 'Rociletinib', 'Nazartinib',\n",
       "        'Naquotinib', 'Olmutinib', 'Zoledronic acid', 'Sunitinib',\n",
       "        'Fimepinostat', 'Panobinostat', 'IPI-549', 'CYC-065', 'Voruciclib',\n",
       "        'Quisinostat', 'LAS-191954',\n",
       "        '2-tert-butyl-9-fluoro-1,6-dihydrobenzo[h]imidazo[4,5-f]isoquinolin-7-one',\n",
       "        'Radicicol', 'Betadex', 'YZI5105V0L', 'PI-103', 'AZD-8055',\n",
       "        'Vemurafenib', 'Scriptaid', 'Bimiralisib', 'Vistusertib',\n",
       "        'Omipalisib', 'Ribociclib', 'Ricolinostat', 'RG-2833',\n",
       "        'Resveratrol', 'Pterostilbene', 'IPI-493',\n",
       "        'VEGFR 2 Kinase inhibitor I', 'Trichostatin A', 'FN-1501',\n",
       "        'BMS-754807', 'ZSTK-474', 'Pemetrexed', 'YL5FZ2Y5U1',\n",
       "        'Tazemetostat', 'Romidepsin', 'Bafetinib', 'Buparlisib',\n",
       "        'Crizotinib', 'Onalespib', 'SNX-2112', 'Lapatinib', 'Lorlatinib',\n",
       "        'Idelalisib', 'Duvelisib', 'Curcumin', 'Entinostat',\n",
       "        'Alvespimycin', 'Tanshinone I', 'Cryptotanshinone', 'CI-1040',\n",
       "        'Bakuchiol', 'Latrunculin A', 'Topotecan', 'Emetine', 'Zelavespib',\n",
       "        '2-(1H-pyrrol-1-ylcarbonyl)benzene-1,3,5-triol',\n",
       "        '4-{[(2R)-2-(2-methylphenyl)pyrrolidin-1-yl]carbonyl}benzene-1,3-diol',\n",
       "        'Doxorubicin', 'Etamivan', 'Phenethyl Isothiocyanate',\n",
       "        'Dacomitinib', 'CAN-508', 'LGH-447', 'Alectinib', 'Ceritinib',\n",
       "        'N-(4-(1-cyclopropyl-4-fluoro-2-methyl-1H-benzo(d)imidazol-6-yl)-5-fluoropyrimidin-2-yl)-6-(2-(dimethylamino)ethyl)-5,6,7,8-tetrahydro-l,6-naphthyridin-2-amine',\n",
       "        'SU9516', '4-[(6-Amino-4-Pyrimidinyl)Amino]Benzenesulfonamide',\n",
       "        'LFR1253W75', 'Simurosertib', 'Umbralisib', 'Dezapelisib',\n",
       "        'Tucidinostat', 'Zotiraciclib', 'Berzosertib', 'Copanlisib',\n",
       "        'Tirbanibulin', 'Deucravacitinib', 'Repotrectinib', '1X70OSD4VX',\n",
       "        'AZD-7648', 'Flumatinib', 'PF-06700841', 'Benzhydroxamic Acid',\n",
       "        'Gilteritinib', 'Ganetespib', 'GSK-2636771', 'AZD-8186', 'BIIB021',\n",
       "        'Novobiocin', 'BMS-911543', 'Upadacitinib', 'Brigatinib',\n",
       "        '(3E)-3-[(phenylamino)methylidene]dihydrofuran-2(3H)-one',\n",
       "        'Ropsacitinib',\n",
       "        '{[(2,6-difluorophenyl)carbonyl]amino}-N-(4-fluorophenyl)-1H-pyrazole-3-carboxamide',\n",
       "        'VS-5584', 'Pracinostat', 'Roniciclib', 'Enitociclib',\n",
       "        'Tacedinaline', 'Selumetinib', 'Alpelisib', 'Givinostat',\n",
       "        'Abexinostat', 'AUM-302', 'Radotinib', 'Vodobatinib',\n",
       "        'Ifidancitinib', 'Asciminib', 'Miransertib',\n",
       "        'Indirubin-5-sulphonate', 'Fedratinib', 'Gusacitinib',\n",
       "        \"Indirubin-3'-monoxime\", 'Agerafenib', 'Filgotinib'], dtype=object))"
      ]
     },
     "execution_count": 204,
     "metadata": {},
     "output_type": "execute_result"
    }
   ],
   "source": [
    "cancer_proteins = df[df['swissprot_protein_id'].isin(cosmic_proteins['Uniprot'])]\n",
    "\n",
    "ligands_related_to_cancer_proteins = cancer_proteins['name_x'].unique()\n",
    "len(ligands_related_to_cancer_proteins), ligands_related_to_cancer_proteins"
   ]
  },
  {
   "cell_type": "code",
   "execution_count": 205,
   "metadata": {},
   "outputs": [
    {
     "data": {
      "text/html": [
       "<div>\n",
       "<style scoped>\n",
       "    .dataframe tbody tr th:only-of-type {\n",
       "        vertical-align: middle;\n",
       "    }\n",
       "\n",
       "    .dataframe tbody tr th {\n",
       "        vertical-align: top;\n",
       "    }\n",
       "\n",
       "    .dataframe thead th {\n",
       "        text-align: right;\n",
       "    }\n",
       "</style>\n",
       "<table border=\"1\" class=\"dataframe\">\n",
       "  <thead>\n",
       "    <tr style=\"text-align: right;\">\n",
       "      <th></th>\n",
       "      <th>name_x</th>\n",
       "      <th>class_superclass</th>\n",
       "      <th>toxicity</th>\n",
       "      <th>patent_approved</th>\n",
       "    </tr>\n",
       "  </thead>\n",
       "  <tbody>\n",
       "    <tr>\n",
       "      <th>10208</th>\n",
       "      <td>G9ZF61LE7G</td>\n",
       "      <td>6-acetyl-8-cyclopentyl-5-methyl-2-{[5-(piperaz...</td>\n",
       "      <td>Organic compounds</td>\n",
       "      <td>DB06643|DB00008|DB00011|DB00018|DB00022|DB0003...</td>\n",
       "    </tr>\n",
       "    <tr>\n",
       "      <th>10884</th>\n",
       "      <td>WS821Z52LQ</td>\n",
       "      <td>6-phenylpteridine-2,4,7-triamine|Teridin|Triam...</td>\n",
       "      <td>Organic compounds</td>\n",
       "      <td>DB00476|DB01235|DB00734|DB01609|DB00022|DB0109...</td>\n",
       "    </tr>\n",
       "    <tr>\n",
       "      <th>339356</th>\n",
       "      <td>G9ZF61LE7G</td>\n",
       "      <td>6-acetyl-8-cyclopentyl-5-methyl-2-{[5-(piperaz...</td>\n",
       "      <td>Organic compounds</td>\n",
       "      <td>DB06643|DB00008|DB00011|DB00018|DB00022|DB0003...</td>\n",
       "    </tr>\n",
       "    <tr>\n",
       "      <th>339357</th>\n",
       "      <td>G9ZF61LE7G</td>\n",
       "      <td>6-acetyl-8-cyclopentyl-5-methyl-2-{[5-(piperaz...</td>\n",
       "      <td>Organic compounds</td>\n",
       "      <td>DB06643|DB00008|DB00011|DB00018|DB00022|DB0003...</td>\n",
       "    </tr>\n",
       "    <tr>\n",
       "      <th>435539</th>\n",
       "      <td>G9ZF61LE7G</td>\n",
       "      <td>6-acetyl-8-cyclopentyl-5-methyl-2-{[5-(piperaz...</td>\n",
       "      <td>Organic compounds</td>\n",
       "      <td>DB06643|DB00008|DB00011|DB00018|DB00022|DB0003...</td>\n",
       "    </tr>\n",
       "    <tr>\n",
       "      <th>...</th>\n",
       "      <td>...</td>\n",
       "      <td>...</td>\n",
       "      <td>...</td>\n",
       "      <td>...</td>\n",
       "    </tr>\n",
       "    <tr>\n",
       "      <th>2894015</th>\n",
       "      <td>3X2S926L3Z</td>\n",
       "      <td>TSA</td>\n",
       "      <td>Organic compounds</td>\n",
       "      <td>DB00012|DB00016|DB08894|DB09107|DB00281|DB0029...</td>\n",
       "    </tr>\n",
       "    <tr>\n",
       "      <th>2899183</th>\n",
       "      <td>Abemaciclib</td>\n",
       "      <td>Organoheterocyclic compounds</td>\n",
       "      <td>According to the bacterial reverse mutation (A...</td>\n",
       "      <td>2010-12-21</td>\n",
       "    </tr>\n",
       "    <tr>\n",
       "      <th>2901554</th>\n",
       "      <td>Dasatinib</td>\n",
       "      <td>Benzenoids</td>\n",
       "      <td>Overdose cases with dasatinib occurred in isol...</td>\n",
       "      <td>2009-08-25|2003-07-22|2006-10-24|2006-12-26|20...</td>\n",
       "    </tr>\n",
       "    <tr>\n",
       "      <th>2903139</th>\n",
       "      <td>G9ZF61LE7G</td>\n",
       "      <td>6-acetyl-8-cyclopentyl-5-methyl-2-{[5-(piperaz...</td>\n",
       "      <td>Organic compounds</td>\n",
       "      <td>DB06643|DB00008|DB00011|DB00018|DB00022|DB0003...</td>\n",
       "    </tr>\n",
       "    <tr>\n",
       "      <th>2903153</th>\n",
       "      <td>G9ZF61LE7G</td>\n",
       "      <td>6-acetyl-8-cyclopentyl-5-methyl-2-{[5-(piperaz...</td>\n",
       "      <td>Organic compounds</td>\n",
       "      <td>DB06643|DB00008|DB00011|DB00018|DB00022|DB0003...</td>\n",
       "    </tr>\n",
       "  </tbody>\n",
       "</table>\n",
       "<p>352 rows × 4 columns</p>\n",
       "</div>"
      ],
      "text/plain": [
       "              name_x                                   class_superclass  \\\n",
       "10208     G9ZF61LE7G  6-acetyl-8-cyclopentyl-5-methyl-2-{[5-(piperaz...   \n",
       "10884     WS821Z52LQ  6-phenylpteridine-2,4,7-triamine|Teridin|Triam...   \n",
       "339356    G9ZF61LE7G  6-acetyl-8-cyclopentyl-5-methyl-2-{[5-(piperaz...   \n",
       "339357    G9ZF61LE7G  6-acetyl-8-cyclopentyl-5-methyl-2-{[5-(piperaz...   \n",
       "435539    G9ZF61LE7G  6-acetyl-8-cyclopentyl-5-methyl-2-{[5-(piperaz...   \n",
       "...              ...                                                ...   \n",
       "2894015   3X2S926L3Z                                                TSA   \n",
       "2899183  Abemaciclib                       Organoheterocyclic compounds   \n",
       "2901554    Dasatinib                                         Benzenoids   \n",
       "2903139   G9ZF61LE7G  6-acetyl-8-cyclopentyl-5-methyl-2-{[5-(piperaz...   \n",
       "2903153   G9ZF61LE7G  6-acetyl-8-cyclopentyl-5-methyl-2-{[5-(piperaz...   \n",
       "\n",
       "                                                  toxicity  \\\n",
       "10208                                    Organic compounds   \n",
       "10884                                    Organic compounds   \n",
       "339356                                   Organic compounds   \n",
       "339357                                   Organic compounds   \n",
       "435539                                   Organic compounds   \n",
       "...                                                    ...   \n",
       "2894015                                  Organic compounds   \n",
       "2899183  According to the bacterial reverse mutation (A...   \n",
       "2901554  Overdose cases with dasatinib occurred in isol...   \n",
       "2903139                                  Organic compounds   \n",
       "2903153                                  Organic compounds   \n",
       "\n",
       "                                           patent_approved  \n",
       "10208    DB06643|DB00008|DB00011|DB00018|DB00022|DB0003...  \n",
       "10884    DB00476|DB01235|DB00734|DB01609|DB00022|DB0109...  \n",
       "339356   DB06643|DB00008|DB00011|DB00018|DB00022|DB0003...  \n",
       "339357   DB06643|DB00008|DB00011|DB00018|DB00022|DB0003...  \n",
       "435539   DB06643|DB00008|DB00011|DB00018|DB00022|DB0003...  \n",
       "...                                                    ...  \n",
       "2894015  DB00012|DB00016|DB08894|DB09107|DB00281|DB0029...  \n",
       "2899183                                         2010-12-21  \n",
       "2901554  2009-08-25|2003-07-22|2006-10-24|2006-12-26|20...  \n",
       "2903139  DB06643|DB00008|DB00011|DB00018|DB00022|DB0003...  \n",
       "2903153  DB06643|DB00008|DB00011|DB00018|DB00022|DB0003...  \n",
       "\n",
       "[352 rows x 4 columns]"
      ]
     },
     "execution_count": 205,
     "metadata": {},
     "output_type": "execute_result"
    }
   ],
   "source": [
    "cancer_proteins[cancer_proteins['name_x'].isin(ligands_related_to_cancer_proteins)][['name_x', 'class_superclass', 'toxicity', 'patent_approved']].dropna()"
   ]
  },
  {
   "cell_type": "code",
   "execution_count": 206,
   "metadata": {},
   "outputs": [],
   "source": [
    "# Keep only possible drugs\n",
    "ligands_cancer = df[df['name_x'].isin(ligands_related_to_cancer_proteins)].dropna(subset='class_superclass')"
   ]
  },
  {
   "cell_type": "code",
   "execution_count": 207,
   "metadata": {},
   "outputs": [
    {
     "data": {
      "text/plain": [
       "35077"
      ]
     },
     "execution_count": 207,
     "metadata": {},
     "output_type": "execute_result"
    }
   ],
   "source": [
    "len(ligands_cancer)"
   ]
  },
  {
   "cell_type": "code",
   "execution_count": 208,
   "metadata": {},
   "outputs": [
    {
     "data": {
      "text/plain": [
       "(104,\n",
       " array([<NA>, 'P15206', 'P20248', 'P14635', 'P24864', 'P24385', 'Q00534',\n",
       "        'Q01043', 'Q00535', 'P50613', 'P50750', 'P24941', 'P42336',\n",
       "        'P0A0K8', 'P0AES6', 'P20083', 'P42338', 'O00329', 'Q8WYR1',\n",
       "        'Q9Y478', 'P28222', 'Q9BY41', 'P04637', 'P08581', 'Q9UM73',\n",
       "        'P07949', 'Q92769', 'Q9UDY8', 'O15379', 'P08238', 'P30281',\n",
       "        'O75874', 'P30279', 'P08700', 'P36507', 'Q9NYV4', 'P22694',\n",
       "        'P05771', 'P27361', 'P05696', 'Q9UQM7', 'P16234', 'P07900',\n",
       "        'Q9Y618', 'P23458', 'P52333', 'O60674', 'P06748', 'P11274',\n",
       "        'P42684', 'Q15759', 'P31751', 'P26618', 'P49840', 'P49674',\n",
       "        'P00533', 'P51787', 'P0C1U9', 'P62942', 'Q08493', 'P21802',\n",
       "        'P33176', 'O62664', 'Q16204', 'Q02880', 'Q13370', 'P20288',\n",
       "        'P19020', 'Q9NY46', 'P08482', 'P43140', 'P08909', 'P28564',\n",
       "        'P22086', 'P35355', 'P63000', 'P04049', 'P31939', 'Q15022',\n",
       "        'P06493', 'O75376', 'O75909', 'Q9P2K3', 'Q9HC35', 'Q09472',\n",
       "        'P48736', 'P35968', 'Q92731', 'Q99814', 'P07478', 'Q13698',\n",
       "        'Q8ND76', 'O00311', 'O60583', 'Q00526', 'P78396', 'P52332',\n",
       "        'P41212', 'P56560', 'P04233', 'P08922', 'Q15750', 'P53671',\n",
       "        'P49116'], dtype=object))"
      ]
     },
     "execution_count": 208,
     "metadata": {},
     "output_type": "execute_result"
    }
   ],
   "source": [
    "proteins_related_to_cancer_drugs = ligands_cancer['swissprot_protein_id'].unique()\n",
    "len(proteins_related_to_cancer_drugs), proteins_related_to_cancer_drugs"
   ]
  },
  {
   "cell_type": "code",
   "execution_count": 209,
   "metadata": {},
   "outputs": [],
   "source": [
    "df_proteins_related_to_cancer_drugs = df[df['swissprot_protein_id'].isin(proteins_related_to_cancer_drugs)]"
   ]
  },
  {
   "cell_type": "code",
   "execution_count": 210,
   "metadata": {},
   "outputs": [
    {
     "data": {
      "text/plain": [
       "6016"
      ]
     },
     "execution_count": 210,
     "metadata": {},
     "output_type": "execute_result"
    }
   ],
   "source": [
    "secondary_effect_prots = set(df_proteins_related_to_cancer_drugs['target_name'].values) - set(cancer_proteins['target_name'].values)\n",
    "len(secondary_effect_prots)"
   ]
  },
  {
   "cell_type": "code",
   "execution_count": 211,
   "metadata": {},
   "outputs": [
    {
     "data": {
      "text/plain": [
       "(2780623, 67054, 2817554)"
      ]
     },
     "execution_count": 211,
     "metadata": {},
     "output_type": "execute_result"
    }
   ],
   "source": [
    "df_secondary_effect_prots = df[df['target_name'].isin(secondary_effect_prots)]\n",
    "df_cancer_prots = df[df['target_name'].isin(cancer_proteins['target_name'])]\n",
    "df_ligands_cancer = df[df['name_x'].isin(ligands_related_to_cancer_proteins)]\n",
    "\n",
    "len(df_secondary_effect_prots), len(df_cancer_prots), len(df_ligands_cancer)"
   ]
  },
  {
   "cell_type": "code",
   "execution_count": 212,
   "metadata": {},
   "outputs": [
    {
     "data": {
      "text/plain": [
       "(6016, 142, 240)"
      ]
     },
     "execution_count": 212,
     "metadata": {},
     "output_type": "execute_result"
    }
   ],
   "source": [
    "len(df_secondary_effect_prots['target_name'].unique()), len(df_cancer_prots['target_name'].unique()), len(df_ligands_cancer['name_x'].unique())"
   ]
  }
 ],
 "metadata": {
  "kernelspec": {
   "display_name": "epfl",
   "language": "python",
   "name": "python3"
  },
  "language_info": {
   "codemirror_mode": {
    "name": "ipython",
    "version": 3
   },
   "file_extension": ".py",
   "mimetype": "text/x-python",
   "name": "python",
   "nbconvert_exporter": "python",
   "pygments_lexer": "ipython3",
   "version": "3.11.10"
  }
 },
 "nbformat": 4,
 "nbformat_minor": 2
}
