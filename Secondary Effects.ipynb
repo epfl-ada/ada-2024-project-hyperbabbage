{
 "cells": [
  {
   "cell_type": "code",
   "execution_count": null,
   "metadata": {},
   "outputs": [],
   "source": [
    "import pandas as pd\n",
    "import numpy as np\n",
    "import matplotlib.pyplot as plt\n",
    "\n",
    "from src.data_paths import *"
   ]
  },
  {
   "cell_type": "code",
   "execution_count": null,
   "metadata": {},
   "outputs": [],
   "source": [
    "df = pd.read_pickle(MERGED)\n",
    "cosmic_proteins = pd.read_csv(COSMIC_PROTEINS, sep='\\t')"
   ]
  },
  {
   "cell_type": "code",
   "execution_count": null,
   "metadata": {},
   "outputs": [],
   "source": [
    "cosmic_proteins.head(1)"
   ]
  },
  {
   "cell_type": "code",
   "execution_count": null,
   "metadata": {},
   "outputs": [],
   "source": [
    "most_studied_proteins = ['Cytochrome P450 3A4', 'Epidermal growth factor receptor', 'Proto-oncogene tyrosine-protein kinase Src', 'Vascular endothelial growth factor receptor 2', 'Adenosine receptor A2a', 'Cytochrome P450 2C9', 'Cytochrome P450 1A2', 'Cytochrome P450 2C19', 'Cytochrome P450 2D6', 'Prostaglandin G/H synthase 1', 'Prostaglandin G/H synthase 2']"
   ]
  },
  {
   "cell_type": "markdown",
   "metadata": {},
   "source": [
    "### Check if synonyms could be used"
   ]
  },
  {
   "cell_type": "code",
   "execution_count": null,
   "metadata": {},
   "outputs": [],
   "source": [
    "arr = cosmic_proteins['Gene synonym'].apply(lambda x: np.array([y.strip() for y in str(x).split(',')]))\n",
    "all_elems = np.concatenate(arr) \n",
    "\n",
    "# Check isin for each element in the array (careful of double lists)\n",
    "df['target_name'].isin(all_elems).sum(), df['drugbank_protein_name'].isin(all_elems).sum()"
   ]
  },
  {
   "cell_type": "code",
   "execution_count": null,
   "metadata": {},
   "outputs": [],
   "source": [
    "cosmic_proteins['Uniprot']"
   ]
  },
  {
   "cell_type": "code",
   "execution_count": null,
   "metadata": {},
   "outputs": [],
   "source": [
    "# Matching by drugbank_protein_name\n",
    "nb_bind_in_cosmic_bn = df['drugbank_protein_name'].isin(cosmic_proteins['Gene']).sum()\n",
    "nb_cosmic_in_bind_bn = cosmic_proteins['Gene'].isin(df['drugbank_protein_name']).sum()\n",
    "nb_bind_in_cosmic_by_targetname_bn = df['target_name'].isin(cosmic_proteins['Gene']).sum()\n",
    "\n",
    "# Matching by uniprot\n",
    "nb_bind_in_cosmic_bu = df['swissprot_protein_id'].dropna().isin(cosmic_proteins['Uniprot']).sum()\n",
    "nb_cosmic_in_bind_bu = cosmic_proteins['Uniprot'].isin(df['swissprot_protein_id'].dropna()).sum()\n",
    "\n",
    "print(f\"Number of bind proteins in cosmic by drugbank_protein_name: {nb_bind_in_cosmic_bn}\")\n",
    "print(f\"Number of cosmic proteins in bind by drugbank_protein_name: {nb_cosmic_in_bind_bn}\")\n",
    "print()\n",
    "print(f\"Number of bind proteins in cosmic by target_name: {nb_bind_in_cosmic_by_targetname_bn}\")\n",
    "print()\n",
    "print(f\"Number of bind proteins in cosmic by uniprot: {nb_bind_in_cosmic_bu}\")\n",
    "print(f\"Number of cosmic proteins in bind by uniprot: {nb_cosmic_in_bind_bu}\")"
   ]
  },
  {
   "cell_type": "markdown",
   "metadata": {},
   "source": [
    "### Cancer related proteins"
   ]
  },
  {
   "cell_type": "code",
   "execution_count": null,
   "metadata": {},
   "outputs": [],
   "source": [
    "# cosmic in most studied proteins\n",
    "cosmic_proteins['Gene'].isin(most_studied_proteins).sum()"
   ]
  },
  {
   "cell_type": "code",
   "execution_count": null,
   "metadata": {},
   "outputs": [],
   "source": [
    "bind_cancer_proteins_by_name = df[df['drugbank_protein_name'].isin(cosmic_proteins['Gene'])]\n",
    "bind_cancer_proteins_by_uniprot = df[df['swissprot_protein_id'].isin(cosmic_proteins['Uniprot'])]\n",
    "\n",
    "# Add most studied proteins\n",
    "bind_cancer_proteins_by_name = pd.concat([bind_cancer_proteins_by_name, df[df['target_name'].isin(most_studied_proteins)]])\n",
    "\n",
    "bcpbn_set = set(bind_cancer_proteins_by_name['target_name'])\n",
    "bcpbu_set = set(bind_cancer_proteins_by_uniprot['target_name'])\n",
    "\n",
    "print(f\"Number of cancer proteins in bind by drugbank_protein_name: {len(bcpbn_set)}\")\n",
    "print(f\"Number of cancer proteins in bind by uniprot: {len(bcpbu_set)}\")\n",
    "print(f\"Difference between the two sets:\")\n",
    "print(f\"  - {len(bcpbn_set - bcpbu_set)} proteins in drugbank_protein_name but not in uniprot\")\n",
    "print(f\"  - {len(bcpbu_set - bcpbn_set)} proteins in uniprot but not in drugbank_protein_name\")"
   ]
  },
  {
   "cell_type": "code",
   "execution_count": null,
   "metadata": {},
   "outputs": [],
   "source": [
    "cancer_proteins_namey_not_uniprot = df[df['target_name'].isin(bcpbn_set - bcpbu_set)]\n",
    "cancer_proteins_namey_not_uniprot[['drugbank_protein_name', 'target_name', 'swissprot_protein_id']]"
   ]
  },
  {
   "cell_type": "code",
   "execution_count": null,
   "metadata": {},
   "outputs": [],
   "source": [
    "cosmic_proteins[cosmic_proteins['Gene'] == 'EGFR'][['Gene', 'Gene synonym', 'Uniprot']]"
   ]
  },
  {
   "cell_type": "code",
   "execution_count": null,
   "metadata": {},
   "outputs": [],
   "source": [
    "# Combine the two sets (even though Uniprot is not the same)\n",
    "cancer_related_proteins = pd.concat([bind_cancer_proteins_by_name, bind_cancer_proteins_by_uniprot]).drop_duplicates()\n",
    "cancer_related_proteins_df = df[df['target_name'].isin(cancer_related_proteins['target_name'])]\n",
    "\n",
    "print(f\"Number of pairs of cancer proteins with their ligand in bind: {len(cancer_related_proteins_df)}\")\n",
    "print(f\"Number of unique cancer proteins: {len(cancer_related_proteins['target_name'].unique())}\")\n",
    "print(f\"  - {len(bind_cancer_proteins_by_name['target_name'].unique())} by drugbank_protein_name\")\n",
    "print(f\"  - {len(bind_cancer_proteins_by_uniprot['target_name'].unique())} by uniprot\")"
   ]
  },
  {
   "cell_type": "markdown",
   "metadata": {},
   "source": [
    "### Ligands related to these proteins"
   ]
  },
  {
   "cell_type": "code",
   "execution_count": null,
   "metadata": {},
   "outputs": [],
   "source": [
    "ligands_related_to_cancer_proteins = cancer_related_proteins_df.dropna(subset=['ligand_name'])\n",
    "\n",
    "print(f\"Number of pairs of ligands related to cancer proteins (keep only the ones for which we have a name): {len(ligands_related_to_cancer_proteins)}\")\n",
    "print(f\"Number of unique ligands related to cancer proteins: {len(set(ligands_related_to_cancer_proteins['ligand_name']))}\")\n",
    "print(f\"Number of cancer proteins that matched to a ligand: {len(set(ligands_related_to_cancer_proteins['target_name']))} out of {len(cancer_related_proteins['target_name'].unique())}\")"
   ]
  },
  {
   "cell_type": "code",
   "execution_count": null,
   "metadata": {},
   "outputs": [],
   "source": [
    "# Keep only the ligands that are in DrugBank \n",
    "drugs_related_to_cancer_proteins = ligands_related_to_cancer_proteins.dropna(subset='drugbank_drug_class_superclass')\n",
    "\n",
    "print(f\"Number of pairs of drugs related to cancer proteins: {len(drugs_related_to_cancer_proteins)}\")\n",
    "print(f\"Number of unique drugs related to cancer proteins: {len(drugs_related_to_cancer_proteins['drugbank_drug_name'].unique())}\")\n",
    "print(f\"Number of cancer proteins that matched to a drug: {len(set(drugs_related_to_cancer_proteins['target_name']))} out of {len(cancer_related_proteins['target_name'].unique())}\")"
   ]
  },
  {
   "cell_type": "markdown",
   "metadata": {},
   "source": [
    "### All proteins related to these ligands"
   ]
  },
  {
   "cell_type": "code",
   "execution_count": null,
   "metadata": {},
   "outputs": [],
   "source": [
    "all_prots_related_to_cancer_ligands = df[df['ligand_name'].isin(ligands_related_to_cancer_proteins['ligand_name'].unique())]\n",
    "all_prots_related_to_cancer_drugs = df[df['drugbank_drug_name'].isin(drugs_related_to_cancer_proteins['drugbank_drug_name'].unique())]\n",
    "\n",
    "print(f\"Number of unique proteins related to cancer ligands: {len(all_prots_related_to_cancer_ligands['target_name'].unique())}\")\n",
    "print(f\"Number of unique proteins related to cancer drugs: {len(all_prots_related_to_cancer_drugs['target_name'].unique())}\")"
   ]
  },
  {
   "cell_type": "markdown",
   "metadata": {},
   "source": [
    "### Differentiate between secondary effects and drugs"
   ]
  },
  {
   "cell_type": "code",
   "execution_count": null,
   "metadata": {},
   "outputs": [],
   "source": [
    "direct_prots_related_target_names = cancer_related_proteins['target_name'].unique()\n",
    "\n",
    "direct_effect_prots = all_prots_related_to_cancer_drugs[all_prots_related_to_cancer_drugs['target_name'].isin(direct_prots_related_target_names)]\n",
    "secondary_effect_prots = all_prots_related_to_cancer_drugs[~all_prots_related_to_cancer_drugs['target_name'].isin(direct_prots_related_target_names)]\n",
    "\n",
    "ligands_direct_effect_prots = all_prots_related_to_cancer_ligands[all_prots_related_to_cancer_ligands['target_name'].isin(direct_prots_related_target_names)]\n",
    "ligands_secondary_effect_prots = all_prots_related_to_cancer_ligands[~all_prots_related_to_cancer_ligands['target_name'].isin(direct_prots_related_target_names)]\n",
    "\n",
    "print(f\"Number of proteins directly targeted by drugs: {len(direct_effect_prots['target_name'].unique())}\")\n",
    "print(f\"Number of proteins representing secondary effect of drugs: {len(secondary_effect_prots['target_name'].unique())}\")\n",
    "print()\n",
    "print(f\"Number of proteins directly targeted by ligands: {len(ligands_direct_effect_prots['target_name'].unique())}\")\n",
    "print(f\"Number of proteins representing secondary effect of ligands: {len(ligands_secondary_effect_prots['target_name'].unique())}\")"
   ]
  },
  {
   "cell_type": "markdown",
   "metadata": {},
   "source": [
    "Note that cancer related proteins has 146 distinct prots, but as we keep only the ones that are linked to a ligand in bindingdb, we end up using only 66 (61 for drugs) out of those 146 prots. So in the end, the difference between number of proteins directly targeted by ligands and the number of proteins that are related to cancer is only because of this:\n",
    "```\tpython\n",
    "    ligands_related_to_cancer_proteins = cancer_related_proteins_df.dropna(subset=['drugbank_drug_name'])\n",
    "```\n",
    "In summary, \n",
    "- we have 146 cancer prots\n",
    "- they link to 405 ligands (ligands related to cancer prots), which themselves only link to 66 of the cancer prots (61 for drugs)\n",
    "- these 405 ligands link to all prots which around 1651 prots\n",
    "- out of all these prots, as we've seen 66 are cancer related (61 for drugs), and 1504 are likely proteins on which the drug has secondary effects\n",
    "\n",
    "The difference between the 146 cancer prots and the 66 cancer prots is really because only a subset of the cancer prots can be used for our analysis. And this subset, as explained above, is given by the dropna on drugbank_drug_name which is the name of the ligand."
   ]
  },
  {
   "cell_type": "code",
   "execution_count": null,
   "metadata": {},
   "outputs": [],
   "source": [
    "ligands_related_to_cancer_proteins"
   ]
  },
  {
   "cell_type": "code",
   "execution_count": null,
   "metadata": {},
   "outputs": [],
   "source": [
    "ligands_related_to_cancer_proteins.to_pickle(\"data/ligands_related_to_cancer_proteins.pkl\")"
   ]
  },
  {
   "cell_type": "code",
   "execution_count": null,
   "metadata": {},
   "outputs": [],
   "source": []
  },
  {
   "cell_type": "code",
   "execution_count": null,
   "metadata": {},
   "outputs": [],
   "source": [
    "direct_effect_prots['drugbank_drug_name'].isin(all_prots_related_to_cancer_drugs['drugbank_drug_name']).sum()"
   ]
  },
  {
   "cell_type": "code",
   "execution_count": null,
   "metadata": {},
   "outputs": [],
   "source": [
    "\n",
    "# Create a list of nodes\n",
    "nodes = []\n",
    "node_id_map = {}  # To map node names to unique ids\n",
    "categories = [{'name': 'Possible Cancer Drug'}, {'name': 'Cancer Protein'}, {'name': 'Secondary Effect Protein'}]\n",
    "\n",
    "# Process ligand nodes\n",
    "ligand_nodes = all_prots_related_to_cancer_drugs['drugbank_drug_name'].dropna().unique()\n",
    "for idx, ligand in enumerate(ligand_nodes):\n",
    "    ligand = str(ligand)\n",
    "    node_id_map[ligand] = idx\n",
    "    node = {\n",
    "        'id': str(idx),\n",
    "        'Label': ligand,\n",
    "        'category': 0,  # Index of 'ligand' in categories\n",
    "        'value': 1  # You can set this to degree or other measure\n",
    "    }\n",
    "    nodes.append(node)\n",
    "\n",
    "# Process protein nodes\n",
    "cancer_protein_nodes = direct_effect_prots['target_name'].unique()\n",
    "for idx, protein in enumerate(cancer_protein_nodes, start=len(node_id_map)):\n",
    "    node_id_map[protein] = idx\n",
    "    node = {\n",
    "        'id': str(idx),\n",
    "        'Label': protein,\n",
    "        'category': 1,  # Index of 'protein' in categories\n",
    "        'value': 1  # You can set this to degree or other measure\n",
    "    }\n",
    "    nodes.append(node)\n",
    "\n",
    "secondary_protein_nodes = secondary_effect_prots['target_name'].unique()\n",
    "for idx, protein in enumerate(secondary_protein_nodes, start=len(node_id_map)):\n",
    "    node_id_map[protein] = idx\n",
    "    node = {\n",
    "        'id': str(idx),\n",
    "        'Label': protein,\n",
    "        'category': 2,  # Index of 'protein' in categories\n",
    "        'value': 1  # You can set this to degree or other measure\n",
    "    }\n",
    "    nodes.append(node)\n"
   ]
  },
  {
   "cell_type": "code",
   "execution_count": null,
   "metadata": {},
   "outputs": [],
   "source": [
    "# Create a list of edges\n",
    "edges = []\n",
    "for _, row in direct_effect_prots.iterrows():\n",
    "    source_id = node_id_map[row['drugbank_drug_name']]\n",
    "    target_id = node_id_map[row['target_name']]\n",
    "    strength = row['ec50'] if pd.isna(row['ic50']) else row['ic50']  # Use ec50 if ic50 is NaN\n",
    "    \n",
    "    if pd.isna(strength) or strength < 1e-8 or np.log(strength) < 1e-5:\n",
    "        continue\n",
    "\n",
    "    edge = {\n",
    "        'source': str(source_id),\n",
    "        'target': str(target_id),\n",
    "        'Weight': np.log(strength)  # Log-transform the value to make it more visually appealing\n",
    "    }\n",
    "    edges.append(edge)\n",
    "\n",
    "for _, row in secondary_effect_prots.iterrows():\n",
    "    source_id = node_id_map[row['drugbank_drug_name']]\n",
    "    target_id = node_id_map[row['target_name']]\n",
    "    strength = row['ec50'] if pd.isna(row['ic50']) else row['ic50']  # Use ec50 if ic50 is NaN\n",
    "\n",
    "    if pd.isna(strength) or strength < 1e-8 or np.log(strength) < 1e-5:\n",
    "        continue\n",
    "\n",
    "    edge = {\n",
    "        'source': str(source_id),\n",
    "        'target': str(target_id),\n",
    "        'Weight': np.log(strength)\n",
    "    }\n",
    "    edges.append(edge)\n",
    "\n",
    "# Create the graph data\n",
    "graph_data = {\n",
    "    'nodes': nodes,\n",
    "    'links': edges,\n",
    "    'categories': categories\n",
    "}"
   ]
  },
  {
   "cell_type": "code",
   "execution_count": null,
   "metadata": {},
   "outputs": [],
   "source": [
    "# Store as csv the nodes and the edges\n",
    "nodes_df = pd.DataFrame(nodes)\n",
    "edges_df = pd.DataFrame(edges)\n",
    "\n",
    "nodes_df.to_csv('graph_data/nodes.csv', index=False)\n",
    "edges_df.to_csv('graph_data/edges.csv', index=False)"
   ]
  },
  {
   "cell_type": "code",
   "execution_count": null,
   "metadata": {},
   "outputs": [],
   "source": [
    "from pyecharts.charts import Graph\n",
    "from pyecharts import options as opts\n",
    "\n",
    "\n",
    "graph = Graph(init_opts=opts.InitOpts(width=\"100%\", height=\"700px\"))\n",
    "graph.add(\n",
    "    \"\",\n",
    "    nodes,\n",
    "    edges,\n",
    "    categories=categories,\n",
    "    layout=\"force\",\n",
    "    edge_length=[50, 200],\n",
    "    repulsion=100,\n",
    "    linestyle_opts=opts.LineStyleOpts(width=0.5, opacity=0.5),\n",
    ")\n",
    "graph.set_series_opts(\n",
    "    label_opts=opts.LabelOpts(\n",
    "        is_show=False,  # Hide labels by default\n",
    "        position=\"right\",\n",
    "        formatter=\"{b}\",  # Use node name as the label\n",
    "        #show=False,  # Ensure labels are not rendered statically\n",
    "    )\n",
    ")\n",
    "\n",
    "graph.set_global_opts(\n",
    "    title_opts=opts.TitleOpts(title=\"Cancer Related Ligand-Protein Interaction Network\"),\n",
    ")\n",
    "\n",
    "graph.render(\"graph_data/graph.html\")\n"
   ]
  },
  {
   "cell_type": "code",
   "execution_count": null,
   "metadata": {},
   "outputs": [],
   "source": [
    "import igraph as ig\n",
    "import matplotlib.pyplot as plt\n",
    "from matplotlib.colors import ListedColormap\n",
    "\n",
    "# Extract node and edge data\n",
    "nodes = graph_data['nodes']\n",
    "edges = graph_data['links']\n",
    "categories = graph_data['categories']\n",
    "\n",
    "# Create an igraph graph\n",
    "g = ig.Graph(directed=False)  # Set directed=True if your data is directional\n",
    "g.add_vertices(len(nodes))\n",
    "\n",
    "# Add vertex attributes\n",
    "for i, node in enumerate(nodes):\n",
    "    g.vs[i]['name'] = node['name']\n",
    "    g.vs[i]['category'] = categories[node['category']]['name']\n",
    "\n",
    "# Add edges\n",
    "edge_list = [(int(e['source']), int(e['target'])) for e in edges]\n",
    "g.add_edges(edge_list)\n",
    "\n",
    "# Add edge attributes\n",
    "if 'value' in edges[0]:\n",
    "    for i, e in enumerate(edges):\n",
    "        g.es[i]['ic50'] = e['value']\n",
    "\n",
    "# Layout the graph (try 'kk', 'fr', or 'graphopt' for large graphs)\n",
    "layout = g.layout('fr')\n",
    "\n",
    "# Assign colors to categories\n",
    "category_names = [cat['name'] for cat in categories]\n",
    "# Generate distinct colors for each category - you can customize this palette\n",
    "cmap = ListedColormap([\"#1f77b4\", \"#ff7f0e\", \"#2ca02c\"])\n",
    "category_color_map = {cat: cmap(i) for i, cat in enumerate(category_names)}\n",
    "node_colors = [category_color_map[g.vs[i]['category']] for i in range(g.vcount())]\n",
    "\n",
    "# Adjust node size if needed\n",
    "node_size = 8\n",
    "\n"
   ]
  },
  {
   "cell_type": "code",
   "execution_count": null,
   "metadata": {},
   "outputs": [],
   "source": []
  },
  {
   "cell_type": "code",
   "execution_count": null,
   "metadata": {},
   "outputs": [],
   "source": [
    "\n",
    "# Scale edge width by ic50 if present\n",
    "if 'ic50' in g.es.attributes():\n",
    "    # Adjust scaling as needed\n",
    "    # For example, you could normalize values or apply a log scale if necessary\n",
    "    edge_widths = [np.log(0.5 + 2*float(val) if val is not pd.NA else 0.5) for val in g.es['ic50']]\n",
    "else:\n",
    "    edge_widths = [1]*g.ecount()\n",
    "\n",
    "# Normalize edge width\n",
    "edge_widths = np.array(edge_widths)\n",
    "edge_widths = (edge_widths - edge_widths.min()) / (edge_widths.max() - edge_widths.min())\n",
    "\n",
    "# If the graph is very large, consider not drawing labels or use a subset\n",
    "draw_labels = False  # Set to True if you want labels (may be messy in large graphs)\n",
    "vertex_labels = g.vs['name'] if draw_labels else None\n",
    "\n",
    "# Create a figure\n",
    "fig, ax = plt.subplots(figsize=(15, 10))\n",
    "\n",
    "# Plot the graph\n",
    "ig.plot(\n",
    "    g,\n",
    "    target=ax,\n",
    "    layout=layout,\n",
    "    vertex_size=node_size,\n",
    "    vertex_color=node_colors,\n",
    "    vertex_label=vertex_labels,\n",
    "    vertex_label_size=8,\n",
    "    edge_width=edge_widths,\n",
    "    edge_color=\"gray\",\n",
    "    bbox=(1000, 800),  # Control size in pixels\n",
    "    margin=50\n",
    ")\n",
    "\n",
    "# Create a legend for categories\n",
    "handles = [plt.Line2D([], [], marker='o', color=cmap(i), linestyle='None', markersize=10, label=name) \n",
    "           for i, name in enumerate(category_names)]\n",
    "ax.legend(handles=handles, title=\"Categories\", loc='best')\n",
    "\n",
    "plt.tight_layout()\n",
    "plt.show()"
   ]
  }
 ],
 "metadata": {
  "kernelspec": {
   "display_name": "epfl",
   "language": "python",
   "name": "python3"
  },
  "language_info": {
   "codemirror_mode": {
    "name": "ipython",
    "version": 3
   },
   "file_extension": ".py",
   "mimetype": "text/x-python",
   "name": "python",
   "nbconvert_exporter": "python",
   "pygments_lexer": "ipython3",
   "version": "3.11.11"
  }
 },
 "nbformat": 4,
 "nbformat_minor": 2
}
