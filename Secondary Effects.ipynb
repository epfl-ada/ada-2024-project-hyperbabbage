{
 "cells": [
  {
   "cell_type": "code",
   "execution_count": 236,
   "metadata": {},
   "outputs": [],
   "source": [
    "import pandas as pd\n",
    "import numpy as np\n",
    "import matplotlib.pyplot as plt\n",
    "\n",
    "from src.data_paths import *"
   ]
  },
  {
   "cell_type": "code",
   "execution_count": 237,
   "metadata": {},
   "outputs": [],
   "source": [
    "df = pd.read_pickle(MERGED)\n",
    "cosmic_proteins = pd.read_csv(COSMIC_PROTEINS, sep='\\t')"
   ]
  },
  {
   "cell_type": "code",
   "execution_count": 238,
   "metadata": {},
   "outputs": [
    {
     "data": {
      "text/html": [
       "<div>\n",
       "<style scoped>\n",
       "    .dataframe tbody tr th:only-of-type {\n",
       "        vertical-align: middle;\n",
       "    }\n",
       "\n",
       "    .dataframe tbody tr th {\n",
       "        vertical-align: top;\n",
       "    }\n",
       "\n",
       "    .dataframe thead th {\n",
       "        text-align: right;\n",
       "    }\n",
       "</style>\n",
       "<table border=\"1\" class=\"dataframe\">\n",
       "  <thead>\n",
       "    <tr style=\"text-align: right;\">\n",
       "      <th></th>\n",
       "      <th>Gene</th>\n",
       "      <th>Gene synonym</th>\n",
       "      <th>Ensembl</th>\n",
       "      <th>Gene description</th>\n",
       "      <th>Uniprot</th>\n",
       "      <th>Chromosome</th>\n",
       "      <th>Position</th>\n",
       "      <th>Protein class</th>\n",
       "      <th>Biological process</th>\n",
       "      <th>Molecular function</th>\n",
       "      <th>...</th>\n",
       "      <th>Cancer prognostics - Pancreatic Adenocarcinoma (TCGA)</th>\n",
       "      <th>Cancer prognostics - Pancreatic Adenocarcinoma (validation)</th>\n",
       "      <th>Cancer prognostics - Prostate Adenocarcinoma (TCGA)</th>\n",
       "      <th>Cancer prognostics - Rectum Adenocarcinoma (TCGA)</th>\n",
       "      <th>Cancer prognostics - Rectum Adenocarcinoma (validation)</th>\n",
       "      <th>Cancer prognostics - Skin Cuteneous Melanoma (TCGA)</th>\n",
       "      <th>Cancer prognostics - Stomach Adenocarcinoma (TCGA)</th>\n",
       "      <th>Cancer prognostics - Testicular Germ Cell Tumor (TCGA)</th>\n",
       "      <th>Cancer prognostics - Thyroid Carcinoma (TCGA)</th>\n",
       "      <th>Cancer prognostics - Uterine Corpus Endometrial Carcinoma (TCGA)</th>\n",
       "    </tr>\n",
       "  </thead>\n",
       "  <tbody>\n",
       "    <tr>\n",
       "      <th>0</th>\n",
       "      <td>ABI1</td>\n",
       "      <td>ABI-1, E3B1, SSH3BP1</td>\n",
       "      <td>ENSG00000136754</td>\n",
       "      <td>Abl interactor 1</td>\n",
       "      <td>Q8IZP0</td>\n",
       "      <td>10</td>\n",
       "      <td>26746593-26861087</td>\n",
       "      <td>Cancer-related genes, Disease related genes, P...</td>\n",
       "      <td>Host-virus interaction</td>\n",
       "      <td>NaN</td>\n",
       "      <td>...</td>\n",
       "      <td>unprognostic (6.17e-3)</td>\n",
       "      <td>unprognostic (9.66e-2)</td>\n",
       "      <td>unprognostic (8.60e-2)</td>\n",
       "      <td>unprognostic (1.16e-1)</td>\n",
       "      <td>unprognostic (3.28e-2)</td>\n",
       "      <td>unprognostic (1.01e-1)</td>\n",
       "      <td>unprognostic (3.66e-1)</td>\n",
       "      <td>unprognostic (1.72e-1)</td>\n",
       "      <td>unprognostic (1.03e-1)</td>\n",
       "      <td>unprognostic (1.72e-1)</td>\n",
       "    </tr>\n",
       "  </tbody>\n",
       "</table>\n",
       "<p>1 rows × 107 columns</p>\n",
       "</div>"
      ],
      "text/plain": [
       "   Gene          Gene synonym          Ensembl  Gene description Uniprot  \\\n",
       "0  ABI1  ABI-1, E3B1, SSH3BP1  ENSG00000136754  Abl interactor 1  Q8IZP0   \n",
       "\n",
       "  Chromosome           Position  \\\n",
       "0         10  26746593-26861087   \n",
       "\n",
       "                                       Protein class      Biological process  \\\n",
       "0  Cancer-related genes, Disease related genes, P...  Host-virus interaction   \n",
       "\n",
       "  Molecular function  ...  \\\n",
       "0                NaN  ...   \n",
       "\n",
       "  Cancer prognostics - Pancreatic Adenocarcinoma (TCGA)  \\\n",
       "0                             unprognostic (6.17e-3)      \n",
       "\n",
       "  Cancer prognostics - Pancreatic Adenocarcinoma (validation)  \\\n",
       "0                             unprognostic (9.66e-2)            \n",
       "\n",
       "  Cancer prognostics - Prostate Adenocarcinoma (TCGA)  \\\n",
       "0                             unprognostic (8.60e-2)    \n",
       "\n",
       "  Cancer prognostics - Rectum Adenocarcinoma (TCGA)  \\\n",
       "0                            unprognostic (1.16e-1)   \n",
       "\n",
       "  Cancer prognostics - Rectum Adenocarcinoma (validation)  \\\n",
       "0                             unprognostic (3.28e-2)        \n",
       "\n",
       "  Cancer prognostics - Skin Cuteneous Melanoma (TCGA)  \\\n",
       "0                             unprognostic (1.01e-1)    \n",
       "\n",
       "  Cancer prognostics - Stomach Adenocarcinoma (TCGA)  \\\n",
       "0                             unprognostic (3.66e-1)   \n",
       "\n",
       "   Cancer prognostics - Testicular Germ Cell Tumor (TCGA)  \\\n",
       "0                             unprognostic (1.72e-1)        \n",
       "\n",
       "  Cancer prognostics - Thyroid Carcinoma (TCGA)  \\\n",
       "0                        unprognostic (1.03e-1)   \n",
       "\n",
       "  Cancer prognostics - Uterine Corpus Endometrial Carcinoma (TCGA)  \n",
       "0                             unprognostic (1.72e-1)                \n",
       "\n",
       "[1 rows x 107 columns]"
      ]
     },
     "execution_count": 238,
     "metadata": {},
     "output_type": "execute_result"
    }
   ],
   "source": [
    "cosmic_proteins.head(1)"
   ]
  },
  {
   "cell_type": "markdown",
   "metadata": {},
   "source": [
    "### Check if synonyms could be used"
   ]
  },
  {
   "cell_type": "code",
   "execution_count": 239,
   "metadata": {},
   "outputs": [
    {
     "data": {
      "text/plain": [
       "(np.int64(0), np.int64(0))"
      ]
     },
     "execution_count": 239,
     "metadata": {},
     "output_type": "execute_result"
    }
   ],
   "source": [
    "arr = cosmic_proteins['Gene synonym'].apply(lambda x: np.array([y.strip() for y in str(x).split(',')]))\n",
    "all_elems = np.concatenate(arr)\n",
    "\n",
    "# Check isin for each element in the array (careful of double lists)\n",
    "df['target_name'].isin(all_elems).sum(), df['name_y'].isin(all_elems).sum()"
   ]
  },
  {
   "cell_type": "code",
   "execution_count": 240,
   "metadata": {},
   "outputs": [
    {
     "data": {
      "text/plain": [
       "0      Q8IZP0\n",
       "1      P00519\n",
       "2      P42684\n",
       "3      P25106\n",
       "4      O95573\n",
       "        ...  \n",
       "567    Q9UBW7\n",
       "568    Q9NQX6\n",
       "569    Q8TF68\n",
       "570    Q96K83\n",
       "571    Q15696\n",
       "Name: Uniprot, Length: 572, dtype: object"
      ]
     },
     "execution_count": 240,
     "metadata": {},
     "output_type": "execute_result"
    }
   ],
   "source": [
    "cosmic_proteins['Uniprot']"
   ]
  },
  {
   "cell_type": "code",
   "execution_count": 241,
   "metadata": {},
   "outputs": [
    {
     "name": "stdout",
     "output_type": "stream",
     "text": [
      "Number of bind proteins in cosmic by name_y: 20199\n",
      "Number of cosmic proteins in bind by name_y: 45\n",
      "\n",
      "Number of bind proteins in cosmic by target_name: 0\n",
      "\n",
      "Number of bind proteins in cosmic by uniprot: 32320\n",
      "Number of cosmic proteins in bind by uniprot: 75\n"
     ]
    }
   ],
   "source": [
    "# Matching by name_y\n",
    "nb_bind_in_cosmic_bn = df['name_y'].isin(cosmic_proteins['Gene']).sum()\n",
    "nb_cosmic_in_bind_bn = cosmic_proteins['Gene'].isin(df['name_y']).sum()\n",
    "nb_bind_in_cosmic_by_targetname_bn = df['target_name'].isin(cosmic_proteins['Gene']).sum()\n",
    "\n",
    "# Matching by uniprot\n",
    "nb_bind_in_cosmic_bu = df['swissprot_protein_id'].dropna().isin(cosmic_proteins['Uniprot']).sum()\n",
    "nb_cosmic_in_bind_bu = cosmic_proteins['Uniprot'].isin(df['swissprot_protein_id'].dropna()).sum()\n",
    "\n",
    "print(f\"Number of bind proteins in cosmic by name_y: {nb_bind_in_cosmic_bn}\")\n",
    "print(f\"Number of cosmic proteins in bind by name_y: {nb_cosmic_in_bind_bn}\")\n",
    "print()\n",
    "print(f\"Number of bind proteins in cosmic by target_name: {nb_bind_in_cosmic_by_targetname_bn}\")\n",
    "print()\n",
    "print(f\"Number of bind proteins in cosmic by uniprot: {nb_bind_in_cosmic_bu}\")\n",
    "print(f\"Number of cosmic proteins in bind by uniprot: {nb_cosmic_in_bind_bu}\")"
   ]
  },
  {
   "cell_type": "markdown",
   "metadata": {},
   "source": [
    "### Cancer related proteins"
   ]
  },
  {
   "cell_type": "code",
   "execution_count": 242,
   "metadata": {},
   "outputs": [
    {
     "name": "stdout",
     "output_type": "stream",
     "text": [
      "Number of cancer proteins in bind by name_y: 91\n",
      "Number of cancer proteins in bind by uniprot: 142\n",
      "Difference between the two sets:\n",
      "  - 4 proteins in name_y but not in uniprot\n",
      "  - 55 proteins in uniprot but not in name_y\n"
     ]
    }
   ],
   "source": [
    "bind_cancer_proteins_by_name = df[df['name_y'].isin(cosmic_proteins['Gene'])]\n",
    "bind_cancer_proteins_by_uniprot = df[df['swissprot_protein_id'].isin(cosmic_proteins['Uniprot'])]\n",
    "\n",
    "bcpbn_set = set(bind_cancer_proteins_by_name['target_name'])\n",
    "bcpbu_set = set(bind_cancer_proteins_by_uniprot['target_name'])\n",
    "\n",
    "print(f\"Number of cancer proteins in bind by name_y: {len(bcpbn_set)}\")\n",
    "print(f\"Number of cancer proteins in bind by uniprot: {len(bcpbu_set)}\")\n",
    "print(f\"Difference between the two sets:\")\n",
    "print(f\"  - {len(bcpbn_set - bcpbu_set)} proteins in name_y but not in uniprot\")\n",
    "print(f\"  - {len(bcpbu_set - bcpbn_set)} proteins in uniprot but not in name_y\")"
   ]
  },
  {
   "cell_type": "code",
   "execution_count": 243,
   "metadata": {},
   "outputs": [
    {
     "data": {
      "text/html": [
       "<div>\n",
       "<style scoped>\n",
       "    .dataframe tbody tr th:only-of-type {\n",
       "        vertical-align: middle;\n",
       "    }\n",
       "\n",
       "    .dataframe tbody tr th {\n",
       "        vertical-align: top;\n",
       "    }\n",
       "\n",
       "    .dataframe thead th {\n",
       "        text-align: right;\n",
       "    }\n",
       "</style>\n",
       "<table border=\"1\" class=\"dataframe\">\n",
       "  <thead>\n",
       "    <tr style=\"text-align: right;\">\n",
       "      <th></th>\n",
       "      <th>name_y</th>\n",
       "      <th>target_name</th>\n",
       "      <th>swissprot_protein_id</th>\n",
       "    </tr>\n",
       "  </thead>\n",
       "  <tbody>\n",
       "    <tr>\n",
       "      <th>64111</th>\n",
       "      <td>EGFR</td>\n",
       "      <td>Phosphatidylinositol 4,5-bisphosphate 3-kinase...</td>\n",
       "      <td>Q504U8</td>\n",
       "    </tr>\n",
       "    <tr>\n",
       "      <th>64125</th>\n",
       "      <td>EGFR</td>\n",
       "      <td>Receptor protein-tyrosine kinase/Serine/threon...</td>\n",
       "      <td>Q504U8</td>\n",
       "    </tr>\n",
       "    <tr>\n",
       "      <th>64139</th>\n",
       "      <td>EGFR</td>\n",
       "      <td>DNA-dependent protein kinase catalytic subunit...</td>\n",
       "      <td>Q504U8</td>\n",
       "    </tr>\n",
       "    <tr>\n",
       "      <th>64153</th>\n",
       "      <td>EGFR</td>\n",
       "      <td>Phosphatidylinositol 4,5-bisphosphate 3-kinase...</td>\n",
       "      <td>Q504U8</td>\n",
       "    </tr>\n",
       "  </tbody>\n",
       "</table>\n",
       "</div>"
      ],
      "text/plain": [
       "      name_y                                        target_name  \\\n",
       "64111   EGFR  Phosphatidylinositol 4,5-bisphosphate 3-kinase...   \n",
       "64125   EGFR  Receptor protein-tyrosine kinase/Serine/threon...   \n",
       "64139   EGFR  DNA-dependent protein kinase catalytic subunit...   \n",
       "64153   EGFR  Phosphatidylinositol 4,5-bisphosphate 3-kinase...   \n",
       "\n",
       "      swissprot_protein_id  \n",
       "64111               Q504U8  \n",
       "64125               Q504U8  \n",
       "64139               Q504U8  \n",
       "64153               Q504U8  "
      ]
     },
     "execution_count": 243,
     "metadata": {},
     "output_type": "execute_result"
    }
   ],
   "source": [
    "cancer_proteins_namey_not_uniprot = df[df['target_name'].isin(bcpbn_set - bcpbu_set)]\n",
    "cancer_proteins_namey_not_uniprot[['name_y', 'target_name', 'swissprot_protein_id']]"
   ]
  },
  {
   "cell_type": "code",
   "execution_count": 244,
   "metadata": {},
   "outputs": [
    {
     "data": {
      "text/html": [
       "<div>\n",
       "<style scoped>\n",
       "    .dataframe tbody tr th:only-of-type {\n",
       "        vertical-align: middle;\n",
       "    }\n",
       "\n",
       "    .dataframe tbody tr th {\n",
       "        vertical-align: top;\n",
       "    }\n",
       "\n",
       "    .dataframe thead th {\n",
       "        text-align: right;\n",
       "    }\n",
       "</style>\n",
       "<table border=\"1\" class=\"dataframe\">\n",
       "  <thead>\n",
       "    <tr style=\"text-align: right;\">\n",
       "      <th></th>\n",
       "      <th>Gene</th>\n",
       "      <th>Gene synonym</th>\n",
       "      <th>Uniprot</th>\n",
       "    </tr>\n",
       "  </thead>\n",
       "  <tbody>\n",
       "    <tr>\n",
       "      <th>141</th>\n",
       "      <td>EGFR</td>\n",
       "      <td>ERBB, ERBB1, ERRP</td>\n",
       "      <td>P00533</td>\n",
       "    </tr>\n",
       "  </tbody>\n",
       "</table>\n",
       "</div>"
      ],
      "text/plain": [
       "     Gene       Gene synonym Uniprot\n",
       "141  EGFR  ERBB, ERBB1, ERRP  P00533"
      ]
     },
     "execution_count": 244,
     "metadata": {},
     "output_type": "execute_result"
    }
   ],
   "source": [
    "cosmic_proteins[cosmic_proteins['Gene'] == 'EGFR'][['Gene', 'Gene synonym', 'Uniprot']]"
   ]
  },
  {
   "cell_type": "code",
   "execution_count": 251,
   "metadata": {},
   "outputs": [
    {
     "name": "stdout",
     "output_type": "stream",
     "text": [
      "Number of pairs of cancer proteins with their ligand in bind: 67058\n",
      "Number of unique cancer proteins: 146\n",
      "  - 91 by name_y\n",
      "  - 142 by uniprot\n"
     ]
    }
   ],
   "source": [
    "# Combine the two sets (even though Uniprot is not the same)\n",
    "cancer_related_proteins = pd.concat([bind_cancer_proteins_by_name, bind_cancer_proteins_by_uniprot]).drop_duplicates()\n",
    "cancer_related_proteins_df = df[df['target_name'].isin(cancer_related_proteins['target_name'])]\n",
    "\n",
    "print(f\"Number of pairs of cancer proteins with their ligand in bind: {len(cancer_related_proteins_df)}\")\n",
    "print(f\"Number of unique cancer proteins: {len(cancer_related_proteins['target_name'].unique())}\")\n",
    "print(f\"  - {len(bind_cancer_proteins_by_name['target_name'].unique())} by name_y\")\n",
    "print(f\"  - {len(bind_cancer_proteins_by_uniprot['target_name'].unique())} by uniprot\")"
   ]
  },
  {
   "cell_type": "markdown",
   "metadata": {},
   "source": [
    "### Ligands related to these proteins"
   ]
  },
  {
   "cell_type": "code",
   "execution_count": 263,
   "metadata": {},
   "outputs": [
    {
     "name": "stdout",
     "output_type": "stream",
     "text": [
      "Number of pairs of ligands related to cancer proteins (keep only the ones for which we have a name): 3624\n",
      "Number of unique ligands related to cancer proteins: 405\n",
      "Number of cancer proteins that matched to a ligand: 66 out of 146\n"
     ]
    }
   ],
   "source": [
    "ligands_related_to_cancer_proteins = cancer_related_proteins_df.dropna(subset=['name_x'])\n",
    "\n",
    "print(f\"Number of pairs of ligands related to cancer proteins (keep only the ones for which we have a name): {len(ligands_related_to_cancer_proteins)}\")\n",
    "print(f\"Number of unique ligands related to cancer proteins: {len(set(ligands_related_to_cancer_proteins['name_x']))}\")\n",
    "print(f\"Number of cancer proteins that matched to a ligand: {len(set(ligands_related_to_cancer_proteins['target_name']))} out of {len(cancer_related_proteins['target_name'].unique())}\")"
   ]
  },
  {
   "cell_type": "code",
   "execution_count": 264,
   "metadata": {},
   "outputs": [
    {
     "name": "stdout",
     "output_type": "stream",
     "text": [
      "Number of pairs of drugs related to cancer proteins: 3127\n",
      "Number of unique drugs related to cancer proteins: 299\n"
     ]
    }
   ],
   "source": [
    "# Keep only the ligands that are in DrugBank \n",
    "drugs_related_to_cancer_proteins = ligands_related_to_cancer_proteins.dropna(subset='class_superclass')\n",
    "\n",
    "print(f\"Number of pairs of drugs related to cancer proteins: {len(drugs_related_to_cancer_proteins)}\")\n",
    "print(f\"Number of unique drugs related to cancer proteins: {len(drugs_related_to_cancer_proteins['name_x'].unique())}\")"
   ]
  },
  {
   "cell_type": "markdown",
   "metadata": {},
   "source": [
    "### All proteins related to these ligands"
   ]
  },
  {
   "cell_type": "code",
   "execution_count": 265,
   "metadata": {},
   "outputs": [
    {
     "name": "stdout",
     "output_type": "stream",
     "text": [
      "Number of unique proteins related to cancer ligands: 1651\n",
      "Number of unique proteins related to cancer drugs: 1565\n"
     ]
    }
   ],
   "source": [
    "all_prots_related_to_cancer_ligands = df[df['name_x'].isin(ligands_related_to_cancer_proteins['name_x'].unique())]\n",
    "all_prots_related_to_cancer_drugs = df[df['name_x'].isin(drugs_related_to_cancer_proteins['name_x'].unique())]\n",
    "\n",
    "print(f\"Number of unique proteins related to cancer ligands: {len(all_prots_related_to_cancer_ligands['target_name'].unique())}\")\n",
    "print(f\"Number of unique proteins related to cancer drugs: {len(all_prots_related_to_cancer_drugs['target_name'].unique())}\")"
   ]
  },
  {
   "cell_type": "markdown",
   "metadata": {},
   "source": [
    "### Differentiate between secondary effects and drugs"
   ]
  },
  {
   "cell_type": "code",
   "execution_count": 266,
   "metadata": {},
   "outputs": [
    {
     "name": "stdout",
     "output_type": "stream",
     "text": [
      "Number of proteins directly targeted by drugs: 61\n",
      "Number of proteins representing secondary effect of drugs: 1504\n",
      "\n",
      "Number of proteins directly targeted by ligands: 66\n",
      "Number of proteins representing secondary effect of ligands: 1585\n"
     ]
    }
   ],
   "source": [
    "all_prots_related_to_ligands_target_names = all_prots_related_to_cancer_ligands['target_name']\n",
    "all_prots_related_to_drugs_target_names = all_prots_related_to_cancer_drugs['target_name']\n",
    "direct_prots_related_target_names = cancer_related_proteins['target_name'].unique()\n",
    "\n",
    "direct_effect_prots = all_prots_related_to_drugs_target_names[all_prots_related_to_drugs_target_names.isin(direct_prots_related_target_names)].unique()\n",
    "secondary_effect_prots = all_prots_related_to_drugs_target_names[~all_prots_related_to_drugs_target_names.isin(direct_prots_related_target_names)].unique()\n",
    "\n",
    "ligands_direct_effect_prots = all_prots_related_to_ligands_target_names[all_prots_related_to_ligands_target_names.isin(direct_prots_related_target_names)].unique()\n",
    "ligands_secondary_effect_prots = all_prots_related_to_ligands_target_names[~all_prots_related_to_ligands_target_names.isin(direct_prots_related_target_names)].unique()\n",
    "\n",
    "print(f\"Number of proteins directly targeted by drugs: {len(direct_effect_prots)}\")\n",
    "print(f\"Number of proteins representing secondary effect of drugs: {len(secondary_effect_prots)}\")\n",
    "print()\n",
    "print(f\"Number of proteins directly targeted by ligands: {len(ligands_direct_effect_prots)}\")\n",
    "print(f\"Number of proteins representing secondary effect of ligands: {len(ligands_secondary_effect_prots)}\")"
   ]
  },
  {
   "cell_type": "code",
   "execution_count": 267,
   "metadata": {},
   "outputs": [],
   "source": [
    "# Summary\n",
    "cancer_related_proteins_df = cancer_related_proteins_df\n",
    "\n",
    "ligand_related_to_cancer_df = ligands_related_to_cancer_proteins\n",
    "drug_related_to_cancer_df = drugs_related_to_cancer_proteins\n",
    "\n",
    "all_proteins_related_to_cancer_ligands_df = all_prots_related_to_cancer_ligands\n",
    "all_proteins_related_to_cancer_drugs_df = all_prots_related_to_cancer_drugs\n",
    "\n",
    "drugs_direct_effect_prots_df = df[df['target_name'].isin(direct_effect_prots)]\n",
    "drugs_secondary_effect_prots_df = df[df['target_name'].isin(secondary_effect_prots)]\n",
    "\n",
    "ligands_direct_effect_prots_df = df[df['target_name'].isin(ligands_direct_effect_prots)]\n",
    "ligands_secondary_effect_prots_df = df[df['target_name'].isin(ligands_secondary_effect_prots)]"
   ]
  },
  {
   "cell_type": "code",
   "execution_count": 270,
   "metadata": {},
   "outputs": [
    {
     "name": "stdout",
     "output_type": "stream",
     "text": [
      "Number of drugs related to cancer proteins: 299\n",
      "Number of ligands related to cancer proteins: 405\n",
      "\n",
      "Number of proteins directly targeted by drugs: 61\n",
      "Number of proteins representing secondary effect of drugs: 1504\n",
      "\n"
     ]
    }
   ],
   "source": [
    "print(f\"Number of drugs related to cancer proteins: {len(drugs_related_to_cancer_proteins['name_x'].unique())}\")\n",
    "print(f\"Number of ligands related to cancer proteins: {len(ligands_related_to_cancer_proteins['name_x'].unique())}\")\n",
    "print()\n",
    "print(f\"Number of proteins directly targeted by drugs: {len(drugs_direct_effect_prots_df['target_name'].unique())}\")\n",
    "print(f\"Number of proteins representing secondary effect of drugs: {len(drugs_secondary_effect_prots_df['target_name'].unique())}\")\n",
    "print()\n"
   ]
  },
  {
   "cell_type": "markdown",
   "metadata": {},
   "source": [
    "Note that cancer related proteins has 146 distinct prots, but as we keep only the ones that are linked to a ligand in bindingdb, we end up using only 66 (61 for drugs) out of those 146 prots. So in the end, the difference between number of proteins directly targeted by ligands and the number of proteins that are related to cancer is only because of this:\n",
    "```\tpython\n",
    "    ligands_related_to_cancer_proteins = cancer_related_proteins_df.dropna(subset=['name_x'])\n",
    "```\n",
    "In summary, \n",
    "- we have 146 cancer prots\n",
    "- they link to 405 ligands (ligands related to cancer prots), which themselves only link to 66 of the cancer prots (61 for drugs)\n",
    "- these 405 ligands link to all prots which around 1651 prots\n",
    "- out of all these prots, as we've seen 66 are cancer related (61 for drugs), and 1504 are likely proteins on which the drug has secondary effects\n",
    "\n",
    "The difference between the 146 cancer prots and the 66 cancer prots is really because only a subset of the cancer prots can be used for our analysis. And this subset, as explained above, is given by the dropna on name_x which is the name of the ligand."
   ]
  }
 ],
 "metadata": {
  "kernelspec": {
   "display_name": "epfl",
   "language": "python",
   "name": "python3"
  },
  "language_info": {
   "codemirror_mode": {
    "name": "ipython",
    "version": 3
   },
   "file_extension": ".py",
   "mimetype": "text/x-python",
   "name": "python",
   "nbconvert_exporter": "python",
   "pygments_lexer": "ipython3",
   "version": "3.11.10"
  }
 },
 "nbformat": 4,
 "nbformat_minor": 2
}
