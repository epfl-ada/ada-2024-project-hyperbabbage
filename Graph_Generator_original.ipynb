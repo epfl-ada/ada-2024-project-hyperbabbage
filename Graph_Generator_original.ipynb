{
 "cells": [
  {
   "cell_type": "code",
   "execution_count": 1,
   "metadata": {},
   "outputs": [],
   "source": [
    "import pandas as pd\n",
    "import numpy as np\n",
    "import matplotlib.pyplot as plt\n",
    "\n",
    "from src.data_paths import *\n",
    "\n",
    "GRAPH_DATA_PATH = 'graph_data/'"
   ]
  },
  {
   "cell_type": "code",
   "execution_count": 3,
   "metadata": {},
   "outputs": [],
   "source": [
    "df = pd.read_pickle(MERGED)\n",
    "cosmic_proteins = pd.read_csv(COSMIC_PROTEINS, sep='\\t')"
   ]
  },
  {
   "cell_type": "markdown",
   "metadata": {},
   "source": [
    "### Check if synonyms could be used"
   ]
  },
  {
   "cell_type": "code",
   "execution_count": 5,
   "metadata": {},
   "outputs": [
    {
     "data": {
      "text/plain": [
       "(0, 0)"
      ]
     },
     "execution_count": 5,
     "metadata": {},
     "output_type": "execute_result"
    }
   ],
   "source": [
    "arr = cosmic_proteins['Gene synonym'].apply(lambda x: np.array([y.strip() for y in str(x).split(',')]))\n",
    "all_elems = np.concatenate(arr)\n",
    "\n",
    "# Check isin for each element in the array (careful of double lists)\n",
    "df['target_name'].isin(all_elems).sum(), df['drugbank_protein_name'].isin(all_elems).sum()"
   ]
  },
  {
   "cell_type": "code",
   "execution_count": 8,
   "metadata": {},
   "outputs": [
    {
     "name": "stdout",
     "output_type": "stream",
     "text": [
      "Number of bind proteins in cosmic by drugbank_protein_name: 20199\n",
      "Number of cosmic proteins in bind by drugbank_protein_name: 45\n",
      "\n",
      "Number of bind proteins in cosmic by target_name: 0\n",
      "\n",
      "Number of bind proteins in cosmic by uniprot: 32320\n",
      "Number of cosmic proteins in bind by uniprot: 75\n"
     ]
    }
   ],
   "source": [
    "# Matching by drugbank_protein_name\n",
    "nb_bind_in_cosmic_bn = df['drugbank_protein_name'].isin(cosmic_proteins['Gene']).sum()\n",
    "nb_cosmic_in_bind_bn = cosmic_proteins['Gene'].isin(df['drugbank_protein_name']).sum()\n",
    "nb_bind_in_cosmic_by_targetname_bn = df['target_name'].isin(cosmic_proteins['Gene']).sum()\n",
    "\n",
    "# Matching by uniprot\n",
    "nb_bind_in_cosmic_bu = df['swissprot_protein_id'].dropna().isin(cosmic_proteins['Uniprot']).sum()\n",
    "nb_cosmic_in_bind_bu = cosmic_proteins['Uniprot'].isin(df['swissprot_protein_id'].dropna()).sum()\n",
    "\n",
    "print(f\"Number of bind proteins in cosmic by drugbank_protein_name: {nb_bind_in_cosmic_bn}\")\n",
    "print(f\"Number of cosmic proteins in bind by drugbank_protein_name: {nb_cosmic_in_bind_bn}\")\n",
    "print()\n",
    "print(f\"Number of bind proteins in cosmic by target_name: {nb_bind_in_cosmic_by_targetname_bn}\")\n",
    "print()\n",
    "print(f\"Number of bind proteins in cosmic by uniprot: {nb_bind_in_cosmic_bu}\")\n",
    "print(f\"Number of cosmic proteins in bind by uniprot: {nb_cosmic_in_bind_bu}\")"
   ]
  },
  {
   "cell_type": "markdown",
   "metadata": {},
   "source": [
    "### Cancer related proteins"
   ]
  },
  {
   "cell_type": "code",
   "execution_count": 9,
   "metadata": {},
   "outputs": [
    {
     "name": "stdout",
     "output_type": "stream",
     "text": [
      "Number of cancer proteins in bind by drugbank_protein_name: 101\n",
      "Number of cancer proteins in bind by uniprot: 142\n",
      "Difference between the two sets:\n",
      "  - 14 proteins in drugbank_protein_name but not in uniprot\n",
      "  - 55 proteins in uniprot but not in drugbank_protein_name\n",
      "Number of cancer proteins in bind by drugbank_protein_name: 101\n",
      "Number of cancer proteins in bind by uniprot: 142\n",
      "Difference between the two sets:\n",
      "  - 14 proteins in drugbank_protein_name but not in uniprot\n",
      "  - 55 proteins in uniprot but not in drugbank_protein_name\n"
     ]
    }
   ],
   "source": [
    "bind_cancer_proteins_by_name = df[df['drugbank_protein_name'].isin(cosmic_proteins['Gene'])]\n",
    "bind_cancer_proteins_by_uniprot = df[df['swissprot_protein_id'].isin(cosmic_proteins['Uniprot'])]\n",
    "\n",
    "most_studied_proteins = ['Cytochrome P450 3A4', 'Epidermal growth factor receptor', 'Proto-oncogene tyrosine-protein kinase Src', 'Vascular endothelial growth factor receptor 2', 'Adenosine receptor A2a', 'Cytochrome P450 2C9', 'Cytochrome P450 1A2', 'Cytochrome P450 2C19', 'Cytochrome P450 2D6', 'Prostaglandin G/H synthase 1', 'Prostaglandin G/H synthase 2']\n",
    "\n",
    "# Add most studied proteins\n",
    "bind_cancer_proteins_by_name = pd.concat([bind_cancer_proteins_by_name, df[df['target_name'].isin(most_studied_proteins)]])\n",
    "\n",
    "bcpbn_set = set(bind_cancer_proteins_by_name['target_name'])\n",
    "bcpbu_set = set(bind_cancer_proteins_by_uniprot['target_name'])\n",
    "\n",
    "print(f\"Number of cancer proteins in bind by drugbank_protein_name: {len(bcpbn_set)}\")\n",
    "print(f\"Number of cancer proteins in bind by uniprot: {len(bcpbu_set)}\")\n",
    "print(f\"Difference between the two sets:\")\n",
    "print(f\"  - {len(bcpbn_set - bcpbu_set)} proteins in drugbank_protein_name but not in uniprot\")\n",
    "print(f\"  - {len(bcpbu_set - bcpbn_set)} proteins in uniprot but not in drugbank_protein_name\")\n",
    "\n",
    "bcpbn_set = set(bind_cancer_proteins_by_name['target_name'])\n",
    "bcpbu_set = set(bind_cancer_proteins_by_uniprot['target_name'])\n",
    "\n",
    "print(f\"Number of cancer proteins in bind by drugbank_protein_name: {len(bcpbn_set)}\")\n",
    "print(f\"Number of cancer proteins in bind by uniprot: {len(bcpbu_set)}\")\n",
    "print(f\"Difference between the two sets:\")\n",
    "print(f\"  - {len(bcpbn_set - bcpbu_set)} proteins in drugbank_protein_name but not in uniprot\")\n",
    "print(f\"  - {len(bcpbu_set - bcpbn_set)} proteins in uniprot but not in drugbank_protein_name\")"
   ]
  },
  {
   "cell_type": "code",
   "execution_count": 10,
   "metadata": {},
   "outputs": [
    {
     "data": {
      "text/html": [
       "<div>\n",
       "<style scoped>\n",
       "    .dataframe tbody tr th:only-of-type {\n",
       "        vertical-align: middle;\n",
       "    }\n",
       "\n",
       "    .dataframe tbody tr th {\n",
       "        vertical-align: top;\n",
       "    }\n",
       "\n",
       "    .dataframe thead th {\n",
       "        text-align: right;\n",
       "    }\n",
       "</style>\n",
       "<table border=\"1\" class=\"dataframe\">\n",
       "  <thead>\n",
       "    <tr style=\"text-align: right;\">\n",
       "      <th></th>\n",
       "      <th>drugbank_protein_name</th>\n",
       "      <th>target_name</th>\n",
       "      <th>swissprot_protein_id</th>\n",
       "    </tr>\n",
       "  </thead>\n",
       "  <tbody>\n",
       "    <tr>\n",
       "      <th>142</th>\n",
       "      <td>NaN</td>\n",
       "      <td>Cytochrome P450 3A4</td>\n",
       "      <td>&lt;NA&gt;</td>\n",
       "    </tr>\n",
       "    <tr>\n",
       "      <th>3787</th>\n",
       "      <td>NaN</td>\n",
       "      <td>Proto-oncogene tyrosine-protein kinase Src</td>\n",
       "      <td>&lt;NA&gt;</td>\n",
       "    </tr>\n",
       "    <tr>\n",
       "      <th>3788</th>\n",
       "      <td>NaN</td>\n",
       "      <td>Proto-oncogene tyrosine-protein kinase Src</td>\n",
       "      <td>&lt;NA&gt;</td>\n",
       "    </tr>\n",
       "    <tr>\n",
       "      <th>3789</th>\n",
       "      <td>NaN</td>\n",
       "      <td>Proto-oncogene tyrosine-protein kinase Src</td>\n",
       "      <td>&lt;NA&gt;</td>\n",
       "    </tr>\n",
       "    <tr>\n",
       "      <th>3790</th>\n",
       "      <td>NaN</td>\n",
       "      <td>Proto-oncogene tyrosine-protein kinase Src</td>\n",
       "      <td>&lt;NA&gt;</td>\n",
       "    </tr>\n",
       "    <tr>\n",
       "      <th>...</th>\n",
       "      <td>...</td>\n",
       "      <td>...</td>\n",
       "      <td>...</td>\n",
       "    </tr>\n",
       "    <tr>\n",
       "      <th>2926744</th>\n",
       "      <td>NaN</td>\n",
       "      <td>Cytochrome P450 2C9</td>\n",
       "      <td>&lt;NA&gt;</td>\n",
       "    </tr>\n",
       "    <tr>\n",
       "      <th>2926745</th>\n",
       "      <td>NaN</td>\n",
       "      <td>Cytochrome P450 2D6</td>\n",
       "      <td>&lt;NA&gt;</td>\n",
       "    </tr>\n",
       "    <tr>\n",
       "      <th>2926746</th>\n",
       "      <td>NaN</td>\n",
       "      <td>Cytochrome P450 2D6</td>\n",
       "      <td>&lt;NA&gt;</td>\n",
       "    </tr>\n",
       "    <tr>\n",
       "      <th>2926747</th>\n",
       "      <td>NaN</td>\n",
       "      <td>Cytochrome P450 2D6</td>\n",
       "      <td>&lt;NA&gt;</td>\n",
       "    </tr>\n",
       "    <tr>\n",
       "      <th>2927267</th>\n",
       "      <td>NaN</td>\n",
       "      <td>Cytochrome P450 3A4</td>\n",
       "      <td>&lt;NA&gt;</td>\n",
       "    </tr>\n",
       "  </tbody>\n",
       "</table>\n",
       "<p>82224 rows × 3 columns</p>\n",
       "</div>"
      ],
      "text/plain": [
       "        drugbank_protein_name                                 target_name  \\\n",
       "142                       NaN                         Cytochrome P450 3A4   \n",
       "3787                      NaN  Proto-oncogene tyrosine-protein kinase Src   \n",
       "3788                      NaN  Proto-oncogene tyrosine-protein kinase Src   \n",
       "3789                      NaN  Proto-oncogene tyrosine-protein kinase Src   \n",
       "3790                      NaN  Proto-oncogene tyrosine-protein kinase Src   \n",
       "...                       ...                                         ...   \n",
       "2926744                   NaN                         Cytochrome P450 2C9   \n",
       "2926745                   NaN                         Cytochrome P450 2D6   \n",
       "2926746                   NaN                         Cytochrome P450 2D6   \n",
       "2926747                   NaN                         Cytochrome P450 2D6   \n",
       "2927267                   NaN                         Cytochrome P450 3A4   \n",
       "\n",
       "        swissprot_protein_id  \n",
       "142                     <NA>  \n",
       "3787                    <NA>  \n",
       "3788                    <NA>  \n",
       "3789                    <NA>  \n",
       "3790                    <NA>  \n",
       "...                      ...  \n",
       "2926744                 <NA>  \n",
       "2926745                 <NA>  \n",
       "2926746                 <NA>  \n",
       "2926747                 <NA>  \n",
       "2927267                 <NA>  \n",
       "\n",
       "[82224 rows x 3 columns]"
      ]
     },
     "execution_count": 10,
     "metadata": {},
     "output_type": "execute_result"
    }
   ],
   "source": [
    "cancer_proteins_namey_not_uniprot = df[df['target_name'].isin(bcpbn_set - bcpbu_set)]\n",
    "cancer_proteins_namey_not_uniprot[['drugbank_protein_name', 'target_name', 'swissprot_protein_id']]"
   ]
  },
  {
   "cell_type": "code",
   "execution_count": 11,
   "metadata": {},
   "outputs": [
    {
     "data": {
      "text/html": [
       "<div>\n",
       "<style scoped>\n",
       "    .dataframe tbody tr th:only-of-type {\n",
       "        vertical-align: middle;\n",
       "    }\n",
       "\n",
       "    .dataframe tbody tr th {\n",
       "        vertical-align: top;\n",
       "    }\n",
       "\n",
       "    .dataframe thead th {\n",
       "        text-align: right;\n",
       "    }\n",
       "</style>\n",
       "<table border=\"1\" class=\"dataframe\">\n",
       "  <thead>\n",
       "    <tr style=\"text-align: right;\">\n",
       "      <th></th>\n",
       "      <th>Gene</th>\n",
       "      <th>Gene synonym</th>\n",
       "      <th>Uniprot</th>\n",
       "    </tr>\n",
       "  </thead>\n",
       "  <tbody>\n",
       "    <tr>\n",
       "      <th>141</th>\n",
       "      <td>EGFR</td>\n",
       "      <td>ERBB, ERBB1, ERRP</td>\n",
       "      <td>P00533</td>\n",
       "    </tr>\n",
       "  </tbody>\n",
       "</table>\n",
       "</div>"
      ],
      "text/plain": [
       "     Gene       Gene synonym Uniprot\n",
       "141  EGFR  ERBB, ERBB1, ERRP  P00533"
      ]
     },
     "execution_count": 11,
     "metadata": {},
     "output_type": "execute_result"
    }
   ],
   "source": [
    "cosmic_proteins[cosmic_proteins['Gene'] == 'EGFR'][['Gene', 'Gene synonym', 'Uniprot']]"
   ]
  },
  {
   "cell_type": "code",
   "execution_count": 12,
   "metadata": {},
   "outputs": [
    {
     "name": "stdout",
     "output_type": "stream",
     "text": [
      "Number of pairs of cancer proteins with their ligand in bind: 149278\n",
      "Number of unique cancer proteins: 156\n",
      "  - 101 by drugbank_protein_name\n",
      "  - 142 by uniprot\n"
     ]
    }
   ],
   "source": [
    "# Combine the two sets (even though Uniprot is not the same)\n",
    "cancer_related_proteins = pd.concat([bind_cancer_proteins_by_name, bind_cancer_proteins_by_uniprot]).drop_duplicates()\n",
    "cancer_related_proteins_df = df[df['target_name'].isin(cancer_related_proteins['target_name'])]\n",
    "\n",
    "print(f\"Number of pairs of cancer proteins with their ligand in bind: {len(cancer_related_proteins_df)}\")\n",
    "print(f\"Number of unique cancer proteins: {len(cancer_related_proteins['target_name'].unique())}\")\n",
    "print(f\"  - {len(bind_cancer_proteins_by_name['target_name'].unique())} by drugbank_protein_name\")\n",
    "print(f\"  - {len(bind_cancer_proteins_by_uniprot['target_name'].unique())} by uniprot\")"
   ]
  },
  {
   "cell_type": "markdown",
   "metadata": {},
   "source": [
    "### Ligands related to these proteins"
   ]
  },
  {
   "cell_type": "code",
   "execution_count": 13,
   "metadata": {},
   "outputs": [
    {
     "name": "stdout",
     "output_type": "stream",
     "text": [
      "Number of pairs of ligands related to cancer proteins (keep only the ones for which we have a name): 149278\n",
      "Number of unique ligands related to cancer proteins: 81110\n",
      "Number of cancer proteins that matched to a ligand: 156 out of 156\n"
     ]
    }
   ],
   "source": [
    "ligands_related_to_cancer_proteins = cancer_related_proteins_df.dropna(subset=['ligand_name'])\n",
    "\n",
    "print(f\"Number of pairs of ligands related to cancer proteins (keep only the ones for which we have a name): {len(ligands_related_to_cancer_proteins)}\")\n",
    "print(f\"Number of unique ligands related to cancer proteins: {len(set(ligands_related_to_cancer_proteins['ligand_name']))}\")\n",
    "print(f\"Number of cancer proteins that matched to a ligand: {len(set(ligands_related_to_cancer_proteins['target_name']))} out of {len(cancer_related_proteins['target_name'].unique())}\")"
   ]
  },
  {
   "cell_type": "code",
   "execution_count": 14,
   "metadata": {},
   "outputs": [
    {
     "name": "stdout",
     "output_type": "stream",
     "text": [
      "Number of pairs of drugs related to cancer proteins: 8302\n",
      "Number of unique drugs related to cancer proteins: 840\n",
      "Number of cancer proteins that matched to a drug: 78 out of 156\n"
     ]
    }
   ],
   "source": [
    "# Keep only the ligands that are in DrugBank \n",
    "drugs_related_to_cancer_proteins = ligands_related_to_cancer_proteins.dropna(subset='drugbank_drug_class_superclass')\n",
    "\n",
    "print(f\"Number of pairs of drugs related to cancer proteins: {len(drugs_related_to_cancer_proteins)}\")\n",
    "print(f\"Number of unique drugs related to cancer proteins: {len(drugs_related_to_cancer_proteins['drugbank_drug_name'].unique())}\")\n",
    "print(f\"Number of cancer proteins that matched to a drug: {len(set(drugs_related_to_cancer_proteins['target_name']))} out of {len(cancer_related_proteins['target_name'].unique())}\")"
   ]
  },
  {
   "cell_type": "markdown",
   "metadata": {},
   "source": [
    "### All proteins related to these ligands"
   ]
  },
  {
   "cell_type": "code",
   "execution_count": 15,
   "metadata": {},
   "outputs": [
    {
     "name": "stdout",
     "output_type": "stream",
     "text": [
      "Number of unique proteins related to cancer ligands: 3213\n",
      "Number of unique proteins related to cancer drugs: 2322\n"
     ]
    }
   ],
   "source": [
    "all_prots_related_to_cancer_ligands = df[df['ligand_name'].isin(ligands_related_to_cancer_proteins['ligand_name'].unique())]\n",
    "all_prots_related_to_cancer_drugs = df[df['drugbank_drug_name'].isin(drugs_related_to_cancer_proteins['drugbank_drug_name'].unique())]\n",
    "\n",
    "print(f\"Number of unique proteins related to cancer ligands: {len(all_prots_related_to_cancer_ligands['target_name'].unique())}\")\n",
    "print(f\"Number of unique proteins related to cancer drugs: {len(all_prots_related_to_cancer_drugs['target_name'].unique())}\")"
   ]
  },
  {
   "cell_type": "markdown",
   "metadata": {},
   "source": [
    "### Differentiate between secondary effects and drugs"
   ]
  },
  {
   "cell_type": "code",
   "execution_count": 16,
   "metadata": {},
   "outputs": [
    {
     "name": "stdout",
     "output_type": "stream",
     "text": [
      "Number of proteins directly targeted by drugs: 78\n",
      "Number of proteins representing secondary effect of drugs: 2244\n",
      "\n",
      "Number of proteins directly targeted by ligands: 156\n",
      "Number of proteins representing secondary effect of ligands: 3057\n"
     ]
    }
   ],
   "source": [
    "direct_prots_related_target_names = cancer_related_proteins['target_name'].unique()\n",
    "\n",
    "direct_effect_prots = all_prots_related_to_cancer_drugs[all_prots_related_to_cancer_drugs['target_name'].isin(direct_prots_related_target_names)]\n",
    "secondary_effect_prots = all_prots_related_to_cancer_drugs[~all_prots_related_to_cancer_drugs['target_name'].isin(direct_prots_related_target_names)]\n",
    "\n",
    "ligands_direct_effect_prots = all_prots_related_to_cancer_ligands[all_prots_related_to_cancer_ligands['target_name'].isin(direct_prots_related_target_names)]\n",
    "ligands_secondary_effect_prots = all_prots_related_to_cancer_ligands[~all_prots_related_to_cancer_ligands['target_name'].isin(direct_prots_related_target_names)]\n",
    "\n",
    "print(f\"Number of proteins directly targeted by drugs: {len(direct_effect_prots['target_name'].unique())}\")\n",
    "print(f\"Number of proteins representing secondary effect of drugs: {len(secondary_effect_prots['target_name'].unique())}\")\n",
    "print()\n",
    "print(f\"Number of proteins directly targeted by ligands: {len(ligands_direct_effect_prots['target_name'].unique())}\")\n",
    "print(f\"Number of proteins representing secondary effect of ligands: {len(ligands_secondary_effect_prots['target_name'].unique())}\")"
   ]
  },
  {
   "cell_type": "markdown",
   "metadata": {},
   "source": [
    "Note that cancer related proteins has 146 distinct prots, but as we keep only the ones that are linked to a ligand in bindingdb, we end up using only 66 (61 for drugs) out of those 146 prots. So in the end, the difference between number of proteins directly targeted by ligands and the number of proteins that are related to cancer is only because of this:\n",
    "```\tpython\n",
    "    ligands_related_to_cancer_proteins = cancer_related_proteins_df.dropna(subset=['drugbank_drug_name'])\n",
    "```\n",
    "In summary, \n",
    "- we have 146 cancer prots\n",
    "- they link to 405 ligands (ligands related to cancer prots), which themselves only link to 66 of the cancer prots (61 for drugs)\n",
    "- these 405 ligands link to all prots which around 1651 prots\n",
    "- out of all these prots, as we've seen 66 are cancer related (61 for drugs), and 1504 are likely proteins on which the drug has secondary effects\n",
    "\n",
    "The difference between the 146 cancer prots and the 66 cancer prots is really because only a subset of the cancer prots can be used for our analysis. And this subset, as explained above, is given by the dropna on drugbank_drug_name which is the name of the ligand."
   ]
  },
  {
   "cell_type": "markdown",
   "metadata": {},
   "source": [
    "## Graph of the relationships"
   ]
  },
  {
   "cell_type": "code",
   "execution_count": null,
   "metadata": {},
   "outputs": [],
   "source": [
    "\n",
    "# Create a list of nodes\n",
    "nodes = []\n",
    "node_id_map = {}  # To map node names to unique ids\n",
    "categories = [{'name': 'Possible Cancer Drug'}, {'name': 'Cancer Protein'}]\n",
    "\n",
    "# Process ligand nodes\n",
    "ligand_nodes = all_prots_related_to_cancer_drugs['drugbank_drug_name'].dropna().unique()\n",
    "for idx, ligand in enumerate(ligand_nodes):\n",
    "    ligand = str(ligand)\n",
    "    node_id_map[ligand] = idx\n",
    "    node = {\n",
    "        'id': str(idx),\n",
    "        'Label': ligand,\n",
    "        'category': 0,  # Index of 'ligand' in categories\n",
    "    }\n",
    "    nodes.append(node)\n",
    "\n",
    "# Process protein nodes\n",
    "cancer_protein_nodes = direct_effect_prots['target_name'].unique()\n",
    "for idx, protein in enumerate(cancer_protein_nodes, start=len(node_id_map)):\n",
    "    node_id_map[protein] = idx\n",
    "    node = {\n",
    "        'id': str(idx),\n",
    "        'Label': protein,\n",
    "        'category': 1,  # Index of 'protein' in categories\n",
    "    }\n",
    "    nodes.append(node)\n",
    "\n",
    "# Create a list of edges\n",
    "edges = []\n",
    "for _, row in direct_effect_prots.iterrows():\n",
    "    source_id = node_id_map[row['drugbank_drug_name']]\n",
    "    target_id = node_id_map[row['target_name']]\n",
    "    strength = row['ec50'] if pd.isna(row['ic50']) else row['ic50']  # Use ec50 if ic50 is NaN\n",
    "    \n",
    "    if pd.isna(strength) or strength < 1e-8 or np.log(strength) < 1e-8:\n",
    "        continue\n",
    "\n",
    "    strengths = np.log(np.log(strength))  # Log-transform the value to make it more visually appealing\n",
    "\n",
    "    edge = {\n",
    "        'source': str(source_id),\n",
    "        'target': str(target_id),\n",
    "        'sourceLabel': row['drugbank_drug_name'],\n",
    "        'targetLabel': row['target_name'],\n",
    "        'Weight': strengths  \n",
    "    }\n",
    "    edges.append(edge)\n",
    "\n",
    "# Modify strength to be in the range [0, 1]\n",
    "max_strength = max([edge['Weight'] for edge in edges])\n",
    "min_strength = min([edge['Weight'] for edge in edges])\n",
    "\n",
    "for i, edge in enumerate(edges):\n",
    "    edges[i]['Weight'] = (edge['Weight'] - min_strength) / (max_strength - min_strength)\n",
    "    edges[i]['Weight'] = np.clip(edges[i]['Weight'], 0.4, 1)\n",
    "    edges[i]['Weight'] = (edges[i]['Weight'] - 0.4) / 0.6\n",
    "\n",
    "# Create the graph data\n",
    "graph_data = {\n",
    "    'nodes': nodes,\n",
    "    'links': edges,\n",
    "    'categories': categories\n",
    "}"
   ]
  },
  {
   "cell_type": "code",
   "execution_count": 18,
   "metadata": {},
   "outputs": [
    {
     "data": {
      "text/plain": [
       "(array([  40.,    3.,   14.,   10.,   33.,   36.,   86.,   50.,  137.,\n",
       "         137.,  169.,  358.,  548.,  697.,  629.,  786., 1304.,  867.,\n",
       "          68.,    4.]),\n",
       " array([0.  , 0.05, 0.1 , 0.15, 0.2 , 0.25, 0.3 , 0.35, 0.4 , 0.45, 0.5 ,\n",
       "        0.55, 0.6 , 0.65, 0.7 , 0.75, 0.8 , 0.85, 0.9 , 0.95, 1.  ]),\n",
       " <BarContainer object of 20 artists>)"
      ]
     },
     "execution_count": 18,
     "metadata": {},
     "output_type": "execute_result"
    },
    {
     "data": {
      "image/png": "[encoded data removed]",
      "text/plain": [
       "<Figure size 640x480 with 1 Axes>"
      ]
     },
     "metadata": {},
     "output_type": "display_data"
    }
   ],
   "source": [
    "strengths = [edges['Weight'] for edges in graph_data['links']]\n",
    "strengths\n",
    "plt.hist(strengths, bins=20)"
   ]
  },
  {
   "cell_type": "markdown",
   "metadata": {},
   "source": [
    "## Gephi visualization"
   ]
  },
  {
   "cell_type": "code",
   "execution_count": 20,
   "metadata": {},
   "outputs": [],
   "source": [
    "import igraph as ig\n",
    "\n",
    "# Extract node and edge data\n",
    "nodes = graph_data['nodes']\n",
    "edges = graph_data['links']\n",
    "categories = graph_data['categories']\n",
    "\n",
    "# Create an igraph graph\n",
    "g = ig.Graph(directed=False)  # Set directed=True if your data is directional\n",
    "g.add_vertices(len(nodes))\n",
    "\n",
    "# Add vertex attributes\n",
    "for i, node in enumerate(nodes):\n",
    "    g.vs[i]['name'] = node['Label']\n",
    "    g.vs[i]['category'] = categories[node['category']]['name']\n",
    "\n",
    "# Add edges\n",
    "edge_list = [(int(e['source']), int(e['target'])) for e in edges]\n",
    "g.add_edges(edge_list)\n",
    "\n",
    "# Add edge attributes\n",
    "if 'Weight' in edges[0]:\n",
    "    for i, e in enumerate(edges):\n",
    "        g.es[i]['affinity'] = e['Weight']\n",
    "        g.es[i]['sourceLabel'] = e['sourceLabel']\n",
    "        g.es[i]['targetLabel'] = e['targetLabel']\n",
    "\n",
    "for v in g.vs:\n",
    "    # If this vertex's category is that of a ligand, set type=True\n",
    "    v['type'] = (v['category'] == 'Possible Cancer Drug')\n",
    "\n"
   ]
  },
  {
   "cell_type": "code",
   "execution_count": 21,
   "metadata": {},
   "outputs": [],
   "source": [
    "g_ligand_proj, g_protein_proj = g.bipartite_projection(multiplicity=True)"
   ]
  },
  {
   "cell_type": "code",
   "execution_count": 22,
   "metadata": {},
   "outputs": [],
   "source": [
    "# Export ligand projection and protein projections to nodes and edges csv\n",
    "ligand_nodes = []\n",
    "ligand_edges = []\n",
    "for i, v in enumerate(g_ligand_proj.vs):\n",
    "    ligand_nodes.append({\n",
    "        'id': i,\n",
    "        'Label': v['name'],\n",
    "        'category': 0,  # Index of 'ligand' in categories\n",
    "    })\n",
    "\n",
    "for e in g_ligand_proj.es:\n",
    "    ligand_edges.append({\n",
    "        'source': e.source,\n",
    "        'target': e.target,\n",
    "        'Weight': e['weight']\n",
    "    })\n",
    "\n",
    "protein_nodes = []\n",
    "protein_edges = []\n",
    "for i, v in enumerate(g_protein_proj.vs):\n",
    "    protein_nodes.append({\n",
    "        'id': i,\n",
    "        'Label': v['name'],\n",
    "        'category': 1,  # Index of 'protein' in categories\n",
    "    })\n",
    "\n",
    "for e in g_protein_proj.es:\n",
    "    protein_edges.append({\n",
    "        'source': e.source,\n",
    "        'target': e.target,\n",
    "        'Weight': e['weight']\n",
    "    })\n",
    "\n",
    "bipartite_nodes = []\n",
    "bipartite_edges = []\n",
    "\n",
    "for i, v in enumerate(g.vs):\n",
    "    bipartite_nodes.append({\n",
    "        'id': i,\n",
    "        'Label': v['name'],\n",
    "        'category': v['category'],\n",
    "        'type': v['type']\n",
    "    })\n",
    "\n",
    "for e in g.es:\n",
    "    bipartite_edges.append({\n",
    "        'source': e.source,\n",
    "        'target': e.target,\n",
    "        'Weight': e['affinity']\n",
    "    })\n",
    "\n"
   ]
  },
  {
   "cell_type": "code",
   "execution_count": null,
   "metadata": {},
   "outputs": [],
   "source": [
    "ligand_nodes_df = pd.DataFrame(ligand_nodes)\n",
    "ligand_edges_df = pd.DataFrame(ligand_edges)\n",
    "\n",
    "protein_nodes_df = pd.DataFrame(protein_nodes)\n",
    "protein_edges_df = pd.DataFrame(protein_edges)\n",
    "\n",
    "bipartite_nodes_df = pd.DataFrame(bipartite_nodes)\n",
    "bipartite_edges_df = pd.DataFrame(bipartite_edges)\n",
    "\n",
    "ligand_nodes_df.to_csv(GRAPH_DATA_PATH + 'ligand_nodes.csv', index=False)\n",
    "ligand_edges_df.to_csv(GRAPH_DATA_PATH + 'ligand_edges.csv', index=False)\n",
    "\n",
    "protein_nodes_df.to_csv(GRAPH_DATA_PATH + 'protein_nodes.csv', index=False)\n",
    "protein_edges_df.to_csv(GRAPH_DATA_PATH + 'protein_edges.csv', index=False)\n",
    "\n",
    "bipartite_nodes_df.to_csv(GRAPH_DATA_PATH + 'bipartite_nodes.csv', index=False)\n",
    "bipartite_edges_df.to_csv(GRAPH_DATA_PATH + 'bipartite_edges.csv', index=False)"
   ]
  },
  {
   "cell_type": "markdown",
   "metadata": {},
   "source": [
    "## Gephi"
   ]
  },
  {
   "cell_type": "code",
   "execution_count": null,
   "metadata": {},
   "outputs": [],
   "source": [
    "def get_target_name_nonmutant(x):\n",
    "    return x.split('[')[0]\n",
    "df['target_name_nonmutant'] = df['target_name'].apply(get_target_name_nonmutant)\n",
    "\n",
    "df['target_name'].nunique(), df['target_name_nonmutant'].nunique()"
   ]
  },
  {
   "cell_type": "code",
   "execution_count": null,
   "metadata": {},
   "outputs": [],
   "source": [
    "unique_prots = df['target_name_nonmutant'].unique()\n",
    "\n",
    "protein_to_doi = {prot: set() for prot in unique_prots}\n",
    "for _, row in df.iterrows():\n",
    "    protein = row['target_name_nonmutant']\n",
    "    doi = row['doi']\n",
    "    protein_to_doi[protein].add(doi)\n",
    "\n",
    "count = {prot: len(dois) for prot, dois in protein_to_doi.items()}"
   ]
  },
  {
   "cell_type": "code",
   "execution_count": null,
   "metadata": {},
   "outputs": [],
   "source": [
    "# Map target names to their respective counts\n",
    "target_name_to_count = {row['target_name']: count[row['target_name_nonmutant']] for _, row in df.iterrows()}"
   ]
  },
  {
   "cell_type": "code",
   "execution_count": null,
   "metadata": {},
   "outputs": [],
   "source": [
    "\n",
    "# Create a list of nodes\n",
    "nodes = []\n",
    "node_id_map = {}  # To map node names to unique ids\n",
    "categories = [{'name': 'Possible Cancer Drug'}, {'name': 'Cancer Protein'}]\n",
    "\n",
    "# Process ligand nodes\n",
    "ligand_nodes = all_prots_related_to_cancer_drugs['drugbank_drug_name'].dropna().unique()\n",
    "for idx, ligand in enumerate(ligand_nodes):\n",
    "    ligand = str(ligand)\n",
    "    node_id_map[ligand] = idx\n",
    "    node = {\n",
    "        'id': str(idx),\n",
    "        'Label': ligand,\n",
    "        'category': 0,  # Index of 'ligand' in categories\n",
    "    }\n",
    "    nodes.append(node)\n",
    "\n",
    "# Process protein nodes\n",
    "cancer_protein_nodes = direct_effect_prots['target_name'].unique()\n",
    "\n",
    "# Start from the length of the ligand nodes (to avoid overlapping ids)\n",
    "for idx, protein in enumerate(cancer_protein_nodes, start=len(node_id_map)):\n",
    "    node_id_map[protein] = idx\n",
    "    node = {\n",
    "        'id': str(idx),\n",
    "        'Label': protein,\n",
    "        'category': 1,  # Index of 'protein' in categories\n",
    "    }\n",
    "    nodes.append(node)\n",
    "\n",
    "# Create a list of edges\n",
    "edges = []\n",
    "for _, row in direct_effect_prots.iterrows():\n",
    "    source_id = node_id_map[row['drugbank_drug_name']]\n",
    "    target_id = node_id_map[row['target_name']]\n",
    "    strength = row['ec50'] if pd.isna(row['ic50']) else row['ic50']  # Use ec50 if ic50 is NaN\n",
    "    \n",
    "    if pd.isna(strength) or strength < 1e-8 or np.log(strength) < 1e-8:\n",
    "        continue\n",
    "\n",
    "    strengths = np.log(np.log(strength))  # Log-transform the value to make it more visually appealing\n",
    "\n",
    "    edge = {\n",
    "        'source': str(source_id),\n",
    "        'target': str(target_id),\n",
    "        'sourceLabel': row['drugbank_drug_name'],\n",
    "        'targetLabel': row['target_name'],\n",
    "        'Weight': strengths  \n",
    "    }\n",
    "    edges.append(edge)\n",
    "\n",
    "# Modify strength to be in the range [0, 1]\n",
    "max_strength = max([edge['Weight'] for edge in edges])\n",
    "min_strength = min([edge['Weight'] for edge in edges])\n",
    "\n",
    "for i, edge in enumerate(edges):\n",
    "    edges[i]['Weight'] = (edge['Weight'] - min_strength) / (max_strength - min_strength)\n",
    "    edges[i]['Weight'] = np.clip(edges[i]['Weight'], 0.4, 1)\n",
    "    edges[i]['Weight'] = (edges[i]['Weight'] - 0.4) / 0.6\n",
    "\n",
    "# Create the graph data\n",
    "graph_data = {\n",
    "    'nodes': nodes,\n",
    "    'links': edges,\n",
    "    'categories': categories\n",
    "}"
   ]
  },
  {
   "cell_type": "code",
   "execution_count": null,
   "metadata": {},
   "outputs": [],
   "source": [
    "import igraph as ig\n",
    "\n",
    "# Extract node and edge data\n",
    "nodes = graph_data['nodes']\n",
    "edges = graph_data['links']\n",
    "categories = graph_data['categories']\n",
    "\n",
    "# Create an igraph graph\n",
    "g_cancer = ig.Graph(directed=False)  # Set directed=True if your data is directional\n",
    "g_cancer.add_vertices(len(nodes))\n",
    "\n",
    "# Add vertex attributes\n",
    "for i, node in enumerate(nodes):\n",
    "    g_cancer.vs[i]['name'] = node['Label']\n",
    "    g_cancer.vs[i]['category'] = categories[node['category']]['name']\n",
    "\n",
    "# Add edges\n",
    "edge_list = [(int(e['source']), int(e['target'])) for e in edges]\n",
    "g_cancer.add_edges(edge_list)\n",
    "\n",
    "# Add edge attributes\n",
    "if 'Weight' in edges[0]:\n",
    "    for i, e in enumerate(edges):\n",
    "        g_cancer.es[i]['affinity'] = e['Weight']\n",
    "        g_cancer.es[i]['sourceLabel'] = e['sourceLabel']\n",
    "        g_cancer.es[i]['targetLabel'] = e['targetLabel']\n",
    "\n",
    "for v in g_cancer.vs:\n",
    "    # If this vertex's category is that of a ligand, set type=True\n",
    "    v['type'] = (v['category'] == 'Possible Cancer Drug')\n",
    "\n"
   ]
  },
  {
   "cell_type": "code",
   "execution_count": null,
   "metadata": {},
   "outputs": [],
   "source": [
    "\n",
    "# Create a list of nodes\n",
    "nodes = []\n",
    "node_id_map = {}  # To map node names to unique ids\n",
    "categories = [{'name': 'Ligand'}, {'name': 'Protein'}]\n",
    "\n",
    "# Process ligand nodes\n",
    "ligand_nodes = df['ligand_name'].dropna().unique()\n",
    "for idx, ligand in enumerate(ligand_nodes):\n",
    "    ligand = str(ligand)\n",
    "    node_id_map[ligand] = idx\n",
    "    node = {\n",
    "        'id': str(idx),\n",
    "        'Label': ligand,\n",
    "        'category': 0,  # Index of 'ligand' in categories\n",
    "        'research_count': np.median(list(target_name_to_count.values()))\n",
    "    }\n",
    "    nodes.append(node)\n",
    "\n",
    "# Process protein nodes\n",
    "protein_nodes = df['target_name'].dropna().unique()\n",
    "for idx, protein in enumerate(protein_nodes, start=len(node_id_map)):\n",
    "    node_id_map[protein] = idx\n",
    "    node = {\n",
    "        'id': str(idx),\n",
    "        'Label': protein,\n",
    "        'category': 1,  # Index of 'protein' in categories\n",
    "        'research_count': target_name_to_count[protein]\n",
    "    }\n",
    "    nodes.append(node)\n",
    "\n",
    "# Process edges efficiently\n",
    "weights_ic = df['ic50'].values\n",
    "weights_ec = df['ec50'].values\n",
    "weights = np.where(pd.isna(weights_ic), weights_ec, weights_ic)\n",
    "\n",
    "weights = np.log(np.log(weights))\n",
    "max_strength = np.quantile(weights[~np.isnan(weights)], 0.95)\n",
    "min_strength = np.quantile(weights[~np.isnan(weights)], 0.05)\n",
    "weights = (weights - min_strength) / (max_strength - min_strength)\n",
    "weights = np.where(np.isnan(weights), 0, weights)\n",
    "weights = np.where(weights < 0.1, pd.NA, weights)\n",
    "\n",
    "# Edges is df[['ligand_name', 'traget_name', weights]] where weights is not nan\n",
    "# Don't use loop\n",
    "edges = df[['ligand_name', 'target_name']].copy()\n",
    "edges['source'] = edges['ligand_name'].map(node_id_map)\n",
    "edges['target'] = edges['target_name'].map(node_id_map)\n",
    "edges['sourceLabel'] = edges['ligand_name']\n",
    "edges['targetLabel'] = edges['target_name']\n",
    "edges['Weight'] = weights\n",
    "edges = edges.dropna(subset=['source', 'target', 'Weight'])\n",
    "edges['Weight'] = edges['Weight'].clip(0.1, 1)\n",
    "\n",
    "edges = edges.to_dict(orient='records')\n",
    "\n",
    "# Create the graph data\n",
    "graph_data = {\n",
    "    'nodes': nodes,\n",
    "    'links': edges,\n",
    "    'categories': categories\n",
    "}"
   ]
  },
  {
   "cell_type": "code",
   "execution_count": null,
   "metadata": {},
   "outputs": [],
   "source": [
    "# Extract node and edge data\n",
    "nodes = graph_data['nodes']\n",
    "edges = graph_data['links']\n",
    "categories = graph_data['categories']\n",
    "\n",
    "# Create an igraph graph\n",
    "g = ig.Graph(directed=False)  # Set directed=True if your data is directional\n",
    "g.add_vertices(len(nodes))\n",
    "\n",
    "# Add vertex attributes\n",
    "for i, node in enumerate(nodes):\n",
    "    g.vs[i]['name'] = node['Label']\n",
    "    g.vs[i]['category'] = categories[node['category']]['name']\n",
    "    g.vs[i]['research_count'] = node['research_count']\n",
    "    g.vs[i]['type'] = (node['category'] == 'Ligand')\n",
    "\n",
    "# Add edges\n",
    "edge_list = [(int(e['source']), int(e['target'])) for e in edges]\n",
    "g.add_edges(edge_list)\n",
    "\n",
    "# # Add edge attributes\n",
    "if 'Weight' in edges[0]:\n",
    "    for i, e in enumerate(edges):\n",
    "        g.es[i]['affinity'] = e['Weight']\n",
    "        g.es[i]['sourceLabel'] = e['sourceLabel']\n",
    "        g.es[i]['targetLabel'] = e['targetLabel']\n",
    "\n",
    "\n",
    "# # g = g.subgraph_edges(g.es.select(affinity_gt=0), delete_vertices=True)\n",
    "\n",
    "# # Recompute nodes and edges\n",
    "nodes = []\n",
    "edges = []\n",
    "\n",
    "for i, v in enumerate(g.vs):\n",
    "    nodes.append({\n",
    "        'id': i,\n",
    "        'Label': v['name'],\n",
    "        'category': v['category'],\n",
    "        'type': v['type'],\n",
    "        'research_count': v['research_count']\n",
    "    })\n",
    "\n",
    "for e in g.es:\n",
    "    edges.append({\n",
    "        'source': e.source,\n",
    "        'target': e.target,\n",
    "        'Weight': e['affinity'],\n",
    "        'sourceLabel': e['sourceLabel'],\n",
    "        'targetLabel': e['targetLabel']\n",
    "    })\n"
   ]
  },
  {
   "cell_type": "code",
   "execution_count": null,
   "metadata": {},
   "outputs": [],
   "source": [
    "# Print affinities\n",
    "len(edges)"
   ]
  },
  {
   "cell_type": "code",
   "execution_count": null,
   "metadata": {},
   "outputs": [],
   "source": [
    "all_nodes_df = pd.DataFrame(nodes)\n",
    "all_edges_df = pd.DataFrame(edges)\n",
    "\n",
    "all_nodes_df.to_csv(GRAPH_DATA_PATH + 'all_nodes.csv', index=False)\n",
    "all_edges_df.to_csv(GRAPH_DATA_PATH + 'all_edges.csv', index=False)"
   ]
  },
  {
   "cell_type": "markdown",
   "metadata": {},
   "source": [
    "## HTML Graphs"
   ]
  },
  {
   "cell_type": "code",
   "execution_count": null,
   "metadata": {},
   "outputs": [],
   "source": [
    "def bipartite_projection_with_affinity(g, project_on=\"ligand\"):\n",
    "    \"\"\"\n",
    "    Compute a bipartite projection of the given graph `g` onto either the ligand or protein side.\n",
    "    Then, aggregate 'affinity' values for each projected edge.\n",
    "\n",
    "    Parameters:\n",
    "    g : igraph.Graph\n",
    "        The original bipartite graph with\n",
    "        - `g.es['affinity']` set on the bipartite edges\n",
    "    project_on : str, optional, default: 'ligand'\n",
    "        Which set of nodes to project on. \n",
    "        'ligand' projects onto ligand nodes (type=True),\n",
    "        'protein' projects onto protein nodes (type=False).\n",
    "\n",
    "    Returns:\n",
    "    proj_nodes : list of dict\n",
    "        A list of node dictionaries with 'id' and 'name'.\n",
    "    proj_edges : list of dict\n",
    "        A list of edge dictionaries with 'source', 'target', and aggregated 'affinity'.\n",
    "    \"\"\"\n",
    "\n",
    "    # Perform bipartite projection\n",
    "    # g_ligand_proj: projection onto ligand nodes\n",
    "    # g_protein_proj: projection onto protein nodes\n",
    "    g_ligand_proj, g_protein_proj = g.bipartite_projection(multiplicity=True)\n",
    "\n",
    "    # Choose which projection to work with\n",
    "    if project_on == \"ligand\":\n",
    "        g_proj = g_ligand_proj\n",
    "    elif project_on == \"protein\":\n",
    "        g_proj = g_protein_proj\n",
    "    else:\n",
    "        raise ValueError(\"project_on must be either 'ligand' or 'protein'\")\n",
    "\n",
    "    # Create lookup from node name to original index for convenience\n",
    "    name_to_index = {v['name']: v.index for v in g.vs}\n",
    "\n",
    "    # Compute aggregated affinity on projected edges\n",
    "    for e in g_proj.es:\n",
    "        source_name = g_proj.vs[e.source]['name']\n",
    "        target_name = g_proj.vs[e.target]['name']\n",
    "\n",
    "        # Map back to original graph indices\n",
    "        source_index = name_to_index[source_name]\n",
    "        target_index = name_to_index[target_name]\n",
    "\n",
    "        # Find common neighbors in original graph\n",
    "        source_neighbors = set(g.neighbors(source_index))\n",
    "        target_neighbors = set(g.neighbors(target_index))\n",
    "        shared_intermediates = source_neighbors & target_neighbors\n",
    "\n",
    "        # We do the average of the affinities\n",
    "        affinities = []\n",
    "        for p in shared_intermediates:\n",
    "            eid_source_p = g.get_eid(source_index, p)\n",
    "            eid_target_p = g.get_eid(target_index, p)\n",
    "\n",
    "            aff_source_p = g.es[eid_source_p]['affinity']\n",
    "            aff_target_p = g.es[eid_target_p]['affinity']\n",
    "\n",
    "            avg_aff = (aff_source_p + aff_target_p) / 2.0\n",
    "            affinities.append(avg_aff)\n",
    "\n",
    "        e['affinity'] = sum(affinities)/len(affinities) if affinities else None\n",
    "\n",
    "    # Retrieve nodes with their names\n",
    "    proj_nodes = []\n",
    "    for v in g_proj.vs:\n",
    "        proj_nodes.append({\n",
    "            'id': v.index,\n",
    "            'name': v['name']\n",
    "        })\n",
    "\n",
    "    # Retrieve edges with their aggregated affinity\n",
    "    proj_edges = []\n",
    "    for e in g_proj.es:\n",
    "        proj_edges.append({\n",
    "            'source': e.source,\n",
    "            'target': e.target,\n",
    "            'affinity': e['affinity']\n",
    "        })\n",
    "\n",
    "    return proj_nodes, proj_edges\n"
   ]
  },
  {
   "cell_type": "markdown",
   "metadata": {},
   "source": [
    "## Echarts Projected Graph"
   ]
  },
  {
   "cell_type": "code",
   "execution_count": null,
   "metadata": {},
   "outputs": [],
   "source": [
    "from pyecharts.charts import Graph\n",
    "from pyecharts import options as opts\n",
    "\n",
    "def generate_echarts_graph(nodes, edges):\n",
    "    \"\"\"\n",
    "    Generate an ECharts graph from the given nodes and edges.\n",
    "\n",
    "    Parameters:\n",
    "    nodes : list of dict\n",
    "        A list of node dictionaries with 'id', 'name', and 'symbolSize'.\n",
    "    edges : list of dict\n",
    "        A list of edge dictionaries with 'source', 'target', and 'lineStyle'.\n",
    "\n",
    "    Returns:\n",
    "    graph : pyecharts.charts.Graph\n",
    "    \"\"\"\n",
    "\n",
    "    # Compute node degrees\n",
    "    node_degrees = {node[\"id\"]: 0 for node in nodes}\n",
    "    for edge in edges:\n",
    "        node_degrees[edge[\"source\"]] += 1\n",
    "        node_degrees[edge[\"target\"]] += 1\n",
    "\n",
    "    # Assign symbol_size to each node based on its degree\n",
    "    for node in nodes:\n",
    "        degree = node_degrees[node[\"id\"]]\n",
    "        # For example, make the size proportional to degree * 5, fallback to 10 if degree = 0\n",
    "        node[\"symbolSize\"] = np.clip(degree, 0.1, 10) if degree > 0 else 0.1\n",
    "\n",
    "    # Assign edge width based on 'affinity' (if available)\n",
    "    for edge in edges:\n",
    "        weight = edge.get(\"affinity\", 0.5) * 3\n",
    "        edge[\"lineStyle\"] = {\"width\": weight}  # scale it up if needed\n",
    "\n",
    "    # Create the graph\n",
    "    graph = Graph(init_opts=opts.InitOpts(width=\"100%\", height=\"700px\"))\n",
    "    graph.add(\n",
    "        series_name=\"\",\n",
    "        nodes=nodes,\n",
    "        links=edges,\n",
    "        layout=\"force\",\n",
    "        edge_length=[100, 250],\n",
    "        repulsion=200,\n",
    "        linestyle_opts=opts.LineStyleOpts(opacity=0.5)  # Base line style\n",
    "\n",
    "    )\n",
    "\n",
    "    graph.set_series_opts(\n",
    "        label_opts=opts.LabelOpts(\n",
    "            is_show=False,  # Hide labels by default\n",
    "            position=\"right\",\n",
    "            formatter=\"{b}\"  # Use node name as the label\n",
    "        )\n",
    "    )\n",
    "\n",
    "    return graph\n"
   ]
  },
  {
   "cell_type": "code",
   "execution_count": null,
   "metadata": {},
   "outputs": [],
   "source": [
    "ligands_proj_nodes, ligands_proj_edges = bipartite_projection_with_affinity(g_cancer, project_on=\"ligand\")\n",
    "graph = generate_echarts_graph(ligands_proj_nodes, ligands_proj_edges)\n",
    "graph.set_global_opts(\n",
    "    title_opts=opts.TitleOpts(title=\"Cancer Drugs Projected Interaction Network\")\n",
    ")\n",
    "\n",
    "graph.render(\"graph_data/cancer_ligands_graph.html\")\n"
   ]
  },
  {
   "cell_type": "code",
   "execution_count": null,
   "metadata": {},
   "outputs": [],
   "source": [
    "proteins_proj_nodes, proteins_proj_edges = bipartite_projection_with_affinity(g_cancer, project_on=\"protein\")\n",
    "graph = generate_echarts_graph(proteins_proj_nodes, proteins_proj_edges)\n",
    "graph.set_global_opts(\n",
    "    title_opts=opts.TitleOpts(title=\"Cancer Proteins Projected Interaction Network\")\n",
    ")\n",
    "\n",
    "graph.render(\"graph_data/cancer_proteins_graph.html\")\n"
   ]
  }
 ],
 "metadata": {
  "kernelspec": {
   "display_name": "ada",
   "language": "python",
   "name": "python3"
  },
  "language_info": {
   "codemirror_mode": {
    "name": "ipython",
    "version": 3
   },
   "file_extension": ".py",
   "mimetype": "text/x-python",
   "name": "python",
   "nbconvert_exporter": "python",
   "pygments_lexer": "ipython3",
   "version": "3.11.9"
  }
 },
 "nbformat": 4,
 "nbformat_minor": 2
}
