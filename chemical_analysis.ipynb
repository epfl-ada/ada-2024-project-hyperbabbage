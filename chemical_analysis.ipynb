{
 "cells": [
  {
   "cell_type": "markdown",
   "metadata": {},
   "source": [
    "# Chemicals analysis"
   ]
  },
  {
   "cell_type": "code",
   "execution_count": 61,
   "metadata": {},
   "outputs": [
    {
     "name": "stdout",
     "output_type": "stream",
     "text": [
      "The autoreload extension is already loaded. To reload it, use:\n",
      "  %reload_ext autoreload\n"
     ]
    }
   ],
   "source": [
    "import os\n",
    "import gc\n",
    "import re\n",
    "import requests\n",
    "import time\n",
    "import random\n",
    "\n",
    "import numpy as np\n",
    "import pandas as pd\n",
    "\n",
    "import matplotlib.pyplot as plt\n",
    "import xml.etree.ElementTree as ET\n",
    "from tqdm import tqdm\n",
    "import pandas as pd\n",
    "from concurrent.futures import ThreadPoolExecutor\n",
    "\n",
    "import seaborn as sns\n",
    "import networkx as nx\n",
    "import statsmodels.api as sm\n",
    "import statsmodels.formula.api as smf\n",
    "\n",
    "from statsmodels.stats import diagnostic\n",
    "from scipy import stats\n",
    "\n",
    "from src.drugbank_XML_drugparser import DrugParser\n",
    "from src.drugbank_bindingdb_merger import DrugBank_BindingDB_Merger\n",
    "from src.preprocessing import Preprocessing, ColumnClean\n",
    "\n",
    "from src.data_paths import *\n",
    "\n",
    "%matplotlib inline\n",
    "\n",
    "%load_ext autoreload\n",
    "%autoreload 2"
   ]
  },
  {
   "cell_type": "markdown",
   "metadata": {},
   "source": [
    "## importing merged BDB and DB\n"
   ]
  },
  {
   "cell_type": "code",
   "execution_count": 62,
   "metadata": {},
   "outputs": [],
   "source": [
    "\n",
    "merged_df = pd.read_pickle(MERGED)"
   ]
  },
  {
   "cell_type": "code",
   "execution_count": 63,
   "metadata": {},
   "outputs": [
    {
     "data": {
      "text/plain": [
       "Index(['ki', 'ph', 'temp', 'ic50', 'ec50', 'kd', 'kon', 'koff', 'doi',\n",
       "       'target_name', 'pubchem_cid', 'chebi_id', 'chembl_id', 'drugbank_id',\n",
       "       'kegg_id', 'zinc_id', 'smiles', 'inchi_key', 'bindingdb_id',\n",
       "       'swissprot_target_chain_name', 'swissprot_target_chain_entry_name',\n",
       "       'swissprot_protein_id', 'Unique_ID', 'drugbank_drug_name',\n",
       "       'drugbank_drug_unii', 'drugbank_drug_toxicity',\n",
       "       'drugbank_drug_class_kingdom', 'drugbank_drug_class_superclass',\n",
       "       'drugbank_drug_synonyms', 'drugbank_drug_categories',\n",
       "       'drugbank_drug_patent_approved', 'drugbank_drug_interaction',\n",
       "       'Matched_On', 'drugbank_protein_name',\n",
       "       'drugbank_protein_general_function',\n",
       "       'drugbank_protein_specific_function', 'drugbank_protein_organism'],\n",
       "      dtype='object')"
      ]
     },
     "execution_count": 63,
     "metadata": {},
     "output_type": "execute_result"
    }
   ],
   "source": [
    "merged_df.columns"
   ]
  },
  {
   "cell_type": "code",
   "execution_count": 64,
   "metadata": {},
   "outputs": [
    {
     "data": {
      "text/plain": [
       "<StringArray>\n",
       "[  'POL_HV1BR',   'POL_HV196', 'CP3A4_HUMAN', 'GALK1_HUMAN',   'POL_HV1N5',\n",
       " 'CASP3_HUMAN', 'CASP1_HUMAN', 'CASP4_HUMAN', 'CASP7_HUMAN', 'CASP6_HUMAN',\n",
       " ...\n",
       " 'CISY2_MYCTU',    'M2_I34A1',  'BMI1_HUMAN',  'CYSM_MYCTU', 'CYSK2_MYCTU',\n",
       "  'TRYS_CRIFA',  'PDF2_ARATH',  'ANGT_HUMAN', 'TGFB2_HUMAN',  'LUXQ_VIBHA']\n",
       "Length: 6533, dtype: string"
      ]
     },
     "execution_count": 64,
     "metadata": {},
     "output_type": "execute_result"
    }
   ],
   "source": [
    "merged_df[\"swissprot_target_chain_entry_name\"].dropna().unique()"
   ]
  },
  {
   "cell_type": "code",
   "execution_count": 65,
   "metadata": {},
   "outputs": [
    {
     "data": {
      "text/plain": [
       "array(['gag-pol', 'CCNA2', 'CCND1', 'CDK6', 'CDK5', '72', 'CDK7', 'CDK9',\n",
       "       'CDK2', 'FNTB', 'PGGT1B', 'PIK3CA', 'ITGB1', 'ITGB7', 'ITGA5',\n",
       "       'PIK3R2', 'PIK3CD', 'parE', 'gyrB', 'ureB', 'PIK3CB', 'GABRB3',\n",
       "       'GABRA1', 'GABRA2', 'GABRA3', 'GABRA5', 'GABRA4', 'GABRA6',\n",
       "       'GABRB2', 'APH1A', 'PRKAB1', 'PRKDC', 'MTOR', 'ABL1', 'HCK',\n",
       "       'EGFR', 'EPHB4', 'PDGFRB', 'RARA', 'TGM2', 'JAK3', 'HTR1B',\n",
       "       'MAPK9', 'INCENP', 'PDE3B', 'KDM1A', 'HSP90AA1', 'BTK', 'FYN',\n",
       "       'LYN', 'MAPK1', 'HDAC8', 'PIK3R1', 'HTR2C', 'GHSR', 'PRKAG1',\n",
       "       'PTGS2', 'GUCY1B1', 'GSTA1', 'TP53', 'ADRA2B', 'CHRNB2', 'MET',\n",
       "       'ALK', 'RET', 'PPARG', 'GRM2', 'ITGB3', 'ATP1B1', 'HDAC2',\n",
       "       'MAPKAPK2', 'MDM2', 'RXRA', 'MAPK3', 'MAP2K2', 'CACNB3', 'CFB',\n",
       "       'TAS1R3', 'TAS1R2', 'GSTP1', 'TAB1', 'FGFR1', 'ROCK1', 'ROCK2',\n",
       "       'ITGA4', 'CRBN', 'RAD51', 'SCN3A', 'CYP3A5', 'SERPINE1',\n",
       "       'SERPINC1', 'ITGAV', 'ITGB6', 'RRM2', 'XIAP', 'CACNA2D1', 'P2RX2',\n",
       "       'GRIN2B', 'KDR', 'GRIN1', 'CD274', 'CHRNA2', 'CLK1', 'HDAC3',\n",
       "       'BCR', 'ATR', 'HSP90AB1', 'ATP1A2', 'CYP2C19', 'PDCD1', 'ACE',\n",
       "       'KRAS', 'CHRM1', 'IDH1', 'MERTK', 'CLK2', 'PDE6B', 'GABRG2', 'IL3',\n",
       "       'BAD', 'BCL2L1', 'CDK8', 'F13A1', 'KCNJ5', 'LDLR', 'CTNNB1', 'MME',\n",
       "       'BECN1', 'CHRNB4', 'MAPK14', 'GSK3A', 'ACVRL1', 'TYK2', 'MAP3K1',\n",
       "       'KCNQ3', 'RPE65', 'ENO1', 'rpoA', 'PTGS1', 'ADRA1B', 'LTB4R',\n",
       "       'PRKACB', 'CACNA1S', 'GABBR2', 'HTR2B', 'CCKBR', 'CHRNA3', 'MMP2',\n",
       "       'MAPK11', 'ESR2', 'Htr2c', 'CHRM2', 'PRKCB', 'FOS', 'ABL2',\n",
       "       'PDE4C', 'AKT2', 'PRSS2', 'ICAM1', 'CYSLTR2', 'CAMK2A', 'PDGFRA',\n",
       "       'MAPK8', 'DRD4', 'ATP4B', 'ADORA2B', 'PDE1C', 'ADRB3', 'DHCR7',\n",
       "       'OPRK1', 'ADCY1', 'HTR3B', 'ABCC9', 'EDNRB', 'CAPNS1', 'CA2',\n",
       "       'RAMP1', 'CHRNA1', 'PSMB2', 'pagA', 'JAK1', 'JAK2', 'ABCC8',\n",
       "       'CSNK1E', 'IKBKG', 'NPM1', 'TXNRD2', 'RAMP3', 'MTNR1B', 'FGFR2',\n",
       "       'BACE1', 'AVPR1B', 'AGTR2', 'SSTR3', 'PDE6A', 'NMT2', 'F3',\n",
       "       'KCNQ1', 'PDE7B', 'MAOB', 'TOP2B', 'EPAS1', 'THRB', 'RRM2B',\n",
       "       'FKBP1A', 'parC', 'NR1H2', 'CNR2', 'CDK1', 'PPARA', 'ALOX5AP',\n",
       "       'HTR2A', 'GRIN2C', 'GRIN2D', 'PRKAA1', 'ITPR3', 'CXCR1', 'PGK1',\n",
       "       'PDK1', 'PDE5A', 'RAF1', 'IMPDH2', 'NPR3', 'CHRNA9', 'ADORA2A',\n",
       "       'GLRB', 'RAC1', 'PRKAB2', 'PRKAA2', 'KCNN4', 'CACNA1C', 'NOS1',\n",
       "       'NOS2', 'DRD2', 'MKNK2', 'CSNK2A2', 'LY96', 'RAMP2', 'ATIC', 'GAA',\n",
       "       'F8', 'KCNJ6', 'GRIA1', 'HTR3E', 'HTR3C', 'CASP4', 'CSNK2B',\n",
       "       'PIK3CG', 'RYR1', 'CHRNA6', 'ACACA', 'ADRA2A', 'FPR1', 'NDUFA10',\n",
       "       'MAPK10', 'PDE8B', 'IDH2', 'CACNA1G', 'CYP3A4', 'GNG2', 'TUBA4A',\n",
       "       'TBK1', 'PLA2G1B', 'EGLN2', 'SCN1B', 'SCN8A', 'PDE6C', 'DGKZ',\n",
       "       'ROS1', 'ADRA2C', 'PA', 'SDC2', 'GABRB1', 'CASP3', 'TLR6', 'LIMK2',\n",
       "       'HBB', 'MINK1'], dtype=object)"
      ]
     },
     "execution_count": 65,
     "metadata": {},
     "output_type": "execute_result"
    }
   ],
   "source": [
    "merged_df[\"drugbank_protein_name\"].dropna().unique()"
   ]
  },
  {
   "cell_type": "markdown",
   "metadata": {},
   "source": [
    "## Importing cancerous proteins dataframe and filtering merged_df"
   ]
  },
  {
   "cell_type": "code",
   "execution_count": 67,
   "metadata": {},
   "outputs": [
    {
     "name": "stdout",
     "output_type": "stream",
     "text": [
      "(20199, 38)\n"
     ]
    },
    {
     "data": {
      "text/html": [
       "<div>\n",
       "<style scoped>\n",
       "    .dataframe tbody tr th:only-of-type {\n",
       "        vertical-align: middle;\n",
       "    }\n",
       "\n",
       "    .dataframe tbody tr th {\n",
       "        vertical-align: top;\n",
       "    }\n",
       "\n",
       "    .dataframe thead th {\n",
       "        text-align: right;\n",
       "    }\n",
       "</style>\n",
       "<table border=\"1\" class=\"dataframe\">\n",
       "  <thead>\n",
       "    <tr style=\"text-align: right;\">\n",
       "      <th></th>\n",
       "      <th>index</th>\n",
       "      <th>ki</th>\n",
       "      <th>ph</th>\n",
       "      <th>temp</th>\n",
       "      <th>ic50</th>\n",
       "      <th>ec50</th>\n",
       "      <th>kd</th>\n",
       "      <th>kon</th>\n",
       "      <th>koff</th>\n",
       "      <th>doi</th>\n",
       "      <th>...</th>\n",
       "      <th>drugbank_drug_class_superclass</th>\n",
       "      <th>drugbank_drug_synonyms</th>\n",
       "      <th>drugbank_drug_categories</th>\n",
       "      <th>drugbank_drug_patent_approved</th>\n",
       "      <th>drugbank_drug_interaction</th>\n",
       "      <th>Matched_On</th>\n",
       "      <th>drugbank_protein_name</th>\n",
       "      <th>drugbank_protein_general_function</th>\n",
       "      <th>drugbank_protein_specific_function</th>\n",
       "      <th>drugbank_protein_organism</th>\n",
       "    </tr>\n",
       "  </thead>\n",
       "  <tbody>\n",
       "    <tr>\n",
       "      <th>0</th>\n",
       "      <td>8960</td>\n",
       "      <td>&lt;NA&gt;</td>\n",
       "      <td>7.6</td>\n",
       "      <td>22.0</td>\n",
       "      <td>840.0</td>\n",
       "      <td>&lt;NA&gt;</td>\n",
       "      <td>&lt;NA&gt;</td>\n",
       "      <td>&lt;NA&gt;</td>\n",
       "      <td>&lt;NA&gt;</td>\n",
       "      <td>10.1021/jm0201722</td>\n",
       "      <td>...</td>\n",
       "      <td>NaN</td>\n",
       "      <td>NaN</td>\n",
       "      <td>NaN</td>\n",
       "      <td>NaN</td>\n",
       "      <td>NaN</td>\n",
       "      <td>NaN</td>\n",
       "      <td>CCND1</td>\n",
       "      <td>Transcription factor binding</td>\n",
       "      <td>Regulatory component of the cyclin D1-CDK4 (DC...</td>\n",
       "      <td>Humans</td>\n",
       "    </tr>\n",
       "    <tr>\n",
       "      <th>1</th>\n",
       "      <td>8961</td>\n",
       "      <td>&lt;NA&gt;</td>\n",
       "      <td>7.6</td>\n",
       "      <td>22.0</td>\n",
       "      <td>490.0</td>\n",
       "      <td>&lt;NA&gt;</td>\n",
       "      <td>&lt;NA&gt;</td>\n",
       "      <td>&lt;NA&gt;</td>\n",
       "      <td>&lt;NA&gt;</td>\n",
       "      <td>10.1021/jm0201722</td>\n",
       "      <td>...</td>\n",
       "      <td>NaN</td>\n",
       "      <td>NaN</td>\n",
       "      <td>NaN</td>\n",
       "      <td>NaN</td>\n",
       "      <td>NaN</td>\n",
       "      <td>NaN</td>\n",
       "      <td>CCND1</td>\n",
       "      <td>Transcription factor binding</td>\n",
       "      <td>Regulatory component of the cyclin D1-CDK4 (DC...</td>\n",
       "      <td>Humans</td>\n",
       "    </tr>\n",
       "    <tr>\n",
       "      <th>2</th>\n",
       "      <td>8962</td>\n",
       "      <td>&lt;NA&gt;</td>\n",
       "      <td>7.6</td>\n",
       "      <td>22.0</td>\n",
       "      <td>640.0</td>\n",
       "      <td>&lt;NA&gt;</td>\n",
       "      <td>&lt;NA&gt;</td>\n",
       "      <td>&lt;NA&gt;</td>\n",
       "      <td>&lt;NA&gt;</td>\n",
       "      <td>10.1021/jm0201722</td>\n",
       "      <td>...</td>\n",
       "      <td>NaN</td>\n",
       "      <td>NaN</td>\n",
       "      <td>NaN</td>\n",
       "      <td>NaN</td>\n",
       "      <td>NaN</td>\n",
       "      <td>NaN</td>\n",
       "      <td>CCND1</td>\n",
       "      <td>Transcription factor binding</td>\n",
       "      <td>Regulatory component of the cyclin D1-CDK4 (DC...</td>\n",
       "      <td>Humans</td>\n",
       "    </tr>\n",
       "    <tr>\n",
       "      <th>3</th>\n",
       "      <td>8963</td>\n",
       "      <td>&lt;NA&gt;</td>\n",
       "      <td>7.6</td>\n",
       "      <td>22.0</td>\n",
       "      <td>1900.0</td>\n",
       "      <td>&lt;NA&gt;</td>\n",
       "      <td>&lt;NA&gt;</td>\n",
       "      <td>&lt;NA&gt;</td>\n",
       "      <td>&lt;NA&gt;</td>\n",
       "      <td>10.1021/jm0201722</td>\n",
       "      <td>...</td>\n",
       "      <td>NaN</td>\n",
       "      <td>NaN</td>\n",
       "      <td>NaN</td>\n",
       "      <td>NaN</td>\n",
       "      <td>NaN</td>\n",
       "      <td>NaN</td>\n",
       "      <td>CCND1</td>\n",
       "      <td>Transcription factor binding</td>\n",
       "      <td>Regulatory component of the cyclin D1-CDK4 (DC...</td>\n",
       "      <td>Humans</td>\n",
       "    </tr>\n",
       "    <tr>\n",
       "      <th>4</th>\n",
       "      <td>8964</td>\n",
       "      <td>&lt;NA&gt;</td>\n",
       "      <td>7.6</td>\n",
       "      <td>22.0</td>\n",
       "      <td>2800.0</td>\n",
       "      <td>&lt;NA&gt;</td>\n",
       "      <td>&lt;NA&gt;</td>\n",
       "      <td>&lt;NA&gt;</td>\n",
       "      <td>&lt;NA&gt;</td>\n",
       "      <td>10.1021/jm0201722</td>\n",
       "      <td>...</td>\n",
       "      <td>NaN</td>\n",
       "      <td>NaN</td>\n",
       "      <td>NaN</td>\n",
       "      <td>NaN</td>\n",
       "      <td>NaN</td>\n",
       "      <td>NaN</td>\n",
       "      <td>CCND1</td>\n",
       "      <td>Transcription factor binding</td>\n",
       "      <td>Regulatory component of the cyclin D1-CDK4 (DC...</td>\n",
       "      <td>Humans</td>\n",
       "    </tr>\n",
       "  </tbody>\n",
       "</table>\n",
       "<p>5 rows × 38 columns</p>\n",
       "</div>"
      ],
      "text/plain": [
       "   index    ki   ph  temp    ic50  ec50    kd   kon  koff                doi  \\\n",
       "0   8960  <NA>  7.6  22.0   840.0  <NA>  <NA>  <NA>  <NA>  10.1021/jm0201722   \n",
       "1   8961  <NA>  7.6  22.0   490.0  <NA>  <NA>  <NA>  <NA>  10.1021/jm0201722   \n",
       "2   8962  <NA>  7.6  22.0   640.0  <NA>  <NA>  <NA>  <NA>  10.1021/jm0201722   \n",
       "3   8963  <NA>  7.6  22.0  1900.0  <NA>  <NA>  <NA>  <NA>  10.1021/jm0201722   \n",
       "4   8964  <NA>  7.6  22.0  2800.0  <NA>  <NA>  <NA>  <NA>  10.1021/jm0201722   \n",
       "\n",
       "   ... drugbank_drug_class_superclass  drugbank_drug_synonyms  \\\n",
       "0  ...                            NaN                     NaN   \n",
       "1  ...                            NaN                     NaN   \n",
       "2  ...                            NaN                     NaN   \n",
       "3  ...                            NaN                     NaN   \n",
       "4  ...                            NaN                     NaN   \n",
       "\n",
       "   drugbank_drug_categories drugbank_drug_patent_approved  \\\n",
       "0                       NaN                           NaN   \n",
       "1                       NaN                           NaN   \n",
       "2                       NaN                           NaN   \n",
       "3                       NaN                           NaN   \n",
       "4                       NaN                           NaN   \n",
       "\n",
       "  drugbank_drug_interaction Matched_On drugbank_protein_name  \\\n",
       "0                       NaN        NaN                 CCND1   \n",
       "1                       NaN        NaN                 CCND1   \n",
       "2                       NaN        NaN                 CCND1   \n",
       "3                       NaN        NaN                 CCND1   \n",
       "4                       NaN        NaN                 CCND1   \n",
       "\n",
       "  drugbank_protein_general_function  \\\n",
       "0      Transcription factor binding   \n",
       "1      Transcription factor binding   \n",
       "2      Transcription factor binding   \n",
       "3      Transcription factor binding   \n",
       "4      Transcription factor binding   \n",
       "\n",
       "                  drugbank_protein_specific_function  \\\n",
       "0  Regulatory component of the cyclin D1-CDK4 (DC...   \n",
       "1  Regulatory component of the cyclin D1-CDK4 (DC...   \n",
       "2  Regulatory component of the cyclin D1-CDK4 (DC...   \n",
       "3  Regulatory component of the cyclin D1-CDK4 (DC...   \n",
       "4  Regulatory component of the cyclin D1-CDK4 (DC...   \n",
       "\n",
       "   drugbank_protein_organism  \n",
       "0                     Humans  \n",
       "1                     Humans  \n",
       "2                     Humans  \n",
       "3                     Humans  \n",
       "4                     Humans  \n",
       "\n",
       "[5 rows x 38 columns]"
      ]
     },
     "execution_count": 67,
     "metadata": {},
     "output_type": "execute_result"
    }
   ],
   "source": [
    "\n",
    "# loads cancerous protein dataframe\n",
    "protein_classes = pd.read_csv(\"data/clean/protein_class_COSMIC.tsv\", sep='\\t')\n",
    "# test\n",
    "#protein_classes[protein_classes.Gene==\"CCND1\"]\n",
    "cancer_proteins = list(protein_classes[\"Gene\"].values)\n",
    "\n",
    "# joins all targeted proteins \n",
    "pattern_protein_names = '|'.join(rf\"\\b{re.escape(term)}\\b\" for term in cancer_proteins)\n",
    "\n",
    "#test\n",
    "#pattern_protein_names\n",
    "\n",
    "# extract rows based on the columns that contain cancer_keywords \n",
    "filtered_df = merged_df[\n",
    "    #merged_df['drugbank_drug_unii'].str.contains(pattern_protein_names, case=False, na=False) |\n",
    "    #merged_df['swissprot_target_chain_name'].str.contains(pattern_protein_names, case=False, na=False) |\n",
    "    merged_df['swissprot_protein_id'].str.contains(pattern_protein_names, case=False, na=False) |\n",
    "    merged_df['drugbank_protein_name'].str.contains(pattern_protein_names, case=False, na=False)\n",
    "]\n",
    "filtered_df.reset_index(inplace=True)\n",
    "\n",
    "\n",
    "print(filtered_df.shape)\n",
    "filtered_df.head()"
   ]
  },
  {
   "cell_type": "code",
   "execution_count": 98,
   "metadata": {},
   "outputs": [
    {
     "name": "stdout",
     "output_type": "stream",
     "text": [
      "Gene\n",
      "Gene synonym\n",
      "Ensembl\n",
      "Gene description\n",
      "Uniprot\n",
      "Chromosome\n",
      "Position\n",
      "Protein class\n",
      "Biological process\n",
      "Molecular function\n",
      "Disease involvement\n",
      "Evidence\n",
      "HPA evidence\n",
      "UniProt evidence\n",
      "NeXtProt evidence\n",
      "RNA tissue specificity\n",
      "RNA tissue distribution\n",
      "RNA tissue specificity score\n",
      "RNA tissue specific nTPM\n",
      "RNA single cell type specificity\n",
      "RNA single cell type distribution\n",
      "RNA single cell type specificity score\n",
      "RNA single cell type specific nTPM\n",
      "RNA single nuclei brain specificity\n",
      "RNA single nuclei brain distribution\n",
      "RNA single nuclei brain specificity score\n",
      "RNA single nuclei brain specific nTPM\n",
      "RNA cancer specificity\n",
      "RNA cancer distribution\n",
      "RNA cancer specificity score\n",
      "RNA cancer specific FPKM\n",
      "RNA brain regional specificity\n",
      "RNA brain regional distribution\n",
      "RNA brain regional specificity score\n",
      "RNA brain regional specific nTPM\n",
      "RNA blood cell specificity\n",
      "RNA blood cell distribution\n",
      "RNA blood cell specificity score\n",
      "RNA blood cell specific nTPM\n",
      "RNA blood lineage specificity\n",
      "RNA blood lineage distribution\n",
      "RNA blood lineage specificity score\n",
      "RNA blood lineage specific nTPM\n",
      "RNA cell line specificity\n",
      "RNA cell line distribution\n",
      "RNA cell line specificity score\n",
      "RNA cell line specific nTPM\n",
      "RNA tissue cell type enrichment\n",
      "RNA mouse brain regional specificity\n",
      "RNA mouse brain regional distribution\n",
      "RNA mouse brain regional specificity score\n",
      "RNA mouse brain regional specific nTPM\n",
      "RNA pig brain regional specificity\n",
      "RNA pig brain regional distribution\n",
      "RNA pig brain regional specificity score\n",
      "RNA pig brain regional specific nTPM\n",
      "Antibody\n",
      "Reliability (IH)\n",
      "Reliability (Mouse Brain)\n",
      "Reliability (IF)\n",
      "Subcellular location\n",
      "Secretome location\n",
      "Secretome function\n",
      "CCD Protein\n",
      "CCD Transcript\n",
      "Blood concentration - Conc. blood IM [pg/L]\n",
      "Blood concentration - Conc. blood MS [pg/L]\n",
      "Blood expression cluster\n",
      "Tissue expression cluster\n",
      "Brain expression cluster\n",
      "Cell line expression cluster\n",
      "Single cell expression cluster\n",
      "Interactions\n",
      "Subcellular main location\n",
      "Subcellular additional location\n",
      "Antibody RRID\n",
      "Cancer prognostics - Bladder Urothelial Carcinoma (TCGA)\n",
      "Cancer prognostics - Breast Invasive Carcinoma (TCGA)\n",
      "Cancer prognostics - Breast Invasive Carcinoma (validation)\n",
      "Cancer prognostics - Cervical Squamous Cell Carcinoma and Endocervical Adenocarcinoma (TCGA)\n",
      "Cancer prognostics - Colon Adenocarcinoma (TCGA)\n",
      "Cancer prognostics - Colon Adenocarcinoma (validation)\n",
      "Cancer prognostics - Glioblastoma Multiforme (TCGA)\n",
      "Cancer prognostics - Glioblastoma Multiforme (validation)\n",
      "Cancer prognostics - Head and Neck Squamous Cell Carcinoma (TCGA)\n",
      "Cancer prognostics - Kidney Chromophobe (TCGA)\n",
      "Cancer prognostics - Kidney Renal Clear Cell Carcinoma (TCGA)\n",
      "Cancer prognostics - Kidney Renal Clear Cell Carcinoma (validation)\n",
      "Cancer prognostics - Kidney Renal Papillary Cell Carcinoma (TCGA)\n",
      "Cancer prognostics - Liver Hepatocellular Carcinoma (TCGA)\n",
      "Cancer prognostics - Liver Hepatocellular Carcinoma (validation)\n",
      "Cancer prognostics - Lung Adenocarcinoma (TCGA)\n",
      "Cancer prognostics - Lung Adenocarcinoma (validation)\n",
      "Cancer prognostics - Lung Squamous Cell Carcinoma (TCGA)\n",
      "Cancer prognostics - Lung Squamous Cell Carcinoma (validation)\n",
      "Cancer prognostics - Ovary Serous Cystadenocarcinoma (TCGA)\n",
      "Cancer prognostics - Ovary Serous Cystadenocarcinoma (validation)\n",
      "Cancer prognostics - Pancreatic Adenocarcinoma (TCGA)\n",
      "Cancer prognostics - Pancreatic Adenocarcinoma (validation)\n",
      "Cancer prognostics - Prostate Adenocarcinoma (TCGA)\n",
      "Cancer prognostics - Rectum Adenocarcinoma (TCGA)\n",
      "Cancer prognostics - Rectum Adenocarcinoma (validation)\n",
      "Cancer prognostics - Skin Cuteneous Melanoma (TCGA)\n",
      "Cancer prognostics - Stomach Adenocarcinoma (TCGA)\n",
      "Cancer prognostics - Testicular Germ Cell Tumor (TCGA)\n",
      "Cancer prognostics - Thyroid Carcinoma (TCGA)\n",
      "Cancer prognostics - Uterine Corpus Endometrial Carcinoma (TCGA)\n"
     ]
    }
   ],
   "source": [
    "for col_name in protein_classes.columns:\n",
    "    print(col_name)"
   ]
  },
  {
   "cell_type": "code",
   "execution_count": 96,
   "metadata": {},
   "outputs": [
    {
     "data": {
      "text/plain": [
       "45"
      ]
     },
     "execution_count": 96,
     "metadata": {},
     "output_type": "execute_result"
    }
   ],
   "source": [
    "inter = set(protein_classes[\"Uniprot\"]).intersection(set(filtered_df[\"swissprot_protein_id\"]))\n",
    "len(inter)"
   ]
  },
  {
   "cell_type": "code",
   "execution_count": 69,
   "metadata": {},
   "outputs": [
    {
     "ename": "KeyboardInterrupt",
     "evalue": "",
     "output_type": "error",
     "traceback": [
      "\u001b[1;31m---------------------------------------------------------------------------\u001b[0m",
      "\u001b[1;31mKeyboardInterrupt\u001b[0m                         Traceback (most recent call last)",
      "Cell \u001b[1;32mIn[69], line 4\u001b[0m\n\u001b[0;32m      2\u001b[0m total_rows\u001b[38;5;241m=\u001b[39m\u001b[38;5;241m0\u001b[39m\n\u001b[0;32m      3\u001b[0m \u001b[38;5;28;01mfor\u001b[39;00m prot_name \u001b[38;5;129;01min\u001b[39;00m merged_df[\u001b[38;5;124m\"\u001b[39m\u001b[38;5;124mdrugbank_protein_name\u001b[39m\u001b[38;5;124m\"\u001b[39m]\u001b[38;5;241m.\u001b[39mdropna()\u001b[38;5;241m.\u001b[39mvalues:\n\u001b[1;32m----> 4\u001b[0m     \u001b[38;5;28;01mif\u001b[39;00m protein_classes[\u001b[38;5;124m\"\u001b[39m\u001b[38;5;124mGene\u001b[39m\u001b[38;5;124m\"\u001b[39m]\u001b[38;5;241m.\u001b[39mstr\u001b[38;5;241m.\u001b[39mcontains(prot_name)\u001b[38;5;241m.\u001b[39msum():\n\u001b[0;32m      5\u001b[0m         counter\u001b[38;5;241m+\u001b[39m\u001b[38;5;241m=\u001b[39m\u001b[38;5;241m1\u001b[39m\n\u001b[0;32m      6\u001b[0m     total_rows\u001b[38;5;241m+\u001b[39m\u001b[38;5;241m=\u001b[39mprotein_classes[\u001b[38;5;124m\"\u001b[39m\u001b[38;5;124mGene\u001b[39m\u001b[38;5;124m\"\u001b[39m]\u001b[38;5;241m.\u001b[39mstr\u001b[38;5;241m.\u001b[39mcontains(prot_name)\u001b[38;5;241m.\u001b[39msum()\n",
      "File \u001b[1;32mc:\\Users\\godenzi\\AppData\\Local\\anaconda3\\Lib\\site-packages\\pandas\\core\\series.py:6528\u001b[0m, in \u001b[0;36mSeries.sum\u001b[1;34m(self, axis, skipna, numeric_only, min_count, **kwargs)\u001b[0m\n\u001b[0;32m   6519\u001b[0m \u001b[38;5;129m@doc\u001b[39m(make_doc(\u001b[38;5;124m\"\u001b[39m\u001b[38;5;124msum\u001b[39m\u001b[38;5;124m\"\u001b[39m, ndim\u001b[38;5;241m=\u001b[39m\u001b[38;5;241m1\u001b[39m))\n\u001b[0;32m   6520\u001b[0m \u001b[38;5;28;01mdef\u001b[39;00m \u001b[38;5;21msum\u001b[39m(\n\u001b[0;32m   6521\u001b[0m     \u001b[38;5;28mself\u001b[39m,\n\u001b[1;32m   (...)\u001b[0m\n\u001b[0;32m   6526\u001b[0m     \u001b[38;5;241m*\u001b[39m\u001b[38;5;241m*\u001b[39mkwargs,\n\u001b[0;32m   6527\u001b[0m ):\n\u001b[1;32m-> 6528\u001b[0m     \u001b[38;5;28;01mreturn\u001b[39;00m NDFrame\u001b[38;5;241m.\u001b[39msum(\u001b[38;5;28mself\u001b[39m, axis, skipna, numeric_only, min_count, \u001b[38;5;241m*\u001b[39m\u001b[38;5;241m*\u001b[39mkwargs)\n",
      "File \u001b[1;32mc:\\Users\\godenzi\\AppData\\Local\\anaconda3\\Lib\\site-packages\\pandas\\core\\generic.py:12506\u001b[0m, in \u001b[0;36mNDFrame.sum\u001b[1;34m(self, axis, skipna, numeric_only, min_count, **kwargs)\u001b[0m\n\u001b[0;32m  12498\u001b[0m \u001b[38;5;28;01mdef\u001b[39;00m \u001b[38;5;21msum\u001b[39m(\n\u001b[0;32m  12499\u001b[0m     \u001b[38;5;28mself\u001b[39m,\n\u001b[0;32m  12500\u001b[0m     axis: Axis \u001b[38;5;241m|\u001b[39m \u001b[38;5;28;01mNone\u001b[39;00m \u001b[38;5;241m=\u001b[39m \u001b[38;5;241m0\u001b[39m,\n\u001b[1;32m   (...)\u001b[0m\n\u001b[0;32m  12504\u001b[0m     \u001b[38;5;241m*\u001b[39m\u001b[38;5;241m*\u001b[39mkwargs,\n\u001b[0;32m  12505\u001b[0m ):\n\u001b[1;32m> 12506\u001b[0m     \u001b[38;5;28;01mreturn\u001b[39;00m \u001b[38;5;28mself\u001b[39m\u001b[38;5;241m.\u001b[39m_min_count_stat_function(\n\u001b[0;32m  12507\u001b[0m         \u001b[38;5;124m\"\u001b[39m\u001b[38;5;124msum\u001b[39m\u001b[38;5;124m\"\u001b[39m, nanops\u001b[38;5;241m.\u001b[39mnansum, axis, skipna, numeric_only, min_count, \u001b[38;5;241m*\u001b[39m\u001b[38;5;241m*\u001b[39mkwargs\n\u001b[0;32m  12508\u001b[0m     )\n",
      "File \u001b[1;32mc:\\Users\\godenzi\\AppData\\Local\\anaconda3\\Lib\\site-packages\\pandas\\core\\generic.py:12489\u001b[0m, in \u001b[0;36mNDFrame._min_count_stat_function\u001b[1;34m(self, name, func, axis, skipna, numeric_only, min_count, **kwargs)\u001b[0m\n\u001b[0;32m  12486\u001b[0m \u001b[38;5;28;01melif\u001b[39;00m axis \u001b[38;5;129;01mis\u001b[39;00m lib\u001b[38;5;241m.\u001b[39mno_default:\n\u001b[0;32m  12487\u001b[0m     axis \u001b[38;5;241m=\u001b[39m \u001b[38;5;241m0\u001b[39m\n\u001b[1;32m> 12489\u001b[0m \u001b[38;5;28;01mreturn\u001b[39;00m \u001b[38;5;28mself\u001b[39m\u001b[38;5;241m.\u001b[39m_reduce(\n\u001b[0;32m  12490\u001b[0m     func,\n\u001b[0;32m  12491\u001b[0m     name\u001b[38;5;241m=\u001b[39mname,\n\u001b[0;32m  12492\u001b[0m     axis\u001b[38;5;241m=\u001b[39maxis,\n\u001b[0;32m  12493\u001b[0m     skipna\u001b[38;5;241m=\u001b[39mskipna,\n\u001b[0;32m  12494\u001b[0m     numeric_only\u001b[38;5;241m=\u001b[39mnumeric_only,\n\u001b[0;32m  12495\u001b[0m     min_count\u001b[38;5;241m=\u001b[39mmin_count,\n\u001b[0;32m  12496\u001b[0m )\n",
      "File \u001b[1;32mc:\\Users\\godenzi\\AppData\\Local\\anaconda3\\Lib\\site-packages\\pandas\\core\\series.py:6457\u001b[0m, in \u001b[0;36mSeries._reduce\u001b[1;34m(self, op, name, axis, skipna, numeric_only, filter_type, **kwds)\u001b[0m\n\u001b[0;32m   6452\u001b[0m     \u001b[38;5;66;03m# GH#47500 - change to TypeError to match other methods\u001b[39;00m\n\u001b[0;32m   6453\u001b[0m     \u001b[38;5;28;01mraise\u001b[39;00m \u001b[38;5;167;01mTypeError\u001b[39;00m(\n\u001b[0;32m   6454\u001b[0m         \u001b[38;5;124mf\u001b[39m\u001b[38;5;124m\"\u001b[39m\u001b[38;5;124mSeries.\u001b[39m\u001b[38;5;132;01m{\u001b[39;00mname\u001b[38;5;132;01m}\u001b[39;00m\u001b[38;5;124m does not allow \u001b[39m\u001b[38;5;132;01m{\u001b[39;00mkwd_name\u001b[38;5;132;01m}\u001b[39;00m\u001b[38;5;124m=\u001b[39m\u001b[38;5;132;01m{\u001b[39;00mnumeric_only\u001b[38;5;132;01m}\u001b[39;00m\u001b[38;5;124m \u001b[39m\u001b[38;5;124m\"\u001b[39m\n\u001b[0;32m   6455\u001b[0m         \u001b[38;5;124m\"\u001b[39m\u001b[38;5;124mwith non-numeric dtypes.\u001b[39m\u001b[38;5;124m\"\u001b[39m\n\u001b[0;32m   6456\u001b[0m     )\n\u001b[1;32m-> 6457\u001b[0m \u001b[38;5;28;01mreturn\u001b[39;00m op(delegate, skipna\u001b[38;5;241m=\u001b[39mskipna, \u001b[38;5;241m*\u001b[39m\u001b[38;5;241m*\u001b[39mkwds)\n",
      "File \u001b[1;32mc:\\Users\\godenzi\\AppData\\Local\\anaconda3\\Lib\\site-packages\\pandas\\core\\nanops.py:85\u001b[0m, in \u001b[0;36mdisallow.__call__.<locals>._f\u001b[1;34m(*args, **kwargs)\u001b[0m\n\u001b[0;32m     81\u001b[0m     \u001b[38;5;28;01mraise\u001b[39;00m \u001b[38;5;167;01mTypeError\u001b[39;00m(\n\u001b[0;32m     82\u001b[0m         \u001b[38;5;124mf\u001b[39m\u001b[38;5;124m\"\u001b[39m\u001b[38;5;124mreduction operation \u001b[39m\u001b[38;5;124m'\u001b[39m\u001b[38;5;132;01m{\u001b[39;00mf_name\u001b[38;5;132;01m}\u001b[39;00m\u001b[38;5;124m'\u001b[39m\u001b[38;5;124m not allowed for this dtype\u001b[39m\u001b[38;5;124m\"\u001b[39m\n\u001b[0;32m     83\u001b[0m     )\n\u001b[0;32m     84\u001b[0m \u001b[38;5;28;01mtry\u001b[39;00m:\n\u001b[1;32m---> 85\u001b[0m     \u001b[38;5;28;01mreturn\u001b[39;00m f(\u001b[38;5;241m*\u001b[39margs, \u001b[38;5;241m*\u001b[39m\u001b[38;5;241m*\u001b[39mkwargs)\n\u001b[0;32m     86\u001b[0m \u001b[38;5;28;01mexcept\u001b[39;00m \u001b[38;5;167;01mValueError\u001b[39;00m \u001b[38;5;28;01mas\u001b[39;00m e:\n\u001b[0;32m     87\u001b[0m     \u001b[38;5;66;03m# we want to transform an object array\u001b[39;00m\n\u001b[0;32m     88\u001b[0m     \u001b[38;5;66;03m# ValueError message to the more typical TypeError\u001b[39;00m\n\u001b[0;32m     89\u001b[0m     \u001b[38;5;66;03m# e.g. this is normally a disallowed function on\u001b[39;00m\n\u001b[0;32m     90\u001b[0m     \u001b[38;5;66;03m# object arrays that contain strings\u001b[39;00m\n\u001b[0;32m     91\u001b[0m     \u001b[38;5;28;01mif\u001b[39;00m is_object_dtype(args[\u001b[38;5;241m0\u001b[39m]):\n",
      "File \u001b[1;32mc:\\Users\\godenzi\\AppData\\Local\\anaconda3\\Lib\\site-packages\\pandas\\core\\nanops.py:404\u001b[0m, in \u001b[0;36m_datetimelike_compat.<locals>.new_func\u001b[1;34m(values, axis, skipna, mask, **kwargs)\u001b[0m\n\u001b[0;32m    401\u001b[0m \u001b[38;5;28;01mif\u001b[39;00m datetimelike \u001b[38;5;129;01mand\u001b[39;00m mask \u001b[38;5;129;01mis\u001b[39;00m \u001b[38;5;28;01mNone\u001b[39;00m:\n\u001b[0;32m    402\u001b[0m     mask \u001b[38;5;241m=\u001b[39m isna(values)\n\u001b[1;32m--> 404\u001b[0m result \u001b[38;5;241m=\u001b[39m func(values, axis\u001b[38;5;241m=\u001b[39maxis, skipna\u001b[38;5;241m=\u001b[39mskipna, mask\u001b[38;5;241m=\u001b[39mmask, \u001b[38;5;241m*\u001b[39m\u001b[38;5;241m*\u001b[39mkwargs)\n\u001b[0;32m    406\u001b[0m \u001b[38;5;28;01mif\u001b[39;00m datetimelike:\n\u001b[0;32m    407\u001b[0m     result \u001b[38;5;241m=\u001b[39m _wrap_results(result, orig_values\u001b[38;5;241m.\u001b[39mdtype, fill_value\u001b[38;5;241m=\u001b[39miNaT)\n",
      "File \u001b[1;32mc:\\Users\\godenzi\\AppData\\Local\\anaconda3\\Lib\\site-packages\\pandas\\core\\nanops.py:477\u001b[0m, in \u001b[0;36mmaybe_operate_rowwise.<locals>.newfunc\u001b[1;34m(values, axis, **kwargs)\u001b[0m\n\u001b[0;32m    474\u001b[0m         results \u001b[38;5;241m=\u001b[39m [func(x, \u001b[38;5;241m*\u001b[39m\u001b[38;5;241m*\u001b[39mkwargs) \u001b[38;5;28;01mfor\u001b[39;00m x \u001b[38;5;129;01min\u001b[39;00m arrs]\n\u001b[0;32m    475\u001b[0m     \u001b[38;5;28;01mreturn\u001b[39;00m np\u001b[38;5;241m.\u001b[39marray(results)\n\u001b[1;32m--> 477\u001b[0m \u001b[38;5;28;01mreturn\u001b[39;00m func(values, axis\u001b[38;5;241m=\u001b[39maxis, \u001b[38;5;241m*\u001b[39m\u001b[38;5;241m*\u001b[39mkwargs)\n",
      "File \u001b[1;32mc:\\Users\\godenzi\\AppData\\Local\\anaconda3\\Lib\\site-packages\\pandas\\core\\nanops.py:646\u001b[0m, in \u001b[0;36mnansum\u001b[1;34m(values, axis, skipna, min_count, mask)\u001b[0m\n\u001b[0;32m    643\u001b[0m \u001b[38;5;28;01melif\u001b[39;00m dtype\u001b[38;5;241m.\u001b[39mkind \u001b[38;5;241m==\u001b[39m \u001b[38;5;124m\"\u001b[39m\u001b[38;5;124mm\u001b[39m\u001b[38;5;124m\"\u001b[39m:\n\u001b[0;32m    644\u001b[0m     dtype_sum \u001b[38;5;241m=\u001b[39m np\u001b[38;5;241m.\u001b[39mdtype(np\u001b[38;5;241m.\u001b[39mfloat64)\n\u001b[1;32m--> 646\u001b[0m the_sum \u001b[38;5;241m=\u001b[39m values\u001b[38;5;241m.\u001b[39msum(axis, dtype\u001b[38;5;241m=\u001b[39mdtype_sum)\n\u001b[0;32m    647\u001b[0m the_sum \u001b[38;5;241m=\u001b[39m _maybe_null_out(the_sum, axis, mask, values\u001b[38;5;241m.\u001b[39mshape, min_count\u001b[38;5;241m=\u001b[39mmin_count)\n\u001b[0;32m    649\u001b[0m \u001b[38;5;28;01mreturn\u001b[39;00m the_sum\n",
      "File \u001b[1;32mc:\\Users\\godenzi\\AppData\\Local\\anaconda3\\Lib\\site-packages\\numpy\\core\\_methods.py:49\u001b[0m, in \u001b[0;36m_sum\u001b[1;34m(a, axis, dtype, out, keepdims, initial, where)\u001b[0m\n\u001b[0;32m     47\u001b[0m \u001b[38;5;28;01mdef\u001b[39;00m \u001b[38;5;21m_sum\u001b[39m(a, axis\u001b[38;5;241m=\u001b[39m\u001b[38;5;28;01mNone\u001b[39;00m, dtype\u001b[38;5;241m=\u001b[39m\u001b[38;5;28;01mNone\u001b[39;00m, out\u001b[38;5;241m=\u001b[39m\u001b[38;5;28;01mNone\u001b[39;00m, keepdims\u001b[38;5;241m=\u001b[39m\u001b[38;5;28;01mFalse\u001b[39;00m,\n\u001b[0;32m     48\u001b[0m          initial\u001b[38;5;241m=\u001b[39m_NoValue, where\u001b[38;5;241m=\u001b[39m\u001b[38;5;28;01mTrue\u001b[39;00m):\n\u001b[1;32m---> 49\u001b[0m     \u001b[38;5;28;01mreturn\u001b[39;00m umr_sum(a, axis, dtype, out, keepdims, initial, where)\n",
      "\u001b[1;31mKeyboardInterrupt\u001b[0m: "
     ]
    }
   ],
   "source": [
    "counter=0\n",
    "total_rows=0\n",
    "for prot_name in merged_df[\"drugbank_protein_name\"].dropna().values:\n",
    "    if protein_classes[\"Gene\"].str.contains(prot_name).sum():\n",
    "        counter+=1\n",
    "    total_rows+=protein_classes[\"Gene\"].str.contains(prot_name).sum()\n",
    "\n",
    "print(counter, total_rows)"
   ]
  },
  {
   "cell_type": "code",
   "execution_count": 70,
   "metadata": {},
   "outputs": [
    {
     "data": {
      "text/plain": [
       "(20199, 37)"
      ]
     },
     "execution_count": 70,
     "metadata": {},
     "output_type": "execute_result"
    }
   ],
   "source": [
    "merged_df[merged_df[\"drugbank_protein_name\"].isin(protein_classes[\"Gene\"])].shape"
   ]
  },
  {
   "cell_type": "code",
   "execution_count": 71,
   "metadata": {},
   "outputs": [
    {
     "data": {
      "text/plain": [
       "(45, 107)"
      ]
     },
     "execution_count": 71,
     "metadata": {},
     "output_type": "execute_result"
    }
   ],
   "source": [
    "protein_classes[protein_classes[\"Gene\"].isin(merged_df[\"drugbank_protein_name\"])].shape"
   ]
  },
  {
   "cell_type": "code",
   "execution_count": 72,
   "metadata": {},
   "outputs": [
    {
     "name": "stdout",
     "output_type": "stream",
     "text": [
      "Overlapping values: {'MAP3K1', 'PIK3CA', 'PDGFRA', 'EGFR', 'HSP90AB1', 'PPARG', 'IDH2', 'MET', 'ALK', 'EPAS1', 'TP53', 'BCR', 'CD274', 'PIK3CB', 'CDK6', 'ATR', 'RAF1', 'JAK3', 'AKT2', 'MAP2K2', 'RET', 'ABL1', 'PIK3R1', 'IDH1', 'KDR', 'JAK2', 'ATIC', 'ABL2', 'ROS1', 'KRAS', 'FGFR2', 'CCND1', 'CTNNB1', 'NPM1', 'KCNJ5', 'RAC1', 'MDM2', 'FGFR1', 'RARA', 'MTOR', 'BTK', 'MAPK1', 'HSP90AA1', 'JAK1', 'PDGFRB'}\n"
     ]
    },
    {
     "data": {
      "text/plain": [
       "45"
      ]
     },
     "execution_count": 72,
     "metadata": {},
     "output_type": "execute_result"
    }
   ],
   "source": [
    "# Find overlaps\n",
    "overlap = set(protein_classes[\"Gene\"]).intersection(set(merged_df[\"drugbank_protein_name\"]))\n",
    "print(\"Overlapping values:\", overlap)\n",
    "len(overlap)"
   ]
  },
  {
   "cell_type": "code",
   "execution_count": 73,
   "metadata": {},
   "outputs": [
    {
     "name": "stdout",
     "output_type": "stream",
     "text": [
      "Overlapping values: {'MAP3K1', 'PIK3CA', 'PDGFRA', 'EGFR', 'HSP90AB1', 'PPARG', 'IDH2', 'MET', 'ALK', 'EPAS1', 'TP53', 'BCR', 'CD274', 'PIK3CB', 'CDK6', 'ATR', 'RAF1', 'JAK3', 'AKT2', 'MAP2K2', 'RET', 'ABL1', 'PIK3R1', 'IDH1', 'KDR', 'JAK2', 'ATIC', 'ABL2', 'ROS1', 'KRAS', 'FGFR2', 'CCND1', 'CTNNB1', 'NPM1', 'KCNJ5', 'RAC1', 'MDM2', 'FGFR1', 'RARA', 'MTOR', 'BTK', 'MAPK1', 'HSP90AA1', 'JAK1', 'PDGFRB'}\n"
     ]
    },
    {
     "data": {
      "text/plain": [
       "45"
      ]
     },
     "execution_count": 73,
     "metadata": {},
     "output_type": "execute_result"
    }
   ],
   "source": [
    "overlap = set(merged_df[\"drugbank_protein_name\"]).intersection(set(protein_classes[\"Gene\"]))\n",
    "print(\"Overlapping values:\", overlap)\n",
    "len(overlap)"
   ]
  },
  {
   "cell_type": "code",
   "execution_count": 74,
   "metadata": {},
   "outputs": [
    {
     "name": "stdout",
     "output_type": "stream",
     "text": [
      "\n",
      "doi\n",
      "<BooleanArray>\n",
      "[False]\n",
      "Length: 1, dtype: boolean\n",
      "\n",
      "\n",
      "target_name\n",
      "<BooleanArray>\n",
      "[False]\n",
      "Length: 1, dtype: boolean\n",
      "\n",
      "\n",
      "chembl_id\n",
      "<BooleanArray>\n",
      "[False]\n",
      "Length: 1, dtype: boolean\n",
      "\n",
      "\n",
      "drugbank_id\n",
      "<BooleanArray>\n",
      "[False]\n",
      "Length: 1, dtype: boolean\n",
      "\n",
      "\n",
      "kegg_id\n",
      "<BooleanArray>\n",
      "[False]\n",
      "Length: 1, dtype: boolean\n",
      "\n",
      "\n",
      "zinc_id\n",
      "<BooleanArray>\n",
      "[False]\n",
      "Length: 1, dtype: boolean\n",
      "\n",
      "\n",
      "smiles\n",
      "<BooleanArray>\n",
      "[False]\n",
      "Length: 1, dtype: boolean\n",
      "\n",
      "\n",
      "inchi_key\n",
      "<BooleanArray>\n",
      "[False]\n",
      "Length: 1, dtype: boolean\n",
      "\n",
      "\n",
      "swissprot_target_chain_name\n",
      "<BooleanArray>\n",
      "[False]\n",
      "Length: 1, dtype: boolean\n",
      "\n",
      "\n",
      "swissprot_target_chain_entry_name\n",
      "<BooleanArray>\n",
      "[False]\n",
      "Length: 1, dtype: boolean\n",
      "\n",
      "\n",
      "swissprot_protein_id\n",
      "[False]\n",
      "\n",
      "\n",
      "drugbank_drug_name\n",
      "[False]\n",
      "\n",
      "\n",
      "drugbank_drug_unii\n",
      "[False]\n",
      "\n",
      "\n",
      "drugbank_drug_toxicity\n",
      "[False  True]\n",
      "\n",
      "\n",
      "drugbank_drug_class_kingdom\n",
      "[False]\n",
      "\n",
      "\n",
      "drugbank_drug_class_superclass\n",
      "[False]\n",
      "\n",
      "\n",
      "drugbank_drug_synonyms\n",
      "[False]\n",
      "\n",
      "\n",
      "drugbank_drug_categories\n",
      "[False]\n",
      "\n",
      "\n",
      "drugbank_drug_patent_approved\n",
      "[False]\n",
      "\n",
      "\n",
      "drugbank_drug_interaction\n",
      "[False]\n",
      "\n",
      "\n",
      "Matched_On\n",
      "[False]\n",
      "\n",
      "\n",
      "drugbank_protein_name\n",
      "[False]\n",
      "\n",
      "\n",
      "drugbank_protein_general_function\n",
      "[False]\n",
      "\n",
      "\n",
      "drugbank_protein_specific_function\n",
      "[False  True]\n",
      "\n",
      "\n",
      "drugbank_protein_organism\n",
      "[False]\n",
      "\n"
     ]
    }
   ],
   "source": [
    "string_columns = merged_df.select_dtypes(include=[\"object\", \"string\"])\n",
    "\n",
    "\n",
    "for col in string_columns:\n",
    "    print()\n",
    "    print(col)\n",
    "    print(filtered_df[col].str.contains(\"muta\", na=False, case=False).unique())\n",
    "    print()"
   ]
  },
  {
   "cell_type": "code",
   "execution_count": 75,
   "metadata": {},
   "outputs": [
    {
     "data": {
      "text/plain": [
       "array(['Tyrosine-protein kinase that acts as cell-surface receptor for fibroblast growth factors and plays an essential role in the regulation of cell proliferation, differentiation, migration and apoptosis, and in the regulation of embryonic development. Required for normal embryonic patterning, trophoblast function, limb bud development, lung morphogenesis, osteogenesis and skin development. Plays an essential role in the regulation of osteoblast differentiation, proliferation and apoptosis, and is required for normal skeleton development. Promotes cell proliferation in keratinocytes and immature osteoblasts, but promotes apoptosis in differentiated osteoblasts. Phosphorylates PLCG1, FRS2 and PAK4. Ligand binding leads to the activation of several signaling cascades. Activation of PLCG1 leads to the production of the cellular signaling molecules diacylglycerol and inositol 1,4,5-trisphosphate. Phosphorylation of FRS2 triggers recruitment of GRB2, GAB1, PIK3R1 and SOS1, and mediates activation of RAS, MAPK1/ERK2, MAPK3/ERK1 and the MAP kinase signaling pathway, as well as of the AKT1 signaling pathway. FGFR2 signaling is down-regulated by ubiquitination, internalization and degradation. Mutations that lead to constitutive kinase activation or impair normal FGFR2 maturation, internalization and degradation lead to aberrant signaling. Over-expressed FGFR2 promotes activation of STAT1.'],\n",
       "      dtype=object)"
      ]
     },
     "execution_count": 75,
     "metadata": {},
     "output_type": "execute_result"
    }
   ],
   "source": [
    "filtered_df[filtered_df[\"drugbank_protein_specific_function\"].str.contains(\"mutation\", na=False, case=False)][\"drugbank_protein_specific_function\"].unique()\n"
   ]
  },
  {
   "cell_type": "code",
   "execution_count": 76,
   "metadata": {},
   "outputs": [],
   "source": [
    "mutants_list = [\n",
    "    \"m351t\",\n",
    "    \"q252h\",\n",
    "    \"t315i\",\n",
    "    \"t315n\",\n",
    "    \"y253f\",\n",
    "    \"d246a\",\n",
    "    \"m243a\",\n",
    "    \"a356t\",\n",
    "    \"d130v\",\n",
    "    \"e74f\",\n",
    "    \"m144i\",\n",
    "    \"m918t\",\n",
    "    \"s345c\",\n",
    "    \"t338m\",\n",
    "    \"v523i\",\n",
    "    \"y355f\",\n",
    "    \"aeaf\",\n",
    "    \"etkf\",\n",
    "    \"hy58a\",\n",
    "    \"hy58f\",\n",
    "    \"sfsf\",\n",
    "    \"e50d\",\n",
    "    \"e50q\",\n",
    "    \"t338i\",\n",
    "    \"s345c\",\n",
    "    \"t338m\",\n",
    "    \"s190a\",\n",
    "    \"l300p\",\n",
    "    \"v214a\",\n",
    "    \"v219a\",\n",
    "    \"w223a\",\n",
    "    \"f130v\",\n",
    "    \"f98y\",\n",
    "    \"i100l\",\n",
    "    \"h185a\",\n",
    "    \"r501e\",\n",
    "    \"a71v\",\n",
    "    \"d30n\",\n",
    "    \"g73s\",\n",
    "    \"i47l\",\n",
    "    \"i50l\",\n",
    "    \"i50v\",\n",
    "    \"i84v\",\n",
    "    \"l23i\",\n",
    "    \"l23v\",\n",
    "    \"l76m\",\n",
    "    \"v32i\",\n",
    "    \"v82a\",\n",
    "    \"v82i\",\n",
    "    \"a-1\",\n",
    "    \"triple mutant\",\n",
    "    \"hd32a\",\n",
    "    \"hd32e\",\n",
    "    \"hd32n\",\n",
    "    \"r140q\",\n",
    "    \"r172s\",\n",
    "    \"h1047r\",\n",
    "    \"h176g\",\n",
    "    \"d835h\",\n",
    "    \"d835y\",\n",
    "    \"v599e\",\n",
    "    \"f78l\",\n",
    "    \"g719s\",\n",
    "    \"l858r\",\n",
    "    \"t790m\",\n",
    "    \"f203l\",\n",
    "    \"c325s\",\n",
    "    \"h976y\",\n",
    "    \"d30n\",\n",
    "    \"a71v\",\n",
    "    \"d30n\",\n",
    "    \"m36i\",\n",
    "    \"l10i\",\n",
    "    \"l90m\",\n",
    "    \"m36i\",\n",
    "    \"a71v\",\n",
    "    \"m46i\",\n",
    "    \"i54v\",\n",
    "    \"v82a\",\n",
    "    \"i84v\",\n",
    "    \"v82f\",\n",
    "    \"i84v\",\n",
    "    \"k-60c\",\n",
    "    \"v-18c\",\n",
    "    \"mdr-hm\",\n",
    "    \"mdr-qm\",\n",
    "    \"nam-10\",\n",
    "    \"k103n\",\n",
    "    \"l100i\",\n",
    "    \"p236l\",\n",
    "    \"v106a\",\n",
    "    \"v179d\",\n",
    "    \"y181c\",\n",
    "    \"y188l\",\n",
    "    \"k510a\",\n",
    "    \"k510e\",\n",
    "    \"g110a\",\n",
    "    \"g110d\",\n",
    "    \"l111a\",\n",
    "    \"y477a\",\n",
    "    \"d597n\",\n",
    "    \"n368d\",\n",
    "    \"c59r\",\n",
    "    \"s108n\",\n",
    "    \"v82f\",\n",
    "    \"n822k\",\n",
    "    \"v559d\",\n",
    "    \"d1228h\",\n",
    "    \"y1230h\",\n",
    "    \"h52r\",\n",
    "    \"l306a\",\n",
    "    \"l54v\",\n",
    "    \"f82h\",\n",
    "    \"k89t\",\n",
    "    \"g550e\",\n",
    "    \"a71v\",\n",
    "    \"v82t\",\n",
    "    \"i84v\",\n",
    "    \"k103n\",\n",
    "    \"181c\",\n",
    "    \"l100i\",\n",
    "    \"k103n\",\n",
    "    \"d597n\",\n",
    "    \"m336v\",\n",
    "    \"g117e\",\n",
    "    \"l119v\",\n",
    "    \"m114v\",\n",
    "    \"v559d\",\n",
    "    \"t670i\",\n",
    "    \"l49i\",\n",
    "    \"t183a\",\n",
    "    \"q181k\",\n",
    "    \"t183a\",\n",
    "    \"pkar1\",\n",
    "    \"pkar1\",\n",
    "    \"pkar2\",\n",
    "    \"a16v\",\n",
    "    \"s108t\",\n",
    "    \"e109q\",\n",
    "    \"h40a\",\n",
    "    \"l10i\",\n",
    "    \"g48v\",\n",
    "    \"i54v\",\n",
    "    \"l63p\",\n",
    "    \"v82a\",\n",
    "    \"m46i\",\n",
    "    \"l63p\",\n",
    "    \"a71v\",\n",
    "    \"v82f\",\n",
    "    \"i84v\",\n",
    "    \"v106a\",\n",
    "    \"y181c\",\n",
    "    \"e166d\",\n",
    "    \"t222a\",\n",
    "    \"f82h\",\n",
    "    \"l83v\",\n",
    "    \"h84d\",\n",
    "    \"k89t\",\n",
    "    \"a160c\",\n",
    "    \"d97c\",\n",
    "    \"f99c\",\n",
    "    \"g157c\",\n",
    "    \"s204c\",\n",
    "    \"t162c\",\n",
    "    \"y209c\",\n",
    "    \"d56c\",\n",
    "    \"f77c\",\n",
    "    \"l140c\",\n",
    "    \"r132c\",\n",
    "    \"r144c\",\n",
    "    \"r185c\",\n",
    "    \"r194c\",\n",
    "    \"t126c\",\n",
    "    \"t142c\",\n",
    "    \"l10i\",\n",
    "    \"g48v\",\n",
    "    \"i54v\",\n",
    "    \"l63p\",\n",
    "    \"v82a\",\n",
    "    \"c1a\",\n",
    "    \"f82v\",\n",
    "    \"del 661-681\",\n",
    "    \"t338i\",\n",
    "    \"a16v\",\n",
    "    \"s108t\",\n",
    "    \"fgd e109q\",\n",
    "    \"fgd h40a\",\n",
    "    \"v6\",\n",
    "    \"y188l\",\n",
    "    \"v82f\",\n",
    "    \"a71v\",\n",
    "    \"h176g\",\n",
    "    \"d30n\",\n",
    "    \"v82t\"\n",
    "]\n"
   ]
  },
  {
   "cell_type": "code",
   "execution_count": 79,
   "metadata": {},
   "outputs": [],
   "source": [
    "string_columns = filtered_df.select_dtypes(include=[\"object\", \"string\"])\n",
    "\n",
    "# joins all targeted proteins \n",
    "mutants_protein_names = '|'.join(rf\"\\b{re.escape(term)}\\b\" for term in mutants_list)\n",
    "\n",
    "# Check if any mutant is present in the DataFrame\n",
    "matches = []\n",
    "\n",
    "for col in string_columns:\n",
    "    col_matches = filtered_df[col][filtered_df[col].str.contains(mutants_protein_names, case=False, na=False)].tolist()\n",
    "    matches.extend(col_matches)"
   ]
  },
  {
   "cell_type": "code",
   "execution_count": 85,
   "metadata": {},
   "outputs": [
    {
     "data": {
      "text/plain": [
       "{'Isocitrate dehydrogenase [NADP] cytoplasmic [R132C]',\n",
       " 'Phosphatidylinositol 3-kinase regulatory subunit alpha/4,5-bisphosphate 3-kinase catalytic subunit alpha isoform [H1047R]',\n",
       " 'Tyrosine-protein kinase ABL1 [T315I]/Breakpoint cluster region protein'}"
      ]
     },
     "execution_count": 85,
     "metadata": {},
     "output_type": "execute_result"
    }
   ],
   "source": [
    "set(matches)"
   ]
  },
  {
   "cell_type": "code",
   "execution_count": null,
   "metadata": {},
   "outputs": [],
   "source": []
  },
  {
   "cell_type": "code",
   "execution_count": 83,
   "metadata": {},
   "outputs": [
    {
     "data": {
      "text/plain": [
       "0        Cyclin-dependent kinase 4/G1/S-specific cyclin-D1\n",
       "1        Cyclin-dependent kinase 4/G1/S-specific cyclin-D1\n",
       "2        Cyclin-dependent kinase 4/G1/S-specific cyclin-D1\n",
       "3        Cyclin-dependent kinase 4/G1/S-specific cyclin-D1\n",
       "4        Cyclin-dependent kinase 4/G1/S-specific cyclin-D1\n",
       "                               ...                        \n",
       "20194    Cyclin-dependent kinase 6/G1/S-specific cyclin-D1\n",
       "20195    Cyclin-dependent kinase 6/G1/S-specific cyclin-D1\n",
       "20196    Cyclin-dependent kinase 6/G1/S-specific cyclin-D1\n",
       "20197    Cyclin-dependent kinase 6/G1/S-specific cyclin-D1\n",
       "20198    Cyclin-dependent kinase 6/G1/S-specific cyclin-D1\n",
       "Name: target_name, Length: 20199, dtype: string"
      ]
     },
     "execution_count": 83,
     "metadata": {},
     "output_type": "execute_result"
    }
   ],
   "source": [
    "filtered_df[\"target_name\"]"
   ]
  },
  {
   "cell_type": "code",
   "execution_count": 89,
   "metadata": {},
   "outputs": [
    {
     "data": {
      "text/plain": [
       "0        Cyclin-dependent kinase 4/G1/S-specific cyclin-D1\n",
       "1        Cyclin-dependent kinase 4/G1/S-specific cyclin-D1\n",
       "2        Cyclin-dependent kinase 4/G1/S-specific cyclin-D1\n",
       "3        Cyclin-dependent kinase 4/G1/S-specific cyclin-D1\n",
       "4        Cyclin-dependent kinase 4/G1/S-specific cyclin-D1\n",
       "                               ...                        \n",
       "20194    Cyclin-dependent kinase 6/G1/S-specific cyclin-D1\n",
       "20195    Cyclin-dependent kinase 6/G1/S-specific cyclin-D1\n",
       "20196    Cyclin-dependent kinase 6/G1/S-specific cyclin-D1\n",
       "20197    Cyclin-dependent kinase 6/G1/S-specific cyclin-D1\n",
       "20198    Cyclin-dependent kinase 6/G1/S-specific cyclin-D1\n",
       "Name: target_name, Length: 20199, dtype: string"
      ]
     },
     "execution_count": 89,
     "metadata": {},
     "output_type": "execute_result"
    }
   ],
   "source": [
    "filtered_df[\"target_name\"].dropna()"
   ]
  },
  {
   "cell_type": "code",
   "execution_count": null,
   "metadata": {},
   "outputs": [],
   "source": [
    "for protein in filter"
   ]
  }
 ],
 "metadata": {
  "kernelspec": {
   "display_name": "base",
   "language": "python",
   "name": "python3"
  },
  "language_info": {
   "codemirror_mode": {
    "name": "ipython",
    "version": 3
   },
   "file_extension": ".py",
   "mimetype": "text/x-python",
   "name": "python",
   "nbconvert_exporter": "python",
   "pygments_lexer": "ipython3",
   "version": "3.12.4"
  }
 },
 "nbformat": 4,
 "nbformat_minor": 2
}
